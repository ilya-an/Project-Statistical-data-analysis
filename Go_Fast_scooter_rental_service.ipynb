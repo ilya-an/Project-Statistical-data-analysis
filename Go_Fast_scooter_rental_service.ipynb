{
 "cells": [
  {
   "cell_type": "markdown",
   "id": "8660de10",
   "metadata": {},
   "source": [
    "# Проект: Статистический анализ данных"
   ]
  },
  {
   "cell_type": "code",
   "execution_count": 1,
   "id": "9c01e0c4",
   "metadata": {},
   "outputs": [],
   "source": [
    "import pandas as pd\n",
    "import matplotlib.pyplot as plt\n",
    "import numpy as np\n",
    "import scipy.stats as st"
   ]
  },
  {
   "cell_type": "markdown",
   "id": "ac5ceecc",
   "metadata": {},
   "source": [
    "#### Шаг 1. Загрузка данных"
   ]
  },
  {
   "cell_type": "code",
   "execution_count": 2,
   "id": "90157d90",
   "metadata": {},
   "outputs": [],
   "source": [
    "data_users_go = pd.read_csv('/datasets/users_go.csv')"
   ]
  },
  {
   "cell_type": "code",
   "execution_count": 3,
   "id": "57031dc7",
   "metadata": {},
   "outputs": [
    {
     "data": {
      "text/html": [
       "<div>\n",
       "<style scoped>\n",
       "    .dataframe tbody tr th:only-of-type {\n",
       "        vertical-align: middle;\n",
       "    }\n",
       "\n",
       "    .dataframe tbody tr th {\n",
       "        vertical-align: top;\n",
       "    }\n",
       "\n",
       "    .dataframe thead th {\n",
       "        text-align: right;\n",
       "    }\n",
       "</style>\n",
       "<table border=\"1\" class=\"dataframe\">\n",
       "  <thead>\n",
       "    <tr style=\"text-align: right;\">\n",
       "      <th></th>\n",
       "      <th>user_id</th>\n",
       "      <th>name</th>\n",
       "      <th>age</th>\n",
       "      <th>city</th>\n",
       "      <th>subscription_type</th>\n",
       "    </tr>\n",
       "  </thead>\n",
       "  <tbody>\n",
       "    <tr>\n",
       "      <th>0</th>\n",
       "      <td>1</td>\n",
       "      <td>Кира</td>\n",
       "      <td>22</td>\n",
       "      <td>Тюмень</td>\n",
       "      <td>ultra</td>\n",
       "    </tr>\n",
       "    <tr>\n",
       "      <th>1</th>\n",
       "      <td>2</td>\n",
       "      <td>Станислав</td>\n",
       "      <td>31</td>\n",
       "      <td>Омск</td>\n",
       "      <td>ultra</td>\n",
       "    </tr>\n",
       "    <tr>\n",
       "      <th>2</th>\n",
       "      <td>3</td>\n",
       "      <td>Алексей</td>\n",
       "      <td>20</td>\n",
       "      <td>Москва</td>\n",
       "      <td>ultra</td>\n",
       "    </tr>\n",
       "    <tr>\n",
       "      <th>3</th>\n",
       "      <td>4</td>\n",
       "      <td>Константин</td>\n",
       "      <td>26</td>\n",
       "      <td>Ростов-на-Дону</td>\n",
       "      <td>ultra</td>\n",
       "    </tr>\n",
       "    <tr>\n",
       "      <th>4</th>\n",
       "      <td>5</td>\n",
       "      <td>Адель</td>\n",
       "      <td>28</td>\n",
       "      <td>Омск</td>\n",
       "      <td>ultra</td>\n",
       "    </tr>\n",
       "  </tbody>\n",
       "</table>\n",
       "</div>"
      ],
      "text/plain": [
       "   user_id        name  age            city subscription_type\n",
       "0        1        Кира   22          Тюмень             ultra\n",
       "1        2   Станислав   31            Омск             ultra\n",
       "2        3     Алексей   20          Москва             ultra\n",
       "3        4  Константин   26  Ростов-на-Дону             ultra\n",
       "4        5       Адель   28            Омск             ultra"
      ]
     },
     "execution_count": 3,
     "metadata": {},
     "output_type": "execute_result"
    }
   ],
   "source": [
    "data_users_go.head()"
   ]
  },
  {
   "cell_type": "code",
   "execution_count": 4,
   "id": "c8cbbd20",
   "metadata": {},
   "outputs": [],
   "source": [
    "data_rides_go = pd.read_csv('/datasets/rides_go.csv')"
   ]
  },
  {
   "cell_type": "markdown",
   "id": "807a2f4e",
   "metadata": {},
   "source": []
  },
  {
   "cell_type": "code",
   "execution_count": 5,
   "id": "52987d08",
   "metadata": {
    "scrolled": true
   },
   "outputs": [
    {
     "data": {
      "text/html": [
       "<div>\n",
       "<style scoped>\n",
       "    .dataframe tbody tr th:only-of-type {\n",
       "        vertical-align: middle;\n",
       "    }\n",
       "\n",
       "    .dataframe tbody tr th {\n",
       "        vertical-align: top;\n",
       "    }\n",
       "\n",
       "    .dataframe thead th {\n",
       "        text-align: right;\n",
       "    }\n",
       "</style>\n",
       "<table border=\"1\" class=\"dataframe\">\n",
       "  <thead>\n",
       "    <tr style=\"text-align: right;\">\n",
       "      <th></th>\n",
       "      <th>user_id</th>\n",
       "      <th>distance</th>\n",
       "      <th>duration</th>\n",
       "      <th>date</th>\n",
       "    </tr>\n",
       "  </thead>\n",
       "  <tbody>\n",
       "    <tr>\n",
       "      <th>0</th>\n",
       "      <td>1</td>\n",
       "      <td>4409.919140</td>\n",
       "      <td>25.599769</td>\n",
       "      <td>2021-01-01</td>\n",
       "    </tr>\n",
       "    <tr>\n",
       "      <th>1</th>\n",
       "      <td>1</td>\n",
       "      <td>2617.592153</td>\n",
       "      <td>15.816871</td>\n",
       "      <td>2021-01-18</td>\n",
       "    </tr>\n",
       "    <tr>\n",
       "      <th>2</th>\n",
       "      <td>1</td>\n",
       "      <td>754.159807</td>\n",
       "      <td>6.232113</td>\n",
       "      <td>2021-04-20</td>\n",
       "    </tr>\n",
       "    <tr>\n",
       "      <th>3</th>\n",
       "      <td>1</td>\n",
       "      <td>2694.783254</td>\n",
       "      <td>18.511000</td>\n",
       "      <td>2021-08-11</td>\n",
       "    </tr>\n",
       "    <tr>\n",
       "      <th>4</th>\n",
       "      <td>1</td>\n",
       "      <td>4028.687306</td>\n",
       "      <td>26.265803</td>\n",
       "      <td>2021-08-28</td>\n",
       "    </tr>\n",
       "  </tbody>\n",
       "</table>\n",
       "</div>"
      ],
      "text/plain": [
       "   user_id     distance   duration        date\n",
       "0        1  4409.919140  25.599769  2021-01-01\n",
       "1        1  2617.592153  15.816871  2021-01-18\n",
       "2        1   754.159807   6.232113  2021-04-20\n",
       "3        1  2694.783254  18.511000  2021-08-11\n",
       "4        1  4028.687306  26.265803  2021-08-28"
      ]
     },
     "execution_count": 5,
     "metadata": {},
     "output_type": "execute_result"
    }
   ],
   "source": [
    "data_rides_go.head()"
   ]
  },
  {
   "cell_type": "markdown",
   "id": "3213d58a",
   "metadata": {},
   "source": []
  },
  {
   "cell_type": "code",
   "execution_count": 6,
   "id": "f263d3ad",
   "metadata": {},
   "outputs": [],
   "source": [
    "data_subscriptions_go = pd.read_csv('/datasets/subscriptions_go.csv')"
   ]
  },
  {
   "cell_type": "code",
   "execution_count": 7,
   "id": "5c37cfea",
   "metadata": {},
   "outputs": [
    {
     "data": {
      "text/html": [
       "<div>\n",
       "<style scoped>\n",
       "    .dataframe tbody tr th:only-of-type {\n",
       "        vertical-align: middle;\n",
       "    }\n",
       "\n",
       "    .dataframe tbody tr th {\n",
       "        vertical-align: top;\n",
       "    }\n",
       "\n",
       "    .dataframe thead th {\n",
       "        text-align: right;\n",
       "    }\n",
       "</style>\n",
       "<table border=\"1\" class=\"dataframe\">\n",
       "  <thead>\n",
       "    <tr style=\"text-align: right;\">\n",
       "      <th></th>\n",
       "      <th>subscription_type</th>\n",
       "      <th>minute_price</th>\n",
       "      <th>start_ride_price</th>\n",
       "      <th>subscription_fee</th>\n",
       "    </tr>\n",
       "  </thead>\n",
       "  <tbody>\n",
       "    <tr>\n",
       "      <th>0</th>\n",
       "      <td>free</td>\n",
       "      <td>8</td>\n",
       "      <td>50</td>\n",
       "      <td>0</td>\n",
       "    </tr>\n",
       "    <tr>\n",
       "      <th>1</th>\n",
       "      <td>ultra</td>\n",
       "      <td>6</td>\n",
       "      <td>0</td>\n",
       "      <td>199</td>\n",
       "    </tr>\n",
       "  </tbody>\n",
       "</table>\n",
       "</div>"
      ],
      "text/plain": [
       "  subscription_type  minute_price  start_ride_price  subscription_fee\n",
       "0              free             8                50                 0\n",
       "1             ultra             6                 0               199"
      ]
     },
     "execution_count": 7,
     "metadata": {},
     "output_type": "execute_result"
    }
   ],
   "source": [
    "data_subscriptions_go.head()"
   ]
  },
  {
   "cell_type": "code",
   "execution_count": 8,
   "id": "75fa49a2",
   "metadata": {},
   "outputs": [
    {
     "name": "stdout",
     "output_type": "stream",
     "text": [
      "<class 'pandas.core.frame.DataFrame'>\n",
      "RangeIndex: 1565 entries, 0 to 1564\n",
      "Data columns (total 5 columns):\n",
      " #   Column             Non-Null Count  Dtype \n",
      "---  ------             --------------  ----- \n",
      " 0   user_id            1565 non-null   int64 \n",
      " 1   name               1565 non-null   object\n",
      " 2   age                1565 non-null   int64 \n",
      " 3   city               1565 non-null   object\n",
      " 4   subscription_type  1565 non-null   object\n",
      "dtypes: int64(2), object(3)\n",
      "memory usage: 61.3+ KB\n"
     ]
    }
   ],
   "source": [
    "data_users_go.info() "
   ]
  },
  {
   "cell_type": "markdown",
   "id": "f3a4c4a0",
   "metadata": {},
   "source": [
    "В датафрейме 5 столбцов: ID пользователей, имя, возраст, город, тип подписки. Названия столбцов корректные. 1565 строк, данные представлены целыми числами и тип данных object."
   ]
  },
  {
   "cell_type": "code",
   "execution_count": 9,
   "id": "23bc3359",
   "metadata": {},
   "outputs": [
    {
     "name": "stdout",
     "output_type": "stream",
     "text": [
      "<class 'pandas.core.frame.DataFrame'>\n",
      "RangeIndex: 18068 entries, 0 to 18067\n",
      "Data columns (total 4 columns):\n",
      " #   Column    Non-Null Count  Dtype  \n",
      "---  ------    --------------  -----  \n",
      " 0   user_id   18068 non-null  int64  \n",
      " 1   distance  18068 non-null  float64\n",
      " 2   duration  18068 non-null  float64\n",
      " 3   date      18068 non-null  object \n",
      "dtypes: float64(2), int64(1), object(1)\n",
      "memory usage: 564.8+ KB\n"
     ]
    }
   ],
   "source": [
    "data_rides_go.info() # пропусков нет"
   ]
  },
  {
   "cell_type": "markdown",
   "id": "f90c7d4d",
   "metadata": {},
   "source": [
    "В датафрейме 5 столбцов: ID пользователей, расстояние, продолжительность поездки, дата, месяц. Названия столбцов корректные. 18068 строк, данные представлены целыми и дробными числами, и datetime."
   ]
  },
  {
   "cell_type": "code",
   "execution_count": 10,
   "id": "3bbe9ac0",
   "metadata": {},
   "outputs": [
    {
     "name": "stdout",
     "output_type": "stream",
     "text": [
      "<class 'pandas.core.frame.DataFrame'>\n",
      "RangeIndex: 2 entries, 0 to 1\n",
      "Data columns (total 4 columns):\n",
      " #   Column             Non-Null Count  Dtype \n",
      "---  ------             --------------  ----- \n",
      " 0   subscription_type  2 non-null      object\n",
      " 1   minute_price       2 non-null      int64 \n",
      " 2   start_ride_price   2 non-null      int64 \n",
      " 3   subscription_fee   2 non-null      int64 \n",
      "dtypes: int64(3), object(1)\n",
      "memory usage: 192.0+ bytes\n"
     ]
    }
   ],
   "source": [
    "data_subscriptions_go.info() "
   ]
  },
  {
   "cell_type": "markdown",
   "id": "c2fa592d",
   "metadata": {},
   "source": [
    "В датафрейме 4 столбца: тип подписки, цена за минуту, цена за старт, цена подписки. Названия столбцов корректные. 2 строки, данные представлены целыми числами и типом данных object."
   ]
  },
  {
   "cell_type": "markdown",
   "id": "f97e3d3d",
   "metadata": {},
   "source": [
    "#### Шаг 2. Предобработка данных"
   ]
  },
  {
   "cell_type": "code",
   "execution_count": 11,
   "id": "f7446097",
   "metadata": {},
   "outputs": [],
   "source": [
    "data_rides_go['date'] = pd.to_datetime(data_rides_go['date'], format = '%Y-%m-%d') "
   ]
  },
  {
   "cell_type": "code",
   "execution_count": 12,
   "id": "4a93c14b",
   "metadata": {},
   "outputs": [
    {
     "name": "stdout",
     "output_type": "stream",
     "text": [
      "2021-01-01 00:00:00\n",
      "2021-12-30 00:00:00\n"
     ]
    }
   ],
   "source": [
    "print(data_rides_go['date'].min())\n",
    "print(data_rides_go['date'].max())"
   ]
  },
  {
   "cell_type": "code",
   "execution_count": 13,
   "id": "8492dac3",
   "metadata": {},
   "outputs": [],
   "source": [
    "data_rides_go['month'] = data_rides_go['date'].dt.month"
   ]
  },
  {
   "cell_type": "code",
   "execution_count": 14,
   "id": "10bf1b5e",
   "metadata": {},
   "outputs": [
    {
     "data": {
      "text/html": [
       "<div>\n",
       "<style scoped>\n",
       "    .dataframe tbody tr th:only-of-type {\n",
       "        vertical-align: middle;\n",
       "    }\n",
       "\n",
       "    .dataframe tbody tr th {\n",
       "        vertical-align: top;\n",
       "    }\n",
       "\n",
       "    .dataframe thead th {\n",
       "        text-align: right;\n",
       "    }\n",
       "</style>\n",
       "<table border=\"1\" class=\"dataframe\">\n",
       "  <thead>\n",
       "    <tr style=\"text-align: right;\">\n",
       "      <th></th>\n",
       "      <th>user_id</th>\n",
       "      <th>distance</th>\n",
       "      <th>duration</th>\n",
       "      <th>date</th>\n",
       "      <th>month</th>\n",
       "    </tr>\n",
       "  </thead>\n",
       "  <tbody>\n",
       "    <tr>\n",
       "      <th>0</th>\n",
       "      <td>1</td>\n",
       "      <td>4409.919140</td>\n",
       "      <td>25.599769</td>\n",
       "      <td>2021-01-01</td>\n",
       "      <td>1</td>\n",
       "    </tr>\n",
       "    <tr>\n",
       "      <th>1</th>\n",
       "      <td>1</td>\n",
       "      <td>2617.592153</td>\n",
       "      <td>15.816871</td>\n",
       "      <td>2021-01-18</td>\n",
       "      <td>1</td>\n",
       "    </tr>\n",
       "    <tr>\n",
       "      <th>2</th>\n",
       "      <td>1</td>\n",
       "      <td>754.159807</td>\n",
       "      <td>6.232113</td>\n",
       "      <td>2021-04-20</td>\n",
       "      <td>4</td>\n",
       "    </tr>\n",
       "    <tr>\n",
       "      <th>3</th>\n",
       "      <td>1</td>\n",
       "      <td>2694.783254</td>\n",
       "      <td>18.511000</td>\n",
       "      <td>2021-08-11</td>\n",
       "      <td>8</td>\n",
       "    </tr>\n",
       "    <tr>\n",
       "      <th>4</th>\n",
       "      <td>1</td>\n",
       "      <td>4028.687306</td>\n",
       "      <td>26.265803</td>\n",
       "      <td>2021-08-28</td>\n",
       "      <td>8</td>\n",
       "    </tr>\n",
       "  </tbody>\n",
       "</table>\n",
       "</div>"
      ],
      "text/plain": [
       "   user_id     distance   duration       date  month\n",
       "0        1  4409.919140  25.599769 2021-01-01      1\n",
       "1        1  2617.592153  15.816871 2021-01-18      1\n",
       "2        1   754.159807   6.232113 2021-04-20      4\n",
       "3        1  2694.783254  18.511000 2021-08-11      8\n",
       "4        1  4028.687306  26.265803 2021-08-28      8"
      ]
     },
     "execution_count": 14,
     "metadata": {},
     "output_type": "execute_result"
    }
   ],
   "source": [
    "data_rides_go.head() # добавим столбец с числом месяца"
   ]
  },
  {
   "cell_type": "markdown",
   "id": "bb7189aa",
   "metadata": {},
   "source": [
    "# Проверим пропуски в датафреймах"
   ]
  },
  {
   "cell_type": "code",
   "execution_count": 15,
   "id": "77fc90d6",
   "metadata": {},
   "outputs": [
    {
     "data": {
      "text/plain": [
       "user_id              0\n",
       "name                 0\n",
       "age                  0\n",
       "city                 0\n",
       "subscription_type    0\n",
       "dtype: int64"
      ]
     },
     "execution_count": 15,
     "metadata": {},
     "output_type": "execute_result"
    }
   ],
   "source": [
    "data_users_go.isna().sum() # пропусков нет"
   ]
  },
  {
   "cell_type": "code",
   "execution_count": 16,
   "id": "4cde6f78",
   "metadata": {},
   "outputs": [
    {
     "data": {
      "text/plain": [
       "user_id     0\n",
       "distance    0\n",
       "duration    0\n",
       "date        0\n",
       "month       0\n",
       "dtype: int64"
      ]
     },
     "execution_count": 16,
     "metadata": {},
     "output_type": "execute_result"
    }
   ],
   "source": [
    "data_rides_go.isna().sum() # пропусков нет"
   ]
  },
  {
   "cell_type": "code",
   "execution_count": 17,
   "id": "1e1f4987",
   "metadata": {},
   "outputs": [
    {
     "data": {
      "text/plain": [
       "subscription_type    0\n",
       "minute_price         0\n",
       "start_ride_price     0\n",
       "subscription_fee     0\n",
       "dtype: int64"
      ]
     },
     "execution_count": 17,
     "metadata": {},
     "output_type": "execute_result"
    }
   ],
   "source": [
    "data_subscriptions_go.isna().sum() # пропусков нет"
   ]
  },
  {
   "cell_type": "markdown",
   "id": "e31ddf51",
   "metadata": {},
   "source": [
    "# Проверим дубликаты в датафреймах"
   ]
  },
  {
   "cell_type": "code",
   "execution_count": 18,
   "id": "21aad264",
   "metadata": {},
   "outputs": [
    {
     "name": "stdout",
     "output_type": "stream",
     "text": [
      "31\n"
     ]
    }
   ],
   "source": [
    "data_users_go_dublicates = data_users_go.duplicated()\n",
    "print(data_users_go_dublicates.sum())\n",
    "# кол-во явных дубликатов 31"
   ]
  },
  {
   "cell_type": "code",
   "execution_count": 19,
   "id": "42cd9098",
   "metadata": {
    "scrolled": true
   },
   "outputs": [
    {
     "name": "stdout",
     "output_type": "stream",
     "text": [
      "      user_id        name  age          city subscription_type\n",
      "1534      293       Агата   26     Краснодар             ultra\n",
      "1535       16      Амалия   27     Краснодар             ultra\n",
      "1536      909  Константин   20  Екатеринбург              free\n",
      "1537      403      Полина   19          Сочи             ultra\n",
      "1538      908      Рустам   30        Тюмень              free\n"
     ]
    }
   ],
   "source": [
    "data_users_go_dublicates = data_users_go[data_users_go.duplicated()].head() # датафрейм с дубликатами\n",
    "print(data_users_go_dublicates) "
   ]
  },
  {
   "cell_type": "code",
   "execution_count": 20,
   "id": "0b0cc71e",
   "metadata": {
    "scrolled": true
   },
   "outputs": [
    {
     "name": "stdout",
     "output_type": "stream",
     "text": [
      "   index  user_id        name  age            city subscription_type\n",
      "0      0        1        Кира   22          Тюмень             ultra\n",
      "1      1        2   Станислав   31            Омск             ultra\n",
      "2      2        3     Алексей   20          Москва             ultra\n",
      "3      3        4  Константин   26  Ростов-на-Дону             ultra\n",
      "4      4        5       Адель   28            Омск             ultra\n"
     ]
    }
   ],
   "source": [
    "data_users_go = data_users_go.drop_duplicates().reset_index()  #удалю явные дубликаты и обновлю индексацию\n",
    "print(data_users_go.head())"
   ]
  },
  {
   "cell_type": "code",
   "execution_count": 21,
   "id": "13d44a59",
   "metadata": {},
   "outputs": [
    {
     "name": "stdout",
     "output_type": "stream",
     "text": [
      "0\n"
     ]
    }
   ],
   "source": [
    "data_users_go_dublicates = data_users_go.duplicated()\n",
    "print(data_users_go_dublicates.sum())\n",
    "# проверю явные дубликаты еще раз"
   ]
  },
  {
   "cell_type": "code",
   "execution_count": 22,
   "id": "c9cc43bd",
   "metadata": {},
   "outputs": [
    {
     "name": "stdout",
     "output_type": "stream",
     "text": [
      "0\n"
     ]
    }
   ],
   "source": [
    "data_rides_go_dublicates = data_rides_go.duplicated()\n",
    "print(data_rides_go_dublicates.sum())\n",
    "# дубликаты отсутствуют"
   ]
  },
  {
   "cell_type": "code",
   "execution_count": 23,
   "id": "8d263458",
   "metadata": {
    "scrolled": true
   },
   "outputs": [
    {
     "name": "stdout",
     "output_type": "stream",
     "text": [
      "0\n"
     ]
    }
   ],
   "source": [
    "data_subscriptions_go_dublicates = data_subscriptions_go.duplicated()\n",
    "print(data_subscriptions_go_dublicates.sum())\n",
    "# дубликаты отсутствуют"
   ]
  },
  {
   "cell_type": "code",
   "execution_count": 24,
   "id": "339c5407",
   "metadata": {
    "scrolled": true
   },
   "outputs": [
    {
     "data": {
      "text/plain": [
       "array(['Кира', 'Станислав', 'Алексей', 'Константин', 'Адель', 'Регина',\n",
       "       'Игорь', 'Юрий', 'Ян', 'Валерий', 'Агата', 'Марк', 'Ева',\n",
       "       'Антонина', 'Валерия', 'Амалия', 'Даниил', 'Аделина', 'Святогор',\n",
       "       'Борис', 'Вероника', 'Ростислав', 'Назар', 'Эдуард', 'Василий',\n",
       "       'Денис', 'Тамара', 'Николай', 'Эвелина', 'Федор', 'Руслан', 'Иван',\n",
       "       'Любовь', 'Ярослава', 'Майя', 'Ильдар', 'Данила', 'Нина',\n",
       "       'Стефания', 'Ясмина', 'Дмитрий', 'Александр', 'Одиссей', 'Арсений',\n",
       "       'Алла', 'Таисия', 'Максим', 'Юлиана', 'Павел', 'Карина', 'Алиса',\n",
       "       'Лидия', 'Рамиль', 'Родион', 'Ника', 'Оксана', 'Анастасия',\n",
       "       'Маргарита', 'Вера', 'Тимур', 'Никита', 'Лев', 'Влад', 'Артур',\n",
       "       'Анна', 'Ольга', 'Вячеслав', 'Ксения', 'Виталина', 'Владислав',\n",
       "       'Тамерлан', 'Амина', 'Вадим', 'Олеся', 'Зарина', 'Егор', 'Гордей',\n",
       "       'Лилия', 'Святослав', 'Роберт', 'Амир', 'Влада', 'Богдан',\n",
       "       'Полина', 'Марат', 'Елисей', 'Макар', 'Алина', 'Глеб', 'Андрей',\n",
       "       'Альбина', 'Людмила', 'Марсель', 'Милена', 'Диана', 'Дарина',\n",
       "       'Данил', 'Артемий', 'Лиана', 'Альберт', 'Герман', 'Жанна', 'Нелли',\n",
       "       'Евгения', 'Ариана', 'Самира', 'Захар', 'Эльвира', 'Екатерина',\n",
       "       'Инна', 'Демид', 'Яна', 'Михаил', 'Татьяна', 'Степан', 'Мелания',\n",
       "       'Тимофей', 'Ирина', 'Анжелика', 'Владислава', 'Елизавета',\n",
       "       'Мадина', 'Снежана', 'Даниэль', 'Рустам', 'Каролина', 'Ангелина',\n",
       "       'Владимир', 'Виктория', 'Валентина', 'Семен', 'Арина', 'Лариса',\n",
       "       'Есения', 'Галина', 'Кирилл', 'Игнат', 'Виталий', 'Эмилия',\n",
       "       'Виолетта', 'Яромир', 'Софья', 'Мирослава', 'Евгений', 'Варвара',\n",
       "       'Платон', 'Наталия', 'Анатолий', 'Кристина', 'Всеволод', 'Дарья',\n",
       "       'Наташа', 'Мария', 'Марина', 'Василиса', 'Юлия', 'Илья', 'Злата',\n",
       "       'Роман', 'Наталья', 'Элина', 'Арсен', 'Айдар', 'Алия', 'Виктор',\n",
       "       'Мирон', 'Ульяна', 'Георгий', 'Петр', 'Эльмира', 'Олег', 'Дамир',\n",
       "       'Самир', 'Ярослав', 'Камилла', 'Сергей', 'Эмиль', 'Радмир',\n",
       "       'Савелий', 'Елена', 'Антон', 'Мирослав', 'София', 'Тихон', 'Артём',\n",
       "       'Давид', 'Григорий', 'Алёна', 'Светлана', 'Леонид', 'Александра',\n",
       "       'Василина', 'Милана', 'Матвей'], dtype=object)"
      ]
     },
     "execution_count": 24,
     "metadata": {},
     "output_type": "execute_result"
    }
   ],
   "source": [
    "data_users_go.name.unique() \n",
    "#проверю неявные дубликаты в столбце name, возможно Софья vs София,но оба имени существуют"
   ]
  },
  {
   "cell_type": "code",
   "execution_count": 25,
   "id": "a1d0d8fa",
   "metadata": {},
   "outputs": [
    {
     "name": "stdout",
     "output_type": "stream",
     "text": [
      "Количество уникальных имен пользователей:  194\n",
      "Количество уникальных пользователей из 1565 строк:  1534\n"
     ]
    }
   ],
   "source": [
    "name_unique = data_users_go.name.unique()\n",
    "unique_name_amount = len(name_unique)\n",
    "print('Количество уникальных имен пользователей: ', unique_name_amount)\n",
    "user_id_unique = data_users_go.user_id.unique()\n",
    "unique_user_id_amount = len(user_id_unique)\n",
    "print('Количество уникальных пользователей из 1565 строк: ', unique_user_id_amount)"
   ]
  },
  {
   "cell_type": "code",
   "execution_count": 26,
   "id": "201c968e",
   "metadata": {},
   "outputs": [
    {
     "data": {
      "text/plain": [
       "array(['Тюмень', 'Омск', 'Москва', 'Ростов-на-Дону', 'Краснодар',\n",
       "       'Пятигорск', 'Екатеринбург', 'Сочи'], dtype=object)"
      ]
     },
     "execution_count": 26,
     "metadata": {},
     "output_type": "execute_result"
    }
   ],
   "source": [
    "data_users_go.city.unique() "
   ]
  },
  {
   "cell_type": "code",
   "execution_count": 27,
   "id": "43ed7b54",
   "metadata": {},
   "outputs": [
    {
     "data": {
      "text/plain": [
       "array(['ultra', 'free'], dtype=object)"
      ]
     },
     "execution_count": 27,
     "metadata": {},
     "output_type": "execute_result"
    }
   ],
   "source": [
    "data_users_go.subscription_type.unique() "
   ]
  },
  {
   "cell_type": "code",
   "execution_count": 28,
   "id": "8b629d60",
   "metadata": {},
   "outputs": [
    {
     "name": "stdout",
     "output_type": "stream",
     "text": [
      "Количество уникальных пользователей 1534\n"
     ]
    }
   ],
   "source": [
    "user_id_unique_go = data_rides_go.user_id.unique()\n",
    "unique_user_id_go_amount = len(user_id_unique_go)\n",
    "print('Количество уникальных пользователей', unique_user_id_go_amount)\n",
    "# проверил совпадает количество уникальных ID в датафреймах"
   ]
  },
  {
   "cell_type": "markdown",
   "id": "9972b4ee",
   "metadata": {},
   "source": [
    "Проверил наличие явных и неявных дубликатов в датафреймах, проверил уникальные значения в датафреймах. Удалил явные дубликаты в датафрейме data_users_go. "
   ]
  },
  {
   "cell_type": "markdown",
   "id": "d35d04a3",
   "metadata": {},
   "source": [
    "#### Шаг 3. Исследовательский анализ данных"
   ]
  },
  {
   "cell_type": "markdown",
   "id": "4ab0cb56",
   "metadata": {},
   "source": [
    "# Частота встречаемости городов"
   ]
  },
  {
   "cell_type": "code",
   "execution_count": 29,
   "id": "0f281926",
   "metadata": {},
   "outputs": [],
   "source": [
    "city_amount = data_users_go['city'].value_counts()"
   ]
  },
  {
   "cell_type": "code",
   "execution_count": 30,
   "id": "8cc26dfd",
   "metadata": {},
   "outputs": [
    {
     "name": "stdout",
     "output_type": "stream",
     "text": [
      "Пятигорск         219\n",
      "Екатеринбург      204\n",
      "Ростов-на-Дону    198\n",
      "Краснодар         193\n",
      "Сочи              189\n",
      "Омск              183\n",
      "Тюмень            180\n",
      "Москва            168\n",
      "Name: city, dtype: int64\n"
     ]
    }
   ],
   "source": [
    "print(city_amount)"
   ]
  },
  {
   "cell_type": "code",
   "execution_count": 31,
   "id": "09d490e3",
   "metadata": {},
   "outputs": [
    {
     "data": {
      "text/plain": [
       "Text(0.5, 1.0, 'Количество пользователей по городам')"
      ]
     },
     "execution_count": 31,
     "metadata": {},
     "output_type": "execute_result"
    },
    {
     "data": {
      "image/png": "[encoded data removed]",
      "text/plain": [
       "<Figure size 432x288 with 1 Axes>"
      ]
     },
     "metadata": {
      "needs_background": "light"
     },
     "output_type": "display_data"
    }
   ],
   "source": [
    "data_users_go.groupby('city')['city'].count().sort_values(ascending=False).plot(kind='barh');\n",
    "plt.ylabel('Города')\n",
    "plt.xlabel('Количество пользователей')\n",
    "plt.title('Количество пользователей по городам')"
   ]
  },
  {
   "cell_type": "markdown",
   "id": "c9676504",
   "metadata": {},
   "source": [
    "Чаще всего в данных встречается город Пятигорск, самый редкий - Москва."
   ]
  },
  {
   "cell_type": "markdown",
   "id": "b6e17514",
   "metadata": {},
   "source": [
    "# Cоотношение пользователей с подпиской и без подписки"
   ]
  },
  {
   "cell_type": "code",
   "execution_count": 32,
   "id": "949227f0",
   "metadata": {},
   "outputs": [
    {
     "name": "stdout",
     "output_type": "stream",
     "text": [
      "Подписчики без подписки: 835\n",
      "Подписчики с подпиской: 699\n"
     ]
    }
   ],
   "source": [
    "free_subscriber = data_users_go[data_users_go['subscription_type'] == 'free'].shape[0]\n",
    "print('Подписчики без подписки:', free_subscriber)\n",
    "ultra_subscriber = data_users_go[data_users_go['subscription_type'] == 'ultra'].shape[0]\n",
    "print('Подписчики с подпиской:', ultra_subscriber)"
   ]
  },
  {
   "cell_type": "code",
   "execution_count": 33,
   "id": "4e330bfc",
   "metadata": {},
   "outputs": [
    {
     "name": "stdout",
     "output_type": "stream",
     "text": [
      "45.56714471968709\n",
      "54.43285528031291\n"
     ]
    },
    {
     "data": {
      "image/png": "[encoded data removed]",
      "text/plain": [
       "<Figure size 432x288 with 1 Axes>"
      ]
     },
     "metadata": {},
     "output_type": "display_data"
    }
   ],
   "source": [
    "total_subscriber = free_subscriber + ultra_subscriber\n",
    "subscriber_ratio_ultra = ultra_subscriber / total_subscriber * 100\n",
    "print(subscriber_ratio_ultra)\n",
    "subscriber_ratio_free = free_subscriber / total_subscriber * 100\n",
    "print(subscriber_ratio_free)\n",
    "\n",
    "names_sector = ['Подписчики без подписки', 'Подписчики с подпиской']\n",
    "plt.pie([subscriber_ratio_free, subscriber_ratio_ultra], labels=names_sector, autopct='%1.1f%%')\n",
    "plt.title('Соотношение подписчиков')\n",
    "\n",
    "plt.show()"
   ]
  },
  {
   "cell_type": "code",
   "execution_count": 34,
   "id": "003d9c9f",
   "metadata": {},
   "outputs": [
    {
     "data": {
      "text/plain": [
       "Text(0.5, 0, 'Тип подписчика')"
      ]
     },
     "execution_count": 34,
     "metadata": {},
     "output_type": "execute_result"
    },
    {
     "data": {
      "image/png": "[encoded data removed]",
      "text/plain": [
       "<Figure size 432x288 with 1 Axes>"
      ]
     },
     "metadata": {
      "needs_background": "light"
     },
     "output_type": "display_data"
    }
   ],
   "source": [
    "data_users_go['subscription_type'].hist(range=(0, 2), bins = 10);\n",
    "plt.ylabel('Количество пользователей')\n",
    "plt.xlabel('Тип подписчика')"
   ]
  },
  {
   "cell_type": "code",
   "execution_count": 35,
   "id": "b2ffd36b",
   "metadata": {},
   "outputs": [
    {
     "name": "stdout",
     "output_type": "stream",
     "text": [
      "1.1945636623748213\n"
     ]
    }
   ],
   "source": [
    "ratio_subscriber = free_subscriber / ultra_subscriber\n",
    "print(ratio_subscriber)\n",
    "# Подписчиков без подписки на 18% больше, чем подписчиков с подпиской"
   ]
  },
  {
   "cell_type": "markdown",
   "id": "58f37fe6",
   "metadata": {},
   "source": [
    "# Возраст пользователей"
   ]
  },
  {
   "cell_type": "code",
   "execution_count": 36,
   "id": "94871fde",
   "metadata": {},
   "outputs": [
    {
     "data": {
      "text/plain": [
       "Text(0.5, 0, 'Возраст')"
      ]
     },
     "execution_count": 36,
     "metadata": {},
     "output_type": "execute_result"
    },
    {
     "data": {
      "image/png": "[encoded data removed]",
      "text/plain": [
       "<Figure size 432x288 with 1 Axes>"
      ]
     },
     "metadata": {
      "needs_background": "light"
     },
     "output_type": "display_data"
    }
   ],
   "source": [
    "data_users_go['age'].hist(range=(0, 50), bins = 50);\n",
    "plt.ylabel('Количество пользователей')\n",
    "plt.xlabel('Возраст')"
   ]
  },
  {
   "cell_type": "code",
   "execution_count": 37,
   "id": "bb31e256",
   "metadata": {},
   "outputs": [
    {
     "data": {
      "text/plain": [
       "count    1534.000000\n",
       "mean       24.903520\n",
       "std         4.572367\n",
       "min        12.000000\n",
       "25%        22.000000\n",
       "50%        25.000000\n",
       "75%        28.000000\n",
       "max        43.000000\n",
       "Name: age, dtype: float64"
      ]
     },
     "execution_count": 37,
     "metadata": {},
     "output_type": "execute_result"
    }
   ],
   "source": [
    "data_users_go['age'].describe() \n",
    "# средний возраст пользователей почти 25 лет, минимальный возраст 12 лет, максимальный возраст 43 года."
   ]
  },
  {
   "cell_type": "markdown",
   "id": "4ab3d249",
   "metadata": {},
   "source": [
    "old_users = data_users_go.query('age > 40')\n",
    "print(old_users) # проверю данные пользователей, которые старше 40 лет, это аномальное значение вдруг что-то не так"
   ]
  },
  {
   "cell_type": "code",
   "execution_count": 38,
   "id": "232062ad",
   "metadata": {},
   "outputs": [
    {
     "name": "stdout",
     "output_type": "stream",
     "text": [
      "1\n"
     ]
    }
   ],
   "source": [
    "user_1202 = data_users_go[data_users_go['user_id'] == 1202].shape[0]\n",
    "print(user_1202) # пользователь старше 43 лет использовал самокат всего один раз, на данные никак не повлияет"
   ]
  },
  {
   "cell_type": "markdown",
   "id": "93d425f5",
   "metadata": {},
   "source": [
    "Вывод: целевая аудитория пользователей сервиса сосредоточена в возрасте от 20 до 30 лет."
   ]
  },
  {
   "cell_type": "markdown",
   "id": "c6b34161",
   "metadata": {},
   "source": [
    "# Расстояние, которое пользователь преодолел за одну поездку"
   ]
  },
  {
   "cell_type": "code",
   "execution_count": 39,
   "id": "02e957a4",
   "metadata": {
    "scrolled": true
   },
   "outputs": [
    {
     "data": {
      "image/png": "[encoded data removed]",
      "text/plain": [
       "<Figure size 432x288 with 1 Axes>"
      ]
     },
     "metadata": {
      "needs_background": "light"
     },
     "output_type": "display_data"
    }
   ],
   "source": [
    "data_rides_go['distance'].hist(range=(0, 7000), bins = 200);\n",
    "plt.title('Расстояние, которое проехал каждый пользователь')\n",
    "plt.ylabel('Количество пользователей')\n",
    "plt.xlabel('Расстояние');"
   ]
  },
  {
   "cell_type": "code",
   "execution_count": 40,
   "id": "778f55df",
   "metadata": {},
   "outputs": [
    {
     "data": {
      "text/plain": [
       "7211.01"
      ]
     },
     "execution_count": 40,
     "metadata": {},
     "output_type": "execute_result"
    }
   ],
   "source": [
    "data_rides_go['distance'].max().round(2) # максимальная дистанция 7211.01 м"
   ]
  },
  {
   "cell_type": "markdown",
   "id": "7bc22323",
   "metadata": {},
   "source": [
    "Вывод: Чаще всего пользователи проезжают от 2500 до 4000 метров за одну поездку, пиковое значение находитсяпримерно на 3100 метров, второе пиковое значение находится на дистанции 700-800 метров, скорее всего это происходит из-за недостаточности заряда самоката или это просто пробная(тестовая) поездка."
   ]
  },
  {
   "cell_type": "markdown",
   "id": "7d52ed30",
   "metadata": {},
   "source": [
    "# Продолжительность поездок"
   ]
  },
  {
   "cell_type": "code",
   "execution_count": 41,
   "id": "0aed67f4",
   "metadata": {},
   "outputs": [
    {
     "data": {
      "text/html": [
       "<div>\n",
       "<style scoped>\n",
       "    .dataframe tbody tr th:only-of-type {\n",
       "        vertical-align: middle;\n",
       "    }\n",
       "\n",
       "    .dataframe tbody tr th {\n",
       "        vertical-align: top;\n",
       "    }\n",
       "\n",
       "    .dataframe thead th {\n",
       "        text-align: right;\n",
       "    }\n",
       "</style>\n",
       "<table border=\"1\" class=\"dataframe\">\n",
       "  <thead>\n",
       "    <tr style=\"text-align: right;\">\n",
       "      <th></th>\n",
       "      <th>user_id</th>\n",
       "      <th>distance</th>\n",
       "      <th>duration</th>\n",
       "      <th>date</th>\n",
       "      <th>month</th>\n",
       "    </tr>\n",
       "  </thead>\n",
       "  <tbody>\n",
       "    <tr>\n",
       "      <th>0</th>\n",
       "      <td>1</td>\n",
       "      <td>4409.919140</td>\n",
       "      <td>25.599769</td>\n",
       "      <td>2021-01-01</td>\n",
       "      <td>1</td>\n",
       "    </tr>\n",
       "    <tr>\n",
       "      <th>1</th>\n",
       "      <td>1</td>\n",
       "      <td>2617.592153</td>\n",
       "      <td>15.816871</td>\n",
       "      <td>2021-01-18</td>\n",
       "      <td>1</td>\n",
       "    </tr>\n",
       "    <tr>\n",
       "      <th>2</th>\n",
       "      <td>1</td>\n",
       "      <td>754.159807</td>\n",
       "      <td>6.232113</td>\n",
       "      <td>2021-04-20</td>\n",
       "      <td>4</td>\n",
       "    </tr>\n",
       "    <tr>\n",
       "      <th>3</th>\n",
       "      <td>1</td>\n",
       "      <td>2694.783254</td>\n",
       "      <td>18.511000</td>\n",
       "      <td>2021-08-11</td>\n",
       "      <td>8</td>\n",
       "    </tr>\n",
       "    <tr>\n",
       "      <th>4</th>\n",
       "      <td>1</td>\n",
       "      <td>4028.687306</td>\n",
       "      <td>26.265803</td>\n",
       "      <td>2021-08-28</td>\n",
       "      <td>8</td>\n",
       "    </tr>\n",
       "    <tr>\n",
       "      <th>...</th>\n",
       "      <td>...</td>\n",
       "      <td>...</td>\n",
       "      <td>...</td>\n",
       "      <td>...</td>\n",
       "      <td>...</td>\n",
       "    </tr>\n",
       "    <tr>\n",
       "      <th>18063</th>\n",
       "      <td>1534</td>\n",
       "      <td>3781.098080</td>\n",
       "      <td>19.822962</td>\n",
       "      <td>2021-11-04</td>\n",
       "      <td>11</td>\n",
       "    </tr>\n",
       "    <tr>\n",
       "      <th>18064</th>\n",
       "      <td>1534</td>\n",
       "      <td>2840.423057</td>\n",
       "      <td>21.409799</td>\n",
       "      <td>2021-11-16</td>\n",
       "      <td>11</td>\n",
       "    </tr>\n",
       "    <tr>\n",
       "      <th>18065</th>\n",
       "      <td>1534</td>\n",
       "      <td>3826.185507</td>\n",
       "      <td>18.435051</td>\n",
       "      <td>2021-11-18</td>\n",
       "      <td>11</td>\n",
       "    </tr>\n",
       "    <tr>\n",
       "      <th>18066</th>\n",
       "      <td>1534</td>\n",
       "      <td>2902.308661</td>\n",
       "      <td>16.674362</td>\n",
       "      <td>2021-11-27</td>\n",
       "      <td>11</td>\n",
       "    </tr>\n",
       "    <tr>\n",
       "      <th>18067</th>\n",
       "      <td>1534</td>\n",
       "      <td>2371.711192</td>\n",
       "      <td>15.893917</td>\n",
       "      <td>2021-12-29</td>\n",
       "      <td>12</td>\n",
       "    </tr>\n",
       "  </tbody>\n",
       "</table>\n",
       "<p>18068 rows × 5 columns</p>\n",
       "</div>"
      ],
      "text/plain": [
       "       user_id     distance   duration       date  month\n",
       "0            1  4409.919140  25.599769 2021-01-01      1\n",
       "1            1  2617.592153  15.816871 2021-01-18      1\n",
       "2            1   754.159807   6.232113 2021-04-20      4\n",
       "3            1  2694.783254  18.511000 2021-08-11      8\n",
       "4            1  4028.687306  26.265803 2021-08-28      8\n",
       "...        ...          ...        ...        ...    ...\n",
       "18063     1534  3781.098080  19.822962 2021-11-04     11\n",
       "18064     1534  2840.423057  21.409799 2021-11-16     11\n",
       "18065     1534  3826.185507  18.435051 2021-11-18     11\n",
       "18066     1534  2902.308661  16.674362 2021-11-27     11\n",
       "18067     1534  2371.711192  15.893917 2021-12-29     12\n",
       "\n",
       "[18068 rows x 5 columns]"
      ]
     },
     "execution_count": 41,
     "metadata": {},
     "output_type": "execute_result"
    }
   ],
   "source": [
    "data_rides_go"
   ]
  },
  {
   "cell_type": "code",
   "execution_count": 42,
   "id": "5a0bf58a",
   "metadata": {},
   "outputs": [
    {
     "data": {
      "image/png": "[encoded data removed]",
      "text/plain": [
       "<Figure size 432x288 with 1 Axes>"
      ]
     },
     "metadata": {
      "needs_background": "light"
     },
     "output_type": "display_data"
    }
   ],
   "source": [
    "data_rides_go['duration'].hist(range=(0, 50), bins = 100);\n",
    "plt.title('Длительность поездки')\n",
    "plt.ylabel('Количество пользователей')\n",
    "plt.xlabel('Время поездки');\n",
    "# встречаются поездки близкие к 0 мин., возможно это происходит когда пользователь передумал или что-то случилось с самокатом"
   ]
  },
  {
   "cell_type": "code",
   "execution_count": 43,
   "id": "1bd518d3",
   "metadata": {},
   "outputs": [
    {
     "name": "stdout",
     "output_type": "stream",
     "text": [
      "       user_id     distance  duration       date  month\n",
      "6531       701  4196.445201       0.5 2021-08-31      8\n",
      "6570       704  4830.824371       0.5 2021-10-14     10\n",
      "6680       712  4684.004397       0.5 2021-03-04      3\n",
      "6695       713  5215.642710       0.5 2021-02-25      2\n",
      "6768       718  5197.436649       0.5 2021-02-11      2\n",
      "...        ...          ...       ...        ...    ...\n",
      "17004     1460  5531.335845       0.5 2021-01-19      1\n",
      "17242     1477  6724.932981       0.5 2021-01-12      1\n",
      "17314     1483  4445.481070       0.5 2021-03-06      3\n",
      "17505     1496  5722.551787       0.5 2021-02-14      2\n",
      "17909     1524  4103.998874       0.5 2021-06-18      6\n",
      "\n",
      "[95 rows x 5 columns]\n",
      "user_id     95\n",
      "distance    95\n",
      "duration    95\n",
      "date        95\n",
      "month       95\n",
      "dtype: int64\n"
     ]
    }
   ],
   "source": [
    "duration_low = data_rides_go[data_rides_go['duration'] < 2]\n",
    "print(duration_low)\n",
    "duration_low_count = data_rides_go[data_rides_go['duration'] < 2].count()\n",
    "print(duration_low_count)"
   ]
  },
  {
   "cell_type": "markdown",
   "id": "8338570e",
   "metadata": {},
   "source": [
    "Проверил пользователей с продолжительностью поездки меньше 2 минут, таких пользователей 95, выяснил, что дистанция, которую они могут проехать за такое короткое время может составлять несколько километров, это скорее всего ошибка, необходимо получить дополнительную информацию по датафрейму"
   ]
  },
  {
   "cell_type": "markdown",
   "id": "d511aa64",
   "metadata": {},
   "source": [
    "# Чаще всего поездки длятся от 10 до 23-24 минут."
   ]
  },
  {
   "cell_type": "markdown",
   "id": "403b5380",
   "metadata": {},
   "source": [
    "#### Шаг 4. Объединение данных"
   ]
  },
  {
   "cell_type": "code",
   "execution_count": 44,
   "id": "c19a5730",
   "metadata": {
    "scrolled": true
   },
   "outputs": [
    {
     "data": {
      "text/html": [
       "<div>\n",
       "<style scoped>\n",
       "    .dataframe tbody tr th:only-of-type {\n",
       "        vertical-align: middle;\n",
       "    }\n",
       "\n",
       "    .dataframe tbody tr th {\n",
       "        vertical-align: top;\n",
       "    }\n",
       "\n",
       "    .dataframe thead th {\n",
       "        text-align: right;\n",
       "    }\n",
       "</style>\n",
       "<table border=\"1\" class=\"dataframe\">\n",
       "  <thead>\n",
       "    <tr style=\"text-align: right;\">\n",
       "      <th></th>\n",
       "      <th>index</th>\n",
       "      <th>user_id</th>\n",
       "      <th>name</th>\n",
       "      <th>age</th>\n",
       "      <th>city</th>\n",
       "      <th>subscription_type</th>\n",
       "      <th>distance</th>\n",
       "      <th>duration</th>\n",
       "      <th>date</th>\n",
       "      <th>month</th>\n",
       "    </tr>\n",
       "  </thead>\n",
       "  <tbody>\n",
       "    <tr>\n",
       "      <th>12822</th>\n",
       "      <td>1161</td>\n",
       "      <td>1162</td>\n",
       "      <td>Вера</td>\n",
       "      <td>14</td>\n",
       "      <td>Ростов-на-Дону</td>\n",
       "      <td>free</td>\n",
       "      <td>4760.697751</td>\n",
       "      <td>19.0</td>\n",
       "      <td>2021-07-16</td>\n",
       "      <td>7</td>\n",
       "    </tr>\n",
       "    <tr>\n",
       "      <th>10232</th>\n",
       "      <td>973</td>\n",
       "      <td>974</td>\n",
       "      <td>Нелли</td>\n",
       "      <td>34</td>\n",
       "      <td>Москва</td>\n",
       "      <td>free</td>\n",
       "      <td>3578.818821</td>\n",
       "      <td>27.0</td>\n",
       "      <td>2021-02-02</td>\n",
       "      <td>2</td>\n",
       "    </tr>\n",
       "    <tr>\n",
       "      <th>10107</th>\n",
       "      <td>964</td>\n",
       "      <td>965</td>\n",
       "      <td>Святослав</td>\n",
       "      <td>23</td>\n",
       "      <td>Пятигорск</td>\n",
       "      <td>free</td>\n",
       "      <td>3278.506907</td>\n",
       "      <td>13.0</td>\n",
       "      <td>2021-09-07</td>\n",
       "      <td>9</td>\n",
       "    </tr>\n",
       "    <tr>\n",
       "      <th>11583</th>\n",
       "      <td>1070</td>\n",
       "      <td>1071</td>\n",
       "      <td>Захар</td>\n",
       "      <td>26</td>\n",
       "      <td>Пятигорск</td>\n",
       "      <td>free</td>\n",
       "      <td>3635.094136</td>\n",
       "      <td>15.0</td>\n",
       "      <td>2021-01-19</td>\n",
       "      <td>1</td>\n",
       "    </tr>\n",
       "    <tr>\n",
       "      <th>17333</th>\n",
       "      <td>1483</td>\n",
       "      <td>1484</td>\n",
       "      <td>Алёна</td>\n",
       "      <td>24</td>\n",
       "      <td>Сочи</td>\n",
       "      <td>free</td>\n",
       "      <td>1995.224064</td>\n",
       "      <td>15.0</td>\n",
       "      <td>2021-09-30</td>\n",
       "      <td>9</td>\n",
       "    </tr>\n",
       "  </tbody>\n",
       "</table>\n",
       "</div>"
      ],
      "text/plain": [
       "       index  user_id       name  age            city subscription_type  \\\n",
       "12822   1161     1162       Вера   14  Ростов-на-Дону              free   \n",
       "10232    973      974      Нелли   34          Москва              free   \n",
       "10107    964      965  Святослав   23       Пятигорск              free   \n",
       "11583   1070     1071      Захар   26       Пятигорск              free   \n",
       "17333   1483     1484      Алёна   24            Сочи              free   \n",
       "\n",
       "          distance  duration       date  month  \n",
       "12822  4760.697751      19.0 2021-07-16      7  \n",
       "10232  3578.818821      27.0 2021-02-02      2  \n",
       "10107  3278.506907      13.0 2021-09-07      9  \n",
       "11583  3635.094136      15.0 2021-01-19      1  \n",
       "17333  1995.224064      15.0 2021-09-30      9  "
      ]
     },
     "metadata": {},
     "output_type": "display_data"
    }
   ],
   "source": [
    "data_general = data_users_go.merge(data_rides_go, on='user_id', how='left')\n",
    "data_general['duration'] = np.ceil(data_general['duration'])\n",
    "display(data_general.sample(5))"
   ]
  },
  {
   "cell_type": "code",
   "execution_count": 45,
   "id": "e67f1b5d",
   "metadata": {},
   "outputs": [
    {
     "data": {
      "text/plain": [
       "user_id     18068\n",
       "distance    18068\n",
       "duration    18068\n",
       "date        18068\n",
       "month       18068\n",
       "dtype: int64"
      ]
     },
     "execution_count": 45,
     "metadata": {},
     "output_type": "execute_result"
    }
   ],
   "source": [
    "data_general.count()\n",
    "data_rides_go.count()\n",
    "# количество строк до объединения и после объединения датафреймов совпадает"
   ]
  },
  {
   "cell_type": "markdown",
   "id": "fefccdbe",
   "metadata": {},
   "source": [
    "Датафрейм c данными о пользователях без подписки"
   ]
  },
  {
   "cell_type": "code",
   "execution_count": 46,
   "id": "c1185402",
   "metadata": {
    "scrolled": true
   },
   "outputs": [
    {
     "data": {
      "text/html": [
       "<div>\n",
       "<style scoped>\n",
       "    .dataframe tbody tr th:only-of-type {\n",
       "        vertical-align: middle;\n",
       "    }\n",
       "\n",
       "    .dataframe tbody tr th {\n",
       "        vertical-align: top;\n",
       "    }\n",
       "\n",
       "    .dataframe thead th {\n",
       "        text-align: right;\n",
       "    }\n",
       "</style>\n",
       "<table border=\"1\" class=\"dataframe\">\n",
       "  <thead>\n",
       "    <tr style=\"text-align: right;\">\n",
       "      <th></th>\n",
       "      <th>user_id</th>\n",
       "      <th>subscription_type</th>\n",
       "      <th>distance</th>\n",
       "      <th>duration</th>\n",
       "    </tr>\n",
       "  </thead>\n",
       "  <tbody>\n",
       "    <tr>\n",
       "      <th>17539</th>\n",
       "      <td>1498</td>\n",
       "      <td>free</td>\n",
       "      <td>3398.041233</td>\n",
       "      <td>14.0</td>\n",
       "    </tr>\n",
       "    <tr>\n",
       "      <th>11864</th>\n",
       "      <td>1091</td>\n",
       "      <td>free</td>\n",
       "      <td>2563.455632</td>\n",
       "      <td>20.0</td>\n",
       "    </tr>\n",
       "    <tr>\n",
       "      <th>11625</th>\n",
       "      <td>1073</td>\n",
       "      <td>free</td>\n",
       "      <td>2734.525811</td>\n",
       "      <td>18.0</td>\n",
       "    </tr>\n",
       "    <tr>\n",
       "      <th>15292</th>\n",
       "      <td>1338</td>\n",
       "      <td>free</td>\n",
       "      <td>4528.595641</td>\n",
       "      <td>20.0</td>\n",
       "    </tr>\n",
       "    <tr>\n",
       "      <th>8812</th>\n",
       "      <td>872</td>\n",
       "      <td>free</td>\n",
       "      <td>1929.225346</td>\n",
       "      <td>11.0</td>\n",
       "    </tr>\n",
       "  </tbody>\n",
       "</table>\n",
       "</div>"
      ],
      "text/plain": [
       "       user_id subscription_type     distance  duration\n",
       "17539     1498              free  3398.041233      14.0\n",
       "11864     1091              free  2563.455632      20.0\n",
       "11625     1073              free  2734.525811      18.0\n",
       "15292     1338              free  4528.595641      20.0\n",
       "8812       872              free  1929.225346      11.0"
      ]
     },
     "metadata": {},
     "output_type": "display_data"
    }
   ],
   "source": [
    "data_general_free = data_general.loc[data_general['subscription_type'] == 'free', ['user_id', 'subscription_type', 'distance', 'duration']]\n",
    "display(data_general_free.sample(5))"
   ]
  },
  {
   "cell_type": "code",
   "execution_count": 47,
   "id": "08f4d292",
   "metadata": {
    "scrolled": true
   },
   "outputs": [
    {
     "data": {
      "image/png": "[encoded data removed]",
      "text/plain": [
       "<Figure size 432x288 with 1 Axes>"
      ]
     },
     "metadata": {
      "needs_background": "light"
     },
     "output_type": "display_data"
    }
   ],
   "source": [
    "data_general_free['distance'].hist(range=(0, 8000), bins = 200);\n",
    "plt.title('Дальность поездки, без подписки')\n",
    "plt.ylabel('Количество пользователей')\n",
    "plt.xlabel('расстояние');"
   ]
  },
  {
   "cell_type": "code",
   "execution_count": 48,
   "id": "068c84cd",
   "metadata": {},
   "outputs": [
    {
     "data": {
      "image/png": "[encoded data removed]",
      "text/plain": [
       "<Figure size 432x288 with 1 Axes>"
      ]
     },
     "metadata": {
      "needs_background": "light"
     },
     "output_type": "display_data"
    }
   ],
   "source": [
    "data_general_free['duration'].hist(range=(0, 50), bins = 100);\n",
    "plt.title('Продолжительность поездки, без подписки')\n",
    "plt.ylabel('Количество пользователей')\n",
    "plt.xlabel('время');"
   ]
  },
  {
   "cell_type": "markdown",
   "id": "d3638196",
   "metadata": {},
   "source": [
    "Датафрейм c данными о пользователях с подпиской"
   ]
  },
  {
   "cell_type": "code",
   "execution_count": 49,
   "id": "a3c930b6",
   "metadata": {
    "scrolled": true
   },
   "outputs": [
    {
     "data": {
      "text/html": [
       "<div>\n",
       "<style scoped>\n",
       "    .dataframe tbody tr th:only-of-type {\n",
       "        vertical-align: middle;\n",
       "    }\n",
       "\n",
       "    .dataframe tbody tr th {\n",
       "        vertical-align: top;\n",
       "    }\n",
       "\n",
       "    .dataframe thead th {\n",
       "        text-align: right;\n",
       "    }\n",
       "</style>\n",
       "<table border=\"1\" class=\"dataframe\">\n",
       "  <thead>\n",
       "    <tr style=\"text-align: right;\">\n",
       "      <th></th>\n",
       "      <th>user_id</th>\n",
       "      <th>subscription_type</th>\n",
       "      <th>distance</th>\n",
       "      <th>duration</th>\n",
       "    </tr>\n",
       "  </thead>\n",
       "  <tbody>\n",
       "    <tr>\n",
       "      <th>463</th>\n",
       "      <td>50</td>\n",
       "      <td>ultra</td>\n",
       "      <td>307.532350</td>\n",
       "      <td>7.0</td>\n",
       "    </tr>\n",
       "    <tr>\n",
       "      <th>3765</th>\n",
       "      <td>404</td>\n",
       "      <td>ultra</td>\n",
       "      <td>4017.571728</td>\n",
       "      <td>22.0</td>\n",
       "    </tr>\n",
       "    <tr>\n",
       "      <th>4627</th>\n",
       "      <td>499</td>\n",
       "      <td>ultra</td>\n",
       "      <td>3203.523630</td>\n",
       "      <td>14.0</td>\n",
       "    </tr>\n",
       "    <tr>\n",
       "      <th>5557</th>\n",
       "      <td>592</td>\n",
       "      <td>ultra</td>\n",
       "      <td>3013.438327</td>\n",
       "      <td>19.0</td>\n",
       "    </tr>\n",
       "    <tr>\n",
       "      <th>2784</th>\n",
       "      <td>297</td>\n",
       "      <td>ultra</td>\n",
       "      <td>2922.976895</td>\n",
       "      <td>24.0</td>\n",
       "    </tr>\n",
       "  </tbody>\n",
       "</table>\n",
       "</div>"
      ],
      "text/plain": [
       "      user_id subscription_type     distance  duration\n",
       "463        50             ultra   307.532350       7.0\n",
       "3765      404             ultra  4017.571728      22.0\n",
       "4627      499             ultra  3203.523630      14.0\n",
       "5557      592             ultra  3013.438327      19.0\n",
       "2784      297             ultra  2922.976895      24.0"
      ]
     },
     "metadata": {},
     "output_type": "display_data"
    }
   ],
   "source": [
    "data_general_ultra = data_general.loc[data_general['subscription_type'] == 'ultra', ['user_id', 'subscription_type', 'distance', 'duration']]\n",
    "display(data_general_ultra.sample(5))"
   ]
  },
  {
   "cell_type": "code",
   "execution_count": 50,
   "id": "9f5dc9b8",
   "metadata": {
    "scrolled": true
   },
   "outputs": [
    {
     "data": {
      "image/png": "[encoded data removed]",
      "text/plain": [
       "<Figure size 432x288 with 1 Axes>"
      ]
     },
     "metadata": {
      "needs_background": "light"
     },
     "output_type": "display_data"
    }
   ],
   "source": [
    "data_general_ultra['distance'].hist(range=(0, 8000), bins = 200); \n",
    "plt.title('Дальность поездки, с подпиской')\n",
    "plt.ylabel('Количество пользователей')\n",
    "plt.xlabel('расстояние');"
   ]
  },
  {
   "cell_type": "code",
   "execution_count": 51,
   "id": "f86a8fda",
   "metadata": {
    "scrolled": true
   },
   "outputs": [
    {
     "data": {
      "image/png": "[encoded data removed]",
      "text/plain": [
       "<Figure size 432x288 with 1 Axes>"
      ]
     },
     "metadata": {
      "needs_background": "light"
     },
     "output_type": "display_data"
    }
   ],
   "source": [
    "data_general_ultra['duration'].hist(range=(0, 50), bins = 100);\n",
    "plt.title('Продолжительность поездки, с подпиской')\n",
    "plt.ylabel('Количество пользователей')\n",
    "plt.xlabel('время');"
   ]
  },
  {
   "cell_type": "code",
   "execution_count": 52,
   "id": "08818fb5",
   "metadata": {
    "scrolled": true
   },
   "outputs": [
    {
     "data": {
      "image/png": "[encoded data removed]",
      "text/plain": [
       "<Figure size 720x360 with 2 Axes>"
      ]
     },
     "metadata": {
      "needs_background": "light"
     },
     "output_type": "display_data"
    }
   ],
   "source": [
    "fig, axs = plt.subplots(1, 2, figsize=(10, 5))\n",
    "\n",
    "data_general_free['distance'].hist(range=(0, 8000), bins=200, alpha=0.7, ax=axs[0])\n",
    "\n",
    "data_general_ultra['distance'].hist(range=(0, 8000), bins=200, alpha=0.7, ax=axs[0], color='red')\n",
    "axs[0].set_title('Дальность поездки')\n",
    "\n",
    "data_general_free['duration'].hist(range=(0, 50), bins=100, alpha=0.7, ax=axs[1])\n",
    "\n",
    "data_general_ultra['duration'].hist(range=(0, 50), bins=100, alpha=0.7, ax=axs[1], color='red')\n",
    "axs[1].set_title('Продолжительность поездки')\n",
    "\n",
    "plt.legend(['без подписки', 'с подпиской'])\n",
    "\n",
    "plt.show()\n",
    "\n",
    "# для удобства анализа объединил гистограммы, синим цветом -пользователи без подписки, красным - пользователи с подпиской."
   ]
  },
  {
   "cell_type": "markdown",
   "id": "fe65192e",
   "metadata": {},
   "source": [
    "Вывод:\n",
    "\n",
    "1) пользователи с подпиской совершают больше поездок в диапазоне от 2500 до 3500 метров, диапозон дальности поездок у пользователей без подписки шире от 2000 до 4500 метров. Но мы можем видеть, что среди пользователей без подписки намного больше тех, кто совершает короткие поездки. \n",
    "\n",
    "2) среди пользователей с подпиской нет тех, чье время проката сремится к 0, их продолжительность поездок чуть дольше, чем у пользователей без подписок."
   ]
  },
  {
   "cell_type": "markdown",
   "id": "ae65754b",
   "metadata": {},
   "source": [
    "#### Шаг 5. Подсчёт выручки"
   ]
  },
  {
   "cell_type": "code",
   "execution_count": 53,
   "id": "fe57c372",
   "metadata": {},
   "outputs": [
    {
     "data": {
      "text/html": [
       "<div>\n",
       "<style scoped>\n",
       "    .dataframe tbody tr th:only-of-type {\n",
       "        vertical-align: middle;\n",
       "    }\n",
       "\n",
       "    .dataframe tbody tr th {\n",
       "        vertical-align: top;\n",
       "    }\n",
       "\n",
       "    .dataframe thead th {\n",
       "        text-align: right;\n",
       "    }\n",
       "</style>\n",
       "<table border=\"1\" class=\"dataframe\">\n",
       "  <thead>\n",
       "    <tr style=\"text-align: right;\">\n",
       "      <th></th>\n",
       "      <th>subscription_type</th>\n",
       "      <th>minute_price</th>\n",
       "      <th>start_ride_price</th>\n",
       "      <th>subscription_fee</th>\n",
       "      <th>index</th>\n",
       "      <th>user_id</th>\n",
       "      <th>name</th>\n",
       "      <th>age</th>\n",
       "      <th>city</th>\n",
       "      <th>distance</th>\n",
       "      <th>duration</th>\n",
       "      <th>date</th>\n",
       "      <th>month</th>\n",
       "      <th>duration_price</th>\n",
       "    </tr>\n",
       "  </thead>\n",
       "  <tbody>\n",
       "    <tr>\n",
       "      <th>5358</th>\n",
       "      <td>free</td>\n",
       "      <td>8</td>\n",
       "      <td>50</td>\n",
       "      <td>0</td>\n",
       "      <td>1089</td>\n",
       "      <td>1090</td>\n",
       "      <td>Дмитрий</td>\n",
       "      <td>22</td>\n",
       "      <td>Ростов-на-Дону</td>\n",
       "      <td>4184.201172</td>\n",
       "      <td>21.0</td>\n",
       "      <td>2021-12-07</td>\n",
       "      <td>12</td>\n",
       "      <td>168.0</td>\n",
       "    </tr>\n",
       "    <tr>\n",
       "      <th>5584</th>\n",
       "      <td>free</td>\n",
       "      <td>8</td>\n",
       "      <td>50</td>\n",
       "      <td>0</td>\n",
       "      <td>1107</td>\n",
       "      <td>1108</td>\n",
       "      <td>Элина</td>\n",
       "      <td>24</td>\n",
       "      <td>Краснодар</td>\n",
       "      <td>3108.040927</td>\n",
       "      <td>11.0</td>\n",
       "      <td>2021-08-25</td>\n",
       "      <td>8</td>\n",
       "      <td>88.0</td>\n",
       "    </tr>\n",
       "    <tr>\n",
       "      <th>7828</th>\n",
       "      <td>free</td>\n",
       "      <td>8</td>\n",
       "      <td>50</td>\n",
       "      <td>0</td>\n",
       "      <td>1266</td>\n",
       "      <td>1267</td>\n",
       "      <td>Лиана</td>\n",
       "      <td>25</td>\n",
       "      <td>Краснодар</td>\n",
       "      <td>3126.109285</td>\n",
       "      <td>16.0</td>\n",
       "      <td>2021-07-04</td>\n",
       "      <td>7</td>\n",
       "      <td>128.0</td>\n",
       "    </tr>\n",
       "    <tr>\n",
       "      <th>16390</th>\n",
       "      <td>ultra</td>\n",
       "      <td>6</td>\n",
       "      <td>0</td>\n",
       "      <td>199</td>\n",
       "      <td>518</td>\n",
       "      <td>519</td>\n",
       "      <td>Даниэль</td>\n",
       "      <td>22</td>\n",
       "      <td>Ростов-на-Дону</td>\n",
       "      <td>4032.557255</td>\n",
       "      <td>18.0</td>\n",
       "      <td>2021-11-19</td>\n",
       "      <td>11</td>\n",
       "      <td>108.0</td>\n",
       "    </tr>\n",
       "    <tr>\n",
       "      <th>3701</th>\n",
       "      <td>free</td>\n",
       "      <td>8</td>\n",
       "      <td>50</td>\n",
       "      <td>0</td>\n",
       "      <td>971</td>\n",
       "      <td>972</td>\n",
       "      <td>Анна</td>\n",
       "      <td>16</td>\n",
       "      <td>Сочи</td>\n",
       "      <td>4536.095023</td>\n",
       "      <td>26.0</td>\n",
       "      <td>2021-01-25</td>\n",
       "      <td>1</td>\n",
       "      <td>208.0</td>\n",
       "    </tr>\n",
       "    <tr>\n",
       "      <th>11233</th>\n",
       "      <td>free</td>\n",
       "      <td>8</td>\n",
       "      <td>50</td>\n",
       "      <td>0</td>\n",
       "      <td>1510</td>\n",
       "      <td>1511</td>\n",
       "      <td>Элина</td>\n",
       "      <td>27</td>\n",
       "      <td>Краснодар</td>\n",
       "      <td>3815.649136</td>\n",
       "      <td>34.0</td>\n",
       "      <td>2021-12-16</td>\n",
       "      <td>12</td>\n",
       "      <td>272.0</td>\n",
       "    </tr>\n",
       "    <tr>\n",
       "      <th>16190</th>\n",
       "      <td>ultra</td>\n",
       "      <td>6</td>\n",
       "      <td>0</td>\n",
       "      <td>199</td>\n",
       "      <td>498</td>\n",
       "      <td>499</td>\n",
       "      <td>Каролина</td>\n",
       "      <td>25</td>\n",
       "      <td>Екатеринбург</td>\n",
       "      <td>4399.052661</td>\n",
       "      <td>24.0</td>\n",
       "      <td>2021-01-10</td>\n",
       "      <td>1</td>\n",
       "      <td>144.0</td>\n",
       "    </tr>\n",
       "    <tr>\n",
       "      <th>7795</th>\n",
       "      <td>free</td>\n",
       "      <td>8</td>\n",
       "      <td>50</td>\n",
       "      <td>0</td>\n",
       "      <td>1263</td>\n",
       "      <td>1264</td>\n",
       "      <td>Каролина</td>\n",
       "      <td>21</td>\n",
       "      <td>Пятигорск</td>\n",
       "      <td>2260.211720</td>\n",
       "      <td>16.0</td>\n",
       "      <td>2021-09-19</td>\n",
       "      <td>9</td>\n",
       "      <td>128.0</td>\n",
       "    </tr>\n",
       "    <tr>\n",
       "      <th>6975</th>\n",
       "      <td>free</td>\n",
       "      <td>8</td>\n",
       "      <td>50</td>\n",
       "      <td>0</td>\n",
       "      <td>1208</td>\n",
       "      <td>1209</td>\n",
       "      <td>Борис</td>\n",
       "      <td>16</td>\n",
       "      <td>Омск</td>\n",
       "      <td>2303.171547</td>\n",
       "      <td>12.0</td>\n",
       "      <td>2021-05-16</td>\n",
       "      <td>5</td>\n",
       "      <td>96.0</td>\n",
       "    </tr>\n",
       "    <tr>\n",
       "      <th>18017</th>\n",
       "      <td>ultra</td>\n",
       "      <td>6</td>\n",
       "      <td>0</td>\n",
       "      <td>199</td>\n",
       "      <td>693</td>\n",
       "      <td>694</td>\n",
       "      <td>Алия</td>\n",
       "      <td>29</td>\n",
       "      <td>Краснодар</td>\n",
       "      <td>773.352502</td>\n",
       "      <td>12.0</td>\n",
       "      <td>2021-02-06</td>\n",
       "      <td>2</td>\n",
       "      <td>72.0</td>\n",
       "    </tr>\n",
       "  </tbody>\n",
       "</table>\n",
       "</div>"
      ],
      "text/plain": [
       "      subscription_type  minute_price  start_ride_price  subscription_fee  \\\n",
       "5358               free             8                50                 0   \n",
       "5584               free             8                50                 0   \n",
       "7828               free             8                50                 0   \n",
       "16390             ultra             6                 0               199   \n",
       "3701               free             8                50                 0   \n",
       "11233              free             8                50                 0   \n",
       "16190             ultra             6                 0               199   \n",
       "7795               free             8                50                 0   \n",
       "6975               free             8                50                 0   \n",
       "18017             ultra             6                 0               199   \n",
       "\n",
       "       index  user_id      name  age            city     distance  duration  \\\n",
       "5358    1089     1090   Дмитрий   22  Ростов-на-Дону  4184.201172      21.0   \n",
       "5584    1107     1108     Элина   24       Краснодар  3108.040927      11.0   \n",
       "7828    1266     1267     Лиана   25       Краснодар  3126.109285      16.0   \n",
       "16390    518      519   Даниэль   22  Ростов-на-Дону  4032.557255      18.0   \n",
       "3701     971      972      Анна   16            Сочи  4536.095023      26.0   \n",
       "11233   1510     1511     Элина   27       Краснодар  3815.649136      34.0   \n",
       "16190    498      499  Каролина   25    Екатеринбург  4399.052661      24.0   \n",
       "7795    1263     1264  Каролина   21       Пятигорск  2260.211720      16.0   \n",
       "6975    1208     1209     Борис   16            Омск  2303.171547      12.0   \n",
       "18017    693      694      Алия   29       Краснодар   773.352502      12.0   \n",
       "\n",
       "            date  month  duration_price  \n",
       "5358  2021-12-07     12           168.0  \n",
       "5584  2021-08-25      8            88.0  \n",
       "7828  2021-07-04      7           128.0  \n",
       "16390 2021-11-19     11           108.0  \n",
       "3701  2021-01-25      1           208.0  \n",
       "11233 2021-12-16     12           272.0  \n",
       "16190 2021-01-10      1           144.0  \n",
       "7795  2021-09-19      9           128.0  \n",
       "6975  2021-05-16      5            96.0  \n",
       "18017 2021-02-06      2            72.0  "
      ]
     },
     "metadata": {},
     "output_type": "display_data"
    }
   ],
   "source": [
    "data_general_price = data_subscriptions_go.merge(data_general, on='subscription_type', how='left')\n",
    "data_general_price['duration_price'] = data_general_price['minute_price'] * data_general_price['duration']\n",
    "display(data_general_price.sample(10))\n",
    "# объединю датафреймы для удобного подсчета ежемесячной выручки на 1 пользователя"
   ]
  },
  {
   "cell_type": "code",
   "execution_count": 54,
   "id": "4d26911d",
   "metadata": {
    "scrolled": true
   },
   "outputs": [
    {
     "data": {
      "text/html": [
       "<div>\n",
       "<style scoped>\n",
       "    .dataframe tbody tr th:only-of-type {\n",
       "        vertical-align: middle;\n",
       "    }\n",
       "\n",
       "    .dataframe tbody tr th {\n",
       "        vertical-align: top;\n",
       "    }\n",
       "\n",
       "    .dataframe thead th {\n",
       "        text-align: right;\n",
       "    }\n",
       "</style>\n",
       "<table border=\"1\" class=\"dataframe\">\n",
       "  <thead>\n",
       "    <tr style=\"text-align: right;\">\n",
       "      <th></th>\n",
       "      <th></th>\n",
       "      <th>monthly_distance</th>\n",
       "      <th>monthly_riders_count</th>\n",
       "      <th>monthly_duration</th>\n",
       "      <th>duration_income</th>\n",
       "      <th>start_income</th>\n",
       "      <th>subscription_fee_income</th>\n",
       "    </tr>\n",
       "    <tr>\n",
       "      <th>user_id</th>\n",
       "      <th>month</th>\n",
       "      <th></th>\n",
       "      <th></th>\n",
       "      <th></th>\n",
       "      <th></th>\n",
       "      <th></th>\n",
       "      <th></th>\n",
       "    </tr>\n",
       "  </thead>\n",
       "  <tbody>\n",
       "    <tr>\n",
       "      <th>284</th>\n",
       "      <th>9</th>\n",
       "      <td>3366.467097</td>\n",
       "      <td>2</td>\n",
       "      <td>28.0</td>\n",
       "      <td>168.0</td>\n",
       "      <td>0</td>\n",
       "      <td>199</td>\n",
       "    </tr>\n",
       "    <tr>\n",
       "      <th>992</th>\n",
       "      <th>7</th>\n",
       "      <td>2835.238412</td>\n",
       "      <td>1</td>\n",
       "      <td>14.0</td>\n",
       "      <td>112.0</td>\n",
       "      <td>50</td>\n",
       "      <td>0</td>\n",
       "    </tr>\n",
       "    <tr>\n",
       "      <th>916</th>\n",
       "      <th>11</th>\n",
       "      <td>10472.254938</td>\n",
       "      <td>3</td>\n",
       "      <td>60.0</td>\n",
       "      <td>480.0</td>\n",
       "      <td>50</td>\n",
       "      <td>0</td>\n",
       "    </tr>\n",
       "    <tr>\n",
       "      <th>1188</th>\n",
       "      <th>2</th>\n",
       "      <td>2850.857194</td>\n",
       "      <td>2</td>\n",
       "      <td>24.0</td>\n",
       "      <td>192.0</td>\n",
       "      <td>50</td>\n",
       "      <td>0</td>\n",
       "    </tr>\n",
       "    <tr>\n",
       "      <th>1222</th>\n",
       "      <th>5</th>\n",
       "      <td>407.060379</td>\n",
       "      <td>1</td>\n",
       "      <td>7.0</td>\n",
       "      <td>56.0</td>\n",
       "      <td>50</td>\n",
       "      <td>0</td>\n",
       "    </tr>\n",
       "    <tr>\n",
       "      <th>454</th>\n",
       "      <th>12</th>\n",
       "      <td>5137.327103</td>\n",
       "      <td>1</td>\n",
       "      <td>41.0</td>\n",
       "      <td>246.0</td>\n",
       "      <td>0</td>\n",
       "      <td>199</td>\n",
       "    </tr>\n",
       "    <tr>\n",
       "      <th>525</th>\n",
       "      <th>4</th>\n",
       "      <td>3672.547654</td>\n",
       "      <td>1</td>\n",
       "      <td>16.0</td>\n",
       "      <td>96.0</td>\n",
       "      <td>0</td>\n",
       "      <td>199</td>\n",
       "    </tr>\n",
       "    <tr>\n",
       "      <th>744</th>\n",
       "      <th>12</th>\n",
       "      <td>4171.361985</td>\n",
       "      <td>1</td>\n",
       "      <td>33.0</td>\n",
       "      <td>264.0</td>\n",
       "      <td>50</td>\n",
       "      <td>0</td>\n",
       "    </tr>\n",
       "    <tr>\n",
       "      <th>867</th>\n",
       "      <th>3</th>\n",
       "      <td>6438.554563</td>\n",
       "      <td>2</td>\n",
       "      <td>34.0</td>\n",
       "      <td>272.0</td>\n",
       "      <td>50</td>\n",
       "      <td>0</td>\n",
       "    </tr>\n",
       "    <tr>\n",
       "      <th>646</th>\n",
       "      <th>9</th>\n",
       "      <td>2635.251399</td>\n",
       "      <td>1</td>\n",
       "      <td>12.0</td>\n",
       "      <td>72.0</td>\n",
       "      <td>0</td>\n",
       "      <td>199</td>\n",
       "    </tr>\n",
       "  </tbody>\n",
       "</table>\n",
       "</div>"
      ],
      "text/plain": [
       "               monthly_distance  monthly_riders_count  monthly_duration  \\\n",
       "user_id month                                                             \n",
       "284     9           3366.467097                     2              28.0   \n",
       "992     7           2835.238412                     1              14.0   \n",
       "916     11         10472.254938                     3              60.0   \n",
       "1188    2           2850.857194                     2              24.0   \n",
       "1222    5            407.060379                     1               7.0   \n",
       "454     12          5137.327103                     1              41.0   \n",
       "525     4           3672.547654                     1              16.0   \n",
       "744     12          4171.361985                     1              33.0   \n",
       "867     3           6438.554563                     2              34.0   \n",
       "646     9           2635.251399                     1              12.0   \n",
       "\n",
       "               duration_income  start_income  subscription_fee_income  \n",
       "user_id month                                                          \n",
       "284     9                168.0             0                      199  \n",
       "992     7                112.0            50                        0  \n",
       "916     11               480.0            50                        0  \n",
       "1188    2                192.0            50                        0  \n",
       "1222    5                 56.0            50                        0  \n",
       "454     12               246.0             0                      199  \n",
       "525     4                 96.0             0                      199  \n",
       "744     12               264.0            50                        0  \n",
       "867     3                272.0            50                        0  \n",
       "646     9                 72.0             0                      199  "
      ]
     },
     "metadata": {},
     "output_type": "display_data"
    }
   ],
   "source": [
    "data_general_monthly = data_general_price.pivot_table(index=['user_id', 'month'], values=['distance', 'duration', 'duration_price', 'start_ride_price', 'subscription_fee'], aggfunc={'distance': 'sum', 'duration': ['sum', 'count'], 'duration_price': 'sum', 'start_ride_price': 'mean', 'subscription_fee': 'mean',})\n",
    "data_general_monthly.columns = ['monthly_distance', 'monthly_riders_count', 'monthly_duration', 'duration_income', 'start_income', 'subscription_fee_income']\n",
    "display(data_general_monthly.sample(10))\n",
    "\n",
    "# создам сводную таблицу с разбивкой на каждого пользователя и месяцу, благодаря этому получу возможность посчитать ежемесячную выручку на одного пользователя"
   ]
  },
  {
   "cell_type": "code",
   "execution_count": 55,
   "id": "fbf27750",
   "metadata": {
    "scrolled": true
   },
   "outputs": [
    {
     "data": {
      "text/html": [
       "<div>\n",
       "<style scoped>\n",
       "    .dataframe tbody tr th:only-of-type {\n",
       "        vertical-align: middle;\n",
       "    }\n",
       "\n",
       "    .dataframe tbody tr th {\n",
       "        vertical-align: top;\n",
       "    }\n",
       "\n",
       "    .dataframe thead th {\n",
       "        text-align: right;\n",
       "    }\n",
       "</style>\n",
       "<table border=\"1\" class=\"dataframe\">\n",
       "  <thead>\n",
       "    <tr style=\"text-align: right;\">\n",
       "      <th></th>\n",
       "      <th></th>\n",
       "      <th>monthly_distance</th>\n",
       "      <th>monthly_riders_count</th>\n",
       "      <th>monthly_duration</th>\n",
       "      <th>duration_income</th>\n",
       "      <th>start_income</th>\n",
       "      <th>subscription_fee_income</th>\n",
       "      <th>common_income</th>\n",
       "    </tr>\n",
       "    <tr>\n",
       "      <th>user_id</th>\n",
       "      <th>month</th>\n",
       "      <th></th>\n",
       "      <th></th>\n",
       "      <th></th>\n",
       "      <th></th>\n",
       "      <th></th>\n",
       "      <th></th>\n",
       "      <th></th>\n",
       "    </tr>\n",
       "  </thead>\n",
       "  <tbody>\n",
       "    <tr>\n",
       "      <th>772</th>\n",
       "      <th>12</th>\n",
       "      <td>4934.601271</td>\n",
       "      <td>2</td>\n",
       "      <td>25.0</td>\n",
       "      <td>200.0</td>\n",
       "      <td>50</td>\n",
       "      <td>0</td>\n",
       "      <td>300.0</td>\n",
       "    </tr>\n",
       "    <tr>\n",
       "      <th>947</th>\n",
       "      <th>2</th>\n",
       "      <td>3174.289938</td>\n",
       "      <td>1</td>\n",
       "      <td>24.0</td>\n",
       "      <td>192.0</td>\n",
       "      <td>50</td>\n",
       "      <td>0</td>\n",
       "      <td>242.0</td>\n",
       "    </tr>\n",
       "    <tr>\n",
       "      <th>1134</th>\n",
       "      <th>10</th>\n",
       "      <td>2826.133988</td>\n",
       "      <td>1</td>\n",
       "      <td>17.0</td>\n",
       "      <td>136.0</td>\n",
       "      <td>50</td>\n",
       "      <td>0</td>\n",
       "      <td>186.0</td>\n",
       "    </tr>\n",
       "    <tr>\n",
       "      <th>906</th>\n",
       "      <th>2</th>\n",
       "      <td>8578.641127</td>\n",
       "      <td>2</td>\n",
       "      <td>27.0</td>\n",
       "      <td>216.0</td>\n",
       "      <td>50</td>\n",
       "      <td>0</td>\n",
       "      <td>316.0</td>\n",
       "    </tr>\n",
       "    <tr>\n",
       "      <th>1006</th>\n",
       "      <th>1</th>\n",
       "      <td>7902.492164</td>\n",
       "      <td>2</td>\n",
       "      <td>52.0</td>\n",
       "      <td>416.0</td>\n",
       "      <td>50</td>\n",
       "      <td>0</td>\n",
       "      <td>516.0</td>\n",
       "    </tr>\n",
       "    <tr>\n",
       "      <th>1174</th>\n",
       "      <th>6</th>\n",
       "      <td>3546.127963</td>\n",
       "      <td>1</td>\n",
       "      <td>13.0</td>\n",
       "      <td>104.0</td>\n",
       "      <td>50</td>\n",
       "      <td>0</td>\n",
       "      <td>154.0</td>\n",
       "    </tr>\n",
       "    <tr>\n",
       "      <th>116</th>\n",
       "      <th>7</th>\n",
       "      <td>3489.981474</td>\n",
       "      <td>1</td>\n",
       "      <td>17.0</td>\n",
       "      <td>102.0</td>\n",
       "      <td>0</td>\n",
       "      <td>199</td>\n",
       "      <td>301.0</td>\n",
       "    </tr>\n",
       "    <tr>\n",
       "      <th>1501</th>\n",
       "      <th>3</th>\n",
       "      <td>2389.199126</td>\n",
       "      <td>1</td>\n",
       "      <td>13.0</td>\n",
       "      <td>104.0</td>\n",
       "      <td>50</td>\n",
       "      <td>0</td>\n",
       "      <td>154.0</td>\n",
       "    </tr>\n",
       "    <tr>\n",
       "      <th>1042</th>\n",
       "      <th>11</th>\n",
       "      <td>8714.276963</td>\n",
       "      <td>2</td>\n",
       "      <td>40.0</td>\n",
       "      <td>320.0</td>\n",
       "      <td>50</td>\n",
       "      <td>0</td>\n",
       "      <td>420.0</td>\n",
       "    </tr>\n",
       "    <tr>\n",
       "      <th>1522</th>\n",
       "      <th>9</th>\n",
       "      <td>217.943366</td>\n",
       "      <td>1</td>\n",
       "      <td>15.0</td>\n",
       "      <td>120.0</td>\n",
       "      <td>50</td>\n",
       "      <td>0</td>\n",
       "      <td>170.0</td>\n",
       "    </tr>\n",
       "  </tbody>\n",
       "</table>\n",
       "</div>"
      ],
      "text/plain": [
       "               monthly_distance  monthly_riders_count  monthly_duration  \\\n",
       "user_id month                                                             \n",
       "772     12          4934.601271                     2              25.0   \n",
       "947     2           3174.289938                     1              24.0   \n",
       "1134    10          2826.133988                     1              17.0   \n",
       "906     2           8578.641127                     2              27.0   \n",
       "1006    1           7902.492164                     2              52.0   \n",
       "1174    6           3546.127963                     1              13.0   \n",
       "116     7           3489.981474                     1              17.0   \n",
       "1501    3           2389.199126                     1              13.0   \n",
       "1042    11          8714.276963                     2              40.0   \n",
       "1522    9            217.943366                     1              15.0   \n",
       "\n",
       "               duration_income  start_income  subscription_fee_income  \\\n",
       "user_id month                                                           \n",
       "772     12               200.0            50                        0   \n",
       "947     2                192.0            50                        0   \n",
       "1134    10               136.0            50                        0   \n",
       "906     2                216.0            50                        0   \n",
       "1006    1                416.0            50                        0   \n",
       "1174    6                104.0            50                        0   \n",
       "116     7                102.0             0                      199   \n",
       "1501    3                104.0            50                        0   \n",
       "1042    11               320.0            50                        0   \n",
       "1522    9                120.0            50                        0   \n",
       "\n",
       "               common_income  \n",
       "user_id month                 \n",
       "772     12             300.0  \n",
       "947     2              242.0  \n",
       "1134    10             186.0  \n",
       "906     2              316.0  \n",
       "1006    1              516.0  \n",
       "1174    6              154.0  \n",
       "116     7              301.0  \n",
       "1501    3              154.0  \n",
       "1042    11             420.0  \n",
       "1522    9              170.0  "
      ]
     },
     "metadata": {},
     "output_type": "display_data"
    }
   ],
   "source": [
    "data_general_monthly['common_income'] = data_general_monthly['duration_income'] + data_general_monthly['start_income'] * data_general_monthly['monthly_riders_count'] + data_general_monthly['subscription_fee_income']\n",
    "display(data_general_monthly.sample(10))"
   ]
  },
  {
   "cell_type": "code",
   "execution_count": 56,
   "id": "a9a40d20",
   "metadata": {},
   "outputs": [
    {
     "name": "stdout",
     "output_type": "stream",
     "text": [
      "3878641.0\n"
     ]
    }
   ],
   "source": [
    "print(data_general_monthly['common_income'].sum().round(2))\n",
    "# выручка за год"
   ]
  },
  {
   "cell_type": "markdown",
   "id": "cf245e93",
   "metadata": {},
   "source": [
    "#### Шаг 6. Проверка гипотез"
   ]
  },
  {
   "cell_type": "markdown",
   "id": "0be2ae22",
   "metadata": {},
   "source": [
    "6.1 Важно понять, тратят ли пользователи с подпиской больше времени на поездки? Если да, то пользователи с подпиской могут быть «выгоднее» для компании. Проверьте гипотезу. Используйте исходные данные о продолжительности каждой сессии — отдельно для подписчиков и тех, у кого нет подписки.\n",
    "\n",
    "Проверим гипотезу: \n",
    "Нулевая гипотеза: free_duration = ultra_duration.\n",
    "Альтернативная гипотеза: ultra_duration > free_duration. "
   ]
  },
  {
   "cell_type": "code",
   "execution_count": 57,
   "id": "6195663c",
   "metadata": {},
   "outputs": [
    {
     "name": "stdout",
     "output_type": "stream",
     "text": [
      "17.89\n",
      "19.04\n"
     ]
    }
   ],
   "source": [
    "free_duration_mean = data_general_price.query(\"subscription_type == 'free'\")['duration'].mean()\n",
    "print(free_duration_mean.round(2))\n",
    "ultra_duration_mean = data_general_price.query(\"subscription_type == 'ultra'\")['duration'].mean()\n",
    "print(ultra_duration_mean.round(2))"
   ]
  },
  {
   "cell_type": "code",
   "execution_count": 58,
   "id": "b9e3560b",
   "metadata": {},
   "outputs": [
    {
     "name": "stdout",
     "output_type": "stream",
     "text": [
      "2.4959453720736625e-34\n",
      "Отвергаем нулевую гипотезу\n"
     ]
    }
   ],
   "source": [
    "results = st.ttest_ind(data_general_price.query(\"subscription_type == 'free'\")['duration'], \n",
    "                       data_general_price.query(\"subscription_type == 'ultra'\")['duration'],\n",
    "                       alternative='less')\n",
    "print(results.pvalue)\n",
    "\n",
    "alpha = 0.05\n",
    "if results.pvalue < alpha:\n",
    "    print('Отвергаем нулевую гипотезу')\n",
    "else:\n",
    "    print('Не получилось отвергнуть нулевую гипотезу')"
   ]
  },
  {
   "cell_type": "markdown",
   "id": "bbcfd9d0",
   "metadata": {},
   "source": [
    "Нулевая гипотеза отвергнута, есть вероятность того, что пользователи с подпиской выгоднее для компании."
   ]
  },
  {
   "cell_type": "markdown",
   "id": "7e6be77e",
   "metadata": {},
   "source": [
    "6.2 Расстояние одной поездки в 3130 метров — оптимальное с точки зрения износа самоката. Можно ли сказать, что среднее расстояние, которое проезжают пользователи с подпиской за одну поездку, не превышает 3130 метров? Проверьте гипотезу и сделайте выводы.\n",
    "\n",
    "Проверим гипотезу: \n",
    "Нулевая гипотеза: ultra_dinstance < 3130.\n",
    "Альтернативная гипотеза: ultra_dinstance > 3130. "
   ]
  },
  {
   "cell_type": "code",
   "execution_count": 59,
   "id": "e7b17781",
   "metadata": {},
   "outputs": [
    {
     "name": "stdout",
     "output_type": "stream",
     "text": [
      "3115.45\n"
     ]
    }
   ],
   "source": [
    "ultra_distance_mean = data_general_price.query(\"subscription_type == 'ultra'\")['distance'].mean()\n",
    "print(ultra_distance_mean.round(2))"
   ]
  },
  {
   "cell_type": "code",
   "execution_count": 60,
   "id": "266b7aab",
   "metadata": {},
   "outputs": [
    {
     "name": "stdout",
     "output_type": "stream",
     "text": [
      "0.9195368847849785\n",
      "Не получилось отвергнуть нулевую гипотезу\n"
     ]
    }
   ],
   "source": [
    "optimal_distance = 3130\n",
    "\n",
    "alpha = .05\n",
    "\n",
    "results = st.ttest_1samp(data_general_price.query(\"subscription_type == 'ultra'\")['distance'], optimal_distance, alternative='greater') # используйте метод st.ttest_1samp\n",
    "\n",
    "print(results.pvalue)\n",
    "\n",
    "if results.pvalue < alpha:\n",
    "    print('Отвергаем нулевую гипотезу')\n",
    "else:\n",
    "    print('Не получилось отвергнуть нулевую гипотезу')"
   ]
  },
  {
   "cell_type": "markdown",
   "id": "250cabcb",
   "metadata": {},
   "source": [
    "Нулевую гипотезу отвергнуть не получилось, из этого следует, что среднее расстояние, которое проезжают пользователи с подпиской за одну поездку, не превышает 3130 метров. Выше проверил среднее расстояние, оно оказалось менее 3130 метров, что дополнительно подтверждает гипотезу."
   ]
  },
  {
   "cell_type": "markdown",
   "id": "17b2c3c6",
   "metadata": {},
   "source": [
    "6.3 Проверьте гипотезу о том, будет ли помесячная выручка от пользователей с подпиской по месяцам выше, чем выручка от пользователей без подписки. Сделайте вывод.\n",
    "\n",
    "Гипотеза: \n",
    "Нулевая гипотеза: mean_free_income = mean_ultra_income\n",
    "Альтернативная гипотеза: mean_free_income < mean_ultra_income"
   ]
  },
  {
   "cell_type": "code",
   "execution_count": 61,
   "id": "7f3879e9",
   "metadata": {},
   "outputs": [],
   "source": [
    "mean_free_income = data_general_monthly.query(\"subscription_fee_income == 0\")['common_income']\n",
    "\n",
    "mean_ultra_income = data_general_monthly.query(\"subscription_fee_income > 0\")['common_income']\n"
   ]
  },
  {
   "cell_type": "code",
   "execution_count": 62,
   "id": "7e6f8ca5",
   "metadata": {},
   "outputs": [
    {
     "name": "stdout",
     "output_type": "stream",
     "text": [
      "1.8850394384715216e-31\n",
      "Отвергаем нулевую гипотезу\n"
     ]
    }
   ],
   "source": [
    "results = st.ttest_ind(mean_free_income, mean_ultra_income, alternative='less') \n",
    "print(results.pvalue)\n",
    "\n",
    "alpha = 0.05\n",
    "\n",
    "if results.pvalue < alpha:\n",
    "    print('Отвергаем нулевую гипотезу')\n",
    "else:\n",
    "    print('Не получилось отвергнуть нулевую гипотезу')"
   ]
  },
  {
   "cell_type": "markdown",
   "id": "e5046cfd",
   "metadata": {},
   "source": [
    "Нулевую гипотезу отвергли, скорее всего пользователи с подпиской выгоднее, чем пользователи без подписки."
   ]
  },
  {
   "cell_type": "markdown",
   "id": "fd65ca1d",
   "metadata": {},
   "source": [
    "6.4 Представьте такую ситуацию: техническая команда сервиса обновила сервера, с которыми взаимодействует мобильное приложение. Она надеется, что из-за этого количество обращений в техподдержку значимо снизилось. Некоторый файл содержит для каждого пользователя данные о количестве обращений до обновления и после него. Какой тест вам понадобился бы для проверки этой гипотезы?"
   ]
  },
  {
   "cell_type": "markdown",
   "id": "2b4b366a",
   "metadata": {},
   "source": [
    "Сравнимые выборки являются зависимыми, у нас есть две переменные - количество обращений до обновления и после обновления.\n",
    "\n",
    "Нулевая гипотеза: Кол-во обращений = n-нное количество до обновления серверов, исходя из данных.\n",
    "Альтернативная гипотеза: Кол-во обращений до обновления > Кол-ва обращений после обновления.\n",
    "\n",
    "Чтобы проверить гипотезу о равенстве среднего генеральной совокупности для зависимых (парных) выборок в Python, применим метод scipy.stats.ttest_rel()."
   ]
  },
  {
   "cell_type": "markdown",
   "id": "cabf898f",
   "metadata": {},
   "source": [
    "#### Итоговый вывод:\n",
    "\n",
    "Загрузил данные, проанализировал их, проверил наличие пропусков, дубликатов и уникальных значений.\n",
    "Выполнил предобработку данных, удалил дубликаты.\n",
    "Округлил значения 'distance' до 2 знаков после запятой, 'duration' до целых чисел, изменил тип данных в 'date' на datetime64, добавил столбец month с номером месяца.\n",
    "\n",
    "Провел исследовательский анализ данных, применил построение диаграмм разного вида, встречаются аномальные значения, для устранения которых необходима дополнительная информация. В ходе исследовательского анализа выяснил: 1) чаще всего самокаты используют в Пятигорске, реже всего в Москве; 2) Соотношение пользователей с подпиской и без подписки - 45,6% и 54,4% соответственно, 3) Целевая аудитория пользователей сервиса сосредоточена в возрасте от 20 до 30 лет; 4) Чаще всего пользователи проезжают от 2500 до 4000 метров за одну поездку, пиковое значение находитсяпримерно на 3100 метров, второе пиковое значение находится на дистанции 700-800 метров, скорее всего это происходит из-за недостаточности заряда самоката или это просто пробная(тестовая) поездка или поезда до ближайшей станции метро или остановки общественного транспорта; 4) Чаще всего поездки длятся от 10 до 23-24 минут; 5) Пользователи с подпиской совершают больше поездок в диапазоне от 2500 до 3500 метров, диапозон дальности поездок у пользователей без подписки шире от 2000 до 4500 метров. Но мы можем видеть, что среди пользователей без подписки намного больше тех, кто совершает короткие поездки; 6) среди пользователей с подпиской нет тех, чье время проката сремится к 0, их продолжительность поездок чуть дольше, чем у пользователей без подписок.  \n",
    "\n",
    "Подсчитал выручку, годовая выручка сервиса, она составила 3878641 рубль.\n",
    "\n",
    "Проверил гипотезы и на их основании сделал выводы.\n",
    "\n",
    "Скорее всего пользователи с подпиской выгоднее, чем пользователи без подписки, для более точного понимания ситуации необходимо сравнить выручки по каждому типу пользователей, при этом их количество должно быть одинаковым для каждого типа. В дальнейшем можно будет принимать решение об увеличении стоимости подписки, если окажется, что пользователи без подписки выгоднее, или об увеличении стоимости минуты поездки для пользователей без подписки, если окажется, что пользователи с подписокй выгоднее для бизнеса.\n"
   ]
  }
 ],
 "metadata": {
  "ExecuteTimeLog": [
   {
    "duration": 448,
    "start_time": "2024-04-29T15:23:28.905Z"
   },
   {
    "duration": 66,
    "start_time": "2024-04-29T15:23:30.150Z"
   },
   {
    "duration": 64,
    "start_time": "2024-04-29T15:23:37.276Z"
   },
   {
    "duration": 66,
    "start_time": "2024-04-29T15:23:38.319Z"
   },
   {
    "duration": 11,
    "start_time": "2024-04-29T15:23:42.009Z"
   },
   {
    "duration": 75,
    "start_time": "2024-04-29T15:23:42.773Z"
   },
   {
    "duration": 8,
    "start_time": "2024-04-29T15:23:43.465Z"
   },
   {
    "duration": 99,
    "start_time": "2024-04-29T15:25:16.694Z"
   },
   {
    "duration": 14,
    "start_time": "2024-04-29T15:25:17.734Z"
   },
   {
    "duration": 166,
    "start_time": "2024-04-29T15:25:31.775Z"
   },
   {
    "duration": 6,
    "start_time": "2024-04-29T15:25:32.943Z"
   },
   {
    "duration": 76,
    "start_time": "2024-04-29T15:25:45.590Z"
   },
   {
    "duration": 7,
    "start_time": "2024-04-29T15:25:47.482Z"
   },
   {
    "duration": 27,
    "start_time": "2024-04-29T15:26:11.802Z"
   },
   {
    "duration": 8,
    "start_time": "2024-04-29T15:26:12.472Z"
   },
   {
    "duration": 38,
    "start_time": "2024-04-29T15:26:20.356Z"
   },
   {
    "duration": 10,
    "start_time": "2024-04-29T15:26:21.078Z"
   },
   {
    "duration": 25,
    "start_time": "2024-04-29T15:26:29.160Z"
   },
   {
    "duration": 7,
    "start_time": "2024-04-29T15:26:29.927Z"
   },
   {
    "duration": 13,
    "start_time": "2024-04-29T16:02:08.207Z"
   },
   {
    "duration": 10,
    "start_time": "2024-04-29T16:02:22.104Z"
   },
   {
    "duration": 6,
    "start_time": "2024-04-29T16:03:09.280Z"
   },
   {
    "duration": 9,
    "start_time": "2024-04-29T16:04:14.874Z"
   },
   {
    "duration": 62,
    "start_time": "2024-04-29T16:04:25.458Z"
   },
   {
    "duration": 9,
    "start_time": "2024-04-29T16:04:26.875Z"
   },
   {
    "duration": 17,
    "start_time": "2024-04-29T16:04:43.501Z"
   },
   {
    "duration": 5,
    "start_time": "2024-04-29T16:04:44.138Z"
   },
   {
    "duration": 11,
    "start_time": "2024-04-29T16:04:44.899Z"
   },
   {
    "duration": 13,
    "start_time": "2024-04-29T16:54:50.568Z"
   },
   {
    "duration": 11,
    "start_time": "2024-04-29T16:54:58.967Z"
   },
   {
    "duration": 11,
    "start_time": "2024-04-29T16:55:16.036Z"
   },
   {
    "duration": 573,
    "start_time": "2024-04-29T17:17:17.938Z"
   },
   {
    "duration": 218,
    "start_time": "2024-04-29T17:17:30.292Z"
   },
   {
    "duration": 153,
    "start_time": "2024-04-29T17:17:38.827Z"
   },
   {
    "duration": 131,
    "start_time": "2024-04-29T17:17:46.833Z"
   },
   {
    "duration": 164,
    "start_time": "2024-04-29T17:17:53.996Z"
   },
   {
    "duration": 134,
    "start_time": "2024-04-29T17:18:02.841Z"
   },
   {
    "duration": 161,
    "start_time": "2024-04-29T17:18:10.648Z"
   },
   {
    "duration": 171,
    "start_time": "2024-04-29T17:18:18.348Z"
   },
   {
    "duration": 128,
    "start_time": "2024-04-29T17:18:25.141Z"
   },
   {
    "duration": 151,
    "start_time": "2024-04-29T17:18:31.485Z"
   },
   {
    "duration": 156,
    "start_time": "2024-04-29T17:18:44.023Z"
   },
   {
    "duration": 144,
    "start_time": "2024-04-29T17:18:51.329Z"
   },
   {
    "duration": 220,
    "start_time": "2024-04-29T17:19:41.212Z"
   },
   {
    "duration": 22087,
    "start_time": "2024-04-29T17:21:35.196Z"
   },
   {
    "duration": 23754,
    "start_time": "2024-04-29T17:22:32.432Z"
   },
   {
    "duration": 16,
    "start_time": "2024-04-29T17:24:18.128Z"
   },
   {
    "duration": 8,
    "start_time": "2024-04-29T17:26:10.261Z"
   },
   {
    "duration": 4,
    "start_time": "2024-04-29T17:26:30.253Z"
   },
   {
    "duration": 5,
    "start_time": "2024-04-29T17:26:31.353Z"
   },
   {
    "duration": 1044,
    "start_time": "2024-04-29T17:26:51.768Z"
   },
   {
    "duration": 10,
    "start_time": "2024-04-29T17:27:16.042Z"
   },
   {
    "duration": 15,
    "start_time": "2024-04-29T17:28:57.712Z"
   },
   {
    "duration": 23,
    "start_time": "2024-04-29T17:29:13.667Z"
   },
   {
    "duration": 31,
    "start_time": "2024-04-29T17:29:29.582Z"
   },
   {
    "duration": 42,
    "start_time": "2024-04-29T17:29:55.866Z"
   },
   {
    "duration": 23768,
    "start_time": "2024-04-29T17:30:10.759Z"
   },
   {
    "duration": 9,
    "start_time": "2024-04-29T17:31:15.639Z"
   },
   {
    "duration": 131,
    "start_time": "2024-04-29T17:32:53.955Z"
   },
   {
    "duration": 234,
    "start_time": "2024-04-29T17:38:02.841Z"
   },
   {
    "duration": 227,
    "start_time": "2024-04-29T17:38:11.523Z"
   },
   {
    "duration": 109,
    "start_time": "2024-04-29T17:38:25.616Z"
   },
   {
    "duration": 123,
    "start_time": "2024-04-29T17:38:35.313Z"
   },
   {
    "duration": 124,
    "start_time": "2024-04-29T17:38:42.448Z"
   },
   {
    "duration": 130,
    "start_time": "2024-04-29T17:38:48.290Z"
   },
   {
    "duration": 7,
    "start_time": "2024-04-29T17:41:08.888Z"
   },
   {
    "duration": 71,
    "start_time": "2024-04-29T17:41:12.595Z"
   },
   {
    "duration": 7,
    "start_time": "2024-04-29T17:44:18.243Z"
   },
   {
    "duration": 5,
    "start_time": "2024-04-29T17:44:27.140Z"
   },
   {
    "duration": 6,
    "start_time": "2024-04-29T17:44:41.306Z"
   },
   {
    "duration": 6,
    "start_time": "2024-04-29T17:44:48.125Z"
   },
   {
    "duration": 6,
    "start_time": "2024-04-29T17:46:07.304Z"
   },
   {
    "duration": 7,
    "start_time": "2024-04-29T17:47:25.957Z"
   },
   {
    "duration": 3,
    "start_time": "2024-04-29T17:47:47.114Z"
   },
   {
    "duration": 46,
    "start_time": "2024-04-30T07:03:09.929Z"
   },
   {
    "duration": 397,
    "start_time": "2024-04-30T07:03:33.258Z"
   },
   {
    "duration": 73,
    "start_time": "2024-04-30T07:03:33.656Z"
   },
   {
    "duration": 13,
    "start_time": "2024-04-30T07:03:33.731Z"
   },
   {
    "duration": 95,
    "start_time": "2024-04-30T07:03:33.745Z"
   },
   {
    "duration": 9,
    "start_time": "2024-04-30T07:03:33.841Z"
   },
   {
    "duration": 71,
    "start_time": "2024-04-30T07:03:33.851Z"
   },
   {
    "duration": 7,
    "start_time": "2024-04-30T07:03:33.924Z"
   },
   {
    "duration": 32,
    "start_time": "2024-04-30T07:03:33.933Z"
   },
   {
    "duration": 14,
    "start_time": "2024-04-30T07:03:33.967Z"
   },
   {
    "duration": 30,
    "start_time": "2024-04-30T07:03:33.983Z"
   },
   {
    "duration": 20,
    "start_time": "2024-04-30T07:03:34.015Z"
   },
   {
    "duration": 20,
    "start_time": "2024-04-30T07:03:34.037Z"
   },
   {
    "duration": 27,
    "start_time": "2024-04-30T07:03:34.059Z"
   },
   {
    "duration": 18,
    "start_time": "2024-04-30T07:03:34.087Z"
   },
   {
    "duration": 22,
    "start_time": "2024-04-30T07:03:34.106Z"
   },
   {
    "duration": 505,
    "start_time": "2024-04-30T07:03:34.129Z"
   },
   {
    "duration": 12,
    "start_time": "2024-04-30T07:03:34.635Z"
   },
   {
    "duration": 113,
    "start_time": "2024-04-30T07:03:34.648Z"
   },
   {
    "duration": 3,
    "start_time": "2024-04-30T07:03:34.762Z"
   },
   {
    "duration": 30,
    "start_time": "2024-04-30T07:03:34.767Z"
   },
   {
    "duration": 101,
    "start_time": "2024-04-30T07:03:34.799Z"
   },
   {
    "duration": 0,
    "start_time": "2024-04-30T07:03:34.902Z"
   },
   {
    "duration": 0,
    "start_time": "2024-04-30T07:03:34.903Z"
   },
   {
    "duration": 0,
    "start_time": "2024-04-30T07:03:34.904Z"
   },
   {
    "duration": 0,
    "start_time": "2024-04-30T07:03:34.906Z"
   },
   {
    "duration": 13,
    "start_time": "2024-04-30T07:06:15.579Z"
   },
   {
    "duration": 11,
    "start_time": "2024-04-30T07:06:39.524Z"
   },
   {
    "duration": 9,
    "start_time": "2024-04-30T07:06:59.600Z"
   },
   {
    "duration": 6,
    "start_time": "2024-04-30T07:08:36.841Z"
   },
   {
    "duration": 97,
    "start_time": "2024-04-30T07:08:38.921Z"
   },
   {
    "duration": 3,
    "start_time": "2024-04-30T07:08:40.148Z"
   },
   {
    "duration": 117,
    "start_time": "2024-04-30T07:09:09.578Z"
   },
   {
    "duration": 153,
    "start_time": "2024-04-30T07:09:18.799Z"
   },
   {
    "duration": 107,
    "start_time": "2024-04-30T07:09:23.879Z"
   },
   {
    "duration": 133,
    "start_time": "2024-04-30T07:09:32.684Z"
   },
   {
    "duration": 135,
    "start_time": "2024-04-30T07:09:40.798Z"
   },
   {
    "duration": 164,
    "start_time": "2024-04-30T07:10:00.623Z"
   },
   {
    "duration": 160,
    "start_time": "2024-04-30T07:10:18.458Z"
   },
   {
    "duration": 165,
    "start_time": "2024-04-30T07:10:27.261Z"
   },
   {
    "duration": 220,
    "start_time": "2024-04-30T07:10:34.931Z"
   },
   {
    "duration": 199,
    "start_time": "2024-04-30T07:10:44.146Z"
   },
   {
    "duration": 225,
    "start_time": "2024-04-30T07:10:50.165Z"
   },
   {
    "duration": 150,
    "start_time": "2024-04-30T07:10:55.889Z"
   },
   {
    "duration": 16,
    "start_time": "2024-04-30T07:13:03.024Z"
   },
   {
    "duration": 8,
    "start_time": "2024-04-30T07:13:43.354Z"
   },
   {
    "duration": 8,
    "start_time": "2024-04-30T07:16:14.428Z"
   },
   {
    "duration": 11,
    "start_time": "2024-04-30T07:17:55.637Z"
   },
   {
    "duration": 751,
    "start_time": "2024-04-30T07:18:58.613Z"
   },
   {
    "duration": 6,
    "start_time": "2024-04-30T07:19:17.229Z"
   },
   {
    "duration": 7,
    "start_time": "2024-04-30T07:19:29.158Z"
   },
   {
    "duration": 5,
    "start_time": "2024-04-30T07:19:30.083Z"
   },
   {
    "duration": 381,
    "start_time": "2024-04-30T07:19:37.456Z"
   },
   {
    "duration": 29,
    "start_time": "2024-04-30T07:19:37.839Z"
   },
   {
    "duration": 13,
    "start_time": "2024-04-30T07:19:37.869Z"
   },
   {
    "duration": 27,
    "start_time": "2024-04-30T07:19:37.883Z"
   },
   {
    "duration": 7,
    "start_time": "2024-04-30T07:19:37.912Z"
   },
   {
    "duration": 40,
    "start_time": "2024-04-30T07:19:37.920Z"
   },
   {
    "duration": 7,
    "start_time": "2024-04-30T07:19:37.961Z"
   },
   {
    "duration": 18,
    "start_time": "2024-04-30T07:19:37.970Z"
   },
   {
    "duration": 4,
    "start_time": "2024-04-30T07:19:37.990Z"
   },
   {
    "duration": 12,
    "start_time": "2024-04-30T07:19:37.996Z"
   },
   {
    "duration": 17,
    "start_time": "2024-04-30T07:19:38.009Z"
   },
   {
    "duration": 25,
    "start_time": "2024-04-30T07:19:38.027Z"
   },
   {
    "duration": 9,
    "start_time": "2024-04-30T07:19:38.054Z"
   },
   {
    "duration": 3,
    "start_time": "2024-04-30T07:19:38.066Z"
   },
   {
    "duration": 19,
    "start_time": "2024-04-30T07:19:38.071Z"
   },
   {
    "duration": 338,
    "start_time": "2024-04-30T07:19:38.091Z"
   },
   {
    "duration": 14,
    "start_time": "2024-04-30T07:19:38.431Z"
   },
   {
    "duration": 107,
    "start_time": "2024-04-30T07:19:38.446Z"
   },
   {
    "duration": 3,
    "start_time": "2024-04-30T07:19:38.554Z"
   },
   {
    "duration": 14,
    "start_time": "2024-04-30T07:19:38.558Z"
   },
   {
    "duration": 174,
    "start_time": "2024-04-30T07:19:38.573Z"
   },
   {
    "duration": 9,
    "start_time": "2024-04-30T07:19:38.748Z"
   },
   {
    "duration": 5,
    "start_time": "2024-04-30T07:19:38.758Z"
   },
   {
    "duration": 12,
    "start_time": "2024-04-30T07:19:38.764Z"
   },
   {
    "duration": 88,
    "start_time": "2024-04-30T07:19:38.778Z"
   },
   {
    "duration": 0,
    "start_time": "2024-04-30T07:19:38.867Z"
   },
   {
    "duration": 0,
    "start_time": "2024-04-30T07:19:38.869Z"
   },
   {
    "duration": 7,
    "start_time": "2024-04-30T07:20:57.164Z"
   },
   {
    "duration": 3,
    "start_time": "2024-04-30T07:21:31.698Z"
   },
   {
    "duration": 5,
    "start_time": "2024-04-30T07:21:53.711Z"
   },
   {
    "duration": 48,
    "start_time": "2024-04-30T07:22:14.816Z"
   },
   {
    "duration": 4,
    "start_time": "2024-04-30T07:22:20.593Z"
   },
   {
    "duration": 5,
    "start_time": "2024-04-30T07:23:24.811Z"
   },
   {
    "duration": 10,
    "start_time": "2024-04-30T07:24:16.314Z"
   },
   {
    "duration": 49,
    "start_time": "2024-04-30T07:24:32.701Z"
   },
   {
    "duration": 8,
    "start_time": "2024-04-30T07:25:48.706Z"
   },
   {
    "duration": 6,
    "start_time": "2024-04-30T07:26:13.277Z"
   },
   {
    "duration": 12,
    "start_time": "2024-04-30T07:26:40.535Z"
   },
   {
    "duration": 5,
    "start_time": "2024-04-30T07:26:47.029Z"
   },
   {
    "duration": 7,
    "start_time": "2024-04-30T07:28:47.058Z"
   },
   {
    "duration": 5,
    "start_time": "2024-04-30T07:29:00.019Z"
   },
   {
    "duration": 636,
    "start_time": "2024-04-30T07:29:55.944Z"
   },
   {
    "duration": 6,
    "start_time": "2024-04-30T07:30:15.451Z"
   },
   {
    "duration": 4,
    "start_time": "2024-04-30T07:30:30.319Z"
   },
   {
    "duration": 675,
    "start_time": "2024-04-30T07:33:41.563Z"
   },
   {
    "duration": 656,
    "start_time": "2024-04-30T07:34:52.501Z"
   },
   {
    "duration": 203,
    "start_time": "2024-04-30T07:36:51.468Z"
   },
   {
    "duration": 196,
    "start_time": "2024-04-30T07:37:03.918Z"
   },
   {
    "duration": 175,
    "start_time": "2024-04-30T07:37:12.387Z"
   },
   {
    "duration": 182,
    "start_time": "2024-04-30T07:37:18.864Z"
   },
   {
    "duration": 167,
    "start_time": "2024-04-30T07:37:26.659Z"
   },
   {
    "duration": 165,
    "start_time": "2024-04-30T07:37:33.982Z"
   },
   {
    "duration": 4,
    "start_time": "2024-04-30T07:39:39.738Z"
   },
   {
    "duration": 4,
    "start_time": "2024-04-30T07:39:46.566Z"
   },
   {
    "duration": 4,
    "start_time": "2024-04-30T07:40:23.583Z"
   },
   {
    "duration": 365,
    "start_time": "2024-04-30T07:40:36.062Z"
   },
   {
    "duration": 29,
    "start_time": "2024-04-30T07:40:36.428Z"
   },
   {
    "duration": 13,
    "start_time": "2024-04-30T07:40:36.458Z"
   },
   {
    "duration": 38,
    "start_time": "2024-04-30T07:40:36.472Z"
   },
   {
    "duration": 10,
    "start_time": "2024-04-30T07:40:36.513Z"
   },
   {
    "duration": 19,
    "start_time": "2024-04-30T07:40:36.524Z"
   },
   {
    "duration": 6,
    "start_time": "2024-04-30T07:40:36.544Z"
   },
   {
    "duration": 8,
    "start_time": "2024-04-30T07:40:36.551Z"
   },
   {
    "duration": 6,
    "start_time": "2024-04-30T07:40:36.561Z"
   },
   {
    "duration": 12,
    "start_time": "2024-04-30T07:40:36.568Z"
   },
   {
    "duration": 12,
    "start_time": "2024-04-30T07:40:36.582Z"
   },
   {
    "duration": 19,
    "start_time": "2024-04-30T07:40:36.595Z"
   },
   {
    "duration": 31,
    "start_time": "2024-04-30T07:40:36.615Z"
   },
   {
    "duration": 3,
    "start_time": "2024-04-30T07:40:36.650Z"
   },
   {
    "duration": 10,
    "start_time": "2024-04-30T07:40:36.655Z"
   },
   {
    "duration": 355,
    "start_time": "2024-04-30T07:40:36.666Z"
   },
   {
    "duration": 6,
    "start_time": "2024-04-30T07:40:37.022Z"
   },
   {
    "duration": 108,
    "start_time": "2024-04-30T07:40:37.030Z"
   },
   {
    "duration": 3,
    "start_time": "2024-04-30T07:40:37.145Z"
   },
   {
    "duration": 198,
    "start_time": "2024-04-30T07:40:37.149Z"
   },
   {
    "duration": 7,
    "start_time": "2024-04-30T07:40:37.349Z"
   },
   {
    "duration": 10,
    "start_time": "2024-04-30T07:40:37.358Z"
   },
   {
    "duration": 5,
    "start_time": "2024-04-30T07:40:37.369Z"
   },
   {
    "duration": 75,
    "start_time": "2024-04-30T07:40:37.375Z"
   },
   {
    "duration": 0,
    "start_time": "2024-04-30T07:40:37.451Z"
   },
   {
    "duration": 0,
    "start_time": "2024-04-30T07:40:37.453Z"
   },
   {
    "duration": 0,
    "start_time": "2024-04-30T07:40:37.454Z"
   },
   {
    "duration": 4,
    "start_time": "2024-04-30T07:41:02.877Z"
   },
   {
    "duration": 6,
    "start_time": "2024-04-30T07:41:08.573Z"
   },
   {
    "duration": 174,
    "start_time": "2024-04-30T07:41:09.404Z"
   },
   {
    "duration": 12,
    "start_time": "2024-04-30T07:41:18.959Z"
   },
   {
    "duration": 7,
    "start_time": "2024-04-30T07:41:26.250Z"
   },
   {
    "duration": 226,
    "start_time": "2024-04-30T07:41:26.940Z"
   },
   {
    "duration": 365,
    "start_time": "2024-04-30T07:41:38.976Z"
   },
   {
    "duration": 28,
    "start_time": "2024-04-30T07:41:39.342Z"
   },
   {
    "duration": 13,
    "start_time": "2024-04-30T07:41:39.371Z"
   },
   {
    "duration": 26,
    "start_time": "2024-04-30T07:41:39.385Z"
   },
   {
    "duration": 7,
    "start_time": "2024-04-30T07:41:39.413Z"
   },
   {
    "duration": 16,
    "start_time": "2024-04-30T07:41:39.422Z"
   },
   {
    "duration": 6,
    "start_time": "2024-04-30T07:41:39.439Z"
   },
   {
    "duration": 8,
    "start_time": "2024-04-30T07:41:39.447Z"
   },
   {
    "duration": 28,
    "start_time": "2024-04-30T07:41:39.456Z"
   },
   {
    "duration": 22,
    "start_time": "2024-04-30T07:41:39.485Z"
   },
   {
    "duration": 21,
    "start_time": "2024-04-30T07:41:39.508Z"
   },
   {
    "duration": 13,
    "start_time": "2024-04-30T07:41:39.531Z"
   },
   {
    "duration": 14,
    "start_time": "2024-04-30T07:41:39.546Z"
   },
   {
    "duration": 8,
    "start_time": "2024-04-30T07:41:39.563Z"
   },
   {
    "duration": 6,
    "start_time": "2024-04-30T07:41:39.573Z"
   },
   {
    "duration": 725,
    "start_time": "2024-04-30T07:41:39.580Z"
   },
   {
    "duration": 6,
    "start_time": "2024-04-30T07:41:40.306Z"
   },
   {
    "duration": 112,
    "start_time": "2024-04-30T07:41:40.314Z"
   },
   {
    "duration": 3,
    "start_time": "2024-04-30T07:41:40.428Z"
   },
   {
    "duration": 174,
    "start_time": "2024-04-30T07:41:40.432Z"
   },
   {
    "duration": 8,
    "start_time": "2024-04-30T07:41:40.608Z"
   },
   {
    "duration": 16,
    "start_time": "2024-04-30T07:41:40.617Z"
   },
   {
    "duration": 22,
    "start_time": "2024-04-30T07:41:40.634Z"
   },
   {
    "duration": 67,
    "start_time": "2024-04-30T07:41:40.658Z"
   },
   {
    "duration": 1,
    "start_time": "2024-04-30T07:41:40.726Z"
   },
   {
    "duration": 0,
    "start_time": "2024-04-30T07:41:40.728Z"
   },
   {
    "duration": 0,
    "start_time": "2024-04-30T07:41:40.729Z"
   },
   {
    "duration": 170,
    "start_time": "2024-04-30T07:41:47.485Z"
   },
   {
    "duration": 251,
    "start_time": "2024-04-30T07:42:04.458Z"
   },
   {
    "duration": 324,
    "start_time": "2024-04-30T07:42:26.283Z"
   },
   {
    "duration": 4,
    "start_time": "2024-04-30T07:42:58.088Z"
   },
   {
    "duration": 4,
    "start_time": "2024-04-30T07:44:12.142Z"
   },
   {
    "duration": 326,
    "start_time": "2024-04-30T07:51:02.959Z"
   },
   {
    "duration": 313,
    "start_time": "2024-04-30T07:51:12.156Z"
   },
   {
    "duration": 389,
    "start_time": "2024-04-30T07:51:19.497Z"
   },
   {
    "duration": 220,
    "start_time": "2024-04-30T07:51:41.393Z"
   },
   {
    "duration": 9,
    "start_time": "2024-04-30T07:59:02.204Z"
   },
   {
    "duration": 4,
    "start_time": "2024-04-30T07:59:23.225Z"
   },
   {
    "duration": 5,
    "start_time": "2024-04-30T08:00:04.421Z"
   },
   {
    "duration": 4,
    "start_time": "2024-04-30T08:00:44.962Z"
   },
   {
    "duration": 7,
    "start_time": "2024-04-30T08:00:56.182Z"
   },
   {
    "duration": 4,
    "start_time": "2024-04-30T08:01:01.198Z"
   },
   {
    "duration": 7,
    "start_time": "2024-04-30T08:01:49.533Z"
   },
   {
    "duration": 4,
    "start_time": "2024-04-30T08:02:02.551Z"
   },
   {
    "duration": 7,
    "start_time": "2024-04-30T08:02:26.995Z"
   },
   {
    "duration": 4,
    "start_time": "2024-04-30T08:04:13.316Z"
   },
   {
    "duration": 3,
    "start_time": "2024-04-30T08:04:32.713Z"
   },
   {
    "duration": 2,
    "start_time": "2024-04-30T08:04:38.080Z"
   },
   {
    "duration": 12,
    "start_time": "2024-04-30T08:04:57.547Z"
   },
   {
    "duration": 3,
    "start_time": "2024-04-30T08:06:33.683Z"
   },
   {
    "duration": 6,
    "start_time": "2024-04-30T08:19:29.007Z"
   },
   {
    "duration": 4,
    "start_time": "2024-04-30T08:20:01.605Z"
   },
   {
    "duration": 3,
    "start_time": "2024-04-30T08:22:04.100Z"
   },
   {
    "duration": 4,
    "start_time": "2024-04-30T08:24:11.040Z"
   },
   {
    "duration": 5,
    "start_time": "2024-04-30T08:26:00.294Z"
   },
   {
    "duration": 9,
    "start_time": "2024-04-30T08:27:42.737Z"
   },
   {
    "duration": 6,
    "start_time": "2024-04-30T08:29:13.003Z"
   },
   {
    "duration": 46,
    "start_time": "2024-04-30T08:32:17.445Z"
   },
   {
    "duration": 4,
    "start_time": "2024-04-30T08:33:49.245Z"
   },
   {
    "duration": 4,
    "start_time": "2024-04-30T08:34:22.949Z"
   },
   {
    "duration": 8,
    "start_time": "2024-04-30T10:27:50.709Z"
   },
   {
    "duration": 4,
    "start_time": "2024-04-30T10:30:43.933Z"
   },
   {
    "duration": 4,
    "start_time": "2024-04-30T10:31:25.752Z"
   },
   {
    "duration": 4,
    "start_time": "2024-04-30T10:33:27.002Z"
   },
   {
    "duration": 15,
    "start_time": "2024-04-30T10:44:35.583Z"
   },
   {
    "duration": 18,
    "start_time": "2024-04-30T10:44:45.392Z"
   },
   {
    "duration": 20,
    "start_time": "2024-04-30T10:45:13.057Z"
   },
   {
    "duration": 776,
    "start_time": "2024-04-30T10:47:39.555Z"
   },
   {
    "duration": 652,
    "start_time": "2024-04-30T10:48:43.904Z"
   },
   {
    "duration": 640,
    "start_time": "2024-04-30T10:50:49.558Z"
   },
   {
    "duration": 20,
    "start_time": "2024-04-30T10:52:10.855Z"
   },
   {
    "duration": 785,
    "start_time": "2024-04-30T10:57:02.300Z"
   },
   {
    "duration": 12,
    "start_time": "2024-04-30T10:58:52.106Z"
   },
   {
    "duration": 11,
    "start_time": "2024-04-30T10:59:53.013Z"
   },
   {
    "duration": 16,
    "start_time": "2024-04-30T11:01:57.109Z"
   },
   {
    "duration": 13,
    "start_time": "2024-04-30T11:02:02.459Z"
   },
   {
    "duration": 11,
    "start_time": "2024-04-30T11:02:11.831Z"
   },
   {
    "duration": 11,
    "start_time": "2024-04-30T11:02:18.017Z"
   },
   {
    "duration": 12,
    "start_time": "2024-04-30T11:02:24.571Z"
   },
   {
    "duration": 11,
    "start_time": "2024-04-30T11:02:36.097Z"
   },
   {
    "duration": 18,
    "start_time": "2024-04-30T11:02:42.279Z"
   },
   {
    "duration": 218,
    "start_time": "2024-04-30T11:06:53.764Z"
   },
   {
    "duration": 592,
    "start_time": "2024-04-30T11:07:22.483Z"
   },
   {
    "duration": 340,
    "start_time": "2024-04-30T11:07:57.607Z"
   },
   {
    "duration": 520,
    "start_time": "2024-04-30T11:11:23.356Z"
   },
   {
    "duration": 497,
    "start_time": "2024-04-30T11:12:12.963Z"
   },
   {
    "duration": 43,
    "start_time": "2024-04-30T11:12:47.229Z"
   },
   {
    "duration": 213,
    "start_time": "2024-04-30T11:12:52.306Z"
   },
   {
    "duration": 212,
    "start_time": "2024-04-30T11:13:16.144Z"
   },
   {
    "duration": 361,
    "start_time": "2024-04-30T11:13:39.176Z"
   },
   {
    "duration": 420,
    "start_time": "2024-04-30T11:14:03.634Z"
   },
   {
    "duration": 332,
    "start_time": "2024-04-30T11:14:36.503Z"
   },
   {
    "duration": 217,
    "start_time": "2024-04-30T11:15:33.005Z"
   },
   {
    "duration": 200,
    "start_time": "2024-04-30T11:16:01.009Z"
   },
   {
    "duration": 601,
    "start_time": "2024-04-30T11:17:49.919Z"
   },
   {
    "duration": 851,
    "start_time": "2024-04-30T11:18:36.936Z"
   },
   {
    "duration": 716,
    "start_time": "2024-04-30T11:19:08.170Z"
   },
   {
    "duration": 1213,
    "start_time": "2024-04-30T11:19:59.402Z"
   },
   {
    "duration": 1157,
    "start_time": "2024-04-30T11:22:56.795Z"
   },
   {
    "duration": 1151,
    "start_time": "2024-04-30T11:23:23.343Z"
   },
   {
    "duration": 1012,
    "start_time": "2024-04-30T11:24:15.762Z"
   },
   {
    "duration": 1172,
    "start_time": "2024-04-30T11:24:47.511Z"
   },
   {
    "duration": 1117,
    "start_time": "2024-04-30T11:25:25.943Z"
   },
   {
    "duration": 1067,
    "start_time": "2024-04-30T11:36:50.990Z"
   },
   {
    "duration": 952,
    "start_time": "2024-04-30T11:37:15.094Z"
   },
   {
    "duration": 1001,
    "start_time": "2024-04-30T11:37:26.622Z"
   },
   {
    "duration": 355,
    "start_time": "2024-04-30T12:43:49.590Z"
   },
   {
    "duration": 28,
    "start_time": "2024-04-30T12:43:49.946Z"
   },
   {
    "duration": 13,
    "start_time": "2024-04-30T12:43:49.976Z"
   },
   {
    "duration": 28,
    "start_time": "2024-04-30T12:43:49.990Z"
   },
   {
    "duration": 8,
    "start_time": "2024-04-30T12:43:50.020Z"
   },
   {
    "duration": 19,
    "start_time": "2024-04-30T12:43:50.029Z"
   },
   {
    "duration": 7,
    "start_time": "2024-04-30T12:43:50.049Z"
   },
   {
    "duration": 10,
    "start_time": "2024-04-30T12:43:50.057Z"
   },
   {
    "duration": 10,
    "start_time": "2024-04-30T12:43:50.068Z"
   },
   {
    "duration": 7,
    "start_time": "2024-04-30T12:43:50.080Z"
   },
   {
    "duration": 12,
    "start_time": "2024-04-30T12:43:50.089Z"
   },
   {
    "duration": 8,
    "start_time": "2024-04-30T12:43:50.102Z"
   },
   {
    "duration": 9,
    "start_time": "2024-04-30T12:43:50.111Z"
   },
   {
    "duration": 5,
    "start_time": "2024-04-30T12:43:50.144Z"
   },
   {
    "duration": 5,
    "start_time": "2024-04-30T12:43:50.150Z"
   },
   {
    "duration": 38,
    "start_time": "2024-04-30T12:43:50.156Z"
   },
   {
    "duration": 30,
    "start_time": "2024-04-30T12:43:50.196Z"
   },
   {
    "duration": 76,
    "start_time": "2024-04-30T12:43:50.228Z"
   },
   {
    "duration": 1,
    "start_time": "2024-04-30T12:43:50.305Z"
   },
   {
    "duration": 0,
    "start_time": "2024-04-30T12:43:50.307Z"
   },
   {
    "duration": 0,
    "start_time": "2024-04-30T12:43:50.308Z"
   },
   {
    "duration": 0,
    "start_time": "2024-04-30T12:43:50.309Z"
   },
   {
    "duration": 0,
    "start_time": "2024-04-30T12:43:50.310Z"
   },
   {
    "duration": 0,
    "start_time": "2024-04-30T12:43:50.310Z"
   },
   {
    "duration": 0,
    "start_time": "2024-04-30T12:43:50.311Z"
   },
   {
    "duration": 0,
    "start_time": "2024-04-30T12:43:50.312Z"
   },
   {
    "duration": 0,
    "start_time": "2024-04-30T12:43:50.313Z"
   },
   {
    "duration": 0,
    "start_time": "2024-04-30T12:43:50.314Z"
   },
   {
    "duration": 0,
    "start_time": "2024-04-30T12:43:50.315Z"
   },
   {
    "duration": 0,
    "start_time": "2024-04-30T12:43:50.315Z"
   },
   {
    "duration": 0,
    "start_time": "2024-04-30T12:43:50.316Z"
   },
   {
    "duration": 0,
    "start_time": "2024-04-30T12:43:50.317Z"
   },
   {
    "duration": 0,
    "start_time": "2024-04-30T12:43:50.318Z"
   },
   {
    "duration": 0,
    "start_time": "2024-04-30T12:43:50.319Z"
   },
   {
    "duration": 0,
    "start_time": "2024-04-30T12:43:50.345Z"
   },
   {
    "duration": 0,
    "start_time": "2024-04-30T12:43:50.346Z"
   },
   {
    "duration": 0,
    "start_time": "2024-04-30T12:43:50.347Z"
   },
   {
    "duration": 0,
    "start_time": "2024-04-30T12:43:50.348Z"
   },
   {
    "duration": 0,
    "start_time": "2024-04-30T12:43:50.349Z"
   },
   {
    "duration": 0,
    "start_time": "2024-04-30T12:43:50.350Z"
   },
   {
    "duration": 0,
    "start_time": "2024-04-30T12:43:50.351Z"
   },
   {
    "duration": 7,
    "start_time": "2024-04-30T12:44:41.613Z"
   },
   {
    "duration": 397,
    "start_time": "2024-04-30T12:45:23.237Z"
   },
   {
    "duration": 28,
    "start_time": "2024-04-30T12:45:23.636Z"
   },
   {
    "duration": 14,
    "start_time": "2024-04-30T12:45:23.665Z"
   },
   {
    "duration": 27,
    "start_time": "2024-04-30T12:45:23.681Z"
   },
   {
    "duration": 7,
    "start_time": "2024-04-30T12:45:23.710Z"
   },
   {
    "duration": 22,
    "start_time": "2024-04-30T12:45:23.719Z"
   },
   {
    "duration": 6,
    "start_time": "2024-04-30T12:45:23.742Z"
   },
   {
    "duration": 8,
    "start_time": "2024-04-30T12:45:23.750Z"
   },
   {
    "duration": 5,
    "start_time": "2024-04-30T12:45:23.759Z"
   },
   {
    "duration": 8,
    "start_time": "2024-04-30T12:45:23.765Z"
   },
   {
    "duration": 11,
    "start_time": "2024-04-30T12:45:23.775Z"
   },
   {
    "duration": 10,
    "start_time": "2024-04-30T12:45:23.787Z"
   },
   {
    "duration": 10,
    "start_time": "2024-04-30T12:45:23.798Z"
   },
   {
    "duration": 5,
    "start_time": "2024-04-30T12:45:23.844Z"
   },
   {
    "duration": 7,
    "start_time": "2024-04-30T12:45:23.850Z"
   },
   {
    "duration": 12,
    "start_time": "2024-04-30T12:45:23.858Z"
   },
   {
    "duration": 3,
    "start_time": "2024-04-30T12:45:23.871Z"
   },
   {
    "duration": 4,
    "start_time": "2024-04-30T12:45:23.875Z"
   },
   {
    "duration": 3,
    "start_time": "2024-04-30T12:45:23.880Z"
   },
   {
    "duration": 5,
    "start_time": "2024-04-30T12:45:23.884Z"
   },
   {
    "duration": 359,
    "start_time": "2024-04-30T12:45:23.890Z"
   },
   {
    "duration": 6,
    "start_time": "2024-04-30T12:45:24.250Z"
   },
   {
    "duration": 112,
    "start_time": "2024-04-30T12:45:24.257Z"
   },
   {
    "duration": 3,
    "start_time": "2024-04-30T12:45:24.370Z"
   },
   {
    "duration": 178,
    "start_time": "2024-04-30T12:45:24.374Z"
   },
   {
    "duration": 8,
    "start_time": "2024-04-30T12:45:24.553Z"
   },
   {
    "duration": 4,
    "start_time": "2024-04-30T12:45:24.562Z"
   },
   {
    "duration": 384,
    "start_time": "2024-04-30T12:45:24.567Z"
   },
   {
    "duration": 4,
    "start_time": "2024-04-30T12:45:24.952Z"
   },
   {
    "duration": 14,
    "start_time": "2024-04-30T12:45:24.957Z"
   },
   {
    "duration": 78,
    "start_time": "2024-04-30T12:45:24.972Z"
   },
   {
    "duration": 0,
    "start_time": "2024-04-30T12:45:25.051Z"
   },
   {
    "duration": 0,
    "start_time": "2024-04-30T12:45:25.052Z"
   },
   {
    "duration": 0,
    "start_time": "2024-04-30T12:45:25.054Z"
   },
   {
    "duration": 0,
    "start_time": "2024-04-30T12:45:25.054Z"
   },
   {
    "duration": 0,
    "start_time": "2024-04-30T12:45:25.055Z"
   },
   {
    "duration": 0,
    "start_time": "2024-04-30T12:45:25.056Z"
   },
   {
    "duration": 0,
    "start_time": "2024-04-30T12:45:25.057Z"
   },
   {
    "duration": 0,
    "start_time": "2024-04-30T12:45:25.058Z"
   },
   {
    "duration": 0,
    "start_time": "2024-04-30T12:45:25.059Z"
   },
   {
    "duration": 405,
    "start_time": "2024-04-30T12:46:04.151Z"
   },
   {
    "duration": 28,
    "start_time": "2024-04-30T12:46:04.559Z"
   },
   {
    "duration": 13,
    "start_time": "2024-04-30T12:46:04.589Z"
   },
   {
    "duration": 25,
    "start_time": "2024-04-30T12:46:04.603Z"
   },
   {
    "duration": 7,
    "start_time": "2024-04-30T12:46:04.630Z"
   },
   {
    "duration": 19,
    "start_time": "2024-04-30T12:46:04.638Z"
   },
   {
    "duration": 6,
    "start_time": "2024-04-30T12:46:04.659Z"
   },
   {
    "duration": 13,
    "start_time": "2024-04-30T12:46:04.667Z"
   },
   {
    "duration": 5,
    "start_time": "2024-04-30T12:46:04.681Z"
   },
   {
    "duration": 8,
    "start_time": "2024-04-30T12:46:04.688Z"
   },
   {
    "duration": 11,
    "start_time": "2024-04-30T12:46:04.697Z"
   },
   {
    "duration": 10,
    "start_time": "2024-04-30T12:46:04.709Z"
   },
   {
    "duration": 8,
    "start_time": "2024-04-30T12:46:04.721Z"
   },
   {
    "duration": 5,
    "start_time": "2024-04-30T12:46:04.759Z"
   },
   {
    "duration": 7,
    "start_time": "2024-04-30T12:46:04.766Z"
   },
   {
    "duration": 4,
    "start_time": "2024-04-30T12:46:04.774Z"
   },
   {
    "duration": 4,
    "start_time": "2024-04-30T12:46:04.779Z"
   },
   {
    "duration": 4,
    "start_time": "2024-04-30T12:46:04.784Z"
   },
   {
    "duration": 3,
    "start_time": "2024-04-30T12:46:04.790Z"
   },
   {
    "duration": 7,
    "start_time": "2024-04-30T12:46:04.794Z"
   },
   {
    "duration": 396,
    "start_time": "2024-04-30T12:46:04.802Z"
   },
   {
    "duration": 6,
    "start_time": "2024-04-30T12:46:05.200Z"
   },
   {
    "duration": 117,
    "start_time": "2024-04-30T12:46:05.208Z"
   },
   {
    "duration": 3,
    "start_time": "2024-04-30T12:46:05.326Z"
   },
   {
    "duration": 198,
    "start_time": "2024-04-30T12:46:05.330Z"
   },
   {
    "duration": 8,
    "start_time": "2024-04-30T12:46:05.529Z"
   },
   {
    "duration": 36,
    "start_time": "2024-04-30T12:46:05.538Z"
   },
   {
    "duration": 407,
    "start_time": "2024-04-30T12:46:05.575Z"
   },
   {
    "duration": 4,
    "start_time": "2024-04-30T12:46:05.983Z"
   },
   {
    "duration": 22,
    "start_time": "2024-04-30T12:46:05.988Z"
   },
   {
    "duration": 228,
    "start_time": "2024-04-30T12:46:06.011Z"
   },
   {
    "duration": 80,
    "start_time": "2024-04-30T12:46:06.241Z"
   },
   {
    "duration": 0,
    "start_time": "2024-04-30T12:46:06.322Z"
   },
   {
    "duration": 0,
    "start_time": "2024-04-30T12:46:06.324Z"
   },
   {
    "duration": 0,
    "start_time": "2024-04-30T12:46:06.325Z"
   },
   {
    "duration": 0,
    "start_time": "2024-04-30T12:46:06.326Z"
   },
   {
    "duration": 0,
    "start_time": "2024-04-30T12:46:06.326Z"
   },
   {
    "duration": 0,
    "start_time": "2024-04-30T12:46:06.328Z"
   },
   {
    "duration": 0,
    "start_time": "2024-04-30T12:46:06.328Z"
   },
   {
    "duration": 19,
    "start_time": "2024-04-30T12:46:34.278Z"
   },
   {
    "duration": 11,
    "start_time": "2024-04-30T12:46:36.363Z"
   },
   {
    "duration": 404,
    "start_time": "2024-04-30T12:46:43.759Z"
   },
   {
    "duration": 29,
    "start_time": "2024-04-30T12:46:44.164Z"
   },
   {
    "duration": 14,
    "start_time": "2024-04-30T12:46:44.194Z"
   },
   {
    "duration": 28,
    "start_time": "2024-04-30T12:46:44.209Z"
   },
   {
    "duration": 8,
    "start_time": "2024-04-30T12:46:44.239Z"
   },
   {
    "duration": 19,
    "start_time": "2024-04-30T12:46:44.248Z"
   },
   {
    "duration": 7,
    "start_time": "2024-04-30T12:46:44.268Z"
   },
   {
    "duration": 14,
    "start_time": "2024-04-30T12:46:44.276Z"
   },
   {
    "duration": 13,
    "start_time": "2024-04-30T12:46:44.291Z"
   },
   {
    "duration": 11,
    "start_time": "2024-04-30T12:46:44.306Z"
   },
   {
    "duration": 19,
    "start_time": "2024-04-30T12:46:44.318Z"
   },
   {
    "duration": 17,
    "start_time": "2024-04-30T12:46:44.339Z"
   },
   {
    "duration": 16,
    "start_time": "2024-04-30T12:46:44.357Z"
   },
   {
    "duration": 5,
    "start_time": "2024-04-30T12:46:44.376Z"
   },
   {
    "duration": 6,
    "start_time": "2024-04-30T12:46:44.382Z"
   },
   {
    "duration": 7,
    "start_time": "2024-04-30T12:46:44.389Z"
   },
   {
    "duration": 14,
    "start_time": "2024-04-30T12:46:44.397Z"
   },
   {
    "duration": 9,
    "start_time": "2024-04-30T12:46:44.412Z"
   },
   {
    "duration": 4,
    "start_time": "2024-04-30T12:46:44.422Z"
   },
   {
    "duration": 13,
    "start_time": "2024-04-30T12:46:44.428Z"
   },
   {
    "duration": 317,
    "start_time": "2024-04-30T12:46:44.442Z"
   },
   {
    "duration": 7,
    "start_time": "2024-04-30T12:46:44.760Z"
   },
   {
    "duration": 112,
    "start_time": "2024-04-30T12:46:44.768Z"
   },
   {
    "duration": 3,
    "start_time": "2024-04-30T12:46:44.882Z"
   },
   {
    "duration": 167,
    "start_time": "2024-04-30T12:46:44.887Z"
   },
   {
    "duration": 8,
    "start_time": "2024-04-30T12:46:45.056Z"
   },
   {
    "duration": 25,
    "start_time": "2024-04-30T12:46:45.065Z"
   },
   {
    "duration": 401,
    "start_time": "2024-04-30T12:46:45.091Z"
   },
   {
    "duration": 5,
    "start_time": "2024-04-30T12:46:45.493Z"
   },
   {
    "duration": 16,
    "start_time": "2024-04-30T12:46:45.499Z"
   },
   {
    "duration": 233,
    "start_time": "2024-04-30T12:46:45.517Z"
   },
   {
    "duration": 17,
    "start_time": "2024-04-30T12:46:45.752Z"
   },
   {
    "duration": 10,
    "start_time": "2024-04-30T12:46:45.771Z"
   },
   {
    "duration": 358,
    "start_time": "2024-04-30T12:46:45.782Z"
   },
   {
    "duration": 215,
    "start_time": "2024-04-30T12:46:46.144Z"
   },
   {
    "duration": 11,
    "start_time": "2024-04-30T12:46:46.360Z"
   },
   {
    "duration": 324,
    "start_time": "2024-04-30T12:46:46.372Z"
   },
   {
    "duration": 284,
    "start_time": "2024-04-30T12:46:46.698Z"
   },
   {
    "duration": 913,
    "start_time": "2024-04-30T12:46:46.984Z"
   },
   {
    "duration": 18,
    "start_time": "2024-04-30T12:51:39.250Z"
   },
   {
    "duration": 18,
    "start_time": "2024-04-30T12:52:19.329Z"
   },
   {
    "duration": 13,
    "start_time": "2024-04-30T12:53:07.425Z"
   },
   {
    "duration": 43,
    "start_time": "2024-04-30T12:53:35.790Z"
   },
   {
    "duration": 14,
    "start_time": "2024-04-30T12:53:53.425Z"
   },
   {
    "duration": 12,
    "start_time": "2024-04-30T12:56:23.052Z"
   },
   {
    "duration": 14,
    "start_time": "2024-04-30T12:57:23.621Z"
   },
   {
    "duration": 10,
    "start_time": "2024-04-30T12:57:46.308Z"
   },
   {
    "duration": 13,
    "start_time": "2024-04-30T12:58:38.788Z"
   },
   {
    "duration": 16,
    "start_time": "2024-04-30T13:01:47.145Z"
   },
   {
    "duration": 20,
    "start_time": "2024-04-30T13:02:19.349Z"
   },
   {
    "duration": 20,
    "start_time": "2024-04-30T13:02:51.073Z"
   },
   {
    "duration": 24,
    "start_time": "2024-04-30T13:04:00.810Z"
   },
   {
    "duration": 12,
    "start_time": "2024-04-30T13:07:38.534Z"
   },
   {
    "duration": 78,
    "start_time": "2024-04-30T13:11:27.168Z"
   },
   {
    "duration": 16,
    "start_time": "2024-04-30T13:17:33.062Z"
   },
   {
    "duration": 15,
    "start_time": "2024-04-30T13:18:08.620Z"
   },
   {
    "duration": 21,
    "start_time": "2024-04-30T13:18:35.247Z"
   },
   {
    "duration": 464,
    "start_time": "2024-04-30T13:20:39.789Z"
   },
   {
    "duration": 17,
    "start_time": "2024-04-30T13:20:56.331Z"
   },
   {
    "duration": 16,
    "start_time": "2024-04-30T13:21:25.154Z"
   },
   {
    "duration": 17,
    "start_time": "2024-04-30T13:22:29.885Z"
   },
   {
    "duration": 25,
    "start_time": "2024-04-30T13:23:07.775Z"
   },
   {
    "duration": 30,
    "start_time": "2024-04-30T13:24:57.728Z"
   },
   {
    "duration": 23,
    "start_time": "2024-04-30T13:25:34.629Z"
   },
   {
    "duration": 25,
    "start_time": "2024-04-30T13:26:44.542Z"
   },
   {
    "duration": 28,
    "start_time": "2024-04-30T13:27:31.142Z"
   },
   {
    "duration": 31,
    "start_time": "2024-04-30T13:28:38.570Z"
   },
   {
    "duration": 30,
    "start_time": "2024-04-30T13:28:49.301Z"
   },
   {
    "duration": 24,
    "start_time": "2024-04-30T13:29:10.008Z"
   },
   {
    "duration": 393,
    "start_time": "2024-04-30T13:29:20.646Z"
   },
   {
    "duration": 29,
    "start_time": "2024-04-30T13:29:21.040Z"
   },
   {
    "duration": 13,
    "start_time": "2024-04-30T13:29:21.070Z"
   },
   {
    "duration": 35,
    "start_time": "2024-04-30T13:29:21.084Z"
   },
   {
    "duration": 8,
    "start_time": "2024-04-30T13:29:21.121Z"
   },
   {
    "duration": 23,
    "start_time": "2024-04-30T13:29:21.130Z"
   },
   {
    "duration": 6,
    "start_time": "2024-04-30T13:29:21.154Z"
   },
   {
    "duration": 7,
    "start_time": "2024-04-30T13:29:21.161Z"
   },
   {
    "duration": 5,
    "start_time": "2024-04-30T13:29:21.169Z"
   },
   {
    "duration": 12,
    "start_time": "2024-04-30T13:29:21.175Z"
   },
   {
    "duration": 10,
    "start_time": "2024-04-30T13:29:21.188Z"
   },
   {
    "duration": 9,
    "start_time": "2024-04-30T13:29:21.199Z"
   },
   {
    "duration": 7,
    "start_time": "2024-04-30T13:29:21.210Z"
   },
   {
    "duration": 25,
    "start_time": "2024-04-30T13:29:21.220Z"
   },
   {
    "duration": 4,
    "start_time": "2024-04-30T13:29:21.246Z"
   },
   {
    "duration": 6,
    "start_time": "2024-04-30T13:29:21.251Z"
   },
   {
    "duration": 4,
    "start_time": "2024-04-30T13:29:21.258Z"
   },
   {
    "duration": 5,
    "start_time": "2024-04-30T13:29:21.263Z"
   },
   {
    "duration": 4,
    "start_time": "2024-04-30T13:29:21.269Z"
   },
   {
    "duration": 4,
    "start_time": "2024-04-30T13:29:21.274Z"
   },
   {
    "duration": 359,
    "start_time": "2024-04-30T13:29:21.279Z"
   },
   {
    "duration": 6,
    "start_time": "2024-04-30T13:29:21.644Z"
   },
   {
    "duration": 116,
    "start_time": "2024-04-30T13:29:21.651Z"
   },
   {
    "duration": 3,
    "start_time": "2024-04-30T13:29:21.769Z"
   },
   {
    "duration": 178,
    "start_time": "2024-04-30T13:29:21.773Z"
   },
   {
    "duration": 7,
    "start_time": "2024-04-30T13:29:21.953Z"
   },
   {
    "duration": 3,
    "start_time": "2024-04-30T13:29:21.962Z"
   },
   {
    "duration": 393,
    "start_time": "2024-04-30T13:29:21.967Z"
   },
   {
    "duration": 4,
    "start_time": "2024-04-30T13:29:22.362Z"
   },
   {
    "duration": 12,
    "start_time": "2024-04-30T13:29:22.367Z"
   },
   {
    "duration": 228,
    "start_time": "2024-04-30T13:29:22.381Z"
   },
   {
    "duration": 18,
    "start_time": "2024-04-30T13:29:22.611Z"
   },
   {
    "duration": 17,
    "start_time": "2024-04-30T13:29:22.631Z"
   },
   {
    "duration": 358,
    "start_time": "2024-04-30T13:29:22.650Z"
   },
   {
    "duration": 221,
    "start_time": "2024-04-30T13:29:23.009Z"
   },
   {
    "duration": 19,
    "start_time": "2024-04-30T13:29:23.232Z"
   },
   {
    "duration": 339,
    "start_time": "2024-04-30T13:29:23.253Z"
   },
   {
    "duration": 268,
    "start_time": "2024-04-30T13:29:23.594Z"
   },
   {
    "duration": 820,
    "start_time": "2024-04-30T13:29:23.863Z"
   },
   {
    "duration": 23,
    "start_time": "2024-04-30T13:29:24.685Z"
   },
   {
    "duration": 241,
    "start_time": "2024-04-30T13:31:04.683Z"
   },
   {
    "duration": 204,
    "start_time": "2024-04-30T13:31:44.869Z"
   },
   {
    "duration": 24,
    "start_time": "2024-04-30T13:31:57.757Z"
   },
   {
    "duration": 24,
    "start_time": "2024-04-30T13:32:41.025Z"
   },
   {
    "duration": 23,
    "start_time": "2024-04-30T13:33:42.520Z"
   },
   {
    "duration": 28,
    "start_time": "2024-04-30T13:36:24.121Z"
   },
   {
    "duration": 415,
    "start_time": "2024-04-30T18:00:36.679Z"
   },
   {
    "duration": 103,
    "start_time": "2024-04-30T18:00:37.096Z"
   },
   {
    "duration": 15,
    "start_time": "2024-04-30T18:00:37.200Z"
   },
   {
    "duration": 148,
    "start_time": "2024-04-30T18:00:37.217Z"
   },
   {
    "duration": 8,
    "start_time": "2024-04-30T18:00:37.368Z"
   },
   {
    "duration": 72,
    "start_time": "2024-04-30T18:00:37.377Z"
   },
   {
    "duration": 6,
    "start_time": "2024-04-30T18:00:37.451Z"
   },
   {
    "duration": 7,
    "start_time": "2024-04-30T18:00:37.459Z"
   },
   {
    "duration": 7,
    "start_time": "2024-04-30T18:00:37.467Z"
   },
   {
    "duration": 8,
    "start_time": "2024-04-30T18:00:37.475Z"
   },
   {
    "duration": 34,
    "start_time": "2024-04-30T18:00:37.485Z"
   },
   {
    "duration": 9,
    "start_time": "2024-04-30T18:00:37.521Z"
   },
   {
    "duration": 19,
    "start_time": "2024-04-30T18:00:37.531Z"
   },
   {
    "duration": 26,
    "start_time": "2024-04-30T18:00:37.553Z"
   },
   {
    "duration": 12,
    "start_time": "2024-04-30T18:00:37.580Z"
   },
   {
    "duration": 4,
    "start_time": "2024-04-30T18:00:37.593Z"
   },
   {
    "duration": 4,
    "start_time": "2024-04-30T18:00:37.598Z"
   },
   {
    "duration": 5,
    "start_time": "2024-04-30T18:00:37.604Z"
   },
   {
    "duration": 6,
    "start_time": "2024-04-30T18:00:37.610Z"
   },
   {
    "duration": 15,
    "start_time": "2024-04-30T18:00:37.618Z"
   },
   {
    "duration": 528,
    "start_time": "2024-04-30T18:00:37.635Z"
   },
   {
    "duration": 8,
    "start_time": "2024-04-30T18:00:38.165Z"
   },
   {
    "duration": 148,
    "start_time": "2024-04-30T18:00:38.174Z"
   },
   {
    "duration": 10,
    "start_time": "2024-04-30T18:00:38.324Z"
   },
   {
    "duration": 189,
    "start_time": "2024-04-30T18:00:38.336Z"
   },
   {
    "duration": 8,
    "start_time": "2024-04-30T18:00:38.527Z"
   },
   {
    "duration": 13,
    "start_time": "2024-04-30T18:00:38.537Z"
   },
   {
    "duration": 417,
    "start_time": "2024-04-30T18:00:38.551Z"
   },
   {
    "duration": 4,
    "start_time": "2024-04-30T18:00:38.970Z"
   },
   {
    "duration": 53,
    "start_time": "2024-04-30T18:00:38.975Z"
   },
   {
    "duration": 237,
    "start_time": "2024-04-30T18:00:39.030Z"
   },
   {
    "duration": 19,
    "start_time": "2024-04-30T18:00:39.269Z"
   },
   {
    "duration": 12,
    "start_time": "2024-04-30T18:00:39.290Z"
   },
   {
    "duration": 408,
    "start_time": "2024-04-30T18:00:39.304Z"
   },
   {
    "duration": 246,
    "start_time": "2024-04-30T18:00:39.713Z"
   },
   {
    "duration": 18,
    "start_time": "2024-04-30T18:00:39.961Z"
   },
   {
    "duration": 468,
    "start_time": "2024-04-30T18:00:39.981Z"
   },
   {
    "duration": 240,
    "start_time": "2024-04-30T18:00:40.450Z"
   },
   {
    "duration": 964,
    "start_time": "2024-04-30T18:00:40.691Z"
   },
   {
    "duration": 118,
    "start_time": "2024-04-30T18:00:41.656Z"
   },
   {
    "duration": 19,
    "start_time": "2024-04-30T18:00:41.779Z"
   },
   {
    "duration": 8,
    "start_time": "2024-04-30T18:16:11.895Z"
   },
   {
    "duration": 32,
    "start_time": "2024-04-30T18:22:34.863Z"
   },
   {
    "duration": 74,
    "start_time": "2024-04-30T18:25:27.959Z"
   },
   {
    "duration": 87,
    "start_time": "2024-04-30T18:27:00.409Z"
   },
   {
    "duration": 1039,
    "start_time": "2024-04-30T18:28:37.118Z"
   },
   {
    "duration": 9,
    "start_time": "2024-04-30T18:32:32.378Z"
   },
   {
    "duration": 14,
    "start_time": "2024-04-30T18:32:48.609Z"
   },
   {
    "duration": 12,
    "start_time": "2024-04-30T18:44:02.521Z"
   },
   {
    "duration": 4,
    "start_time": "2024-04-30T18:46:05.231Z"
   },
   {
    "duration": 12,
    "start_time": "2024-04-30T18:46:16.734Z"
   },
   {
    "duration": 1035,
    "start_time": "2024-04-30T18:55:48.076Z"
   },
   {
    "duration": 1007,
    "start_time": "2024-04-30T18:56:42.970Z"
   },
   {
    "duration": 1002,
    "start_time": "2024-04-30T18:58:35.892Z"
   },
   {
    "duration": 1076,
    "start_time": "2024-04-30T19:01:47.294Z"
   },
   {
    "duration": 14,
    "start_time": "2024-04-30T19:03:08.267Z"
   },
   {
    "duration": 1015,
    "start_time": "2024-04-30T19:04:25.025Z"
   },
   {
    "duration": 1102,
    "start_time": "2024-04-30T19:07:21.294Z"
   },
   {
    "duration": 1047,
    "start_time": "2024-04-30T19:08:00.962Z"
   },
   {
    "duration": 1096,
    "start_time": "2024-04-30T19:17:54.590Z"
   },
   {
    "duration": 1006,
    "start_time": "2024-04-30T19:18:18.954Z"
   },
   {
    "duration": 53,
    "start_time": "2024-04-30T19:19:39.267Z"
   },
   {
    "duration": 52,
    "start_time": "2024-04-30T19:19:52.070Z"
   },
   {
    "duration": 1043,
    "start_time": "2024-04-30T19:20:22.323Z"
   },
   {
    "duration": 1020,
    "start_time": "2024-04-30T19:21:59.433Z"
   },
   {
    "duration": 1066,
    "start_time": "2024-04-30T19:24:41.180Z"
   },
   {
    "duration": 1017,
    "start_time": "2024-04-30T19:38:27.232Z"
   },
   {
    "duration": 998,
    "start_time": "2024-04-30T19:38:41.840Z"
   },
   {
    "duration": 59,
    "start_time": "2024-04-30T19:42:46.769Z"
   },
   {
    "duration": 73,
    "start_time": "2024-04-30T19:44:51.404Z"
   },
   {
    "duration": 1004,
    "start_time": "2024-04-30T19:47:45.253Z"
   },
   {
    "duration": 26,
    "start_time": "2024-04-30T19:48:35.647Z"
   },
   {
    "duration": 345,
    "start_time": "2024-04-30T19:49:03.282Z"
   },
   {
    "duration": 287,
    "start_time": "2024-04-30T19:49:41.099Z"
   },
   {
    "duration": 34,
    "start_time": "2024-04-30T19:49:47.509Z"
   },
   {
    "duration": 8,
    "start_time": "2024-04-30T19:53:28.760Z"
   },
   {
    "duration": 14,
    "start_time": "2024-04-30T19:54:51.917Z"
   },
   {
    "duration": 10,
    "start_time": "2024-04-30T19:55:15.640Z"
   },
   {
    "duration": 12,
    "start_time": "2024-04-30T19:55:41.341Z"
   },
   {
    "duration": 10,
    "start_time": "2024-04-30T19:55:53.784Z"
   },
   {
    "duration": 298,
    "start_time": "2024-04-30T19:58:58.435Z"
   },
   {
    "duration": 21,
    "start_time": "2024-04-30T19:59:51.844Z"
   },
   {
    "duration": 23,
    "start_time": "2024-04-30T20:00:31.361Z"
   },
   {
    "duration": 24,
    "start_time": "2024-04-30T20:02:32.169Z"
   },
   {
    "duration": 25,
    "start_time": "2024-04-30T20:10:04.646Z"
   },
   {
    "duration": 34,
    "start_time": "2024-04-30T20:10:20.073Z"
   },
   {
    "duration": 354,
    "start_time": "2024-04-30T20:10:57.514Z"
   },
   {
    "duration": 29,
    "start_time": "2024-04-30T20:10:57.869Z"
   },
   {
    "duration": 14,
    "start_time": "2024-04-30T20:10:57.899Z"
   },
   {
    "duration": 27,
    "start_time": "2024-04-30T20:10:57.914Z"
   },
   {
    "duration": 8,
    "start_time": "2024-04-30T20:10:57.943Z"
   },
   {
    "duration": 24,
    "start_time": "2024-04-30T20:10:57.952Z"
   },
   {
    "duration": 9,
    "start_time": "2024-04-30T20:10:57.977Z"
   },
   {
    "duration": 8,
    "start_time": "2024-04-30T20:10:57.987Z"
   },
   {
    "duration": 20,
    "start_time": "2024-04-30T20:10:57.996Z"
   },
   {
    "duration": 9,
    "start_time": "2024-04-30T20:10:58.017Z"
   },
   {
    "duration": 13,
    "start_time": "2024-04-30T20:10:58.027Z"
   },
   {
    "duration": 15,
    "start_time": "2024-04-30T20:10:58.041Z"
   },
   {
    "duration": 9,
    "start_time": "2024-04-30T20:10:58.058Z"
   },
   {
    "duration": 10,
    "start_time": "2024-04-30T20:10:58.070Z"
   },
   {
    "duration": 4,
    "start_time": "2024-04-30T20:10:58.081Z"
   },
   {
    "duration": 6,
    "start_time": "2024-04-30T20:10:58.087Z"
   },
   {
    "duration": 9,
    "start_time": "2024-04-30T20:10:58.094Z"
   },
   {
    "duration": 7,
    "start_time": "2024-04-30T20:10:58.104Z"
   },
   {
    "duration": 4,
    "start_time": "2024-04-30T20:10:58.112Z"
   },
   {
    "duration": 6,
    "start_time": "2024-04-30T20:10:58.118Z"
   },
   {
    "duration": 392,
    "start_time": "2024-04-30T20:10:58.125Z"
   },
   {
    "duration": 6,
    "start_time": "2024-04-30T20:10:58.519Z"
   },
   {
    "duration": 112,
    "start_time": "2024-04-30T20:10:58.526Z"
   },
   {
    "duration": 2,
    "start_time": "2024-04-30T20:10:58.640Z"
   },
   {
    "duration": 185,
    "start_time": "2024-04-30T20:10:58.644Z"
   },
   {
    "duration": 8,
    "start_time": "2024-04-30T20:10:58.830Z"
   },
   {
    "duration": 4,
    "start_time": "2024-04-30T20:10:58.839Z"
   },
   {
    "duration": 384,
    "start_time": "2024-04-30T20:10:58.844Z"
   },
   {
    "duration": 4,
    "start_time": "2024-04-30T20:10:59.230Z"
   },
   {
    "duration": 14,
    "start_time": "2024-04-30T20:10:59.235Z"
   },
   {
    "duration": 237,
    "start_time": "2024-04-30T20:10:59.250Z"
   },
   {
    "duration": 20,
    "start_time": "2024-04-30T20:10:59.489Z"
   },
   {
    "duration": 11,
    "start_time": "2024-04-30T20:10:59.510Z"
   },
   {
    "duration": 384,
    "start_time": "2024-04-30T20:10:59.523Z"
   },
   {
    "duration": 249,
    "start_time": "2024-04-30T20:10:59.909Z"
   },
   {
    "duration": 15,
    "start_time": "2024-04-30T20:11:00.160Z"
   },
   {
    "duration": 369,
    "start_time": "2024-04-30T20:11:00.177Z"
   },
   {
    "duration": 303,
    "start_time": "2024-04-30T20:11:00.548Z"
   },
   {
    "duration": 890,
    "start_time": "2024-04-30T20:11:00.853Z"
   },
   {
    "duration": 34,
    "start_time": "2024-04-30T20:11:01.745Z"
   },
   {
    "duration": 50,
    "start_time": "2024-04-30T20:11:01.783Z"
   },
   {
    "duration": 26,
    "start_time": "2024-04-30T20:11:01.835Z"
   },
   {
    "duration": 136,
    "start_time": "2024-04-30T20:11:01.863Z"
   },
   {
    "duration": 25,
    "start_time": "2024-04-30T20:12:44.182Z"
   },
   {
    "duration": 9,
    "start_time": "2024-04-30T20:17:26.356Z"
   },
   {
    "duration": 10,
    "start_time": "2024-04-30T20:18:25.691Z"
   },
   {
    "duration": 10,
    "start_time": "2024-04-30T20:19:41.773Z"
   },
   {
    "duration": 11,
    "start_time": "2024-04-30T20:20:38.509Z"
   },
   {
    "duration": 38,
    "start_time": "2024-04-30T20:22:01.874Z"
   },
   {
    "duration": 42,
    "start_time": "2024-04-30T20:24:44.527Z"
   },
   {
    "duration": 46,
    "start_time": "2024-04-30T20:24:59.598Z"
   },
   {
    "duration": 48,
    "start_time": "2024-04-30T20:25:10.876Z"
   },
   {
    "duration": 54,
    "start_time": "2024-04-30T20:27:16.500Z"
   },
   {
    "duration": 17,
    "start_time": "2024-04-30T20:30:27.240Z"
   },
   {
    "duration": 278,
    "start_time": "2024-04-30T20:32:09.103Z"
   },
   {
    "duration": 17,
    "start_time": "2024-04-30T20:34:49.931Z"
   },
   {
    "duration": 1021,
    "start_time": "2024-04-30T20:36:22.693Z"
   },
   {
    "duration": 1015,
    "start_time": "2024-04-30T20:36:43.037Z"
   },
   {
    "duration": 975,
    "start_time": "2024-04-30T20:36:48.449Z"
   },
   {
    "duration": 57,
    "start_time": "2024-04-30T20:37:06.671Z"
   },
   {
    "duration": 17,
    "start_time": "2024-04-30T20:37:33.211Z"
   },
   {
    "duration": 24,
    "start_time": "2024-04-30T20:38:03.468Z"
   },
   {
    "duration": 51,
    "start_time": "2024-04-30T20:38:05.798Z"
   },
   {
    "duration": 16,
    "start_time": "2024-04-30T20:38:18.144Z"
   },
   {
    "duration": 17,
    "start_time": "2024-04-30T20:38:22.121Z"
   },
   {
    "duration": 39,
    "start_time": "2024-04-30T20:39:06.315Z"
   },
   {
    "duration": 402,
    "start_time": "2024-04-30T20:39:22.673Z"
   },
   {
    "duration": 28,
    "start_time": "2024-04-30T20:39:23.077Z"
   },
   {
    "duration": 13,
    "start_time": "2024-04-30T20:39:23.107Z"
   },
   {
    "duration": 28,
    "start_time": "2024-04-30T20:39:23.121Z"
   },
   {
    "duration": 8,
    "start_time": "2024-04-30T20:39:23.151Z"
   },
   {
    "duration": 18,
    "start_time": "2024-04-30T20:39:23.160Z"
   },
   {
    "duration": 9,
    "start_time": "2024-04-30T20:39:23.179Z"
   },
   {
    "duration": 7,
    "start_time": "2024-04-30T20:39:23.189Z"
   },
   {
    "duration": 5,
    "start_time": "2024-04-30T20:39:23.197Z"
   },
   {
    "duration": 9,
    "start_time": "2024-04-30T20:39:23.203Z"
   },
   {
    "duration": 12,
    "start_time": "2024-04-30T20:39:23.214Z"
   },
   {
    "duration": 10,
    "start_time": "2024-04-30T20:39:23.227Z"
   },
   {
    "duration": 36,
    "start_time": "2024-04-30T20:39:23.239Z"
   },
   {
    "duration": 6,
    "start_time": "2024-04-30T20:39:23.278Z"
   },
   {
    "duration": 5,
    "start_time": "2024-04-30T20:39:23.285Z"
   },
   {
    "duration": 15,
    "start_time": "2024-04-30T20:39:23.291Z"
   },
   {
    "duration": 5,
    "start_time": "2024-04-30T20:39:23.308Z"
   },
   {
    "duration": 10,
    "start_time": "2024-04-30T20:39:23.314Z"
   },
   {
    "duration": 5,
    "start_time": "2024-04-30T20:39:23.326Z"
   },
   {
    "duration": 4,
    "start_time": "2024-04-30T20:39:23.333Z"
   },
   {
    "duration": 364,
    "start_time": "2024-04-30T20:39:23.338Z"
   },
   {
    "duration": 6,
    "start_time": "2024-04-30T20:39:23.703Z"
   },
   {
    "duration": 110,
    "start_time": "2024-04-30T20:39:23.710Z"
   },
   {
    "duration": 3,
    "start_time": "2024-04-30T20:39:23.821Z"
   },
   {
    "duration": 181,
    "start_time": "2024-04-30T20:39:23.825Z"
   },
   {
    "duration": 8,
    "start_time": "2024-04-30T20:39:24.007Z"
   },
   {
    "duration": 6,
    "start_time": "2024-04-30T20:39:24.016Z"
   },
   {
    "duration": 385,
    "start_time": "2024-04-30T20:39:24.023Z"
   },
   {
    "duration": 5,
    "start_time": "2024-04-30T20:39:24.410Z"
   },
   {
    "duration": 20,
    "start_time": "2024-04-30T20:39:24.416Z"
   },
   {
    "duration": 235,
    "start_time": "2024-04-30T20:39:24.437Z"
   },
   {
    "duration": 19,
    "start_time": "2024-04-30T20:39:24.673Z"
   },
   {
    "duration": 10,
    "start_time": "2024-04-30T20:39:24.694Z"
   },
   {
    "duration": 367,
    "start_time": "2024-04-30T20:39:24.705Z"
   },
   {
    "duration": 226,
    "start_time": "2024-04-30T20:39:25.073Z"
   },
   {
    "duration": 12,
    "start_time": "2024-04-30T20:39:25.300Z"
   },
   {
    "duration": 355,
    "start_time": "2024-04-30T20:39:25.313Z"
   },
   {
    "duration": 322,
    "start_time": "2024-04-30T20:39:25.670Z"
   },
   {
    "duration": 869,
    "start_time": "2024-04-30T20:39:25.993Z"
   },
   {
    "duration": 28,
    "start_time": "2024-04-30T20:39:26.863Z"
   },
   {
    "duration": 41,
    "start_time": "2024-04-30T20:39:26.894Z"
   },
   {
    "duration": 34,
    "start_time": "2024-04-30T20:39:26.937Z"
   },
   {
    "duration": 19,
    "start_time": "2024-04-30T20:39:26.973Z"
   },
   {
    "duration": 74,
    "start_time": "2024-04-30T20:39:50.057Z"
   },
   {
    "duration": 11,
    "start_time": "2024-04-30T20:39:56.357Z"
   },
   {
    "duration": 12,
    "start_time": "2024-04-30T20:40:00.489Z"
   },
   {
    "duration": 412,
    "start_time": "2024-04-30T20:40:08.272Z"
   },
   {
    "duration": 28,
    "start_time": "2024-04-30T20:40:08.686Z"
   },
   {
    "duration": 13,
    "start_time": "2024-04-30T20:40:08.716Z"
   },
   {
    "duration": 27,
    "start_time": "2024-04-30T20:40:08.731Z"
   },
   {
    "duration": 8,
    "start_time": "2024-04-30T20:40:08.760Z"
   },
   {
    "duration": 21,
    "start_time": "2024-04-30T20:40:08.769Z"
   },
   {
    "duration": 6,
    "start_time": "2024-04-30T20:40:08.791Z"
   },
   {
    "duration": 13,
    "start_time": "2024-04-30T20:40:08.799Z"
   },
   {
    "duration": 12,
    "start_time": "2024-04-30T20:40:08.813Z"
   },
   {
    "duration": 9,
    "start_time": "2024-04-30T20:40:08.827Z"
   },
   {
    "duration": 17,
    "start_time": "2024-04-30T20:40:08.838Z"
   },
   {
    "duration": 10,
    "start_time": "2024-04-30T20:40:08.856Z"
   },
   {
    "duration": 9,
    "start_time": "2024-04-30T20:40:08.869Z"
   },
   {
    "duration": 37,
    "start_time": "2024-04-30T20:40:08.881Z"
   },
   {
    "duration": 4,
    "start_time": "2024-04-30T20:40:08.920Z"
   },
   {
    "duration": 5,
    "start_time": "2024-04-30T20:40:08.925Z"
   },
   {
    "duration": 6,
    "start_time": "2024-04-30T20:40:08.931Z"
   },
   {
    "duration": 4,
    "start_time": "2024-04-30T20:40:08.939Z"
   },
   {
    "duration": 8,
    "start_time": "2024-04-30T20:40:08.944Z"
   },
   {
    "duration": 6,
    "start_time": "2024-04-30T20:40:08.953Z"
   },
   {
    "duration": 378,
    "start_time": "2024-04-30T20:40:08.960Z"
   },
   {
    "duration": 6,
    "start_time": "2024-04-30T20:40:09.340Z"
   },
   {
    "duration": 119,
    "start_time": "2024-04-30T20:40:09.348Z"
   },
   {
    "duration": 2,
    "start_time": "2024-04-30T20:40:09.469Z"
   },
   {
    "duration": 183,
    "start_time": "2024-04-30T20:40:09.472Z"
   },
   {
    "duration": 13,
    "start_time": "2024-04-30T20:40:09.656Z"
   },
   {
    "duration": 3,
    "start_time": "2024-04-30T20:40:09.671Z"
   },
   {
    "duration": 436,
    "start_time": "2024-04-30T20:40:09.676Z"
   },
   {
    "duration": 4,
    "start_time": "2024-04-30T20:40:10.114Z"
   },
   {
    "duration": 29,
    "start_time": "2024-04-30T20:40:10.120Z"
   },
   {
    "duration": 245,
    "start_time": "2024-04-30T20:40:10.150Z"
   },
   {
    "duration": 23,
    "start_time": "2024-04-30T20:40:10.397Z"
   },
   {
    "duration": 11,
    "start_time": "2024-04-30T20:40:10.422Z"
   },
   {
    "duration": 394,
    "start_time": "2024-04-30T20:40:10.435Z"
   },
   {
    "duration": 256,
    "start_time": "2024-04-30T20:40:10.831Z"
   },
   {
    "duration": 11,
    "start_time": "2024-04-30T20:40:11.089Z"
   },
   {
    "duration": 345,
    "start_time": "2024-04-30T20:40:11.102Z"
   },
   {
    "duration": 300,
    "start_time": "2024-04-30T20:40:11.449Z"
   },
   {
    "duration": 908,
    "start_time": "2024-04-30T20:40:11.750Z"
   },
   {
    "duration": 26,
    "start_time": "2024-04-30T20:40:12.659Z"
   },
   {
    "duration": 39,
    "start_time": "2024-04-30T20:40:12.689Z"
   },
   {
    "duration": 14,
    "start_time": "2024-04-30T20:40:12.730Z"
   },
   {
    "duration": 32,
    "start_time": "2024-04-30T20:40:12.745Z"
   },
   {
    "duration": 75,
    "start_time": "2024-04-30T20:40:26.836Z"
   },
   {
    "duration": 424,
    "start_time": "2024-04-30T20:41:09.745Z"
   },
   {
    "duration": 29,
    "start_time": "2024-04-30T20:41:10.171Z"
   },
   {
    "duration": 14,
    "start_time": "2024-04-30T20:41:10.201Z"
   },
   {
    "duration": 43,
    "start_time": "2024-04-30T20:41:10.216Z"
   },
   {
    "duration": 9,
    "start_time": "2024-04-30T20:41:10.261Z"
   },
   {
    "duration": 21,
    "start_time": "2024-04-30T20:41:10.272Z"
   },
   {
    "duration": 8,
    "start_time": "2024-04-30T20:41:10.294Z"
   },
   {
    "duration": 28,
    "start_time": "2024-04-30T20:41:10.303Z"
   },
   {
    "duration": 15,
    "start_time": "2024-04-30T20:41:10.333Z"
   },
   {
    "duration": 24,
    "start_time": "2024-04-30T20:41:10.349Z"
   },
   {
    "duration": 21,
    "start_time": "2024-04-30T20:41:10.375Z"
   },
   {
    "duration": 33,
    "start_time": "2024-04-30T20:41:10.398Z"
   },
   {
    "duration": 23,
    "start_time": "2024-04-30T20:41:10.433Z"
   },
   {
    "duration": 18,
    "start_time": "2024-04-30T20:41:10.460Z"
   },
   {
    "duration": 10,
    "start_time": "2024-04-30T20:41:10.480Z"
   },
   {
    "duration": 20,
    "start_time": "2024-04-30T20:41:10.492Z"
   },
   {
    "duration": 20,
    "start_time": "2024-04-30T20:41:10.514Z"
   },
   {
    "duration": 19,
    "start_time": "2024-04-30T20:41:10.535Z"
   },
   {
    "duration": 31,
    "start_time": "2024-04-30T20:41:10.556Z"
   },
   {
    "duration": 8,
    "start_time": "2024-04-30T20:41:10.588Z"
   },
   {
    "duration": 415,
    "start_time": "2024-04-30T20:41:10.598Z"
   },
   {
    "duration": 6,
    "start_time": "2024-04-30T20:41:11.015Z"
   },
   {
    "duration": 132,
    "start_time": "2024-04-30T20:41:11.022Z"
   },
   {
    "duration": 3,
    "start_time": "2024-04-30T20:41:11.155Z"
   },
   {
    "duration": 188,
    "start_time": "2024-04-30T20:41:11.160Z"
   },
   {
    "duration": 8,
    "start_time": "2024-04-30T20:41:11.349Z"
   },
   {
    "duration": 11,
    "start_time": "2024-04-30T20:41:11.358Z"
   },
   {
    "duration": 409,
    "start_time": "2024-04-30T20:41:11.371Z"
   },
   {
    "duration": 4,
    "start_time": "2024-04-30T20:41:11.782Z"
   },
   {
    "duration": 18,
    "start_time": "2024-04-30T20:41:11.788Z"
   },
   {
    "duration": 247,
    "start_time": "2024-04-30T20:41:11.807Z"
   },
   {
    "duration": 29,
    "start_time": "2024-04-30T20:41:12.056Z"
   },
   {
    "duration": 11,
    "start_time": "2024-04-30T20:41:12.087Z"
   },
   {
    "duration": 381,
    "start_time": "2024-04-30T20:41:12.100Z"
   },
   {
    "duration": 255,
    "start_time": "2024-04-30T20:41:12.482Z"
   },
   {
    "duration": 12,
    "start_time": "2024-04-30T20:41:12.738Z"
   },
   {
    "duration": 351,
    "start_time": "2024-04-30T20:41:12.751Z"
   },
   {
    "duration": 306,
    "start_time": "2024-04-30T20:41:13.104Z"
   },
   {
    "duration": 892,
    "start_time": "2024-04-30T20:41:13.411Z"
   },
   {
    "duration": 25,
    "start_time": "2024-04-30T20:41:14.305Z"
   },
   {
    "duration": 60,
    "start_time": "2024-04-30T20:41:14.334Z"
   },
   {
    "duration": 14,
    "start_time": "2024-04-30T20:41:14.396Z"
   },
   {
    "duration": 18,
    "start_time": "2024-04-30T20:41:14.412Z"
   },
   {
    "duration": 1200,
    "start_time": "2024-04-30T20:45:31.652Z"
   },
   {
    "duration": 363,
    "start_time": "2024-04-30T20:45:50.420Z"
   },
   {
    "duration": 28,
    "start_time": "2024-04-30T20:45:50.785Z"
   },
   {
    "duration": 15,
    "start_time": "2024-04-30T20:45:50.815Z"
   },
   {
    "duration": 28,
    "start_time": "2024-04-30T20:45:50.832Z"
   },
   {
    "duration": 9,
    "start_time": "2024-04-30T20:45:50.861Z"
   },
   {
    "duration": 32,
    "start_time": "2024-04-30T20:45:50.871Z"
   },
   {
    "duration": 17,
    "start_time": "2024-04-30T20:45:50.904Z"
   },
   {
    "duration": 18,
    "start_time": "2024-04-30T20:45:50.923Z"
   },
   {
    "duration": 11,
    "start_time": "2024-04-30T20:45:50.943Z"
   },
   {
    "duration": 9,
    "start_time": "2024-04-30T20:45:50.957Z"
   },
   {
    "duration": 12,
    "start_time": "2024-04-30T20:45:50.968Z"
   },
   {
    "duration": 30,
    "start_time": "2024-04-30T20:45:50.981Z"
   },
   {
    "duration": 11,
    "start_time": "2024-04-30T20:45:51.013Z"
   },
   {
    "duration": 9,
    "start_time": "2024-04-30T20:45:51.025Z"
   },
   {
    "duration": 12,
    "start_time": "2024-04-30T20:45:51.036Z"
   },
   {
    "duration": 9,
    "start_time": "2024-04-30T20:45:51.050Z"
   },
   {
    "duration": 16,
    "start_time": "2024-04-30T20:45:51.060Z"
   },
   {
    "duration": 16,
    "start_time": "2024-04-30T20:45:51.078Z"
   },
   {
    "duration": 30,
    "start_time": "2024-04-30T20:45:51.095Z"
   },
   {
    "duration": 14,
    "start_time": "2024-04-30T20:45:51.126Z"
   },
   {
    "duration": 366,
    "start_time": "2024-04-30T20:45:51.141Z"
   },
   {
    "duration": 6,
    "start_time": "2024-04-30T20:45:51.509Z"
   },
   {
    "duration": 117,
    "start_time": "2024-04-30T20:45:51.516Z"
   },
   {
    "duration": 3,
    "start_time": "2024-04-30T20:45:51.635Z"
   },
   {
    "duration": 181,
    "start_time": "2024-04-30T20:45:51.639Z"
   },
   {
    "duration": 9,
    "start_time": "2024-04-30T20:45:51.822Z"
   },
   {
    "duration": 4,
    "start_time": "2024-04-30T20:45:51.833Z"
   },
   {
    "duration": 433,
    "start_time": "2024-04-30T20:45:51.840Z"
   },
   {
    "duration": 4,
    "start_time": "2024-04-30T20:45:52.275Z"
   },
   {
    "duration": 28,
    "start_time": "2024-04-30T20:45:52.280Z"
   },
   {
    "duration": 224,
    "start_time": "2024-04-30T20:45:52.310Z"
   },
   {
    "duration": 19,
    "start_time": "2024-04-30T20:45:52.535Z"
   },
   {
    "duration": 21,
    "start_time": "2024-04-30T20:45:52.556Z"
   },
   {
    "duration": 357,
    "start_time": "2024-04-30T20:45:52.579Z"
   },
   {
    "duration": 243,
    "start_time": "2024-04-30T20:45:52.938Z"
   },
   {
    "duration": 12,
    "start_time": "2024-04-30T20:45:53.182Z"
   },
   {
    "duration": 355,
    "start_time": "2024-04-30T20:45:53.196Z"
   },
   {
    "duration": 311,
    "start_time": "2024-04-30T20:45:53.552Z"
   },
   {
    "duration": 920,
    "start_time": "2024-04-30T20:45:53.869Z"
   },
   {
    "duration": 26,
    "start_time": "2024-04-30T20:45:54.791Z"
   },
   {
    "duration": 56,
    "start_time": "2024-04-30T20:45:54.819Z"
   },
   {
    "duration": 15,
    "start_time": "2024-04-30T20:45:54.876Z"
   },
   {
    "duration": 10,
    "start_time": "2024-04-30T20:45:54.893Z"
   },
   {
    "duration": 49,
    "start_time": "2024-05-02T05:07:34.774Z"
   },
   {
    "duration": 438,
    "start_time": "2024-05-02T05:07:42.142Z"
   },
   {
    "duration": 97,
    "start_time": "2024-05-02T05:07:42.582Z"
   },
   {
    "duration": 16,
    "start_time": "2024-05-02T05:07:42.681Z"
   },
   {
    "duration": 131,
    "start_time": "2024-05-02T05:07:42.698Z"
   },
   {
    "duration": 9,
    "start_time": "2024-05-02T05:07:42.832Z"
   },
   {
    "duration": 67,
    "start_time": "2024-05-02T05:07:42.842Z"
   },
   {
    "duration": 7,
    "start_time": "2024-05-02T05:07:42.911Z"
   },
   {
    "duration": 11,
    "start_time": "2024-05-02T05:07:42.920Z"
   },
   {
    "duration": 6,
    "start_time": "2024-05-02T05:07:42.932Z"
   },
   {
    "duration": 9,
    "start_time": "2024-05-02T05:07:42.940Z"
   },
   {
    "duration": 12,
    "start_time": "2024-05-02T05:07:42.951Z"
   },
   {
    "duration": 14,
    "start_time": "2024-05-02T05:07:42.965Z"
   },
   {
    "duration": 11,
    "start_time": "2024-05-02T05:07:42.980Z"
   },
   {
    "duration": 8,
    "start_time": "2024-05-02T05:07:42.994Z"
   },
   {
    "duration": 19,
    "start_time": "2024-05-02T05:07:43.004Z"
   },
   {
    "duration": 12,
    "start_time": "2024-05-02T05:07:43.024Z"
   },
   {
    "duration": 5,
    "start_time": "2024-05-02T05:07:43.037Z"
   },
   {
    "duration": 19,
    "start_time": "2024-05-02T05:07:43.044Z"
   },
   {
    "duration": 8,
    "start_time": "2024-05-02T05:07:43.065Z"
   },
   {
    "duration": 13,
    "start_time": "2024-05-02T05:07:43.075Z"
   },
   {
    "duration": 599,
    "start_time": "2024-05-02T05:07:43.089Z"
   },
   {
    "duration": 7,
    "start_time": "2024-05-02T05:07:43.690Z"
   },
   {
    "duration": 139,
    "start_time": "2024-05-02T05:07:43.698Z"
   },
   {
    "duration": 3,
    "start_time": "2024-05-02T05:07:43.839Z"
   },
   {
    "duration": 202,
    "start_time": "2024-05-02T05:07:43.844Z"
   },
   {
    "duration": 15,
    "start_time": "2024-05-02T05:07:44.048Z"
   },
   {
    "duration": 22,
    "start_time": "2024-05-02T05:07:44.064Z"
   },
   {
    "duration": 434,
    "start_time": "2024-05-02T05:07:44.087Z"
   },
   {
    "duration": 5,
    "start_time": "2024-05-02T05:07:44.522Z"
   },
   {
    "duration": 17,
    "start_time": "2024-05-02T05:07:44.529Z"
   },
   {
    "duration": 272,
    "start_time": "2024-05-02T05:07:44.548Z"
   },
   {
    "duration": 22,
    "start_time": "2024-05-02T05:07:44.822Z"
   },
   {
    "duration": 34,
    "start_time": "2024-05-02T05:07:44.846Z"
   },
   {
    "duration": 398,
    "start_time": "2024-05-02T05:07:44.882Z"
   },
   {
    "duration": 261,
    "start_time": "2024-05-02T05:07:45.282Z"
   },
   {
    "duration": 13,
    "start_time": "2024-05-02T05:07:45.545Z"
   },
   {
    "duration": 487,
    "start_time": "2024-05-02T05:07:45.560Z"
   },
   {
    "duration": 244,
    "start_time": "2024-05-02T05:07:46.048Z"
   },
   {
    "duration": 1010,
    "start_time": "2024-05-02T05:07:46.295Z"
   },
   {
    "duration": 35,
    "start_time": "2024-05-02T05:07:47.311Z"
   },
   {
    "duration": 155,
    "start_time": "2024-05-02T05:07:47.350Z"
   },
   {
    "duration": 16,
    "start_time": "2024-05-02T05:07:47.507Z"
   },
   {
    "duration": 16,
    "start_time": "2024-05-02T05:07:47.525Z"
   },
   {
    "duration": 18,
    "start_time": "2024-05-02T05:07:47.543Z"
   },
   {
    "duration": 12,
    "start_time": "2024-05-02T05:09:17.308Z"
   },
   {
    "duration": 4,
    "start_time": "2024-05-02T05:11:33.688Z"
   },
   {
    "duration": 77,
    "start_time": "2024-05-02T05:31:58.274Z"
   },
   {
    "duration": 11,
    "start_time": "2024-05-02T05:33:37.702Z"
   },
   {
    "duration": 28,
    "start_time": "2024-05-02T05:34:31.360Z"
   },
   {
    "duration": 9,
    "start_time": "2024-05-02T05:35:10.462Z"
   },
   {
    "duration": 376,
    "start_time": "2024-05-02T05:35:18.222Z"
   },
   {
    "duration": 27,
    "start_time": "2024-05-02T05:35:18.600Z"
   },
   {
    "duration": 15,
    "start_time": "2024-05-02T05:35:18.628Z"
   },
   {
    "duration": 29,
    "start_time": "2024-05-02T05:35:18.645Z"
   },
   {
    "duration": 8,
    "start_time": "2024-05-02T05:35:18.676Z"
   },
   {
    "duration": 26,
    "start_time": "2024-05-02T05:35:18.686Z"
   },
   {
    "duration": 17,
    "start_time": "2024-05-02T05:35:18.713Z"
   },
   {
    "duration": 22,
    "start_time": "2024-05-02T05:35:18.732Z"
   },
   {
    "duration": 11,
    "start_time": "2024-05-02T05:35:18.756Z"
   },
   {
    "duration": 27,
    "start_time": "2024-05-02T05:35:18.770Z"
   },
   {
    "duration": 20,
    "start_time": "2024-05-02T05:35:18.799Z"
   },
   {
    "duration": 17,
    "start_time": "2024-05-02T05:35:18.820Z"
   },
   {
    "duration": 18,
    "start_time": "2024-05-02T05:35:18.839Z"
   },
   {
    "duration": 6,
    "start_time": "2024-05-02T05:35:18.859Z"
   },
   {
    "duration": 6,
    "start_time": "2024-05-02T05:35:18.866Z"
   },
   {
    "duration": 7,
    "start_time": "2024-05-02T05:35:18.874Z"
   },
   {
    "duration": 10,
    "start_time": "2024-05-02T05:35:18.883Z"
   },
   {
    "duration": 21,
    "start_time": "2024-05-02T05:35:18.895Z"
   },
   {
    "duration": 7,
    "start_time": "2024-05-02T05:35:18.917Z"
   },
   {
    "duration": 19,
    "start_time": "2024-05-02T05:35:18.925Z"
   },
   {
    "duration": 406,
    "start_time": "2024-05-02T05:35:18.946Z"
   },
   {
    "duration": 7,
    "start_time": "2024-05-02T05:35:19.354Z"
   },
   {
    "duration": 135,
    "start_time": "2024-05-02T05:35:19.363Z"
   },
   {
    "duration": 3,
    "start_time": "2024-05-02T05:35:19.500Z"
   },
   {
    "duration": 221,
    "start_time": "2024-05-02T05:35:19.505Z"
   },
   {
    "duration": 9,
    "start_time": "2024-05-02T05:35:19.727Z"
   },
   {
    "duration": 6,
    "start_time": "2024-05-02T05:35:19.737Z"
   },
   {
    "duration": 476,
    "start_time": "2024-05-02T05:35:19.746Z"
   },
   {
    "duration": 5,
    "start_time": "2024-05-02T05:35:20.223Z"
   },
   {
    "duration": 41,
    "start_time": "2024-05-02T05:35:20.229Z"
   },
   {
    "duration": 247,
    "start_time": "2024-05-02T05:35:20.271Z"
   },
   {
    "duration": 65,
    "start_time": "2024-05-02T05:35:20.520Z"
   },
   {
    "duration": 13,
    "start_time": "2024-05-02T05:35:20.586Z"
   },
   {
    "duration": 462,
    "start_time": "2024-05-02T05:35:20.600Z"
   },
   {
    "duration": 248,
    "start_time": "2024-05-02T05:35:21.064Z"
   },
   {
    "duration": 12,
    "start_time": "2024-05-02T05:35:21.314Z"
   },
   {
    "duration": 381,
    "start_time": "2024-05-02T05:35:21.327Z"
   },
   {
    "duration": 334,
    "start_time": "2024-05-02T05:35:21.710Z"
   },
   {
    "duration": 984,
    "start_time": "2024-05-02T05:35:22.048Z"
   },
   {
    "duration": 28,
    "start_time": "2024-05-02T05:35:23.034Z"
   },
   {
    "duration": 58,
    "start_time": "2024-05-02T05:35:23.065Z"
   },
   {
    "duration": 20,
    "start_time": "2024-05-02T05:35:23.124Z"
   },
   {
    "duration": 36,
    "start_time": "2024-05-02T05:35:23.146Z"
   },
   {
    "duration": 7,
    "start_time": "2024-05-02T05:35:23.183Z"
   },
   {
    "duration": 19,
    "start_time": "2024-05-02T05:35:23.192Z"
   },
   {
    "duration": 6,
    "start_time": "2024-05-02T05:35:34.861Z"
   },
   {
    "duration": 9,
    "start_time": "2024-05-02T05:35:59.702Z"
   },
   {
    "duration": 7,
    "start_time": "2024-05-02T05:36:13.099Z"
   },
   {
    "duration": 70,
    "start_time": "2024-05-02T05:38:57.015Z"
   },
   {
    "duration": 887,
    "start_time": "2024-05-02T05:40:36.673Z"
   },
   {
    "duration": 354,
    "start_time": "2024-05-02T05:58:16.836Z"
   },
   {
    "duration": 14,
    "start_time": "2024-05-02T06:06:55.271Z"
   },
   {
    "duration": 11,
    "start_time": "2024-05-02T06:07:08.156Z"
   },
   {
    "duration": 11,
    "start_time": "2024-05-02T06:08:28.321Z"
   },
   {
    "duration": 11,
    "start_time": "2024-05-02T06:09:11.850Z"
   },
   {
    "duration": 46,
    "start_time": "2024-05-03T05:54:04.453Z"
   },
   {
    "duration": 6,
    "start_time": "2024-05-03T05:55:35.181Z"
   },
   {
    "duration": 6,
    "start_time": "2024-05-03T05:55:44.818Z"
   },
   {
    "duration": 371,
    "start_time": "2024-05-03T05:55:57.694Z"
   },
   {
    "duration": 75,
    "start_time": "2024-05-03T05:55:58.067Z"
   },
   {
    "duration": 14,
    "start_time": "2024-05-03T05:55:58.143Z"
   },
   {
    "duration": 87,
    "start_time": "2024-05-03T05:55:58.159Z"
   },
   {
    "duration": 8,
    "start_time": "2024-05-03T05:55:58.248Z"
   },
   {
    "duration": 61,
    "start_time": "2024-05-03T05:55:58.257Z"
   },
   {
    "duration": 7,
    "start_time": "2024-05-03T05:55:58.320Z"
   },
   {
    "duration": 7,
    "start_time": "2024-05-03T05:55:58.328Z"
   },
   {
    "duration": 9,
    "start_time": "2024-05-03T05:55:58.337Z"
   },
   {
    "duration": 9,
    "start_time": "2024-05-03T05:55:58.348Z"
   },
   {
    "duration": 16,
    "start_time": "2024-05-03T05:55:58.359Z"
   },
   {
    "duration": 12,
    "start_time": "2024-05-03T05:55:58.377Z"
   },
   {
    "duration": 19,
    "start_time": "2024-05-03T05:55:58.391Z"
   },
   {
    "duration": 13,
    "start_time": "2024-05-03T05:55:58.412Z"
   },
   {
    "duration": 18,
    "start_time": "2024-05-03T05:55:58.427Z"
   },
   {
    "duration": 13,
    "start_time": "2024-05-03T05:55:58.446Z"
   },
   {
    "duration": 13,
    "start_time": "2024-05-03T05:55:58.461Z"
   },
   {
    "duration": 9,
    "start_time": "2024-05-03T05:55:58.475Z"
   },
   {
    "duration": 17,
    "start_time": "2024-05-03T05:55:58.486Z"
   },
   {
    "duration": 17,
    "start_time": "2024-05-03T05:55:58.505Z"
   },
   {
    "duration": 513,
    "start_time": "2024-05-03T05:55:58.523Z"
   },
   {
    "duration": 6,
    "start_time": "2024-05-03T05:55:59.038Z"
   },
   {
    "duration": 116,
    "start_time": "2024-05-03T05:55:59.046Z"
   },
   {
    "duration": 3,
    "start_time": "2024-05-03T05:55:59.163Z"
   },
   {
    "duration": 195,
    "start_time": "2024-05-03T05:55:59.167Z"
   },
   {
    "duration": 9,
    "start_time": "2024-05-03T05:55:59.364Z"
   },
   {
    "duration": 9,
    "start_time": "2024-05-03T05:55:59.375Z"
   },
   {
    "duration": 407,
    "start_time": "2024-05-03T05:55:59.387Z"
   },
   {
    "duration": 5,
    "start_time": "2024-05-03T05:55:59.795Z"
   },
   {
    "duration": 32,
    "start_time": "2024-05-03T05:55:59.802Z"
   },
   {
    "duration": 263,
    "start_time": "2024-05-03T05:55:59.836Z"
   },
   {
    "duration": 22,
    "start_time": "2024-05-03T05:56:00.101Z"
   },
   {
    "duration": 72,
    "start_time": "2024-05-03T05:56:00.124Z"
   },
   {
    "duration": 507,
    "start_time": "2024-05-03T05:56:00.198Z"
   },
   {
    "duration": 244,
    "start_time": "2024-05-03T05:56:00.706Z"
   },
   {
    "duration": 20,
    "start_time": "2024-05-03T05:56:00.951Z"
   },
   {
    "duration": 474,
    "start_time": "2024-05-03T05:56:00.973Z"
   },
   {
    "duration": 256,
    "start_time": "2024-05-03T05:56:01.449Z"
   },
   {
    "duration": 893,
    "start_time": "2024-05-03T05:56:01.707Z"
   },
   {
    "duration": 26,
    "start_time": "2024-05-03T05:56:02.602Z"
   },
   {
    "duration": 126,
    "start_time": "2024-05-03T05:56:02.630Z"
   },
   {
    "duration": 16,
    "start_time": "2024-05-03T05:56:02.757Z"
   },
   {
    "duration": 28,
    "start_time": "2024-05-03T05:56:02.775Z"
   },
   {
    "duration": 36,
    "start_time": "2024-05-03T05:56:02.805Z"
   },
   {
    "duration": 16,
    "start_time": "2024-05-03T05:56:02.843Z"
   },
   {
    "duration": 84,
    "start_time": "2024-05-03T05:56:02.860Z"
   },
   {
    "duration": 8,
    "start_time": "2024-05-03T05:56:14.356Z"
   },
   {
    "duration": 425,
    "start_time": "2024-05-03T05:57:21.196Z"
   },
   {
    "duration": 12,
    "start_time": "2024-05-03T05:57:35.329Z"
   },
   {
    "duration": 12,
    "start_time": "2024-05-03T06:00:33.360Z"
   },
   {
    "duration": 47,
    "start_time": "2024-05-03T06:05:00.563Z"
   },
   {
    "duration": 11,
    "start_time": "2024-05-03T06:05:15.409Z"
   },
   {
    "duration": 10,
    "start_time": "2024-05-03T06:05:27.791Z"
   },
   {
    "duration": 11,
    "start_time": "2024-05-03T06:05:34.827Z"
   },
   {
    "duration": 429,
    "start_time": "2024-05-03T06:05:45.839Z"
   },
   {
    "duration": 30,
    "start_time": "2024-05-03T06:05:46.269Z"
   },
   {
    "duration": 16,
    "start_time": "2024-05-03T06:05:46.300Z"
   },
   {
    "duration": 31,
    "start_time": "2024-05-03T06:05:46.318Z"
   },
   {
    "duration": 9,
    "start_time": "2024-05-03T06:05:46.351Z"
   },
   {
    "duration": 18,
    "start_time": "2024-05-03T06:05:46.362Z"
   },
   {
    "duration": 8,
    "start_time": "2024-05-03T06:05:46.381Z"
   },
   {
    "duration": 10,
    "start_time": "2024-05-03T06:05:46.391Z"
   },
   {
    "duration": 7,
    "start_time": "2024-05-03T06:05:46.403Z"
   },
   {
    "duration": 19,
    "start_time": "2024-05-03T06:05:46.413Z"
   },
   {
    "duration": 33,
    "start_time": "2024-05-03T06:05:46.434Z"
   },
   {
    "duration": 13,
    "start_time": "2024-05-03T06:05:46.469Z"
   },
   {
    "duration": 16,
    "start_time": "2024-05-03T06:05:46.484Z"
   },
   {
    "duration": 21,
    "start_time": "2024-05-03T06:05:46.501Z"
   },
   {
    "duration": 33,
    "start_time": "2024-05-03T06:05:46.523Z"
   },
   {
    "duration": 6,
    "start_time": "2024-05-03T06:05:46.557Z"
   },
   {
    "duration": 4,
    "start_time": "2024-05-03T06:05:46.564Z"
   },
   {
    "duration": 5,
    "start_time": "2024-05-03T06:05:46.570Z"
   },
   {
    "duration": 3,
    "start_time": "2024-05-03T06:05:46.577Z"
   },
   {
    "duration": 6,
    "start_time": "2024-05-03T06:05:46.581Z"
   },
   {
    "duration": 384,
    "start_time": "2024-05-03T06:05:46.589Z"
   },
   {
    "duration": 6,
    "start_time": "2024-05-03T06:05:46.975Z"
   },
   {
    "duration": 149,
    "start_time": "2024-05-03T06:05:46.982Z"
   },
   {
    "duration": 3,
    "start_time": "2024-05-03T06:05:47.132Z"
   },
   {
    "duration": 175,
    "start_time": "2024-05-03T06:05:47.137Z"
   },
   {
    "duration": 8,
    "start_time": "2024-05-03T06:05:47.314Z"
   },
   {
    "duration": 10,
    "start_time": "2024-05-03T06:05:47.323Z"
   },
   {
    "duration": 417,
    "start_time": "2024-05-03T06:05:47.336Z"
   },
   {
    "duration": 8,
    "start_time": "2024-05-03T06:05:47.755Z"
   },
   {
    "duration": 16,
    "start_time": "2024-05-03T06:05:47.765Z"
   },
   {
    "duration": 252,
    "start_time": "2024-05-03T06:05:47.782Z"
   },
   {
    "duration": 34,
    "start_time": "2024-05-03T06:05:48.036Z"
   },
   {
    "duration": 16,
    "start_time": "2024-05-03T06:05:48.072Z"
   },
   {
    "duration": 378,
    "start_time": "2024-05-03T06:05:48.090Z"
   },
   {
    "duration": 238,
    "start_time": "2024-05-03T06:05:48.470Z"
   },
   {
    "duration": 12,
    "start_time": "2024-05-03T06:05:48.710Z"
   },
   {
    "duration": 350,
    "start_time": "2024-05-03T06:05:48.724Z"
   },
   {
    "duration": 309,
    "start_time": "2024-05-03T06:05:49.076Z"
   },
   {
    "duration": 939,
    "start_time": "2024-05-03T06:05:49.387Z"
   },
   {
    "duration": 34,
    "start_time": "2024-05-03T06:05:50.328Z"
   },
   {
    "duration": 40,
    "start_time": "2024-05-03T06:05:50.363Z"
   },
   {
    "duration": 13,
    "start_time": "2024-05-03T06:05:50.404Z"
   },
   {
    "duration": 24,
    "start_time": "2024-05-03T06:05:50.419Z"
   },
   {
    "duration": 12,
    "start_time": "2024-05-03T06:05:50.444Z"
   },
   {
    "duration": 43,
    "start_time": "2024-05-03T06:05:50.460Z"
   },
   {
    "duration": 500,
    "start_time": "2024-05-03T06:05:50.505Z"
   },
   {
    "duration": 394,
    "start_time": "2024-05-06T06:38:45.132Z"
   },
   {
    "duration": 72,
    "start_time": "2024-05-06T06:38:45.528Z"
   },
   {
    "duration": 14,
    "start_time": "2024-05-06T06:38:45.601Z"
   },
   {
    "duration": 78,
    "start_time": "2024-05-06T06:38:45.617Z"
   },
   {
    "duration": 9,
    "start_time": "2024-05-06T06:38:45.697Z"
   },
   {
    "duration": 59,
    "start_time": "2024-05-06T06:38:45.707Z"
   },
   {
    "duration": 9,
    "start_time": "2024-05-06T06:38:45.768Z"
   },
   {
    "duration": 14,
    "start_time": "2024-05-06T06:38:45.780Z"
   },
   {
    "duration": 6,
    "start_time": "2024-05-06T06:38:45.796Z"
   },
   {
    "duration": 9,
    "start_time": "2024-05-06T06:38:45.804Z"
   },
   {
    "duration": 19,
    "start_time": "2024-05-06T06:38:45.815Z"
   },
   {
    "duration": 31,
    "start_time": "2024-05-06T06:38:45.835Z"
   },
   {
    "duration": 10,
    "start_time": "2024-05-06T06:38:45.867Z"
   },
   {
    "duration": 19,
    "start_time": "2024-05-06T06:38:45.879Z"
   },
   {
    "duration": 5,
    "start_time": "2024-05-06T06:38:45.899Z"
   },
   {
    "duration": 4,
    "start_time": "2024-05-06T06:38:45.906Z"
   },
   {
    "duration": 4,
    "start_time": "2024-05-06T06:38:45.911Z"
   },
   {
    "duration": 4,
    "start_time": "2024-05-06T06:38:45.917Z"
   },
   {
    "duration": 6,
    "start_time": "2024-05-06T06:38:45.923Z"
   },
   {
    "duration": 6,
    "start_time": "2024-05-06T06:38:45.931Z"
   },
   {
    "duration": 573,
    "start_time": "2024-05-06T06:38:45.967Z"
   },
   {
    "duration": 6,
    "start_time": "2024-05-06T06:38:46.542Z"
   },
   {
    "duration": 105,
    "start_time": "2024-05-06T06:38:46.549Z"
   },
   {
    "duration": 3,
    "start_time": "2024-05-06T06:38:46.664Z"
   },
   {
    "duration": 162,
    "start_time": "2024-05-06T06:38:46.668Z"
   },
   {
    "duration": 8,
    "start_time": "2024-05-06T06:38:46.831Z"
   },
   {
    "duration": 6,
    "start_time": "2024-05-06T06:38:46.840Z"
   },
   {
    "duration": 402,
    "start_time": "2024-05-06T06:38:46.847Z"
   },
   {
    "duration": 4,
    "start_time": "2024-05-06T06:38:47.251Z"
   },
   {
    "duration": 15,
    "start_time": "2024-05-06T06:38:47.256Z"
   },
   {
    "duration": 225,
    "start_time": "2024-05-06T06:38:47.272Z"
   },
   {
    "duration": 21,
    "start_time": "2024-05-06T06:38:47.498Z"
   },
   {
    "duration": 10,
    "start_time": "2024-05-06T06:38:47.520Z"
   },
   {
    "duration": 359,
    "start_time": "2024-05-06T06:38:47.532Z"
   },
   {
    "duration": 206,
    "start_time": "2024-05-06T06:38:47.893Z"
   },
   {
    "duration": 11,
    "start_time": "2024-05-06T06:38:48.100Z"
   },
   {
    "duration": 381,
    "start_time": "2024-05-06T06:38:48.112Z"
   },
   {
    "duration": 209,
    "start_time": "2024-05-06T06:38:48.494Z"
   },
   {
    "duration": 896,
    "start_time": "2024-05-06T06:38:48.704Z"
   },
   {
    "duration": 26,
    "start_time": "2024-05-06T06:38:49.602Z"
   },
   {
    "duration": 135,
    "start_time": "2024-05-06T06:38:49.633Z"
   },
   {
    "duration": 15,
    "start_time": "2024-05-06T06:38:49.770Z"
   },
   {
    "duration": 15,
    "start_time": "2024-05-06T06:38:49.786Z"
   },
   {
    "duration": 11,
    "start_time": "2024-05-06T06:38:49.803Z"
   },
   {
    "duration": 11,
    "start_time": "2024-05-06T06:38:49.815Z"
   },
   {
    "duration": 433,
    "start_time": "2024-05-06T06:38:49.828Z"
   },
   {
    "duration": 9,
    "start_time": "2024-05-06T06:39:04.833Z"
   },
   {
    "duration": 5,
    "start_time": "2024-05-06T08:02:05.020Z"
   },
   {
    "duration": 9,
    "start_time": "2024-05-06T08:20:20.654Z"
   },
   {
    "duration": 11,
    "start_time": "2024-05-06T08:20:54.090Z"
   },
   {
    "duration": 10,
    "start_time": "2024-05-06T08:21:00.021Z"
   },
   {
    "duration": 7,
    "start_time": "2024-05-06T08:24:24.377Z"
   },
   {
    "duration": 5,
    "start_time": "2024-05-06T08:34:56.169Z"
   },
   {
    "duration": 51,
    "start_time": "2024-05-06T12:26:51.879Z"
   },
   {
    "duration": 4,
    "start_time": "2024-05-06T12:27:12.386Z"
   },
   {
    "duration": 5,
    "start_time": "2024-05-06T12:28:56.512Z"
   },
   {
    "duration": 331,
    "start_time": "2024-05-06T12:31:57.346Z"
   },
   {
    "duration": 101,
    "start_time": "2024-05-06T12:31:57.678Z"
   },
   {
    "duration": 13,
    "start_time": "2024-05-06T12:31:57.780Z"
   },
   {
    "duration": 131,
    "start_time": "2024-05-06T12:31:57.794Z"
   },
   {
    "duration": 7,
    "start_time": "2024-05-06T12:31:57.927Z"
   },
   {
    "duration": 69,
    "start_time": "2024-05-06T12:31:57.935Z"
   },
   {
    "duration": 6,
    "start_time": "2024-05-06T12:31:58.005Z"
   },
   {
    "duration": 16,
    "start_time": "2024-05-06T12:31:58.012Z"
   },
   {
    "duration": 3,
    "start_time": "2024-05-06T12:31:58.030Z"
   },
   {
    "duration": 6,
    "start_time": "2024-05-06T12:31:58.034Z"
   },
   {
    "duration": 9,
    "start_time": "2024-05-06T12:31:58.042Z"
   },
   {
    "duration": 10,
    "start_time": "2024-05-06T12:31:58.053Z"
   },
   {
    "duration": 12,
    "start_time": "2024-05-06T12:31:58.065Z"
   },
   {
    "duration": 13,
    "start_time": "2024-05-06T12:31:58.080Z"
   },
   {
    "duration": 7,
    "start_time": "2024-05-06T12:31:58.094Z"
   },
   {
    "duration": 8,
    "start_time": "2024-05-06T12:31:58.103Z"
   },
   {
    "duration": 7,
    "start_time": "2024-05-06T12:31:58.112Z"
   },
   {
    "duration": 5,
    "start_time": "2024-05-06T12:31:58.120Z"
   },
   {
    "duration": 7,
    "start_time": "2024-05-06T12:31:58.126Z"
   },
   {
    "duration": 6,
    "start_time": "2024-05-06T12:31:58.135Z"
   },
   {
    "duration": 496,
    "start_time": "2024-05-06T12:31:58.142Z"
   },
   {
    "duration": 6,
    "start_time": "2024-05-06T12:31:58.639Z"
   },
   {
    "duration": 109,
    "start_time": "2024-05-06T12:31:58.646Z"
   },
   {
    "duration": 3,
    "start_time": "2024-05-06T12:31:58.756Z"
   },
   {
    "duration": 140,
    "start_time": "2024-05-06T12:31:58.760Z"
   },
   {
    "duration": 7,
    "start_time": "2024-05-06T12:31:58.902Z"
   },
   {
    "duration": 4,
    "start_time": "2024-05-06T12:31:58.910Z"
   },
   {
    "duration": 329,
    "start_time": "2024-05-06T12:31:58.915Z"
   },
   {
    "duration": 4,
    "start_time": "2024-05-06T12:31:59.246Z"
   },
   {
    "duration": 15,
    "start_time": "2024-05-06T12:31:59.251Z"
   },
   {
    "duration": 199,
    "start_time": "2024-05-06T12:31:59.267Z"
   },
   {
    "duration": 33,
    "start_time": "2024-05-06T12:31:59.467Z"
   },
   {
    "duration": 11,
    "start_time": "2024-05-06T12:31:59.502Z"
   },
   {
    "duration": 294,
    "start_time": "2024-05-06T12:31:59.515Z"
   },
   {
    "duration": 196,
    "start_time": "2024-05-06T12:31:59.811Z"
   },
   {
    "duration": 11,
    "start_time": "2024-05-06T12:32:00.008Z"
   },
   {
    "duration": 371,
    "start_time": "2024-05-06T12:32:00.020Z"
   },
   {
    "duration": 182,
    "start_time": "2024-05-06T12:32:00.392Z"
   },
   {
    "duration": 729,
    "start_time": "2024-05-06T12:32:00.576Z"
   },
   {
    "duration": 23,
    "start_time": "2024-05-06T12:32:01.306Z"
   },
   {
    "duration": 152,
    "start_time": "2024-05-06T12:32:01.332Z"
   },
   {
    "duration": 12,
    "start_time": "2024-05-06T12:32:01.485Z"
   },
   {
    "duration": 45,
    "start_time": "2024-05-06T12:32:01.498Z"
   },
   {
    "duration": 31,
    "start_time": "2024-05-06T12:32:01.544Z"
   },
   {
    "duration": 19,
    "start_time": "2024-05-06T12:32:01.576Z"
   },
   {
    "duration": 424,
    "start_time": "2024-05-06T12:32:01.597Z"
   },
   {
    "duration": 6,
    "start_time": "2024-05-06T12:32:02.022Z"
   },
   {
    "duration": 23,
    "start_time": "2024-05-06T12:32:02.030Z"
   },
   {
    "duration": 137,
    "start_time": "2024-05-06T12:32:02.054Z"
   },
   {
    "duration": 25,
    "start_time": "2024-05-06T12:39:42.097Z"
   },
   {
    "duration": 22,
    "start_time": "2024-05-06T12:41:39.029Z"
   },
   {
    "duration": 23,
    "start_time": "2024-05-06T12:42:32.045Z"
   },
   {
    "duration": 24,
    "start_time": "2024-05-06T12:42:38.806Z"
   },
   {
    "duration": 315,
    "start_time": "2024-05-06T12:42:56.242Z"
   },
   {
    "duration": 27,
    "start_time": "2024-05-06T12:42:56.559Z"
   },
   {
    "duration": 12,
    "start_time": "2024-05-06T12:42:56.587Z"
   },
   {
    "duration": 30,
    "start_time": "2024-05-06T12:42:56.601Z"
   },
   {
    "duration": 7,
    "start_time": "2024-05-06T12:42:56.633Z"
   },
   {
    "duration": 19,
    "start_time": "2024-05-06T12:42:56.641Z"
   },
   {
    "duration": 6,
    "start_time": "2024-05-06T12:42:56.661Z"
   },
   {
    "duration": 8,
    "start_time": "2024-05-06T12:42:56.668Z"
   },
   {
    "duration": 6,
    "start_time": "2024-05-06T12:42:56.677Z"
   },
   {
    "duration": 9,
    "start_time": "2024-05-06T12:42:56.685Z"
   },
   {
    "duration": 10,
    "start_time": "2024-05-06T12:42:56.696Z"
   },
   {
    "duration": 9,
    "start_time": "2024-05-06T12:42:56.707Z"
   },
   {
    "duration": 12,
    "start_time": "2024-05-06T12:42:56.718Z"
   },
   {
    "duration": 8,
    "start_time": "2024-05-06T12:42:56.732Z"
   },
   {
    "duration": 4,
    "start_time": "2024-05-06T12:42:56.741Z"
   },
   {
    "duration": 3,
    "start_time": "2024-05-06T12:42:56.746Z"
   },
   {
    "duration": 34,
    "start_time": "2024-05-06T12:42:56.750Z"
   },
   {
    "duration": 4,
    "start_time": "2024-05-06T12:42:56.786Z"
   },
   {
    "duration": 4,
    "start_time": "2024-05-06T12:42:56.791Z"
   },
   {
    "duration": 16,
    "start_time": "2024-05-06T12:42:56.797Z"
   },
   {
    "duration": 331,
    "start_time": "2024-05-06T12:42:56.814Z"
   },
   {
    "duration": 6,
    "start_time": "2024-05-06T12:42:57.146Z"
   },
   {
    "duration": 103,
    "start_time": "2024-05-06T12:42:57.153Z"
   },
   {
    "duration": 2,
    "start_time": "2024-05-06T12:42:57.258Z"
   },
   {
    "duration": 141,
    "start_time": "2024-05-06T12:42:57.261Z"
   },
   {
    "duration": 7,
    "start_time": "2024-05-06T12:42:57.403Z"
   },
   {
    "duration": 6,
    "start_time": "2024-05-06T12:42:57.411Z"
   },
   {
    "duration": 324,
    "start_time": "2024-05-06T12:42:57.418Z"
   },
   {
    "duration": 4,
    "start_time": "2024-05-06T12:42:57.744Z"
   },
   {
    "duration": 24,
    "start_time": "2024-05-06T12:42:57.749Z"
   },
   {
    "duration": 180,
    "start_time": "2024-05-06T12:42:57.774Z"
   },
   {
    "duration": 19,
    "start_time": "2024-05-06T12:42:57.955Z"
   },
   {
    "duration": 16,
    "start_time": "2024-05-06T12:42:57.975Z"
   },
   {
    "duration": 301,
    "start_time": "2024-05-06T12:42:57.993Z"
   },
   {
    "duration": 189,
    "start_time": "2024-05-06T12:42:58.295Z"
   },
   {
    "duration": 10,
    "start_time": "2024-05-06T12:42:58.485Z"
   },
   {
    "duration": 267,
    "start_time": "2024-05-06T12:42:58.496Z"
   },
   {
    "duration": 229,
    "start_time": "2024-05-06T12:42:58.764Z"
   },
   {
    "duration": 710,
    "start_time": "2024-05-06T12:42:58.994Z"
   },
   {
    "duration": 23,
    "start_time": "2024-05-06T12:42:59.706Z"
   },
   {
    "duration": 33,
    "start_time": "2024-05-06T12:42:59.732Z"
   },
   {
    "duration": 26,
    "start_time": "2024-05-06T12:42:59.767Z"
   },
   {
    "duration": 19,
    "start_time": "2024-05-06T12:42:59.794Z"
   },
   {
    "duration": 21,
    "start_time": "2024-05-06T12:42:59.814Z"
   },
   {
    "duration": 21,
    "start_time": "2024-05-06T12:42:59.836Z"
   },
   {
    "duration": 443,
    "start_time": "2024-05-06T12:42:59.858Z"
   },
   {
    "duration": 5,
    "start_time": "2024-05-06T12:43:00.302Z"
   },
   {
    "duration": 81,
    "start_time": "2024-05-06T12:43:00.308Z"
   },
   {
    "duration": 196,
    "start_time": "2024-05-06T12:43:00.390Z"
   },
   {
    "duration": 25,
    "start_time": "2024-05-06T12:43:20.219Z"
   },
   {
    "duration": 22,
    "start_time": "2024-05-06T12:44:10.213Z"
   },
   {
    "duration": 22,
    "start_time": "2024-05-06T12:44:16.486Z"
   },
   {
    "duration": 6,
    "start_time": "2024-05-06T12:45:07.118Z"
   },
   {
    "duration": 8,
    "start_time": "2024-05-06T12:45:51.050Z"
   },
   {
    "duration": 14,
    "start_time": "2024-05-06T12:46:44.759Z"
   },
   {
    "duration": 406,
    "start_time": "2024-05-06T12:46:52.772Z"
   },
   {
    "duration": 28,
    "start_time": "2024-05-06T12:46:53.180Z"
   },
   {
    "duration": 13,
    "start_time": "2024-05-06T12:46:53.209Z"
   },
   {
    "duration": 24,
    "start_time": "2024-05-06T12:46:53.223Z"
   },
   {
    "duration": 7,
    "start_time": "2024-05-06T12:46:53.249Z"
   },
   {
    "duration": 17,
    "start_time": "2024-05-06T12:46:53.257Z"
   },
   {
    "duration": 6,
    "start_time": "2024-05-06T12:46:53.275Z"
   },
   {
    "duration": 9,
    "start_time": "2024-05-06T12:46:53.282Z"
   },
   {
    "duration": 6,
    "start_time": "2024-05-06T12:46:53.292Z"
   },
   {
    "duration": 11,
    "start_time": "2024-05-06T12:46:53.300Z"
   },
   {
    "duration": 11,
    "start_time": "2024-05-06T12:46:53.313Z"
   },
   {
    "duration": 9,
    "start_time": "2024-05-06T12:46:53.326Z"
   },
   {
    "duration": 8,
    "start_time": "2024-05-06T12:46:53.337Z"
   },
   {
    "duration": 3,
    "start_time": "2024-05-06T12:46:53.348Z"
   },
   {
    "duration": 5,
    "start_time": "2024-05-06T12:46:53.353Z"
   },
   {
    "duration": 27,
    "start_time": "2024-05-06T12:46:53.360Z"
   },
   {
    "duration": 4,
    "start_time": "2024-05-06T12:46:53.388Z"
   },
   {
    "duration": 6,
    "start_time": "2024-05-06T12:46:53.393Z"
   },
   {
    "duration": 4,
    "start_time": "2024-05-06T12:46:53.400Z"
   },
   {
    "duration": 5,
    "start_time": "2024-05-06T12:46:53.405Z"
   },
   {
    "duration": 356,
    "start_time": "2024-05-06T12:46:53.411Z"
   },
   {
    "duration": 6,
    "start_time": "2024-05-06T12:46:53.769Z"
   },
   {
    "duration": 103,
    "start_time": "2024-05-06T12:46:53.776Z"
   },
   {
    "duration": 3,
    "start_time": "2024-05-06T12:46:53.884Z"
   },
   {
    "duration": 151,
    "start_time": "2024-05-06T12:46:53.888Z"
   },
   {
    "duration": 7,
    "start_time": "2024-05-06T12:46:54.041Z"
   },
   {
    "duration": 4,
    "start_time": "2024-05-06T12:46:54.049Z"
   },
   {
    "duration": 357,
    "start_time": "2024-05-06T12:46:54.054Z"
   },
   {
    "duration": 4,
    "start_time": "2024-05-06T12:46:54.413Z"
   },
   {
    "duration": 19,
    "start_time": "2024-05-06T12:46:54.418Z"
   },
   {
    "duration": 199,
    "start_time": "2024-05-06T12:46:54.438Z"
   },
   {
    "duration": 18,
    "start_time": "2024-05-06T12:46:54.639Z"
   },
   {
    "duration": 10,
    "start_time": "2024-05-06T12:46:54.658Z"
   },
   {
    "duration": 331,
    "start_time": "2024-05-06T12:46:54.670Z"
   },
   {
    "duration": 210,
    "start_time": "2024-05-06T12:46:55.003Z"
   },
   {
    "duration": 11,
    "start_time": "2024-05-06T12:46:55.214Z"
   },
   {
    "duration": 323,
    "start_time": "2024-05-06T12:46:55.226Z"
   },
   {
    "duration": 263,
    "start_time": "2024-05-06T12:46:55.551Z"
   },
   {
    "duration": 791,
    "start_time": "2024-05-06T12:46:55.815Z"
   },
   {
    "duration": 22,
    "start_time": "2024-05-06T12:46:56.607Z"
   },
   {
    "duration": 36,
    "start_time": "2024-05-06T12:46:56.633Z"
   },
   {
    "duration": 16,
    "start_time": "2024-05-06T12:46:56.685Z"
   },
   {
    "duration": 11,
    "start_time": "2024-05-06T12:46:56.703Z"
   },
   {
    "duration": 7,
    "start_time": "2024-05-06T12:46:56.715Z"
   },
   {
    "duration": 11,
    "start_time": "2024-05-06T12:46:56.724Z"
   },
   {
    "duration": 491,
    "start_time": "2024-05-06T12:46:56.736Z"
   },
   {
    "duration": 7,
    "start_time": "2024-05-06T12:46:57.228Z"
   },
   {
    "duration": 6,
    "start_time": "2024-05-06T12:46:57.236Z"
   },
   {
    "duration": 10,
    "start_time": "2024-05-06T12:46:57.244Z"
   },
   {
    "duration": 6,
    "start_time": "2024-05-06T12:47:35.386Z"
   },
   {
    "duration": 5,
    "start_time": "2024-05-06T12:47:51.408Z"
   },
   {
    "duration": 5,
    "start_time": "2024-05-06T12:48:04.885Z"
   },
   {
    "duration": 8,
    "start_time": "2024-05-06T12:56:06.301Z"
   },
   {
    "duration": 7,
    "start_time": "2024-05-06T12:58:18.930Z"
   },
   {
    "duration": 8,
    "start_time": "2024-05-06T12:58:31.832Z"
   },
   {
    "duration": 11,
    "start_time": "2024-05-06T13:05:02.499Z"
   },
   {
    "duration": 11,
    "start_time": "2024-05-06T13:05:35.431Z"
   },
   {
    "duration": 14,
    "start_time": "2024-05-06T13:05:43.847Z"
   },
   {
    "duration": 124,
    "start_time": "2024-05-06T13:07:35.308Z"
   },
   {
    "duration": 30,
    "start_time": "2024-05-06T13:07:44.070Z"
   },
   {
    "duration": 16,
    "start_time": "2024-05-06T13:08:05.797Z"
   },
   {
    "duration": 12,
    "start_time": "2024-05-06T13:08:16.493Z"
   },
   {
    "duration": 8,
    "start_time": "2024-05-06T13:10:58.250Z"
   },
   {
    "duration": 9,
    "start_time": "2024-05-06T13:11:29.921Z"
   },
   {
    "duration": 1081,
    "start_time": "2024-05-06T13:12:20.153Z"
   },
   {
    "duration": 1131,
    "start_time": "2024-05-06T13:17:56.985Z"
   },
   {
    "duration": 7,
    "start_time": "2024-05-06T13:51:35.610Z"
   },
   {
    "duration": 12,
    "start_time": "2024-05-06T14:03:25.744Z"
   },
   {
    "duration": 12,
    "start_time": "2024-05-06T14:03:54.066Z"
   },
   {
    "duration": 11,
    "start_time": "2024-05-06T14:04:12.364Z"
   },
   {
    "duration": 354,
    "start_time": "2024-05-06T14:04:19.591Z"
   },
   {
    "duration": 27,
    "start_time": "2024-05-06T14:04:19.947Z"
   },
   {
    "duration": 11,
    "start_time": "2024-05-06T14:04:19.975Z"
   },
   {
    "duration": 25,
    "start_time": "2024-05-06T14:04:19.987Z"
   },
   {
    "duration": 7,
    "start_time": "2024-05-06T14:04:20.014Z"
   },
   {
    "duration": 24,
    "start_time": "2024-05-06T14:04:20.022Z"
   },
   {
    "duration": 9,
    "start_time": "2024-05-06T14:04:20.047Z"
   },
   {
    "duration": 11,
    "start_time": "2024-05-06T14:04:20.057Z"
   },
   {
    "duration": 3,
    "start_time": "2024-05-06T14:04:20.069Z"
   },
   {
    "duration": 13,
    "start_time": "2024-05-06T14:04:20.073Z"
   },
   {
    "duration": 10,
    "start_time": "2024-05-06T14:04:20.087Z"
   },
   {
    "duration": 10,
    "start_time": "2024-05-06T14:04:20.098Z"
   },
   {
    "duration": 8,
    "start_time": "2024-05-06T14:04:20.109Z"
   },
   {
    "duration": 4,
    "start_time": "2024-05-06T14:04:20.119Z"
   },
   {
    "duration": 5,
    "start_time": "2024-05-06T14:04:20.124Z"
   },
   {
    "duration": 5,
    "start_time": "2024-05-06T14:04:20.131Z"
   },
   {
    "duration": 18,
    "start_time": "2024-05-06T14:04:20.137Z"
   },
   {
    "duration": 3,
    "start_time": "2024-05-06T14:04:20.157Z"
   },
   {
    "duration": 4,
    "start_time": "2024-05-06T14:04:20.162Z"
   },
   {
    "duration": 5,
    "start_time": "2024-05-06T14:04:20.167Z"
   },
   {
    "duration": 317,
    "start_time": "2024-05-06T14:04:20.184Z"
   },
   {
    "duration": 6,
    "start_time": "2024-05-06T14:04:20.502Z"
   },
   {
    "duration": 93,
    "start_time": "2024-05-06T14:04:20.509Z"
   },
   {
    "duration": 3,
    "start_time": "2024-05-06T14:04:20.603Z"
   },
   {
    "duration": 155,
    "start_time": "2024-05-06T14:04:20.607Z"
   },
   {
    "duration": 7,
    "start_time": "2024-05-06T14:04:20.763Z"
   },
   {
    "duration": 13,
    "start_time": "2024-05-06T14:04:20.771Z"
   },
   {
    "duration": 309,
    "start_time": "2024-05-06T14:04:20.785Z"
   },
   {
    "duration": 4,
    "start_time": "2024-05-06T14:04:21.095Z"
   },
   {
    "duration": 11,
    "start_time": "2024-05-06T14:04:21.100Z"
   },
   {
    "duration": 185,
    "start_time": "2024-05-06T14:04:21.112Z"
   },
   {
    "duration": 17,
    "start_time": "2024-05-06T14:04:21.299Z"
   },
   {
    "duration": 11,
    "start_time": "2024-05-06T14:04:21.318Z"
   },
   {
    "duration": 299,
    "start_time": "2024-05-06T14:04:21.330Z"
   },
   {
    "duration": 182,
    "start_time": "2024-05-06T14:04:21.630Z"
   },
   {
    "duration": 10,
    "start_time": "2024-05-06T14:04:21.814Z"
   },
   {
    "duration": 270,
    "start_time": "2024-05-06T14:04:21.825Z"
   },
   {
    "duration": 238,
    "start_time": "2024-05-06T14:04:22.096Z"
   },
   {
    "duration": 728,
    "start_time": "2024-05-06T14:04:22.336Z"
   },
   {
    "duration": 29,
    "start_time": "2024-05-06T14:04:23.065Z"
   },
   {
    "duration": 32,
    "start_time": "2024-05-06T14:04:23.097Z"
   },
   {
    "duration": 10,
    "start_time": "2024-05-06T14:04:23.130Z"
   },
   {
    "duration": 9,
    "start_time": "2024-05-06T14:04:23.141Z"
   },
   {
    "duration": 6,
    "start_time": "2024-05-06T14:04:23.151Z"
   },
   {
    "duration": 26,
    "start_time": "2024-05-06T14:04:23.158Z"
   },
   {
    "duration": 415,
    "start_time": "2024-05-06T14:04:23.185Z"
   },
   {
    "duration": 6,
    "start_time": "2024-05-06T14:04:23.601Z"
   },
   {
    "duration": 15,
    "start_time": "2024-05-06T14:04:23.608Z"
   },
   {
    "duration": 33,
    "start_time": "2024-05-06T14:04:23.625Z"
   },
   {
    "duration": 51,
    "start_time": "2024-05-06T14:04:23.659Z"
   },
   {
    "duration": 4,
    "start_time": "2024-05-06T14:10:17.820Z"
   },
   {
    "duration": 393,
    "start_time": "2024-05-06T14:10:28.383Z"
   },
   {
    "duration": 27,
    "start_time": "2024-05-06T14:10:28.778Z"
   },
   {
    "duration": 19,
    "start_time": "2024-05-06T14:10:28.807Z"
   },
   {
    "duration": 27,
    "start_time": "2024-05-06T14:10:28.827Z"
   },
   {
    "duration": 7,
    "start_time": "2024-05-06T14:10:28.856Z"
   },
   {
    "duration": 17,
    "start_time": "2024-05-06T14:10:28.864Z"
   },
   {
    "duration": 7,
    "start_time": "2024-05-06T14:10:28.883Z"
   },
   {
    "duration": 15,
    "start_time": "2024-05-06T14:10:28.892Z"
   },
   {
    "duration": 8,
    "start_time": "2024-05-06T14:10:28.909Z"
   },
   {
    "duration": 9,
    "start_time": "2024-05-06T14:10:28.918Z"
   },
   {
    "duration": 10,
    "start_time": "2024-05-06T14:10:28.928Z"
   },
   {
    "duration": 16,
    "start_time": "2024-05-06T14:10:28.939Z"
   },
   {
    "duration": 8,
    "start_time": "2024-05-06T14:10:28.956Z"
   },
   {
    "duration": 17,
    "start_time": "2024-05-06T14:10:28.967Z"
   },
   {
    "duration": 5,
    "start_time": "2024-05-06T14:10:28.986Z"
   },
   {
    "duration": 19,
    "start_time": "2024-05-06T14:10:28.993Z"
   },
   {
    "duration": 29,
    "start_time": "2024-05-06T14:10:29.013Z"
   },
   {
    "duration": 8,
    "start_time": "2024-05-06T14:10:29.044Z"
   },
   {
    "duration": 5,
    "start_time": "2024-05-06T14:10:29.054Z"
   },
   {
    "duration": 10,
    "start_time": "2024-05-06T14:10:29.060Z"
   },
   {
    "duration": 350,
    "start_time": "2024-05-06T14:10:29.071Z"
   },
   {
    "duration": 5,
    "start_time": "2024-05-06T14:10:29.422Z"
   },
   {
    "duration": 130,
    "start_time": "2024-05-06T14:10:29.429Z"
   },
   {
    "duration": 3,
    "start_time": "2024-05-06T14:10:29.561Z"
   },
   {
    "duration": 154,
    "start_time": "2024-05-06T14:10:29.565Z"
   },
   {
    "duration": 8,
    "start_time": "2024-05-06T14:10:29.720Z"
   },
   {
    "duration": 3,
    "start_time": "2024-05-06T14:10:29.729Z"
   },
   {
    "duration": 340,
    "start_time": "2024-05-06T14:10:29.734Z"
   },
   {
    "duration": 11,
    "start_time": "2024-05-06T14:10:30.076Z"
   },
   {
    "duration": 44,
    "start_time": "2024-05-06T14:10:30.088Z"
   },
   {
    "duration": 253,
    "start_time": "2024-05-06T14:10:30.133Z"
   },
   {
    "duration": 17,
    "start_time": "2024-05-06T14:10:30.387Z"
   },
   {
    "duration": 60,
    "start_time": "2024-05-06T14:10:30.405Z"
   },
   {
    "duration": 393,
    "start_time": "2024-05-06T14:10:30.466Z"
   },
   {
    "duration": 196,
    "start_time": "2024-05-06T14:10:30.860Z"
   },
   {
    "duration": 9,
    "start_time": "2024-05-06T14:10:31.058Z"
   },
   {
    "duration": 321,
    "start_time": "2024-05-06T14:10:31.068Z"
   },
   {
    "duration": 255,
    "start_time": "2024-05-06T14:10:31.390Z"
   },
   {
    "duration": 797,
    "start_time": "2024-05-06T14:10:31.646Z"
   },
   {
    "duration": 24,
    "start_time": "2024-05-06T14:10:32.444Z"
   },
   {
    "duration": 52,
    "start_time": "2024-05-06T14:10:32.471Z"
   },
   {
    "duration": 13,
    "start_time": "2024-05-06T14:10:32.524Z"
   },
   {
    "duration": 35,
    "start_time": "2024-05-06T14:10:32.538Z"
   },
   {
    "duration": 3,
    "start_time": "2024-05-06T14:10:32.574Z"
   },
   {
    "duration": 11,
    "start_time": "2024-05-06T14:10:32.579Z"
   },
   {
    "duration": 434,
    "start_time": "2024-05-06T14:10:32.591Z"
   },
   {
    "duration": 6,
    "start_time": "2024-05-06T14:10:33.027Z"
   },
   {
    "duration": 14,
    "start_time": "2024-05-06T14:10:33.035Z"
   },
   {
    "duration": 22,
    "start_time": "2024-05-06T14:10:33.050Z"
   },
   {
    "duration": 8,
    "start_time": "2024-05-06T14:10:33.073Z"
   },
   {
    "duration": 14,
    "start_time": "2024-05-06T14:11:14.925Z"
   },
   {
    "duration": 5,
    "start_time": "2024-05-06T14:11:23.869Z"
   },
   {
    "duration": 7,
    "start_time": "2024-05-06T14:11:55.498Z"
   },
   {
    "duration": 5,
    "start_time": "2024-05-06T14:11:57.090Z"
   },
   {
    "duration": 420,
    "start_time": "2024-05-06T14:27:53.266Z"
   },
   {
    "duration": 30,
    "start_time": "2024-05-06T14:27:53.688Z"
   },
   {
    "duration": 14,
    "start_time": "2024-05-06T14:27:53.719Z"
   },
   {
    "duration": 40,
    "start_time": "2024-05-06T14:27:53.735Z"
   },
   {
    "duration": 8,
    "start_time": "2024-05-06T14:27:53.778Z"
   },
   {
    "duration": 16,
    "start_time": "2024-05-06T14:27:53.787Z"
   },
   {
    "duration": 5,
    "start_time": "2024-05-06T14:27:53.805Z"
   },
   {
    "duration": 9,
    "start_time": "2024-05-06T14:27:53.811Z"
   },
   {
    "duration": 4,
    "start_time": "2024-05-06T14:27:53.821Z"
   },
   {
    "duration": 12,
    "start_time": "2024-05-06T14:27:53.826Z"
   },
   {
    "duration": 12,
    "start_time": "2024-05-06T14:27:53.839Z"
   },
   {
    "duration": 17,
    "start_time": "2024-05-06T14:27:53.853Z"
   },
   {
    "duration": 15,
    "start_time": "2024-05-06T14:27:53.871Z"
   },
   {
    "duration": 4,
    "start_time": "2024-05-06T14:27:53.889Z"
   },
   {
    "duration": 8,
    "start_time": "2024-05-06T14:27:53.894Z"
   },
   {
    "duration": 8,
    "start_time": "2024-05-06T14:27:53.903Z"
   },
   {
    "duration": 11,
    "start_time": "2024-05-06T14:27:53.912Z"
   },
   {
    "duration": 5,
    "start_time": "2024-05-06T14:27:53.924Z"
   },
   {
    "duration": 7,
    "start_time": "2024-05-06T14:27:53.930Z"
   },
   {
    "duration": 8,
    "start_time": "2024-05-06T14:27:53.938Z"
   },
   {
    "duration": 351,
    "start_time": "2024-05-06T14:27:53.947Z"
   },
   {
    "duration": 6,
    "start_time": "2024-05-06T14:27:54.299Z"
   },
   {
    "duration": 108,
    "start_time": "2024-05-06T14:27:54.307Z"
   },
   {
    "duration": 3,
    "start_time": "2024-05-06T14:27:54.417Z"
   },
   {
    "duration": 172,
    "start_time": "2024-05-06T14:27:54.421Z"
   },
   {
    "duration": 8,
    "start_time": "2024-05-06T14:27:54.595Z"
   },
   {
    "duration": 12,
    "start_time": "2024-05-06T14:27:54.604Z"
   },
   {
    "duration": 363,
    "start_time": "2024-05-06T14:27:54.617Z"
   },
   {
    "duration": 5,
    "start_time": "2024-05-06T14:27:54.985Z"
   },
   {
    "duration": 16,
    "start_time": "2024-05-06T14:27:54.992Z"
   },
   {
    "duration": 214,
    "start_time": "2024-05-06T14:27:55.010Z"
   },
   {
    "duration": 19,
    "start_time": "2024-05-06T14:27:55.226Z"
   },
   {
    "duration": 11,
    "start_time": "2024-05-06T14:27:55.247Z"
   },
   {
    "duration": 336,
    "start_time": "2024-05-06T14:27:55.259Z"
   },
   {
    "duration": 204,
    "start_time": "2024-05-06T14:27:55.596Z"
   },
   {
    "duration": 11,
    "start_time": "2024-05-06T14:27:55.801Z"
   },
   {
    "duration": 301,
    "start_time": "2024-05-06T14:27:55.814Z"
   },
   {
    "duration": 261,
    "start_time": "2024-05-06T14:27:56.117Z"
   },
   {
    "duration": 808,
    "start_time": "2024-05-06T14:27:56.380Z"
   },
   {
    "duration": 26,
    "start_time": "2024-05-06T14:27:57.190Z"
   },
   {
    "duration": 39,
    "start_time": "2024-05-06T14:27:57.221Z"
   },
   {
    "duration": 34,
    "start_time": "2024-05-06T14:27:57.262Z"
   },
   {
    "duration": 11,
    "start_time": "2024-05-06T14:27:57.298Z"
   },
   {
    "duration": 21,
    "start_time": "2024-05-06T14:27:57.311Z"
   },
   {
    "duration": 13,
    "start_time": "2024-05-06T14:27:57.333Z"
   },
   {
    "duration": 476,
    "start_time": "2024-05-06T14:27:57.347Z"
   },
   {
    "duration": 6,
    "start_time": "2024-05-06T14:27:57.824Z"
   },
   {
    "duration": 5,
    "start_time": "2024-05-06T14:27:57.831Z"
   },
   {
    "duration": 7,
    "start_time": "2024-05-06T14:27:57.837Z"
   },
   {
    "duration": 4,
    "start_time": "2024-05-06T14:27:57.845Z"
   },
   {
    "duration": 398,
    "start_time": "2024-05-06T15:04:46.537Z"
   },
   {
    "duration": 72,
    "start_time": "2024-05-06T15:04:46.936Z"
   },
   {
    "duration": 15,
    "start_time": "2024-05-06T15:04:47.009Z"
   },
   {
    "duration": 78,
    "start_time": "2024-05-06T15:04:47.025Z"
   },
   {
    "duration": 9,
    "start_time": "2024-05-06T15:04:47.106Z"
   },
   {
    "duration": 61,
    "start_time": "2024-05-06T15:04:47.116Z"
   },
   {
    "duration": 7,
    "start_time": "2024-05-06T15:04:47.179Z"
   },
   {
    "duration": 9,
    "start_time": "2024-05-06T15:04:47.188Z"
   },
   {
    "duration": 5,
    "start_time": "2024-05-06T15:04:47.199Z"
   },
   {
    "duration": 10,
    "start_time": "2024-05-06T15:04:47.206Z"
   },
   {
    "duration": 15,
    "start_time": "2024-05-06T15:04:47.217Z"
   },
   {
    "duration": 13,
    "start_time": "2024-05-06T15:04:47.233Z"
   },
   {
    "duration": 9,
    "start_time": "2024-05-06T15:04:47.247Z"
   },
   {
    "duration": 7,
    "start_time": "2024-05-06T15:04:47.259Z"
   },
   {
    "duration": 6,
    "start_time": "2024-05-06T15:04:47.268Z"
   },
   {
    "duration": 16,
    "start_time": "2024-05-06T15:04:47.275Z"
   },
   {
    "duration": 7,
    "start_time": "2024-05-06T15:04:47.293Z"
   },
   {
    "duration": 5,
    "start_time": "2024-05-06T15:04:47.301Z"
   },
   {
    "duration": 13,
    "start_time": "2024-05-06T15:04:47.307Z"
   },
   {
    "duration": 3,
    "start_time": "2024-05-06T15:04:47.322Z"
   },
   {
    "duration": 496,
    "start_time": "2024-05-06T15:04:47.327Z"
   },
   {
    "duration": 6,
    "start_time": "2024-05-06T15:04:47.825Z"
   },
   {
    "duration": 126,
    "start_time": "2024-05-06T15:04:47.832Z"
   },
   {
    "duration": 4,
    "start_time": "2024-05-06T15:04:47.959Z"
   },
   {
    "duration": 201,
    "start_time": "2024-05-06T15:04:47.965Z"
   },
   {
    "duration": 9,
    "start_time": "2024-05-06T15:04:48.168Z"
   },
   {
    "duration": 10,
    "start_time": "2024-05-06T15:04:48.179Z"
   },
   {
    "duration": 431,
    "start_time": "2024-05-06T15:04:48.191Z"
   },
   {
    "duration": 5,
    "start_time": "2024-05-06T15:04:48.623Z"
   },
   {
    "duration": 21,
    "start_time": "2024-05-06T15:04:48.629Z"
   },
   {
    "duration": 261,
    "start_time": "2024-05-06T15:04:48.652Z"
   },
   {
    "duration": 21,
    "start_time": "2024-05-06T15:04:48.920Z"
   },
   {
    "duration": 13,
    "start_time": "2024-05-06T15:04:48.942Z"
   },
   {
    "duration": 381,
    "start_time": "2024-05-06T15:04:48.956Z"
   },
   {
    "duration": 251,
    "start_time": "2024-05-06T15:04:49.338Z"
   },
   {
    "duration": 12,
    "start_time": "2024-05-06T15:04:49.590Z"
   },
   {
    "duration": 459,
    "start_time": "2024-05-06T15:04:49.603Z"
   },
   {
    "duration": 239,
    "start_time": "2024-05-06T15:04:50.063Z"
   },
   {
    "duration": 958,
    "start_time": "2024-05-06T15:04:50.304Z"
   },
   {
    "duration": 28,
    "start_time": "2024-05-06T15:04:51.263Z"
   },
   {
    "duration": 181,
    "start_time": "2024-05-06T15:04:51.297Z"
   },
   {
    "duration": 14,
    "start_time": "2024-05-06T15:04:51.480Z"
   },
   {
    "duration": 36,
    "start_time": "2024-05-06T15:04:51.496Z"
   },
   {
    "duration": 14,
    "start_time": "2024-05-06T15:04:51.534Z"
   },
   {
    "duration": 40,
    "start_time": "2024-05-06T15:04:51.550Z"
   },
   {
    "duration": 455,
    "start_time": "2024-05-06T15:04:51.592Z"
   },
   {
    "duration": 8,
    "start_time": "2024-05-06T15:04:52.049Z"
   },
   {
    "duration": 17,
    "start_time": "2024-05-06T15:04:52.058Z"
   },
   {
    "duration": 23,
    "start_time": "2024-05-06T15:04:52.077Z"
   },
   {
    "duration": 4,
    "start_time": "2024-05-06T15:04:52.102Z"
   },
   {
    "duration": 10,
    "start_time": "2024-05-06T15:07:16.275Z"
   },
   {
    "duration": 19,
    "start_time": "2024-05-06T15:10:20.112Z"
   },
   {
    "duration": 6,
    "start_time": "2024-05-06T15:13:37.181Z"
   },
   {
    "duration": 406,
    "start_time": "2024-05-06T15:19:07.954Z"
   },
   {
    "duration": 28,
    "start_time": "2024-05-06T15:19:08.362Z"
   },
   {
    "duration": 14,
    "start_time": "2024-05-06T15:19:08.392Z"
   },
   {
    "duration": 37,
    "start_time": "2024-05-06T15:19:08.407Z"
   },
   {
    "duration": 8,
    "start_time": "2024-05-06T15:19:08.446Z"
   },
   {
    "duration": 24,
    "start_time": "2024-05-06T15:19:08.455Z"
   },
   {
    "duration": 6,
    "start_time": "2024-05-06T15:19:08.481Z"
   },
   {
    "duration": 16,
    "start_time": "2024-05-06T15:19:08.489Z"
   },
   {
    "duration": 4,
    "start_time": "2024-05-06T15:19:08.507Z"
   },
   {
    "duration": 9,
    "start_time": "2024-05-06T15:19:08.512Z"
   },
   {
    "duration": 12,
    "start_time": "2024-05-06T15:19:08.522Z"
   },
   {
    "duration": 9,
    "start_time": "2024-05-06T15:19:08.536Z"
   },
   {
    "duration": 28,
    "start_time": "2024-05-06T15:19:08.546Z"
   },
   {
    "duration": 15,
    "start_time": "2024-05-06T15:19:08.577Z"
   },
   {
    "duration": 8,
    "start_time": "2024-05-06T15:19:08.593Z"
   },
   {
    "duration": 5,
    "start_time": "2024-05-06T15:19:08.602Z"
   },
   {
    "duration": 20,
    "start_time": "2024-05-06T15:19:08.609Z"
   },
   {
    "duration": 11,
    "start_time": "2024-05-06T15:19:08.631Z"
   },
   {
    "duration": 9,
    "start_time": "2024-05-06T15:19:08.643Z"
   },
   {
    "duration": 5,
    "start_time": "2024-05-06T15:19:08.653Z"
   },
   {
    "duration": 362,
    "start_time": "2024-05-06T15:19:08.660Z"
   },
   {
    "duration": 6,
    "start_time": "2024-05-06T15:19:09.024Z"
   },
   {
    "duration": 114,
    "start_time": "2024-05-06T15:19:09.032Z"
   },
   {
    "duration": 3,
    "start_time": "2024-05-06T15:19:09.148Z"
   },
   {
    "duration": 191,
    "start_time": "2024-05-06T15:19:09.152Z"
   },
   {
    "duration": 9,
    "start_time": "2024-05-06T15:19:09.345Z"
   },
   {
    "duration": 8,
    "start_time": "2024-05-06T15:19:09.356Z"
   },
   {
    "duration": 413,
    "start_time": "2024-05-06T15:19:09.365Z"
   },
   {
    "duration": 6,
    "start_time": "2024-05-06T15:19:09.780Z"
   },
   {
    "duration": 17,
    "start_time": "2024-05-06T15:19:09.787Z"
   },
   {
    "duration": 239,
    "start_time": "2024-05-06T15:19:09.806Z"
   },
   {
    "duration": 20,
    "start_time": "2024-05-06T15:19:10.046Z"
   },
   {
    "duration": 13,
    "start_time": "2024-05-06T15:19:10.067Z"
   },
   {
    "duration": 382,
    "start_time": "2024-05-06T15:19:10.082Z"
   },
   {
    "duration": 244,
    "start_time": "2024-05-06T15:19:10.465Z"
   },
   {
    "duration": 16,
    "start_time": "2024-05-06T15:19:10.711Z"
   },
   {
    "duration": 340,
    "start_time": "2024-05-06T15:19:10.729Z"
   },
   {
    "duration": 290,
    "start_time": "2024-05-06T15:19:11.070Z"
   },
   {
    "duration": 924,
    "start_time": "2024-05-06T15:19:11.361Z"
   },
   {
    "duration": 33,
    "start_time": "2024-05-06T15:19:12.287Z"
   },
   {
    "duration": 38,
    "start_time": "2024-05-06T15:19:12.324Z"
   },
   {
    "duration": 13,
    "start_time": "2024-05-06T15:19:12.364Z"
   },
   {
    "duration": 17,
    "start_time": "2024-05-06T15:19:12.378Z"
   },
   {
    "duration": 15,
    "start_time": "2024-05-06T15:19:12.396Z"
   },
   {
    "duration": 15,
    "start_time": "2024-05-06T15:19:12.412Z"
   },
   {
    "duration": 458,
    "start_time": "2024-05-06T15:19:12.429Z"
   },
   {
    "duration": 7,
    "start_time": "2024-05-06T15:19:12.889Z"
   },
   {
    "duration": 7,
    "start_time": "2024-05-06T15:19:12.898Z"
   },
   {
    "duration": 8,
    "start_time": "2024-05-06T15:19:12.920Z"
   },
   {
    "duration": 15,
    "start_time": "2024-05-06T15:19:12.930Z"
   },
   {
    "duration": 54,
    "start_time": "2024-05-06T18:24:37.563Z"
   },
   {
    "duration": 6,
    "start_time": "2024-05-06T18:25:00.294Z"
   },
   {
    "duration": 441,
    "start_time": "2024-05-06T18:54:25.473Z"
   },
   {
    "duration": 100,
    "start_time": "2024-05-06T18:54:25.916Z"
   },
   {
    "duration": 15,
    "start_time": "2024-05-06T18:54:26.018Z"
   },
   {
    "duration": 145,
    "start_time": "2024-05-06T18:54:26.034Z"
   },
   {
    "duration": 9,
    "start_time": "2024-05-06T18:54:26.181Z"
   },
   {
    "duration": 68,
    "start_time": "2024-05-06T18:54:26.192Z"
   },
   {
    "duration": 7,
    "start_time": "2024-05-06T18:54:26.262Z"
   },
   {
    "duration": 8,
    "start_time": "2024-05-06T18:54:26.271Z"
   },
   {
    "duration": 29,
    "start_time": "2024-05-06T18:54:26.281Z"
   },
   {
    "duration": 16,
    "start_time": "2024-05-06T18:54:26.312Z"
   },
   {
    "duration": 29,
    "start_time": "2024-05-06T18:54:26.330Z"
   },
   {
    "duration": 43,
    "start_time": "2024-05-06T18:54:26.361Z"
   },
   {
    "duration": 24,
    "start_time": "2024-05-06T18:54:26.406Z"
   },
   {
    "duration": 25,
    "start_time": "2024-05-06T18:54:26.433Z"
   },
   {
    "duration": 8,
    "start_time": "2024-05-06T18:54:26.460Z"
   },
   {
    "duration": 16,
    "start_time": "2024-05-06T18:54:26.470Z"
   },
   {
    "duration": 10,
    "start_time": "2024-05-06T18:54:26.487Z"
   },
   {
    "duration": 20,
    "start_time": "2024-05-06T18:54:26.499Z"
   },
   {
    "duration": 24,
    "start_time": "2024-05-06T18:54:26.521Z"
   },
   {
    "duration": 19,
    "start_time": "2024-05-06T18:54:26.547Z"
   },
   {
    "duration": 577,
    "start_time": "2024-05-06T18:54:26.567Z"
   },
   {
    "duration": 7,
    "start_time": "2024-05-06T18:54:27.146Z"
   },
   {
    "duration": 123,
    "start_time": "2024-05-06T18:54:27.154Z"
   },
   {
    "duration": 3,
    "start_time": "2024-05-06T18:54:27.279Z"
   },
   {
    "duration": 195,
    "start_time": "2024-05-06T18:54:27.292Z"
   },
   {
    "duration": 10,
    "start_time": "2024-05-06T18:54:27.490Z"
   },
   {
    "duration": 18,
    "start_time": "2024-05-06T18:54:27.501Z"
   },
   {
    "duration": 475,
    "start_time": "2024-05-06T18:54:27.521Z"
   },
   {
    "duration": 4,
    "start_time": "2024-05-06T18:54:27.998Z"
   },
   {
    "duration": 33,
    "start_time": "2024-05-06T18:54:28.004Z"
   },
   {
    "duration": 275,
    "start_time": "2024-05-06T18:54:28.039Z"
   },
   {
    "duration": 23,
    "start_time": "2024-05-06T18:54:28.317Z"
   },
   {
    "duration": 19,
    "start_time": "2024-05-06T18:54:28.341Z"
   },
   {
    "duration": 405,
    "start_time": "2024-05-06T18:54:28.362Z"
   },
   {
    "duration": 263,
    "start_time": "2024-05-06T18:54:28.769Z"
   },
   {
    "duration": 13,
    "start_time": "2024-05-06T18:54:29.034Z"
   },
   {
    "duration": 505,
    "start_time": "2024-05-06T18:54:29.049Z"
   },
   {
    "duration": 258,
    "start_time": "2024-05-06T18:54:29.555Z"
   },
   {
    "duration": 1081,
    "start_time": "2024-05-06T18:54:29.816Z"
   },
   {
    "duration": 28,
    "start_time": "2024-05-06T18:54:30.899Z"
   },
   {
    "duration": 214,
    "start_time": "2024-05-06T18:54:30.931Z"
   },
   {
    "duration": 18,
    "start_time": "2024-05-06T18:54:31.147Z"
   },
   {
    "duration": 53,
    "start_time": "2024-05-06T18:54:31.166Z"
   },
   {
    "duration": 29,
    "start_time": "2024-05-06T18:54:31.221Z"
   },
   {
    "duration": 84,
    "start_time": "2024-05-06T18:54:31.253Z"
   },
   {
    "duration": 515,
    "start_time": "2024-05-06T18:54:31.339Z"
   },
   {
    "duration": 6,
    "start_time": "2024-05-06T18:54:31.856Z"
   },
   {
    "duration": 379,
    "start_time": "2024-05-06T18:54:31.864Z"
   },
   {
    "duration": 41,
    "start_time": "2024-05-06T18:54:32.245Z"
   },
   {
    "duration": 75,
    "start_time": "2024-05-06T18:54:32.288Z"
   },
   {
    "duration": 87,
    "start_time": "2024-05-06T19:20:27.239Z"
   },
   {
    "duration": 71,
    "start_time": "2024-05-06T19:20:40.244Z"
   },
   {
    "duration": 73,
    "start_time": "2024-05-06T19:21:04.827Z"
   },
   {
    "duration": 5,
    "start_time": "2024-05-06T19:23:02.298Z"
   },
   {
    "duration": 5,
    "start_time": "2024-05-06T19:23:19.098Z"
   },
   {
    "duration": 83,
    "start_time": "2024-05-06T19:28:02.714Z"
   },
   {
    "duration": 116,
    "start_time": "2024-05-06T19:29:01.963Z"
   },
   {
    "duration": 11,
    "start_time": "2024-05-06T19:29:17.726Z"
   },
   {
    "duration": 9,
    "start_time": "2024-05-06T19:29:36.025Z"
   },
   {
    "duration": 7,
    "start_time": "2024-05-06T19:37:15.760Z"
   },
   {
    "duration": 6,
    "start_time": "2024-05-06T19:38:04.256Z"
   },
   {
    "duration": 9,
    "start_time": "2024-05-06T20:16:40.949Z"
   },
   {
    "duration": 6,
    "start_time": "2024-05-06T20:16:55.361Z"
   },
   {
    "duration": 14,
    "start_time": "2024-05-06T20:17:17.420Z"
   },
   {
    "duration": 7,
    "start_time": "2024-05-06T20:17:29.333Z"
   },
   {
    "duration": 6,
    "start_time": "2024-05-06T20:21:02.000Z"
   },
   {
    "duration": 5,
    "start_time": "2024-05-06T20:22:27.318Z"
   },
   {
    "duration": 5,
    "start_time": "2024-05-06T20:22:32.224Z"
   },
   {
    "duration": 421,
    "start_time": "2024-05-06T20:23:13.102Z"
   },
   {
    "duration": 29,
    "start_time": "2024-05-06T20:23:13.525Z"
   },
   {
    "duration": 14,
    "start_time": "2024-05-06T20:23:13.556Z"
   },
   {
    "duration": 37,
    "start_time": "2024-05-06T20:23:13.572Z"
   },
   {
    "duration": 8,
    "start_time": "2024-05-06T20:23:13.611Z"
   },
   {
    "duration": 21,
    "start_time": "2024-05-06T20:23:13.620Z"
   },
   {
    "duration": 8,
    "start_time": "2024-05-06T20:23:13.643Z"
   },
   {
    "duration": 20,
    "start_time": "2024-05-06T20:23:13.652Z"
   },
   {
    "duration": 5,
    "start_time": "2024-05-06T20:23:13.674Z"
   },
   {
    "duration": 27,
    "start_time": "2024-05-06T20:23:13.681Z"
   },
   {
    "duration": 10,
    "start_time": "2024-05-06T20:23:13.709Z"
   },
   {
    "duration": 20,
    "start_time": "2024-05-06T20:23:13.721Z"
   },
   {
    "duration": 10,
    "start_time": "2024-05-06T20:23:13.743Z"
   },
   {
    "duration": 16,
    "start_time": "2024-05-06T20:23:13.755Z"
   },
   {
    "duration": 7,
    "start_time": "2024-05-06T20:23:13.773Z"
   },
   {
    "duration": 15,
    "start_time": "2024-05-06T20:23:13.782Z"
   },
   {
    "duration": 6,
    "start_time": "2024-05-06T20:23:13.799Z"
   },
   {
    "duration": 25,
    "start_time": "2024-05-06T20:23:13.806Z"
   },
   {
    "duration": 24,
    "start_time": "2024-05-06T20:23:13.833Z"
   },
   {
    "duration": 10,
    "start_time": "2024-05-06T20:23:13.858Z"
   },
   {
    "duration": 5,
    "start_time": "2024-05-06T20:23:13.869Z"
   },
   {
    "duration": 32,
    "start_time": "2024-05-06T20:23:13.875Z"
   },
   {
    "duration": 9,
    "start_time": "2024-05-06T20:23:13.909Z"
   },
   {
    "duration": 5,
    "start_time": "2024-05-06T20:23:13.919Z"
   },
   {
    "duration": 12,
    "start_time": "2024-05-06T20:23:13.926Z"
   },
   {
    "duration": 409,
    "start_time": "2024-05-06T20:23:13.940Z"
   },
   {
    "duration": 7,
    "start_time": "2024-05-06T20:23:14.351Z"
   },
   {
    "duration": 129,
    "start_time": "2024-05-06T20:23:14.362Z"
   },
   {
    "duration": 3,
    "start_time": "2024-05-06T20:23:14.493Z"
   },
   {
    "duration": 201,
    "start_time": "2024-05-06T20:23:14.498Z"
   },
   {
    "duration": 8,
    "start_time": "2024-05-06T20:23:14.701Z"
   },
   {
    "duration": 18,
    "start_time": "2024-05-06T20:23:14.710Z"
   },
   {
    "duration": 438,
    "start_time": "2024-05-06T20:23:14.730Z"
   },
   {
    "duration": 5,
    "start_time": "2024-05-06T20:23:15.169Z"
   },
   {
    "duration": 43,
    "start_time": "2024-05-06T20:23:15.175Z"
   },
   {
    "duration": 298,
    "start_time": "2024-05-06T20:23:15.220Z"
   },
   {
    "duration": 23,
    "start_time": "2024-05-06T20:23:15.519Z"
   },
   {
    "duration": 13,
    "start_time": "2024-05-06T20:23:15.543Z"
   },
   {
    "duration": 425,
    "start_time": "2024-05-06T20:23:15.557Z"
   },
   {
    "duration": 259,
    "start_time": "2024-05-06T20:23:15.983Z"
   },
   {
    "duration": 13,
    "start_time": "2024-05-06T20:23:16.243Z"
   },
   {
    "duration": 420,
    "start_time": "2024-05-06T20:23:16.257Z"
   },
   {
    "duration": 344,
    "start_time": "2024-05-06T20:23:16.678Z"
   },
   {
    "duration": 1027,
    "start_time": "2024-05-06T20:23:17.024Z"
   },
   {
    "duration": 40,
    "start_time": "2024-05-06T20:23:18.053Z"
   },
   {
    "duration": 46,
    "start_time": "2024-05-06T20:23:18.094Z"
   },
   {
    "duration": 16,
    "start_time": "2024-05-06T20:23:18.141Z"
   },
   {
    "duration": 35,
    "start_time": "2024-05-06T20:23:18.158Z"
   },
   {
    "duration": 14,
    "start_time": "2024-05-06T20:23:18.195Z"
   },
   {
    "duration": 18,
    "start_time": "2024-05-06T20:23:18.211Z"
   },
   {
    "duration": 501,
    "start_time": "2024-05-06T20:23:18.230Z"
   },
   {
    "duration": 7,
    "start_time": "2024-05-06T20:23:18.733Z"
   },
   {
    "duration": 10,
    "start_time": "2024-05-06T20:23:18.742Z"
   },
   {
    "duration": 10,
    "start_time": "2024-05-06T20:23:18.753Z"
   },
   {
    "duration": 5,
    "start_time": "2024-05-06T20:23:18.765Z"
   },
   {
    "duration": 103,
    "start_time": "2024-05-06T20:27:29.280Z"
   },
   {
    "duration": 10,
    "start_time": "2024-05-06T20:28:48.076Z"
   },
   {
    "duration": 4,
    "start_time": "2024-05-06T20:28:58.145Z"
   },
   {
    "duration": 7,
    "start_time": "2024-05-06T20:29:10.508Z"
   },
   {
    "duration": 6,
    "start_time": "2024-05-06T20:29:48.332Z"
   },
   {
    "duration": 9,
    "start_time": "2024-05-06T20:30:47.572Z"
   },
   {
    "duration": 9,
    "start_time": "2024-05-06T20:30:59.714Z"
   },
   {
    "duration": 5,
    "start_time": "2024-05-06T20:31:46.014Z"
   },
   {
    "duration": 5,
    "start_time": "2024-05-06T20:31:53.082Z"
   },
   {
    "duration": 5,
    "start_time": "2024-05-06T20:32:36.485Z"
   },
   {
    "duration": 44,
    "start_time": "2024-05-07T12:57:51.033Z"
   },
   {
    "duration": 380,
    "start_time": "2024-05-07T12:58:04.577Z"
   },
   {
    "duration": 74,
    "start_time": "2024-05-07T12:58:04.959Z"
   },
   {
    "duration": 14,
    "start_time": "2024-05-07T12:58:05.035Z"
   },
   {
    "duration": 96,
    "start_time": "2024-05-07T12:58:05.050Z"
   },
   {
    "duration": 9,
    "start_time": "2024-05-07T12:58:05.148Z"
   },
   {
    "duration": 91,
    "start_time": "2024-05-07T12:58:05.158Z"
   },
   {
    "duration": 7,
    "start_time": "2024-05-07T12:58:05.250Z"
   },
   {
    "duration": 37,
    "start_time": "2024-05-07T12:58:05.258Z"
   },
   {
    "duration": 16,
    "start_time": "2024-05-07T12:58:05.296Z"
   },
   {
    "duration": 54,
    "start_time": "2024-05-07T12:58:05.314Z"
   },
   {
    "duration": 51,
    "start_time": "2024-05-07T12:58:05.370Z"
   },
   {
    "duration": 44,
    "start_time": "2024-05-07T12:58:05.422Z"
   },
   {
    "duration": 29,
    "start_time": "2024-05-07T12:58:05.468Z"
   },
   {
    "duration": 15,
    "start_time": "2024-05-07T12:58:05.501Z"
   },
   {
    "duration": 20,
    "start_time": "2024-05-07T12:58:05.518Z"
   },
   {
    "duration": 23,
    "start_time": "2024-05-07T12:58:05.539Z"
   },
   {
    "duration": 14,
    "start_time": "2024-05-07T12:58:05.563Z"
   },
   {
    "duration": 27,
    "start_time": "2024-05-07T12:58:05.578Z"
   },
   {
    "duration": 21,
    "start_time": "2024-05-07T12:58:05.607Z"
   },
   {
    "duration": 35,
    "start_time": "2024-05-07T12:58:05.630Z"
   },
   {
    "duration": 21,
    "start_time": "2024-05-07T12:58:05.667Z"
   },
   {
    "duration": 19,
    "start_time": "2024-05-07T12:58:05.690Z"
   },
   {
    "duration": 15,
    "start_time": "2024-05-07T12:58:05.711Z"
   },
   {
    "duration": 35,
    "start_time": "2024-05-07T12:58:05.727Z"
   },
   {
    "duration": 26,
    "start_time": "2024-05-07T12:58:05.764Z"
   },
   {
    "duration": 28,
    "start_time": "2024-05-07T12:58:05.792Z"
   },
   {
    "duration": 17,
    "start_time": "2024-05-07T12:58:05.821Z"
   },
   {
    "duration": 31,
    "start_time": "2024-05-07T12:58:05.840Z"
   },
   {
    "duration": 536,
    "start_time": "2024-05-07T12:58:05.872Z"
   },
   {
    "duration": 6,
    "start_time": "2024-05-07T12:58:06.410Z"
   },
   {
    "duration": 130,
    "start_time": "2024-05-07T12:58:06.418Z"
   },
   {
    "duration": 3,
    "start_time": "2024-05-07T12:58:06.550Z"
   },
   {
    "duration": 182,
    "start_time": "2024-05-07T12:58:06.555Z"
   },
   {
    "duration": 13,
    "start_time": "2024-05-07T12:58:06.739Z"
   },
   {
    "duration": 4,
    "start_time": "2024-05-07T12:58:06.753Z"
   },
   {
    "duration": 429,
    "start_time": "2024-05-07T12:58:06.758Z"
   },
   {
    "duration": 6,
    "start_time": "2024-05-07T12:58:07.188Z"
   },
   {
    "duration": 16,
    "start_time": "2024-05-07T12:58:07.196Z"
   },
   {
    "duration": 255,
    "start_time": "2024-05-07T12:58:07.214Z"
   },
   {
    "duration": 23,
    "start_time": "2024-05-07T12:58:07.471Z"
   },
   {
    "duration": 13,
    "start_time": "2024-05-07T12:58:07.498Z"
   },
   {
    "duration": 389,
    "start_time": "2024-05-07T12:58:07.513Z"
   },
   {
    "duration": 232,
    "start_time": "2024-05-07T12:58:07.904Z"
   },
   {
    "duration": 15,
    "start_time": "2024-05-07T12:58:08.137Z"
   },
   {
    "duration": 430,
    "start_time": "2024-05-07T12:58:08.153Z"
   },
   {
    "duration": 240,
    "start_time": "2024-05-07T12:58:08.585Z"
   },
   {
    "duration": 906,
    "start_time": "2024-05-07T12:58:08.826Z"
   },
   {
    "duration": 33,
    "start_time": "2024-05-07T12:58:09.734Z"
   },
   {
    "duration": 124,
    "start_time": "2024-05-07T12:58:09.769Z"
   },
   {
    "duration": 14,
    "start_time": "2024-05-07T12:58:09.895Z"
   },
   {
    "duration": 16,
    "start_time": "2024-05-07T12:58:09.910Z"
   },
   {
    "duration": 27,
    "start_time": "2024-05-07T12:58:09.928Z"
   },
   {
    "duration": 41,
    "start_time": "2024-05-07T12:58:09.956Z"
   },
   {
    "duration": 452,
    "start_time": "2024-05-07T12:58:10.005Z"
   },
   {
    "duration": 8,
    "start_time": "2024-05-07T12:58:10.459Z"
   },
   {
    "duration": 24,
    "start_time": "2024-05-07T12:58:10.468Z"
   },
   {
    "duration": 19,
    "start_time": "2024-05-07T12:58:10.494Z"
   },
   {
    "duration": 22,
    "start_time": "2024-05-07T12:58:10.514Z"
   },
   {
    "duration": 8,
    "start_time": "2024-05-07T12:58:43.731Z"
   },
   {
    "duration": 7,
    "start_time": "2024-05-07T12:59:05.265Z"
   },
   {
    "duration": 8,
    "start_time": "2024-05-07T13:02:51.120Z"
   },
   {
    "duration": 10,
    "start_time": "2024-05-07T13:03:15.222Z"
   },
   {
    "duration": 386,
    "start_time": "2024-05-07T13:03:27.474Z"
   },
   {
    "duration": 29,
    "start_time": "2024-05-07T13:03:27.862Z"
   },
   {
    "duration": 14,
    "start_time": "2024-05-07T13:03:27.893Z"
   },
   {
    "duration": 28,
    "start_time": "2024-05-07T13:03:27.909Z"
   },
   {
    "duration": 8,
    "start_time": "2024-05-07T13:03:27.938Z"
   },
   {
    "duration": 22,
    "start_time": "2024-05-07T13:03:27.948Z"
   },
   {
    "duration": 6,
    "start_time": "2024-05-07T13:03:27.971Z"
   },
   {
    "duration": 14,
    "start_time": "2024-05-07T13:03:27.978Z"
   },
   {
    "duration": 9,
    "start_time": "2024-05-07T13:03:27.993Z"
   },
   {
    "duration": 5,
    "start_time": "2024-05-07T13:03:28.004Z"
   },
   {
    "duration": 9,
    "start_time": "2024-05-07T13:03:28.010Z"
   },
   {
    "duration": 11,
    "start_time": "2024-05-07T13:03:28.020Z"
   },
   {
    "duration": 16,
    "start_time": "2024-05-07T13:03:28.032Z"
   },
   {
    "duration": 15,
    "start_time": "2024-05-07T13:03:28.049Z"
   },
   {
    "duration": 7,
    "start_time": "2024-05-07T13:03:28.065Z"
   },
   {
    "duration": 9,
    "start_time": "2024-05-07T13:03:28.073Z"
   },
   {
    "duration": 6,
    "start_time": "2024-05-07T13:03:28.084Z"
   },
   {
    "duration": 14,
    "start_time": "2024-05-07T13:03:28.091Z"
   },
   {
    "duration": 6,
    "start_time": "2024-05-07T13:03:28.107Z"
   },
   {
    "duration": 8,
    "start_time": "2024-05-07T13:03:28.114Z"
   },
   {
    "duration": 27,
    "start_time": "2024-05-07T13:03:28.123Z"
   },
   {
    "duration": 13,
    "start_time": "2024-05-07T13:03:28.152Z"
   },
   {
    "duration": 7,
    "start_time": "2024-05-07T13:03:28.166Z"
   },
   {
    "duration": 11,
    "start_time": "2024-05-07T13:03:28.174Z"
   },
   {
    "duration": 11,
    "start_time": "2024-05-07T13:03:28.186Z"
   },
   {
    "duration": 6,
    "start_time": "2024-05-07T13:03:28.198Z"
   },
   {
    "duration": 5,
    "start_time": "2024-05-07T13:03:28.205Z"
   },
   {
    "duration": 4,
    "start_time": "2024-05-07T13:03:28.214Z"
   },
   {
    "duration": 26,
    "start_time": "2024-05-07T13:03:28.220Z"
   },
   {
    "duration": 339,
    "start_time": "2024-05-07T13:03:28.247Z"
   },
   {
    "duration": 7,
    "start_time": "2024-05-07T13:03:28.587Z"
   },
   {
    "duration": 111,
    "start_time": "2024-05-07T13:03:28.596Z"
   },
   {
    "duration": 3,
    "start_time": "2024-05-07T13:03:28.709Z"
   },
   {
    "duration": 174,
    "start_time": "2024-05-07T13:03:28.713Z"
   },
   {
    "duration": 8,
    "start_time": "2024-05-07T13:03:28.889Z"
   },
   {
    "duration": 12,
    "start_time": "2024-05-07T13:03:28.899Z"
   },
   {
    "duration": 427,
    "start_time": "2024-05-07T13:03:28.912Z"
   },
   {
    "duration": 8,
    "start_time": "2024-05-07T13:03:29.340Z"
   },
   {
    "duration": 17,
    "start_time": "2024-05-07T13:03:29.349Z"
   },
   {
    "duration": 223,
    "start_time": "2024-05-07T13:03:29.367Z"
   },
   {
    "duration": 19,
    "start_time": "2024-05-07T13:03:29.592Z"
   },
   {
    "duration": 10,
    "start_time": "2024-05-07T13:03:29.613Z"
   },
   {
    "duration": 355,
    "start_time": "2024-05-07T13:03:29.625Z"
   },
   {
    "duration": 242,
    "start_time": "2024-05-07T13:03:29.982Z"
   },
   {
    "duration": 20,
    "start_time": "2024-05-07T13:03:30.226Z"
   },
   {
    "duration": 416,
    "start_time": "2024-05-07T13:03:30.248Z"
   },
   {
    "duration": 301,
    "start_time": "2024-05-07T13:03:30.665Z"
   },
   {
    "duration": 949,
    "start_time": "2024-05-07T13:03:30.967Z"
   },
   {
    "duration": 37,
    "start_time": "2024-05-07T13:03:31.918Z"
   },
   {
    "duration": 52,
    "start_time": "2024-05-07T13:03:31.957Z"
   },
   {
    "duration": 34,
    "start_time": "2024-05-07T13:03:32.011Z"
   },
   {
    "duration": 32,
    "start_time": "2024-05-07T13:03:32.047Z"
   },
   {
    "duration": 134,
    "start_time": "2024-05-07T13:03:32.080Z"
   },
   {
    "duration": 39,
    "start_time": "2024-05-07T13:03:32.216Z"
   },
   {
    "duration": 563,
    "start_time": "2024-05-07T13:03:32.256Z"
   },
   {
    "duration": 6,
    "start_time": "2024-05-07T13:03:32.821Z"
   },
   {
    "duration": 40,
    "start_time": "2024-05-07T13:03:32.829Z"
   },
   {
    "duration": 23,
    "start_time": "2024-05-07T13:03:32.871Z"
   },
   {
    "duration": 8,
    "start_time": "2024-05-07T13:03:32.896Z"
   },
   {
    "duration": 117,
    "start_time": "2024-05-07T13:10:42.080Z"
   },
   {
    "duration": 92,
    "start_time": "2024-05-07T13:10:52.271Z"
   },
   {
    "duration": 125,
    "start_time": "2024-05-07T13:10:58.098Z"
   },
   {
    "duration": 4,
    "start_time": "2024-05-07T13:11:48.427Z"
   },
   {
    "duration": 126,
    "start_time": "2024-05-07T13:11:59.994Z"
   },
   {
    "duration": 121,
    "start_time": "2024-05-07T13:15:05.164Z"
   },
   {
    "duration": 127,
    "start_time": "2024-05-07T13:15:12.445Z"
   },
   {
    "duration": 121,
    "start_time": "2024-05-07T13:15:17.250Z"
   },
   {
    "duration": 122,
    "start_time": "2024-05-07T13:15:25.335Z"
   },
   {
    "duration": 223,
    "start_time": "2024-05-07T13:17:08.583Z"
   },
   {
    "duration": 131,
    "start_time": "2024-05-07T13:17:17.716Z"
   },
   {
    "duration": 126,
    "start_time": "2024-05-07T13:17:36.844Z"
   },
   {
    "duration": 119,
    "start_time": "2024-05-07T13:18:28.359Z"
   },
   {
    "duration": 120,
    "start_time": "2024-05-07T13:18:50.618Z"
   },
   {
    "duration": 117,
    "start_time": "2024-05-07T13:20:13.735Z"
   },
   {
    "duration": 131,
    "start_time": "2024-05-07T13:21:48.693Z"
   },
   {
    "duration": 121,
    "start_time": "2024-05-07T13:23:47.763Z"
   },
   {
    "duration": 105,
    "start_time": "2024-05-07T13:24:24.705Z"
   },
   {
    "duration": 108,
    "start_time": "2024-05-07T13:24:34.555Z"
   },
   {
    "duration": 117,
    "start_time": "2024-05-07T13:24:43.248Z"
   },
   {
    "duration": 102,
    "start_time": "2024-05-07T13:24:59.656Z"
   },
   {
    "duration": 126,
    "start_time": "2024-05-07T13:25:05.970Z"
   },
   {
    "duration": 137,
    "start_time": "2024-05-07T13:25:22.946Z"
   },
   {
    "duration": 131,
    "start_time": "2024-05-07T13:25:28.183Z"
   },
   {
    "duration": 227,
    "start_time": "2024-05-07T13:25:42.165Z"
   },
   {
    "duration": 3,
    "start_time": "2024-05-07T13:31:40.575Z"
   },
   {
    "duration": 3,
    "start_time": "2024-05-07T13:33:43.018Z"
   },
   {
    "duration": 3,
    "start_time": "2024-05-07T13:34:01.154Z"
   },
   {
    "duration": 2,
    "start_time": "2024-05-07T13:34:21.820Z"
   },
   {
    "duration": 3,
    "start_time": "2024-05-07T13:35:34.962Z"
   },
   {
    "duration": 12,
    "start_time": "2024-05-07T13:38:58.782Z"
   },
   {
    "duration": 10,
    "start_time": "2024-05-07T13:39:39.465Z"
   },
   {
    "duration": 77,
    "start_time": "2024-05-07T13:40:34.286Z"
   },
   {
    "duration": 73,
    "start_time": "2024-05-07T13:41:55.513Z"
   },
   {
    "duration": 83,
    "start_time": "2024-05-07T13:42:21.385Z"
   },
   {
    "duration": 70,
    "start_time": "2024-05-07T13:42:36.355Z"
   },
   {
    "duration": 77,
    "start_time": "2024-05-07T13:42:50.905Z"
   },
   {
    "duration": 83,
    "start_time": "2024-05-07T13:43:03.519Z"
   },
   {
    "duration": 71,
    "start_time": "2024-05-07T13:43:26.355Z"
   },
   {
    "duration": 77,
    "start_time": "2024-05-07T13:44:09.587Z"
   },
   {
    "duration": 108,
    "start_time": "2024-05-07T13:44:36.499Z"
   },
   {
    "duration": 47,
    "start_time": "2024-05-07T13:45:19.176Z"
   },
   {
    "duration": 68,
    "start_time": "2024-05-07T13:45:34.892Z"
   },
   {
    "duration": 50,
    "start_time": "2024-05-07T13:46:03.193Z"
   },
   {
    "duration": 100,
    "start_time": "2024-05-07T13:49:46.936Z"
   },
   {
    "duration": 94,
    "start_time": "2024-05-07T13:49:56.731Z"
   },
   {
    "duration": 101,
    "start_time": "2024-05-07T13:50:06.530Z"
   },
   {
    "duration": 99,
    "start_time": "2024-05-07T13:50:08.783Z"
   },
   {
    "duration": 70,
    "start_time": "2024-05-07T13:50:27.375Z"
   },
   {
    "duration": 80,
    "start_time": "2024-05-07T14:16:33.911Z"
   },
   {
    "duration": 76,
    "start_time": "2024-05-07T14:16:44.446Z"
   },
   {
    "duration": 10,
    "start_time": "2024-05-07T14:18:06.638Z"
   },
   {
    "duration": 34,
    "start_time": "2024-05-07T14:18:33.357Z"
   },
   {
    "duration": 119,
    "start_time": "2024-05-07T14:23:37.006Z"
   },
   {
    "duration": 270,
    "start_time": "2024-05-07T14:24:21.016Z"
   },
   {
    "duration": 341,
    "start_time": "2024-05-07T14:25:49.906Z"
   },
   {
    "duration": 363,
    "start_time": "2024-05-07T14:26:00.007Z"
   },
   {
    "duration": 341,
    "start_time": "2024-05-07T14:26:13.635Z"
   },
   {
    "duration": 451,
    "start_time": "2024-05-07T14:27:23.955Z"
   },
   {
    "duration": 369,
    "start_time": "2024-05-08T07:41:38.581Z"
   },
   {
    "duration": 72,
    "start_time": "2024-05-08T07:41:38.952Z"
   },
   {
    "duration": 13,
    "start_time": "2024-05-08T07:41:39.026Z"
   },
   {
    "duration": 76,
    "start_time": "2024-05-08T07:41:39.041Z"
   },
   {
    "duration": 9,
    "start_time": "2024-05-08T07:41:39.118Z"
   },
   {
    "duration": 61,
    "start_time": "2024-05-08T07:41:39.128Z"
   },
   {
    "duration": 6,
    "start_time": "2024-05-08T07:41:39.190Z"
   },
   {
    "duration": 15,
    "start_time": "2024-05-08T07:41:39.198Z"
   },
   {
    "duration": 11,
    "start_time": "2024-05-08T07:41:39.214Z"
   },
   {
    "duration": 5,
    "start_time": "2024-05-08T07:41:39.227Z"
   },
   {
    "duration": 8,
    "start_time": "2024-05-08T07:41:39.233Z"
   },
   {
    "duration": 11,
    "start_time": "2024-05-08T07:41:39.242Z"
   },
   {
    "duration": 4,
    "start_time": "2024-05-08T07:41:39.254Z"
   },
   {
    "duration": 7,
    "start_time": "2024-05-08T07:41:39.260Z"
   },
   {
    "duration": 5,
    "start_time": "2024-05-08T07:41:39.269Z"
   },
   {
    "duration": 8,
    "start_time": "2024-05-08T07:41:39.275Z"
   },
   {
    "duration": 8,
    "start_time": "2024-05-08T07:41:39.285Z"
   },
   {
    "duration": 5,
    "start_time": "2024-05-08T07:41:39.294Z"
   },
   {
    "duration": 7,
    "start_time": "2024-05-08T07:41:39.300Z"
   },
   {
    "duration": 41,
    "start_time": "2024-05-08T07:41:39.309Z"
   },
   {
    "duration": 7,
    "start_time": "2024-05-08T07:41:39.352Z"
   },
   {
    "duration": 4,
    "start_time": "2024-05-08T07:41:39.360Z"
   },
   {
    "duration": 5,
    "start_time": "2024-05-08T07:41:39.365Z"
   },
   {
    "duration": 6,
    "start_time": "2024-05-08T07:41:39.371Z"
   },
   {
    "duration": 16,
    "start_time": "2024-05-08T07:41:39.378Z"
   },
   {
    "duration": 7,
    "start_time": "2024-05-08T07:41:39.395Z"
   },
   {
    "duration": 8,
    "start_time": "2024-05-08T07:41:39.403Z"
   },
   {
    "duration": 32,
    "start_time": "2024-05-08T07:41:39.414Z"
   },
   {
    "duration": 10,
    "start_time": "2024-05-08T07:41:39.447Z"
   },
   {
    "duration": 571,
    "start_time": "2024-05-08T07:41:39.458Z"
   },
   {
    "duration": 0,
    "start_time": "2024-05-08T07:41:40.030Z"
   },
   {
    "duration": 0,
    "start_time": "2024-05-08T07:41:40.031Z"
   },
   {
    "duration": 0,
    "start_time": "2024-05-08T07:41:40.032Z"
   },
   {
    "duration": 0,
    "start_time": "2024-05-08T07:41:40.034Z"
   },
   {
    "duration": 0,
    "start_time": "2024-05-08T07:41:40.035Z"
   },
   {
    "duration": 0,
    "start_time": "2024-05-08T07:41:40.045Z"
   },
   {
    "duration": 0,
    "start_time": "2024-05-08T07:41:40.046Z"
   },
   {
    "duration": 0,
    "start_time": "2024-05-08T07:41:40.047Z"
   },
   {
    "duration": 0,
    "start_time": "2024-05-08T07:41:40.048Z"
   },
   {
    "duration": 0,
    "start_time": "2024-05-08T07:41:40.049Z"
   },
   {
    "duration": 0,
    "start_time": "2024-05-08T07:41:40.050Z"
   },
   {
    "duration": 0,
    "start_time": "2024-05-08T07:41:40.051Z"
   },
   {
    "duration": 0,
    "start_time": "2024-05-08T07:41:40.052Z"
   },
   {
    "duration": 0,
    "start_time": "2024-05-08T07:41:40.053Z"
   },
   {
    "duration": 0,
    "start_time": "2024-05-08T07:41:40.054Z"
   },
   {
    "duration": 0,
    "start_time": "2024-05-08T07:41:40.055Z"
   },
   {
    "duration": 0,
    "start_time": "2024-05-08T07:41:40.056Z"
   },
   {
    "duration": 0,
    "start_time": "2024-05-08T07:41:40.057Z"
   },
   {
    "duration": 0,
    "start_time": "2024-05-08T07:41:40.058Z"
   },
   {
    "duration": 0,
    "start_time": "2024-05-08T07:41:40.058Z"
   },
   {
    "duration": 0,
    "start_time": "2024-05-08T07:41:40.059Z"
   },
   {
    "duration": 0,
    "start_time": "2024-05-08T07:41:40.060Z"
   },
   {
    "duration": 0,
    "start_time": "2024-05-08T07:41:40.062Z"
   },
   {
    "duration": 0,
    "start_time": "2024-05-08T07:41:40.062Z"
   },
   {
    "duration": 0,
    "start_time": "2024-05-08T07:41:40.063Z"
   },
   {
    "duration": 0,
    "start_time": "2024-05-08T07:41:40.064Z"
   },
   {
    "duration": 0,
    "start_time": "2024-05-08T07:41:40.065Z"
   },
   {
    "duration": 0,
    "start_time": "2024-05-08T07:41:40.066Z"
   },
   {
    "duration": 0,
    "start_time": "2024-05-08T07:41:40.067Z"
   },
   {
    "duration": 0,
    "start_time": "2024-05-08T07:41:40.068Z"
   },
   {
    "duration": 8,
    "start_time": "2024-05-08T07:42:32.837Z"
   },
   {
    "duration": 124,
    "start_time": "2024-05-08T07:42:38.706Z"
   },
   {
    "duration": 119,
    "start_time": "2024-05-08T07:42:51.155Z"
   },
   {
    "duration": 435,
    "start_time": "2024-05-08T07:44:01.855Z"
   },
   {
    "duration": 1017,
    "start_time": "2024-05-08T07:44:11.973Z"
   },
   {
    "duration": 29,
    "start_time": "2024-05-08T07:44:12.992Z"
   },
   {
    "duration": 11,
    "start_time": "2024-05-08T07:44:13.023Z"
   },
   {
    "duration": 32,
    "start_time": "2024-05-08T07:44:13.035Z"
   },
   {
    "duration": 8,
    "start_time": "2024-05-08T07:44:13.069Z"
   },
   {
    "duration": 21,
    "start_time": "2024-05-08T07:44:13.078Z"
   },
   {
    "duration": 9,
    "start_time": "2024-05-08T07:44:13.101Z"
   },
   {
    "duration": 16,
    "start_time": "2024-05-08T07:44:13.111Z"
   },
   {
    "duration": 5,
    "start_time": "2024-05-08T07:44:13.129Z"
   },
   {
    "duration": 9,
    "start_time": "2024-05-08T07:44:13.135Z"
   },
   {
    "duration": 10,
    "start_time": "2024-05-08T07:44:13.146Z"
   },
   {
    "duration": 14,
    "start_time": "2024-05-08T07:44:13.157Z"
   },
   {
    "duration": 6,
    "start_time": "2024-05-08T07:44:13.173Z"
   },
   {
    "duration": 13,
    "start_time": "2024-05-08T07:44:13.181Z"
   },
   {
    "duration": 7,
    "start_time": "2024-05-08T07:44:13.195Z"
   },
   {
    "duration": 10,
    "start_time": "2024-05-08T07:44:13.203Z"
   },
   {
    "duration": 5,
    "start_time": "2024-05-08T07:44:13.215Z"
   },
   {
    "duration": 27,
    "start_time": "2024-05-08T07:44:13.221Z"
   },
   {
    "duration": 13,
    "start_time": "2024-05-08T07:44:13.250Z"
   },
   {
    "duration": 11,
    "start_time": "2024-05-08T07:44:13.264Z"
   },
   {
    "duration": 25,
    "start_time": "2024-05-08T07:44:13.276Z"
   },
   {
    "duration": 4,
    "start_time": "2024-05-08T07:44:13.302Z"
   },
   {
    "duration": 5,
    "start_time": "2024-05-08T07:44:13.308Z"
   },
   {
    "duration": 5,
    "start_time": "2024-05-08T07:44:13.314Z"
   },
   {
    "duration": 12,
    "start_time": "2024-05-08T07:44:13.320Z"
   },
   {
    "duration": 12,
    "start_time": "2024-05-08T07:44:13.333Z"
   },
   {
    "duration": 6,
    "start_time": "2024-05-08T07:44:13.346Z"
   },
   {
    "duration": 7,
    "start_time": "2024-05-08T07:44:13.353Z"
   },
   {
    "duration": 20,
    "start_time": "2024-05-08T07:44:13.362Z"
   },
   {
    "duration": 145,
    "start_time": "2024-05-08T07:44:13.383Z"
   },
   {
    "duration": 7,
    "start_time": "2024-05-08T07:44:13.530Z"
   },
   {
    "duration": 72,
    "start_time": "2024-05-08T07:44:13.545Z"
   },
   {
    "duration": 135,
    "start_time": "2024-05-08T07:44:13.619Z"
   },
   {
    "duration": 3,
    "start_time": "2024-05-08T07:44:13.756Z"
   },
   {
    "duration": 191,
    "start_time": "2024-05-08T07:44:13.760Z"
   },
   {
    "duration": 9,
    "start_time": "2024-05-08T07:44:13.953Z"
   },
   {
    "duration": 8,
    "start_time": "2024-05-08T07:44:13.964Z"
   },
   {
    "duration": 389,
    "start_time": "2024-05-08T07:44:13.973Z"
   },
   {
    "duration": 4,
    "start_time": "2024-05-08T07:44:14.364Z"
   },
   {
    "duration": 25,
    "start_time": "2024-05-08T07:44:14.369Z"
   },
   {
    "duration": 213,
    "start_time": "2024-05-08T07:44:14.398Z"
   },
   {
    "duration": 19,
    "start_time": "2024-05-08T07:44:14.612Z"
   },
   {
    "duration": 20,
    "start_time": "2024-05-08T07:44:14.633Z"
   },
   {
    "duration": 419,
    "start_time": "2024-05-08T07:44:14.654Z"
   },
   {
    "duration": 219,
    "start_time": "2024-05-08T07:44:15.074Z"
   },
   {
    "duration": 11,
    "start_time": "2024-05-08T07:44:15.294Z"
   },
   {
    "duration": 382,
    "start_time": "2024-05-08T07:44:15.307Z"
   },
   {
    "duration": 220,
    "start_time": "2024-05-08T07:44:15.691Z"
   },
   {
    "duration": 990,
    "start_time": "2024-05-08T07:44:15.913Z"
   },
   {
    "duration": 34,
    "start_time": "2024-05-08T07:44:16.905Z"
   },
   {
    "duration": 41,
    "start_time": "2024-05-08T07:44:16.945Z"
   },
   {
    "duration": 15,
    "start_time": "2024-05-08T07:44:16.988Z"
   },
   {
    "duration": 15,
    "start_time": "2024-05-08T07:44:17.005Z"
   },
   {
    "duration": 5,
    "start_time": "2024-05-08T07:44:17.046Z"
   },
   {
    "duration": 20,
    "start_time": "2024-05-08T07:44:17.053Z"
   },
   {
    "duration": 14,
    "start_time": "2024-05-08T07:44:17.075Z"
   },
   {
    "duration": 7,
    "start_time": "2024-05-08T07:44:17.091Z"
   },
   {
    "duration": 5,
    "start_time": "2024-05-08T07:44:17.100Z"
   },
   {
    "duration": 39,
    "start_time": "2024-05-08T07:44:17.106Z"
   },
   {
    "duration": 7,
    "start_time": "2024-05-08T07:44:17.147Z"
   },
   {
    "duration": 245,
    "start_time": "2024-05-08T08:00:00.074Z"
   },
   {
    "duration": 715,
    "start_time": "2024-05-08T08:34:33.838Z"
   },
   {
    "duration": 9,
    "start_time": "2024-05-08T08:35:42.151Z"
   },
   {
    "duration": 9,
    "start_time": "2024-05-08T08:36:32.243Z"
   },
   {
    "duration": 12,
    "start_time": "2024-05-08T08:38:06.302Z"
   },
   {
    "duration": 5,
    "start_time": "2024-05-08T08:43:37.402Z"
   },
   {
    "duration": 1089,
    "start_time": "2024-05-08T08:43:52.710Z"
   },
   {
    "duration": 29,
    "start_time": "2024-05-08T08:43:53.801Z"
   },
   {
    "duration": 12,
    "start_time": "2024-05-08T08:43:53.831Z"
   },
   {
    "duration": 43,
    "start_time": "2024-05-08T08:43:53.844Z"
   },
   {
    "duration": 7,
    "start_time": "2024-05-08T08:43:53.890Z"
   },
   {
    "duration": 24,
    "start_time": "2024-05-08T08:43:53.899Z"
   },
   {
    "duration": 7,
    "start_time": "2024-05-08T08:43:53.924Z"
   },
   {
    "duration": 18,
    "start_time": "2024-05-08T08:43:53.932Z"
   },
   {
    "duration": 12,
    "start_time": "2024-05-08T08:43:53.951Z"
   },
   {
    "duration": 16,
    "start_time": "2024-05-08T08:43:53.964Z"
   },
   {
    "duration": 21,
    "start_time": "2024-05-08T08:43:53.982Z"
   },
   {
    "duration": 22,
    "start_time": "2024-05-08T08:43:54.004Z"
   },
   {
    "duration": 11,
    "start_time": "2024-05-08T08:43:54.027Z"
   },
   {
    "duration": 9,
    "start_time": "2024-05-08T08:43:54.040Z"
   },
   {
    "duration": 4,
    "start_time": "2024-05-08T08:43:54.051Z"
   },
   {
    "duration": 8,
    "start_time": "2024-05-08T08:43:54.057Z"
   },
   {
    "duration": 6,
    "start_time": "2024-05-08T08:43:54.066Z"
   },
   {
    "duration": 6,
    "start_time": "2024-05-08T08:43:54.073Z"
   },
   {
    "duration": 7,
    "start_time": "2024-05-08T08:43:54.081Z"
   },
   {
    "duration": 16,
    "start_time": "2024-05-08T08:43:54.090Z"
   },
   {
    "duration": 5,
    "start_time": "2024-05-08T08:43:54.108Z"
   },
   {
    "duration": 8,
    "start_time": "2024-05-08T08:43:54.144Z"
   },
   {
    "duration": 4,
    "start_time": "2024-05-08T08:43:54.153Z"
   },
   {
    "duration": 10,
    "start_time": "2024-05-08T08:43:54.158Z"
   },
   {
    "duration": 15,
    "start_time": "2024-05-08T08:43:54.169Z"
   },
   {
    "duration": 7,
    "start_time": "2024-05-08T08:43:54.186Z"
   },
   {
    "duration": 19,
    "start_time": "2024-05-08T08:43:54.194Z"
   },
   {
    "duration": 5,
    "start_time": "2024-05-08T08:43:54.214Z"
   },
   {
    "duration": 10,
    "start_time": "2024-05-08T08:43:54.220Z"
   },
   {
    "duration": 5,
    "start_time": "2024-05-08T08:43:54.232Z"
   },
   {
    "duration": 157,
    "start_time": "2024-05-08T08:43:54.238Z"
   },
   {
    "duration": 6,
    "start_time": "2024-05-08T08:43:54.397Z"
   },
   {
    "duration": 82,
    "start_time": "2024-05-08T08:43:54.405Z"
   },
   {
    "duration": 129,
    "start_time": "2024-05-08T08:43:54.489Z"
   },
   {
    "duration": 3,
    "start_time": "2024-05-08T08:43:54.619Z"
   },
   {
    "duration": 190,
    "start_time": "2024-05-08T08:43:54.624Z"
   },
   {
    "duration": 8,
    "start_time": "2024-05-08T08:43:54.816Z"
   },
   {
    "duration": 5,
    "start_time": "2024-05-08T08:43:54.825Z"
   },
   {
    "duration": 370,
    "start_time": "2024-05-08T08:43:54.845Z"
   },
   {
    "duration": 5,
    "start_time": "2024-05-08T08:43:55.216Z"
   },
   {
    "duration": 27,
    "start_time": "2024-05-08T08:43:55.224Z"
   },
   {
    "duration": 240,
    "start_time": "2024-05-08T08:43:55.252Z"
   },
   {
    "duration": 17,
    "start_time": "2024-05-08T08:43:55.494Z"
   },
   {
    "duration": 19,
    "start_time": "2024-05-08T08:43:55.513Z"
   },
   {
    "duration": 10,
    "start_time": "2024-05-08T08:43:55.545Z"
   },
   {
    "duration": 422,
    "start_time": "2024-05-08T08:43:55.557Z"
   },
   {
    "duration": 250,
    "start_time": "2024-05-08T08:43:55.980Z"
   },
   {
    "duration": 15,
    "start_time": "2024-05-08T08:43:56.232Z"
   },
   {
    "duration": 375,
    "start_time": "2024-05-08T08:43:56.248Z"
   },
   {
    "duration": 221,
    "start_time": "2024-05-08T08:43:56.625Z"
   },
   {
    "duration": 1081,
    "start_time": "2024-05-08T08:43:56.848Z"
   },
   {
    "duration": 34,
    "start_time": "2024-05-08T08:43:57.930Z"
   },
   {
    "duration": 40,
    "start_time": "2024-05-08T08:43:57.965Z"
   },
   {
    "duration": 14,
    "start_time": "2024-05-08T08:43:58.006Z"
   },
   {
    "duration": 29,
    "start_time": "2024-05-08T08:43:58.021Z"
   },
   {
    "duration": 4,
    "start_time": "2024-05-08T08:43:58.051Z"
   },
   {
    "duration": 11,
    "start_time": "2024-05-08T08:43:58.056Z"
   },
   {
    "duration": 10,
    "start_time": "2024-05-08T08:43:58.068Z"
   },
   {
    "duration": 5,
    "start_time": "2024-05-08T08:43:58.080Z"
   },
   {
    "duration": 4,
    "start_time": "2024-05-08T08:43:58.086Z"
   },
   {
    "duration": 8,
    "start_time": "2024-05-08T08:43:58.091Z"
   },
   {
    "duration": 4,
    "start_time": "2024-05-08T08:43:58.100Z"
   },
   {
    "duration": 1039,
    "start_time": "2024-05-08T08:45:15.322Z"
   },
   {
    "duration": 14,
    "start_time": "2024-05-08T08:46:24.874Z"
   },
   {
    "duration": 17,
    "start_time": "2024-05-08T08:47:33.221Z"
   },
   {
    "duration": 35,
    "start_time": "2024-05-08T08:47:54.572Z"
   },
   {
    "duration": 11,
    "start_time": "2024-05-08T08:48:19.429Z"
   },
   {
    "duration": 58,
    "start_time": "2024-05-08T08:50:01.899Z"
   },
   {
    "duration": 1025,
    "start_time": "2024-05-08T08:50:22.359Z"
   },
   {
    "duration": 28,
    "start_time": "2024-05-08T08:50:23.386Z"
   },
   {
    "duration": 13,
    "start_time": "2024-05-08T08:50:23.426Z"
   },
   {
    "duration": 31,
    "start_time": "2024-05-08T08:50:23.440Z"
   },
   {
    "duration": 8,
    "start_time": "2024-05-08T08:50:23.473Z"
   },
   {
    "duration": 17,
    "start_time": "2024-05-08T08:50:23.483Z"
   },
   {
    "duration": 6,
    "start_time": "2024-05-08T08:50:23.502Z"
   },
   {
    "duration": 7,
    "start_time": "2024-05-08T08:50:23.509Z"
   },
   {
    "duration": 8,
    "start_time": "2024-05-08T08:50:23.517Z"
   },
   {
    "duration": 6,
    "start_time": "2024-05-08T08:50:23.526Z"
   },
   {
    "duration": 12,
    "start_time": "2024-05-08T08:50:23.533Z"
   },
   {
    "duration": 17,
    "start_time": "2024-05-08T08:50:23.546Z"
   },
   {
    "duration": 8,
    "start_time": "2024-05-08T08:50:23.564Z"
   },
   {
    "duration": 21,
    "start_time": "2024-05-08T08:50:23.575Z"
   },
   {
    "duration": 6,
    "start_time": "2024-05-08T08:50:23.598Z"
   },
   {
    "duration": 13,
    "start_time": "2024-05-08T08:50:23.605Z"
   },
   {
    "duration": 17,
    "start_time": "2024-05-08T08:50:23.619Z"
   },
   {
    "duration": 15,
    "start_time": "2024-05-08T08:50:23.637Z"
   },
   {
    "duration": 13,
    "start_time": "2024-05-08T08:50:23.654Z"
   },
   {
    "duration": 7,
    "start_time": "2024-05-08T08:50:23.669Z"
   },
   {
    "duration": 5,
    "start_time": "2024-05-08T08:50:23.678Z"
   },
   {
    "duration": 7,
    "start_time": "2024-05-08T08:50:23.684Z"
   },
   {
    "duration": 23,
    "start_time": "2024-05-08T08:50:23.692Z"
   },
   {
    "duration": 7,
    "start_time": "2024-05-08T08:50:23.717Z"
   },
   {
    "duration": 7,
    "start_time": "2024-05-08T08:50:23.725Z"
   },
   {
    "duration": 8,
    "start_time": "2024-05-08T08:50:23.733Z"
   },
   {
    "duration": 6,
    "start_time": "2024-05-08T08:50:23.745Z"
   },
   {
    "duration": 18,
    "start_time": "2024-05-08T08:50:23.752Z"
   },
   {
    "duration": 16,
    "start_time": "2024-05-08T08:50:23.772Z"
   },
   {
    "duration": 8,
    "start_time": "2024-05-08T08:50:23.790Z"
   },
   {
    "duration": 162,
    "start_time": "2024-05-08T08:50:23.800Z"
   },
   {
    "duration": 7,
    "start_time": "2024-05-08T08:50:23.964Z"
   },
   {
    "duration": 99,
    "start_time": "2024-05-08T08:50:23.972Z"
   },
   {
    "duration": 132,
    "start_time": "2024-05-08T08:50:24.073Z"
   },
   {
    "duration": 3,
    "start_time": "2024-05-08T08:50:24.206Z"
   },
   {
    "duration": 201,
    "start_time": "2024-05-08T08:50:24.211Z"
   },
   {
    "duration": 7,
    "start_time": "2024-05-08T08:50:24.414Z"
   },
   {
    "duration": 10,
    "start_time": "2024-05-08T08:50:24.423Z"
   },
   {
    "duration": 370,
    "start_time": "2024-05-08T08:50:24.444Z"
   },
   {
    "duration": 4,
    "start_time": "2024-05-08T08:50:24.816Z"
   },
   {
    "duration": 33,
    "start_time": "2024-05-08T08:50:24.823Z"
   },
   {
    "duration": 237,
    "start_time": "2024-05-08T08:50:24.858Z"
   },
   {
    "duration": 11,
    "start_time": "2024-05-08T08:50:25.097Z"
   },
   {
    "duration": 26,
    "start_time": "2024-05-08T08:50:25.109Z"
   },
   {
    "duration": 10,
    "start_time": "2024-05-08T08:50:25.144Z"
   },
   {
    "duration": 21,
    "start_time": "2024-05-08T08:50:25.156Z"
   },
   {
    "duration": 434,
    "start_time": "2024-05-08T08:50:25.178Z"
   },
   {
    "duration": 239,
    "start_time": "2024-05-08T08:50:25.614Z"
   },
   {
    "duration": 11,
    "start_time": "2024-05-08T08:50:25.854Z"
   },
   {
    "duration": 355,
    "start_time": "2024-05-08T08:50:25.867Z"
   },
   {
    "duration": 217,
    "start_time": "2024-05-08T08:50:26.223Z"
   },
   {
    "duration": 1056,
    "start_time": "2024-05-08T08:50:26.444Z"
   },
   {
    "duration": 31,
    "start_time": "2024-05-08T08:50:27.502Z"
   },
   {
    "duration": 47,
    "start_time": "2024-05-08T08:50:27.546Z"
   },
   {
    "duration": 13,
    "start_time": "2024-05-08T08:50:27.595Z"
   },
   {
    "duration": 21,
    "start_time": "2024-05-08T08:50:27.609Z"
   },
   {
    "duration": 20,
    "start_time": "2024-05-08T08:50:27.632Z"
   },
   {
    "duration": 14,
    "start_time": "2024-05-08T08:50:27.654Z"
   },
   {
    "duration": 10,
    "start_time": "2024-05-08T08:50:27.670Z"
   },
   {
    "duration": 6,
    "start_time": "2024-05-08T08:50:27.682Z"
   },
   {
    "duration": 5,
    "start_time": "2024-05-08T08:50:27.689Z"
   },
   {
    "duration": 18,
    "start_time": "2024-05-08T08:50:27.696Z"
   },
   {
    "duration": 9,
    "start_time": "2024-05-08T08:50:27.716Z"
   },
   {
    "duration": 1007,
    "start_time": "2024-05-08T08:51:53.570Z"
   },
   {
    "duration": 26,
    "start_time": "2024-05-08T08:53:28.556Z"
   },
   {
    "duration": 18,
    "start_time": "2024-05-08T09:01:09.984Z"
   },
   {
    "duration": 23,
    "start_time": "2024-05-08T09:01:29.385Z"
   },
   {
    "duration": 1003,
    "start_time": "2024-05-08T09:02:05.882Z"
   },
   {
    "duration": 29,
    "start_time": "2024-05-08T09:02:06.887Z"
   },
   {
    "duration": 13,
    "start_time": "2024-05-08T09:02:06.917Z"
   },
   {
    "duration": 45,
    "start_time": "2024-05-08T09:02:06.932Z"
   },
   {
    "duration": 20,
    "start_time": "2024-05-08T09:02:06.978Z"
   },
   {
    "duration": 42,
    "start_time": "2024-05-08T09:02:07.000Z"
   },
   {
    "duration": 21,
    "start_time": "2024-05-08T09:02:07.044Z"
   },
   {
    "duration": 71,
    "start_time": "2024-05-08T09:02:07.066Z"
   },
   {
    "duration": 27,
    "start_time": "2024-05-08T09:02:07.138Z"
   },
   {
    "duration": 40,
    "start_time": "2024-05-08T09:02:07.168Z"
   },
   {
    "duration": 57,
    "start_time": "2024-05-08T09:02:07.210Z"
   },
   {
    "duration": 12,
    "start_time": "2024-05-08T09:02:07.269Z"
   },
   {
    "duration": 27,
    "start_time": "2024-05-08T09:02:07.282Z"
   },
   {
    "duration": 45,
    "start_time": "2024-05-08T09:02:07.310Z"
   },
   {
    "duration": 11,
    "start_time": "2024-05-08T09:02:07.356Z"
   },
   {
    "duration": 35,
    "start_time": "2024-05-08T09:02:07.369Z"
   },
   {
    "duration": 15,
    "start_time": "2024-05-08T09:02:07.405Z"
   },
   {
    "duration": 27,
    "start_time": "2024-05-08T09:02:07.421Z"
   },
   {
    "duration": 32,
    "start_time": "2024-05-08T09:02:07.449Z"
   },
   {
    "duration": 19,
    "start_time": "2024-05-08T09:02:07.483Z"
   },
   {
    "duration": 22,
    "start_time": "2024-05-08T09:02:07.503Z"
   },
   {
    "duration": 39,
    "start_time": "2024-05-08T09:02:07.526Z"
   },
   {
    "duration": 11,
    "start_time": "2024-05-08T09:02:07.567Z"
   },
   {
    "duration": 24,
    "start_time": "2024-05-08T09:02:07.579Z"
   },
   {
    "duration": 17,
    "start_time": "2024-05-08T09:02:07.605Z"
   },
   {
    "duration": 30,
    "start_time": "2024-05-08T09:02:07.624Z"
   },
   {
    "duration": 14,
    "start_time": "2024-05-08T09:02:07.656Z"
   },
   {
    "duration": 18,
    "start_time": "2024-05-08T09:02:07.673Z"
   },
   {
    "duration": 21,
    "start_time": "2024-05-08T09:02:07.693Z"
   },
   {
    "duration": 19,
    "start_time": "2024-05-08T09:02:07.716Z"
   },
   {
    "duration": 175,
    "start_time": "2024-05-08T09:02:07.737Z"
   },
   {
    "duration": 6,
    "start_time": "2024-05-08T09:02:07.914Z"
   },
   {
    "duration": 108,
    "start_time": "2024-05-08T09:02:07.922Z"
   },
   {
    "duration": 114,
    "start_time": "2024-05-08T09:02:08.032Z"
   },
   {
    "duration": 3,
    "start_time": "2024-05-08T09:02:08.148Z"
   },
   {
    "duration": 208,
    "start_time": "2024-05-08T09:02:08.153Z"
   },
   {
    "duration": 8,
    "start_time": "2024-05-08T09:02:08.363Z"
   },
   {
    "duration": 24,
    "start_time": "2024-05-08T09:02:08.373Z"
   },
   {
    "duration": 379,
    "start_time": "2024-05-08T09:02:08.399Z"
   },
   {
    "duration": 5,
    "start_time": "2024-05-08T09:02:08.780Z"
   },
   {
    "duration": 32,
    "start_time": "2024-05-08T09:02:08.787Z"
   },
   {
    "duration": 275,
    "start_time": "2024-05-08T09:02:08.821Z"
   },
   {
    "duration": 13,
    "start_time": "2024-05-08T09:02:09.097Z"
   },
   {
    "duration": 34,
    "start_time": "2024-05-08T09:02:09.112Z"
   },
   {
    "duration": 13,
    "start_time": "2024-05-08T09:02:09.147Z"
   },
   {
    "duration": 21,
    "start_time": "2024-05-08T09:02:09.162Z"
   },
   {
    "duration": 477,
    "start_time": "2024-05-08T09:02:09.185Z"
   },
   {
    "duration": 229,
    "start_time": "2024-05-08T09:02:09.663Z"
   },
   {
    "duration": 12,
    "start_time": "2024-05-08T09:02:09.893Z"
   },
   {
    "duration": 375,
    "start_time": "2024-05-08T09:02:09.906Z"
   },
   {
    "duration": 216,
    "start_time": "2024-05-08T09:02:10.283Z"
   },
   {
    "duration": 1019,
    "start_time": "2024-05-08T09:02:10.500Z"
   },
   {
    "duration": 35,
    "start_time": "2024-05-08T09:02:11.520Z"
   },
   {
    "duration": 41,
    "start_time": "2024-05-08T09:02:11.556Z"
   },
   {
    "duration": 14,
    "start_time": "2024-05-08T09:02:11.599Z"
   },
   {
    "duration": 32,
    "start_time": "2024-05-08T09:02:11.614Z"
   },
   {
    "duration": 14,
    "start_time": "2024-05-08T09:02:11.647Z"
   },
   {
    "duration": 15,
    "start_time": "2024-05-08T09:02:11.663Z"
   },
   {
    "duration": 11,
    "start_time": "2024-05-08T09:02:11.679Z"
   },
   {
    "duration": 12,
    "start_time": "2024-05-08T09:02:11.691Z"
   },
   {
    "duration": 5,
    "start_time": "2024-05-08T09:02:11.704Z"
   },
   {
    "duration": 15,
    "start_time": "2024-05-08T09:02:11.710Z"
   },
   {
    "duration": 20,
    "start_time": "2024-05-08T09:02:11.726Z"
   },
   {
    "duration": 3,
    "start_time": "2024-05-08T09:05:38.087Z"
   },
   {
    "duration": 4,
    "start_time": "2024-05-08T09:05:45.711Z"
   },
   {
    "duration": 3,
    "start_time": "2024-05-08T09:05:52.479Z"
   },
   {
    "duration": 867,
    "start_time": "2024-05-08T09:09:26.287Z"
   },
   {
    "duration": 12,
    "start_time": "2024-05-08T09:10:07.412Z"
   },
   {
    "duration": 44,
    "start_time": "2024-05-08T09:10:59.976Z"
   },
   {
    "duration": 12,
    "start_time": "2024-05-08T09:11:02.226Z"
   },
   {
    "duration": 14,
    "start_time": "2024-05-08T09:11:07.520Z"
   },
   {
    "duration": 14,
    "start_time": "2024-05-08T09:12:04.154Z"
   },
   {
    "duration": 12,
    "start_time": "2024-05-08T09:14:21.814Z"
   },
   {
    "duration": 1057,
    "start_time": "2024-05-08T09:21:37.431Z"
   },
   {
    "duration": 28,
    "start_time": "2024-05-08T09:21:38.490Z"
   },
   {
    "duration": 12,
    "start_time": "2024-05-08T09:21:38.519Z"
   },
   {
    "duration": 28,
    "start_time": "2024-05-08T09:21:38.532Z"
   },
   {
    "duration": 8,
    "start_time": "2024-05-08T09:21:38.562Z"
   },
   {
    "duration": 18,
    "start_time": "2024-05-08T09:21:38.571Z"
   },
   {
    "duration": 6,
    "start_time": "2024-05-08T09:21:38.590Z"
   },
   {
    "duration": 16,
    "start_time": "2024-05-08T09:21:38.597Z"
   },
   {
    "duration": 5,
    "start_time": "2024-05-08T09:21:38.614Z"
   },
   {
    "duration": 5,
    "start_time": "2024-05-08T09:21:38.621Z"
   },
   {
    "duration": 15,
    "start_time": "2024-05-08T09:21:38.627Z"
   },
   {
    "duration": 21,
    "start_time": "2024-05-08T09:21:38.643Z"
   },
   {
    "duration": 13,
    "start_time": "2024-05-08T09:21:38.665Z"
   },
   {
    "duration": 25,
    "start_time": "2024-05-08T09:21:38.680Z"
   },
   {
    "duration": 24,
    "start_time": "2024-05-08T09:21:38.706Z"
   },
   {
    "duration": 21,
    "start_time": "2024-05-08T09:21:38.731Z"
   },
   {
    "duration": 9,
    "start_time": "2024-05-08T09:21:38.753Z"
   },
   {
    "duration": 22,
    "start_time": "2024-05-08T09:21:38.763Z"
   },
   {
    "duration": 14,
    "start_time": "2024-05-08T09:21:38.786Z"
   },
   {
    "duration": 8,
    "start_time": "2024-05-08T09:21:38.801Z"
   },
   {
    "duration": 6,
    "start_time": "2024-05-08T09:21:38.810Z"
   },
   {
    "duration": 8,
    "start_time": "2024-05-08T09:21:38.818Z"
   },
   {
    "duration": 6,
    "start_time": "2024-05-08T09:21:38.827Z"
   },
   {
    "duration": 18,
    "start_time": "2024-05-08T09:21:38.834Z"
   },
   {
    "duration": 9,
    "start_time": "2024-05-08T09:21:38.854Z"
   },
   {
    "duration": 11,
    "start_time": "2024-05-08T09:21:38.864Z"
   },
   {
    "duration": 10,
    "start_time": "2024-05-08T09:21:38.876Z"
   },
   {
    "duration": 5,
    "start_time": "2024-05-08T09:21:38.888Z"
   },
   {
    "duration": 5,
    "start_time": "2024-05-08T09:21:38.895Z"
   },
   {
    "duration": 12,
    "start_time": "2024-05-08T09:21:38.902Z"
   },
   {
    "duration": 142,
    "start_time": "2024-05-08T09:21:38.915Z"
   },
   {
    "duration": 7,
    "start_time": "2024-05-08T09:21:39.058Z"
   },
   {
    "duration": 98,
    "start_time": "2024-05-08T09:21:39.066Z"
   },
   {
    "duration": 143,
    "start_time": "2024-05-08T09:21:39.166Z"
   },
   {
    "duration": 2,
    "start_time": "2024-05-08T09:21:39.311Z"
   },
   {
    "duration": 198,
    "start_time": "2024-05-08T09:21:39.315Z"
   },
   {
    "duration": 8,
    "start_time": "2024-05-08T09:21:39.515Z"
   },
   {
    "duration": 7,
    "start_time": "2024-05-08T09:21:39.525Z"
   },
   {
    "duration": 366,
    "start_time": "2024-05-08T09:21:39.545Z"
   },
   {
    "duration": 5,
    "start_time": "2024-05-08T09:21:39.913Z"
   },
   {
    "duration": 26,
    "start_time": "2024-05-08T09:21:39.923Z"
   },
   {
    "duration": 244,
    "start_time": "2024-05-08T09:21:39.950Z"
   },
   {
    "duration": 12,
    "start_time": "2024-05-08T09:21:40.196Z"
   },
   {
    "duration": 29,
    "start_time": "2024-05-08T09:21:40.209Z"
   },
   {
    "duration": 13,
    "start_time": "2024-05-08T09:21:40.240Z"
   },
   {
    "duration": 22,
    "start_time": "2024-05-08T09:21:40.254Z"
   },
   {
    "duration": 442,
    "start_time": "2024-05-08T09:21:40.277Z"
   },
   {
    "duration": 221,
    "start_time": "2024-05-08T09:21:40.720Z"
   },
   {
    "duration": 11,
    "start_time": "2024-05-08T09:21:40.944Z"
   },
   {
    "duration": 359,
    "start_time": "2024-05-08T09:21:40.956Z"
   },
   {
    "duration": 217,
    "start_time": "2024-05-08T09:21:41.317Z"
   },
   {
    "duration": 1050,
    "start_time": "2024-05-08T09:21:41.536Z"
   },
   {
    "duration": 27,
    "start_time": "2024-05-08T09:21:42.588Z"
   },
   {
    "duration": 60,
    "start_time": "2024-05-08T09:21:42.616Z"
   },
   {
    "duration": 14,
    "start_time": "2024-05-08T09:21:42.677Z"
   },
   {
    "duration": 11,
    "start_time": "2024-05-08T09:21:42.693Z"
   },
   {
    "duration": 4,
    "start_time": "2024-05-08T09:21:42.706Z"
   },
   {
    "duration": 35,
    "start_time": "2024-05-08T09:21:42.712Z"
   },
   {
    "duration": 11,
    "start_time": "2024-05-08T09:21:42.749Z"
   },
   {
    "duration": 6,
    "start_time": "2024-05-08T09:21:42.761Z"
   },
   {
    "duration": 8,
    "start_time": "2024-05-08T09:21:42.769Z"
   },
   {
    "duration": 8,
    "start_time": "2024-05-08T09:21:42.778Z"
   },
   {
    "duration": 4,
    "start_time": "2024-05-08T09:21:42.787Z"
   },
   {
    "duration": 26,
    "start_time": "2024-05-08T09:24:34.584Z"
   },
   {
    "duration": 42,
    "start_time": "2024-05-08T09:33:14.699Z"
   },
   {
    "duration": 14,
    "start_time": "2024-05-08T09:33:19.214Z"
   },
   {
    "duration": 12,
    "start_time": "2024-05-08T09:33:23.322Z"
   },
   {
    "duration": 4,
    "start_time": "2024-05-08T09:33:27.575Z"
   },
   {
    "duration": 750,
    "start_time": "2024-05-08T09:35:35.400Z"
   },
   {
    "duration": 40,
    "start_time": "2024-05-08T09:35:49.087Z"
   },
   {
    "duration": 640,
    "start_time": "2024-05-08T09:35:54.930Z"
   },
   {
    "duration": 646,
    "start_time": "2024-05-08T09:36:03.916Z"
   },
   {
    "duration": 643,
    "start_time": "2024-05-08T09:36:09.958Z"
   },
   {
    "duration": 631,
    "start_time": "2024-05-08T09:36:51.954Z"
   },
   {
    "duration": 610,
    "start_time": "2024-05-08T09:37:17.181Z"
   },
   {
    "duration": 647,
    "start_time": "2024-05-08T09:39:58.679Z"
   },
   {
    "duration": 40,
    "start_time": "2024-05-08T09:40:36.379Z"
   },
   {
    "duration": 40,
    "start_time": "2024-05-08T09:40:45.196Z"
   },
   {
    "duration": 43,
    "start_time": "2024-05-08T09:44:38.567Z"
   },
   {
    "duration": 624,
    "start_time": "2024-05-08T09:45:46.988Z"
   },
   {
    "duration": 13,
    "start_time": "2024-05-08T09:46:01.965Z"
   },
   {
    "duration": 628,
    "start_time": "2024-05-08T09:46:04.192Z"
   },
   {
    "duration": 637,
    "start_time": "2024-05-08T09:46:11.111Z"
   },
   {
    "duration": 1065,
    "start_time": "2024-05-08T09:46:22.407Z"
   },
   {
    "duration": 29,
    "start_time": "2024-05-08T09:46:23.474Z"
   },
   {
    "duration": 13,
    "start_time": "2024-05-08T09:46:23.504Z"
   },
   {
    "duration": 34,
    "start_time": "2024-05-08T09:46:23.520Z"
   },
   {
    "duration": 8,
    "start_time": "2024-05-08T09:46:23.556Z"
   },
   {
    "duration": 21,
    "start_time": "2024-05-08T09:46:23.566Z"
   },
   {
    "duration": 12,
    "start_time": "2024-05-08T09:46:23.588Z"
   },
   {
    "duration": 11,
    "start_time": "2024-05-08T09:46:23.601Z"
   },
   {
    "duration": 9,
    "start_time": "2024-05-08T09:46:23.613Z"
   },
   {
    "duration": 7,
    "start_time": "2024-05-08T09:46:23.625Z"
   },
   {
    "duration": 8,
    "start_time": "2024-05-08T09:46:23.634Z"
   },
   {
    "duration": 13,
    "start_time": "2024-05-08T09:46:23.643Z"
   },
   {
    "duration": 13,
    "start_time": "2024-05-08T09:46:23.657Z"
   },
   {
    "duration": 17,
    "start_time": "2024-05-08T09:46:23.672Z"
   },
   {
    "duration": 5,
    "start_time": "2024-05-08T09:46:23.691Z"
   },
   {
    "duration": 14,
    "start_time": "2024-05-08T09:46:23.697Z"
   },
   {
    "duration": 18,
    "start_time": "2024-05-08T09:46:23.712Z"
   },
   {
    "duration": 5,
    "start_time": "2024-05-08T09:46:23.731Z"
   },
   {
    "duration": 7,
    "start_time": "2024-05-08T09:46:23.738Z"
   },
   {
    "duration": 6,
    "start_time": "2024-05-08T09:46:23.746Z"
   },
   {
    "duration": 4,
    "start_time": "2024-05-08T09:46:23.754Z"
   },
   {
    "duration": 7,
    "start_time": "2024-05-08T09:46:23.759Z"
   },
   {
    "duration": 4,
    "start_time": "2024-05-08T09:46:23.767Z"
   },
   {
    "duration": 9,
    "start_time": "2024-05-08T09:46:23.773Z"
   },
   {
    "duration": 6,
    "start_time": "2024-05-08T09:46:23.783Z"
   },
   {
    "duration": 9,
    "start_time": "2024-05-08T09:46:23.790Z"
   },
   {
    "duration": 10,
    "start_time": "2024-05-08T09:46:23.800Z"
   },
   {
    "duration": 3,
    "start_time": "2024-05-08T09:46:23.814Z"
   },
   {
    "duration": 4,
    "start_time": "2024-05-08T09:46:23.845Z"
   },
   {
    "duration": 5,
    "start_time": "2024-05-08T09:46:23.850Z"
   },
   {
    "duration": 152,
    "start_time": "2024-05-08T09:46:23.856Z"
   },
   {
    "duration": 7,
    "start_time": "2024-05-08T09:46:24.010Z"
   },
   {
    "duration": 87,
    "start_time": "2024-05-08T09:46:24.018Z"
   },
   {
    "duration": 126,
    "start_time": "2024-05-08T09:46:24.107Z"
   },
   {
    "duration": 10,
    "start_time": "2024-05-08T09:46:24.235Z"
   },
   {
    "duration": 204,
    "start_time": "2024-05-08T09:46:24.247Z"
   },
   {
    "duration": 8,
    "start_time": "2024-05-08T09:46:24.453Z"
   },
   {
    "duration": 7,
    "start_time": "2024-05-08T09:46:24.462Z"
   },
   {
    "duration": 366,
    "start_time": "2024-05-08T09:46:24.471Z"
   },
   {
    "duration": 8,
    "start_time": "2024-05-08T09:46:24.839Z"
   },
   {
    "duration": 18,
    "start_time": "2024-05-08T09:46:24.849Z"
   },
   {
    "duration": 239,
    "start_time": "2024-05-08T09:46:24.869Z"
   },
   {
    "duration": 12,
    "start_time": "2024-05-08T09:46:25.110Z"
   },
   {
    "duration": 33,
    "start_time": "2024-05-08T09:46:25.123Z"
   },
   {
    "duration": 10,
    "start_time": "2024-05-08T09:46:25.158Z"
   },
   {
    "duration": 17,
    "start_time": "2024-05-08T09:46:25.170Z"
   },
   {
    "duration": 460,
    "start_time": "2024-05-08T09:46:25.189Z"
   },
   {
    "duration": 223,
    "start_time": "2024-05-08T09:46:25.651Z"
   },
   {
    "duration": 11,
    "start_time": "2024-05-08T09:46:25.875Z"
   },
   {
    "duration": 351,
    "start_time": "2024-05-08T09:46:25.888Z"
   },
   {
    "duration": 214,
    "start_time": "2024-05-08T09:46:26.241Z"
   },
   {
    "duration": 1041,
    "start_time": "2024-05-08T09:46:26.456Z"
   },
   {
    "duration": 30,
    "start_time": "2024-05-08T09:46:27.499Z"
   },
   {
    "duration": 55,
    "start_time": "2024-05-08T09:46:27.531Z"
   },
   {
    "duration": 14,
    "start_time": "2024-05-08T09:46:27.587Z"
   },
   {
    "duration": 13,
    "start_time": "2024-05-08T09:46:27.603Z"
   },
   {
    "duration": 5,
    "start_time": "2024-05-08T09:46:27.618Z"
   },
   {
    "duration": 15,
    "start_time": "2024-05-08T09:46:27.645Z"
   },
   {
    "duration": 11,
    "start_time": "2024-05-08T09:46:27.662Z"
   },
   {
    "duration": 7,
    "start_time": "2024-05-08T09:46:27.675Z"
   },
   {
    "duration": 5,
    "start_time": "2024-05-08T09:46:27.683Z"
   },
   {
    "duration": 11,
    "start_time": "2024-05-08T09:46:27.690Z"
   },
   {
    "duration": 5,
    "start_time": "2024-05-08T09:46:27.703Z"
   },
   {
    "duration": 4,
    "start_time": "2024-05-08T09:46:39.187Z"
   },
   {
    "duration": 689,
    "start_time": "2024-05-08T09:47:32.107Z"
   },
   {
    "duration": 4,
    "start_time": "2024-05-08T09:47:34.279Z"
   },
   {
    "duration": 978,
    "start_time": "2024-05-08T09:48:02.007Z"
   },
   {
    "duration": 29,
    "start_time": "2024-05-08T09:48:02.986Z"
   },
   {
    "duration": 12,
    "start_time": "2024-05-08T09:48:03.016Z"
   },
   {
    "duration": 51,
    "start_time": "2024-05-08T09:48:03.030Z"
   },
   {
    "duration": 8,
    "start_time": "2024-05-08T09:48:03.082Z"
   },
   {
    "duration": 16,
    "start_time": "2024-05-08T09:48:03.092Z"
   },
   {
    "duration": 6,
    "start_time": "2024-05-08T09:48:03.110Z"
   },
   {
    "duration": 9,
    "start_time": "2024-05-08T09:48:03.117Z"
   },
   {
    "duration": 5,
    "start_time": "2024-05-08T09:48:03.127Z"
   },
   {
    "duration": 8,
    "start_time": "2024-05-08T09:48:03.135Z"
   },
   {
    "duration": 19,
    "start_time": "2024-05-08T09:48:03.144Z"
   },
   {
    "duration": 30,
    "start_time": "2024-05-08T09:48:03.164Z"
   },
   {
    "duration": 14,
    "start_time": "2024-05-08T09:48:03.196Z"
   },
   {
    "duration": 10,
    "start_time": "2024-05-08T09:48:03.211Z"
   },
   {
    "duration": 5,
    "start_time": "2024-05-08T09:48:03.222Z"
   },
   {
    "duration": 9,
    "start_time": "2024-05-08T09:48:03.229Z"
   },
   {
    "duration": 5,
    "start_time": "2024-05-08T09:48:03.240Z"
   },
   {
    "duration": 14,
    "start_time": "2024-05-08T09:48:03.247Z"
   },
   {
    "duration": 22,
    "start_time": "2024-05-08T09:48:03.264Z"
   },
   {
    "duration": 15,
    "start_time": "2024-05-08T09:48:03.288Z"
   },
   {
    "duration": 5,
    "start_time": "2024-05-08T09:48:03.304Z"
   },
   {
    "duration": 9,
    "start_time": "2024-05-08T09:48:03.310Z"
   },
   {
    "duration": 8,
    "start_time": "2024-05-08T09:48:03.320Z"
   },
   {
    "duration": 17,
    "start_time": "2024-05-08T09:48:03.329Z"
   },
   {
    "duration": 25,
    "start_time": "2024-05-08T09:48:03.347Z"
   },
   {
    "duration": 10,
    "start_time": "2024-05-08T09:48:03.374Z"
   },
   {
    "duration": 7,
    "start_time": "2024-05-08T09:48:03.386Z"
   },
   {
    "duration": 12,
    "start_time": "2024-05-08T09:48:03.397Z"
   },
   {
    "duration": 16,
    "start_time": "2024-05-08T09:48:03.410Z"
   },
   {
    "duration": 8,
    "start_time": "2024-05-08T09:48:03.427Z"
   },
   {
    "duration": 163,
    "start_time": "2024-05-08T09:48:03.436Z"
   },
   {
    "duration": 6,
    "start_time": "2024-05-08T09:48:03.601Z"
   },
   {
    "duration": 86,
    "start_time": "2024-05-08T09:48:03.608Z"
   },
   {
    "duration": 131,
    "start_time": "2024-05-08T09:48:03.695Z"
   },
   {
    "duration": 3,
    "start_time": "2024-05-08T09:48:03.828Z"
   },
   {
    "duration": 196,
    "start_time": "2024-05-08T09:48:03.832Z"
   },
   {
    "duration": 17,
    "start_time": "2024-05-08T09:48:04.029Z"
   },
   {
    "duration": 14,
    "start_time": "2024-05-08T09:48:04.047Z"
   },
   {
    "duration": 364,
    "start_time": "2024-05-08T09:48:04.062Z"
   },
   {
    "duration": 5,
    "start_time": "2024-05-08T09:48:04.427Z"
   },
   {
    "duration": 24,
    "start_time": "2024-05-08T09:48:04.433Z"
   },
   {
    "duration": 237,
    "start_time": "2024-05-08T09:48:04.458Z"
   },
   {
    "duration": 12,
    "start_time": "2024-05-08T09:48:04.696Z"
   },
   {
    "duration": 19,
    "start_time": "2024-05-08T09:48:04.709Z"
   },
   {
    "duration": 24,
    "start_time": "2024-05-08T09:48:04.729Z"
   },
   {
    "duration": 12,
    "start_time": "2024-05-08T09:48:04.755Z"
   },
   {
    "duration": 449,
    "start_time": "2024-05-08T09:48:04.768Z"
   },
   {
    "duration": 230,
    "start_time": "2024-05-08T09:48:05.218Z"
   },
   {
    "duration": 12,
    "start_time": "2024-05-08T09:48:05.450Z"
   },
   {
    "duration": 389,
    "start_time": "2024-05-08T09:48:05.464Z"
   },
   {
    "duration": 225,
    "start_time": "2024-05-08T09:48:05.855Z"
   },
   {
    "duration": 1017,
    "start_time": "2024-05-08T09:48:06.082Z"
   },
   {
    "duration": 27,
    "start_time": "2024-05-08T09:48:07.101Z"
   },
   {
    "duration": 43,
    "start_time": "2024-05-08T09:48:07.144Z"
   },
   {
    "duration": 14,
    "start_time": "2024-05-08T09:48:07.189Z"
   },
   {
    "duration": 4,
    "start_time": "2024-05-08T09:48:07.205Z"
   },
   {
    "duration": 40,
    "start_time": "2024-05-08T09:48:07.210Z"
   },
   {
    "duration": 11,
    "start_time": "2024-05-08T09:48:07.254Z"
   },
   {
    "duration": 7,
    "start_time": "2024-05-08T09:48:07.266Z"
   },
   {
    "duration": 6,
    "start_time": "2024-05-08T09:48:07.275Z"
   },
   {
    "duration": 13,
    "start_time": "2024-05-08T09:48:07.282Z"
   },
   {
    "duration": 4,
    "start_time": "2024-05-08T09:48:07.296Z"
   },
   {
    "duration": 264,
    "start_time": "2024-05-08T09:49:55.078Z"
   },
   {
    "duration": 44,
    "start_time": "2024-05-08T09:50:02.202Z"
   },
   {
    "duration": 15,
    "start_time": "2024-05-08T09:50:08.227Z"
   },
   {
    "duration": 3,
    "start_time": "2024-05-08T09:50:10.768Z"
   },
   {
    "duration": 41,
    "start_time": "2024-05-08T09:50:54.435Z"
   },
   {
    "duration": 40,
    "start_time": "2024-05-08T09:53:26.535Z"
   },
   {
    "duration": 11,
    "start_time": "2024-05-08T09:53:37.808Z"
   },
   {
    "duration": 10,
    "start_time": "2024-05-08T09:53:53.975Z"
   },
   {
    "duration": 8,
    "start_time": "2024-05-08T10:38:09.440Z"
   },
   {
    "duration": 10,
    "start_time": "2024-05-08T10:38:10.145Z"
   },
   {
    "duration": 8,
    "start_time": "2024-05-08T10:39:20.953Z"
   },
   {
    "duration": 39,
    "start_time": "2024-05-08T10:39:43.544Z"
   },
   {
    "duration": 5,
    "start_time": "2024-05-08T10:45:44.774Z"
   },
   {
    "duration": 5,
    "start_time": "2024-05-08T10:52:28.344Z"
   },
   {
    "duration": 5,
    "start_time": "2024-05-08T10:52:39.513Z"
   },
   {
    "duration": 3,
    "start_time": "2024-05-08T10:53:33.421Z"
   },
   {
    "duration": 1030,
    "start_time": "2024-05-08T10:53:40.068Z"
   },
   {
    "duration": 29,
    "start_time": "2024-05-08T10:53:41.100Z"
   },
   {
    "duration": 12,
    "start_time": "2024-05-08T10:53:41.130Z"
   },
   {
    "duration": 76,
    "start_time": "2024-05-08T10:53:41.143Z"
   },
   {
    "duration": 8,
    "start_time": "2024-05-08T10:53:41.221Z"
   },
   {
    "duration": 16,
    "start_time": "2024-05-08T10:53:41.230Z"
   },
   {
    "duration": 6,
    "start_time": "2024-05-08T10:53:41.248Z"
   },
   {
    "duration": 10,
    "start_time": "2024-05-08T10:53:41.255Z"
   },
   {
    "duration": 4,
    "start_time": "2024-05-08T10:53:41.267Z"
   },
   {
    "duration": 6,
    "start_time": "2024-05-08T10:53:41.272Z"
   },
   {
    "duration": 10,
    "start_time": "2024-05-08T10:53:41.279Z"
   },
   {
    "duration": 13,
    "start_time": "2024-05-08T10:53:41.290Z"
   },
   {
    "duration": 6,
    "start_time": "2024-05-08T10:53:41.305Z"
   },
   {
    "duration": 32,
    "start_time": "2024-05-08T10:53:41.313Z"
   },
   {
    "duration": 6,
    "start_time": "2024-05-08T10:53:41.347Z"
   },
   {
    "duration": 12,
    "start_time": "2024-05-08T10:53:41.354Z"
   },
   {
    "duration": 34,
    "start_time": "2024-05-08T10:53:41.368Z"
   },
   {
    "duration": 29,
    "start_time": "2024-05-08T10:53:41.403Z"
   },
   {
    "duration": 11,
    "start_time": "2024-05-08T10:53:41.434Z"
   },
   {
    "duration": 11,
    "start_time": "2024-05-08T10:53:41.447Z"
   },
   {
    "duration": 6,
    "start_time": "2024-05-08T10:53:41.460Z"
   },
   {
    "duration": 7,
    "start_time": "2024-05-08T10:53:41.467Z"
   },
   {
    "duration": 4,
    "start_time": "2024-05-08T10:53:41.476Z"
   },
   {
    "duration": 7,
    "start_time": "2024-05-08T10:53:41.481Z"
   },
   {
    "duration": 9,
    "start_time": "2024-05-08T10:53:41.489Z"
   },
   {
    "duration": 5,
    "start_time": "2024-05-08T10:53:41.500Z"
   },
   {
    "duration": 6,
    "start_time": "2024-05-08T10:53:41.507Z"
   },
   {
    "duration": 31,
    "start_time": "2024-05-08T10:53:41.514Z"
   },
   {
    "duration": 6,
    "start_time": "2024-05-08T10:53:41.546Z"
   },
   {
    "duration": 6,
    "start_time": "2024-05-08T10:53:41.554Z"
   },
   {
    "duration": 153,
    "start_time": "2024-05-08T10:53:41.561Z"
   },
   {
    "duration": 6,
    "start_time": "2024-05-08T10:53:41.716Z"
   },
   {
    "duration": 84,
    "start_time": "2024-05-08T10:53:41.723Z"
   },
   {
    "duration": 128,
    "start_time": "2024-05-08T10:53:41.809Z"
   },
   {
    "duration": 8,
    "start_time": "2024-05-08T10:53:41.938Z"
   },
   {
    "duration": 230,
    "start_time": "2024-05-08T10:53:41.947Z"
   },
   {
    "duration": 7,
    "start_time": "2024-05-08T10:53:42.179Z"
   },
   {
    "duration": 9,
    "start_time": "2024-05-08T10:53:42.187Z"
   },
   {
    "duration": 403,
    "start_time": "2024-05-08T10:53:42.198Z"
   },
   {
    "duration": 5,
    "start_time": "2024-05-08T10:53:42.602Z"
   },
   {
    "duration": 14,
    "start_time": "2024-05-08T10:53:42.610Z"
   },
   {
    "duration": 251,
    "start_time": "2024-05-08T10:53:42.645Z"
   },
   {
    "duration": 13,
    "start_time": "2024-05-08T10:53:42.897Z"
   },
   {
    "duration": 34,
    "start_time": "2024-05-08T10:53:42.911Z"
   },
   {
    "duration": 10,
    "start_time": "2024-05-08T10:53:42.946Z"
   },
   {
    "duration": 19,
    "start_time": "2024-05-08T10:53:42.957Z"
   },
   {
    "duration": 450,
    "start_time": "2024-05-08T10:53:42.978Z"
   },
   {
    "duration": 244,
    "start_time": "2024-05-08T10:53:43.430Z"
   },
   {
    "duration": 11,
    "start_time": "2024-05-08T10:53:43.676Z"
   },
   {
    "duration": 371,
    "start_time": "2024-05-08T10:53:43.689Z"
   },
   {
    "duration": 212,
    "start_time": "2024-05-08T10:53:44.062Z"
   },
   {
    "duration": 999,
    "start_time": "2024-05-08T10:53:44.276Z"
   },
   {
    "duration": 25,
    "start_time": "2024-05-08T10:53:45.276Z"
   },
   {
    "duration": 54,
    "start_time": "2024-05-08T10:53:45.302Z"
   },
   {
    "duration": 13,
    "start_time": "2024-05-08T10:53:45.358Z"
   },
   {
    "duration": 22,
    "start_time": "2024-05-08T10:53:45.372Z"
   },
   {
    "duration": 39,
    "start_time": "2024-05-08T10:53:45.396Z"
   },
   {
    "duration": 17,
    "start_time": "2024-05-08T10:53:45.436Z"
   },
   {
    "duration": 19,
    "start_time": "2024-05-08T10:53:45.455Z"
   },
   {
    "duration": 58,
    "start_time": "2024-05-08T10:53:45.475Z"
   },
   {
    "duration": 29,
    "start_time": "2024-05-08T10:53:45.534Z"
   },
   {
    "duration": 24,
    "start_time": "2024-05-08T10:53:45.565Z"
   },
   {
    "duration": 6,
    "start_time": "2024-05-08T11:33:22.403Z"
   },
   {
    "duration": 44,
    "start_time": "2024-05-08T11:45:38.472Z"
   },
   {
    "duration": 1061,
    "start_time": "2024-05-08T11:45:54.867Z"
   },
   {
    "duration": 29,
    "start_time": "2024-05-08T11:45:55.930Z"
   },
   {
    "duration": 12,
    "start_time": "2024-05-08T11:45:55.960Z"
   },
   {
    "duration": 37,
    "start_time": "2024-05-08T11:45:55.973Z"
   },
   {
    "duration": 7,
    "start_time": "2024-05-08T11:45:56.012Z"
   },
   {
    "duration": 24,
    "start_time": "2024-05-08T11:45:56.020Z"
   },
   {
    "duration": 6,
    "start_time": "2024-05-08T11:45:56.045Z"
   },
   {
    "duration": 25,
    "start_time": "2024-05-08T11:45:56.052Z"
   },
   {
    "duration": 19,
    "start_time": "2024-05-08T11:45:56.078Z"
   },
   {
    "duration": 5,
    "start_time": "2024-05-08T11:45:56.099Z"
   },
   {
    "duration": 8,
    "start_time": "2024-05-08T11:45:56.105Z"
   },
   {
    "duration": 12,
    "start_time": "2024-05-08T11:45:56.114Z"
   },
   {
    "duration": 5,
    "start_time": "2024-05-08T11:45:56.127Z"
   },
   {
    "duration": 11,
    "start_time": "2024-05-08T11:45:56.135Z"
   },
   {
    "duration": 5,
    "start_time": "2024-05-08T11:45:56.147Z"
   },
   {
    "duration": 9,
    "start_time": "2024-05-08T11:45:56.153Z"
   },
   {
    "duration": 11,
    "start_time": "2024-05-08T11:45:56.164Z"
   },
   {
    "duration": 8,
    "start_time": "2024-05-08T11:45:56.176Z"
   },
   {
    "duration": 17,
    "start_time": "2024-05-08T11:45:56.185Z"
   },
   {
    "duration": 9,
    "start_time": "2024-05-08T11:45:56.203Z"
   },
   {
    "duration": 11,
    "start_time": "2024-05-08T11:45:56.213Z"
   },
   {
    "duration": 20,
    "start_time": "2024-05-08T11:45:56.225Z"
   },
   {
    "duration": 4,
    "start_time": "2024-05-08T11:45:56.246Z"
   },
   {
    "duration": 11,
    "start_time": "2024-05-08T11:45:56.252Z"
   },
   {
    "duration": 8,
    "start_time": "2024-05-08T11:45:56.264Z"
   },
   {
    "duration": 7,
    "start_time": "2024-05-08T11:45:56.274Z"
   },
   {
    "duration": 27,
    "start_time": "2024-05-08T11:45:56.282Z"
   },
   {
    "duration": 5,
    "start_time": "2024-05-08T11:45:56.310Z"
   },
   {
    "duration": 16,
    "start_time": "2024-05-08T11:45:56.317Z"
   },
   {
    "duration": 11,
    "start_time": "2024-05-08T11:45:56.335Z"
   },
   {
    "duration": 149,
    "start_time": "2024-05-08T11:45:56.347Z"
   },
   {
    "duration": 7,
    "start_time": "2024-05-08T11:45:56.498Z"
   },
   {
    "duration": 89,
    "start_time": "2024-05-08T11:45:56.506Z"
   },
   {
    "duration": 117,
    "start_time": "2024-05-08T11:45:56.597Z"
   },
   {
    "duration": 2,
    "start_time": "2024-05-08T11:45:56.716Z"
   },
   {
    "duration": 198,
    "start_time": "2024-05-08T11:45:56.720Z"
   },
   {
    "duration": 7,
    "start_time": "2024-05-08T11:45:56.919Z"
   },
   {
    "duration": 35,
    "start_time": "2024-05-08T11:45:56.928Z"
   },
   {
    "duration": 398,
    "start_time": "2024-05-08T11:45:56.964Z"
   },
   {
    "duration": 4,
    "start_time": "2024-05-08T11:45:57.364Z"
   },
   {
    "duration": 25,
    "start_time": "2024-05-08T11:45:57.371Z"
   },
   {
    "duration": 262,
    "start_time": "2024-05-08T11:45:57.398Z"
   },
   {
    "duration": 12,
    "start_time": "2024-05-08T11:45:57.661Z"
   },
   {
    "duration": 22,
    "start_time": "2024-05-08T11:45:57.674Z"
   },
   {
    "duration": 10,
    "start_time": "2024-05-08T11:45:57.698Z"
   },
   {
    "duration": 38,
    "start_time": "2024-05-08T11:45:57.710Z"
   },
   {
    "duration": 417,
    "start_time": "2024-05-08T11:45:57.749Z"
   },
   {
    "duration": 239,
    "start_time": "2024-05-08T11:45:58.168Z"
   },
   {
    "duration": 11,
    "start_time": "2024-05-08T11:45:58.408Z"
   },
   {
    "duration": 395,
    "start_time": "2024-05-08T11:45:58.420Z"
   },
   {
    "duration": 223,
    "start_time": "2024-05-08T11:45:58.816Z"
   },
   {
    "duration": 1018,
    "start_time": "2024-05-08T11:45:59.041Z"
   },
   {
    "duration": 24,
    "start_time": "2024-05-08T11:46:00.061Z"
   },
   {
    "duration": 61,
    "start_time": "2024-05-08T11:46:00.087Z"
   },
   {
    "duration": 30,
    "start_time": "2024-05-08T11:46:00.150Z"
   },
   {
    "duration": 57,
    "start_time": "2024-05-08T11:46:00.182Z"
   },
   {
    "duration": 47,
    "start_time": "2024-05-08T11:46:00.240Z"
   },
   {
    "duration": 37,
    "start_time": "2024-05-08T11:46:00.289Z"
   },
   {
    "duration": 39,
    "start_time": "2024-05-08T11:46:00.328Z"
   },
   {
    "duration": 69,
    "start_time": "2024-05-08T11:46:00.369Z"
   },
   {
    "duration": 32,
    "start_time": "2024-05-08T11:46:00.440Z"
   },
   {
    "duration": 35,
    "start_time": "2024-05-08T11:46:00.473Z"
   },
   {
    "duration": 1161,
    "start_time": "2024-05-08T14:43:16.695Z"
   },
   {
    "duration": 29,
    "start_time": "2024-05-08T14:43:17.858Z"
   },
   {
    "duration": 13,
    "start_time": "2024-05-08T14:43:17.888Z"
   },
   {
    "duration": 35,
    "start_time": "2024-05-08T14:43:17.903Z"
   },
   {
    "duration": 12,
    "start_time": "2024-05-08T14:43:17.940Z"
   },
   {
    "duration": 15,
    "start_time": "2024-05-08T14:43:17.953Z"
   },
   {
    "duration": 6,
    "start_time": "2024-05-08T14:43:17.970Z"
   },
   {
    "duration": 9,
    "start_time": "2024-05-08T14:43:17.981Z"
   },
   {
    "duration": 5,
    "start_time": "2024-05-08T14:43:17.991Z"
   },
   {
    "duration": 5,
    "start_time": "2024-05-08T14:43:17.999Z"
   },
   {
    "duration": 9,
    "start_time": "2024-05-08T14:43:18.005Z"
   },
   {
    "duration": 11,
    "start_time": "2024-05-08T14:43:18.016Z"
   },
   {
    "duration": 5,
    "start_time": "2024-05-08T14:43:18.029Z"
   },
   {
    "duration": 53,
    "start_time": "2024-05-08T14:43:18.036Z"
   },
   {
    "duration": 6,
    "start_time": "2024-05-08T14:43:18.090Z"
   },
   {
    "duration": 14,
    "start_time": "2024-05-08T14:43:18.097Z"
   },
   {
    "duration": 18,
    "start_time": "2024-05-08T14:43:18.112Z"
   },
   {
    "duration": 5,
    "start_time": "2024-05-08T14:43:18.131Z"
   },
   {
    "duration": 14,
    "start_time": "2024-05-08T14:43:18.138Z"
   },
   {
    "duration": 8,
    "start_time": "2024-05-08T14:43:18.153Z"
   },
   {
    "duration": 24,
    "start_time": "2024-05-08T14:43:18.163Z"
   },
   {
    "duration": 15,
    "start_time": "2024-05-08T14:43:18.188Z"
   },
   {
    "duration": 21,
    "start_time": "2024-05-08T14:43:18.204Z"
   },
   {
    "duration": 6,
    "start_time": "2024-05-08T14:43:18.226Z"
   },
   {
    "duration": 5,
    "start_time": "2024-05-08T14:43:18.233Z"
   },
   {
    "duration": 5,
    "start_time": "2024-05-08T14:43:18.239Z"
   },
   {
    "duration": 4,
    "start_time": "2024-05-08T14:43:18.246Z"
   },
   {
    "duration": 3,
    "start_time": "2024-05-08T14:43:18.254Z"
   },
   {
    "duration": 25,
    "start_time": "2024-05-08T14:43:18.258Z"
   },
   {
    "duration": 4,
    "start_time": "2024-05-08T14:43:18.285Z"
   },
   {
    "duration": 187,
    "start_time": "2024-05-08T14:43:18.290Z"
   },
   {
    "duration": 6,
    "start_time": "2024-05-08T14:43:18.479Z"
   },
   {
    "duration": 75,
    "start_time": "2024-05-08T14:43:18.487Z"
   },
   {
    "duration": 134,
    "start_time": "2024-05-08T14:43:18.581Z"
   },
   {
    "duration": 4,
    "start_time": "2024-05-08T14:43:18.716Z"
   },
   {
    "duration": 212,
    "start_time": "2024-05-08T14:43:18.721Z"
   },
   {
    "duration": 7,
    "start_time": "2024-05-08T14:43:18.934Z"
   },
   {
    "duration": 5,
    "start_time": "2024-05-08T14:43:18.943Z"
   },
   {
    "duration": 411,
    "start_time": "2024-05-08T14:43:18.949Z"
   },
   {
    "duration": 4,
    "start_time": "2024-05-08T14:43:19.361Z"
   },
   {
    "duration": 20,
    "start_time": "2024-05-08T14:43:19.367Z"
   },
   {
    "duration": 284,
    "start_time": "2024-05-08T14:43:19.389Z"
   },
   {
    "duration": 17,
    "start_time": "2024-05-08T14:43:19.675Z"
   },
   {
    "duration": 21,
    "start_time": "2024-05-08T14:43:19.694Z"
   },
   {
    "duration": 13,
    "start_time": "2024-05-08T14:43:19.717Z"
   },
   {
    "duration": 12,
    "start_time": "2024-05-08T14:43:19.732Z"
   },
   {
    "duration": 496,
    "start_time": "2024-05-08T14:43:19.745Z"
   },
   {
    "duration": 267,
    "start_time": "2024-05-08T14:43:20.243Z"
   },
   {
    "duration": 12,
    "start_time": "2024-05-08T14:43:20.512Z"
   },
   {
    "duration": 399,
    "start_time": "2024-05-08T14:43:20.526Z"
   },
   {
    "duration": 251,
    "start_time": "2024-05-08T14:43:20.926Z"
   },
   {
    "duration": 1108,
    "start_time": "2024-05-08T14:43:21.179Z"
   },
   {
    "duration": 27,
    "start_time": "2024-05-08T14:43:22.289Z"
   },
   {
    "duration": 42,
    "start_time": "2024-05-08T14:43:22.318Z"
   },
   {
    "duration": 34,
    "start_time": "2024-05-08T14:43:22.362Z"
   },
   {
    "duration": 4,
    "start_time": "2024-05-08T14:43:22.397Z"
   },
   {
    "duration": 11,
    "start_time": "2024-05-08T14:43:22.402Z"
   },
   {
    "duration": 15,
    "start_time": "2024-05-08T14:43:22.415Z"
   },
   {
    "duration": 9,
    "start_time": "2024-05-08T14:43:22.431Z"
   },
   {
    "duration": 7,
    "start_time": "2024-05-08T14:43:22.442Z"
   },
   {
    "duration": 36,
    "start_time": "2024-05-08T14:43:22.451Z"
   },
   {
    "duration": 6,
    "start_time": "2024-05-08T14:43:22.489Z"
   },
   {
    "duration": 6,
    "start_time": "2024-05-08T14:51:45.613Z"
   },
   {
    "duration": 24,
    "start_time": "2024-05-08T14:52:24.904Z"
   },
   {
    "duration": 1114,
    "start_time": "2024-05-08T14:59:53.546Z"
   },
   {
    "duration": 28,
    "start_time": "2024-05-08T14:59:54.663Z"
   },
   {
    "duration": 13,
    "start_time": "2024-05-08T14:59:54.693Z"
   },
   {
    "duration": 40,
    "start_time": "2024-05-08T14:59:54.708Z"
   },
   {
    "duration": 8,
    "start_time": "2024-05-08T14:59:54.750Z"
   },
   {
    "duration": 39,
    "start_time": "2024-05-08T14:59:54.760Z"
   },
   {
    "duration": 8,
    "start_time": "2024-05-08T14:59:54.800Z"
   },
   {
    "duration": 8,
    "start_time": "2024-05-08T14:59:54.809Z"
   },
   {
    "duration": 8,
    "start_time": "2024-05-08T14:59:54.819Z"
   },
   {
    "duration": 20,
    "start_time": "2024-05-08T14:59:54.829Z"
   },
   {
    "duration": 13,
    "start_time": "2024-05-08T14:59:54.850Z"
   },
   {
    "duration": 12,
    "start_time": "2024-05-08T14:59:54.864Z"
   },
   {
    "duration": 25,
    "start_time": "2024-05-08T14:59:54.877Z"
   },
   {
    "duration": 23,
    "start_time": "2024-05-08T14:59:54.906Z"
   },
   {
    "duration": 6,
    "start_time": "2024-05-08T14:59:54.931Z"
   },
   {
    "duration": 19,
    "start_time": "2024-05-08T14:59:54.938Z"
   },
   {
    "duration": 11,
    "start_time": "2024-05-08T14:59:54.959Z"
   },
   {
    "duration": 13,
    "start_time": "2024-05-08T14:59:54.972Z"
   },
   {
    "duration": 18,
    "start_time": "2024-05-08T14:59:54.987Z"
   },
   {
    "duration": 13,
    "start_time": "2024-05-08T14:59:55.007Z"
   },
   {
    "duration": 6,
    "start_time": "2024-05-08T14:59:55.022Z"
   },
   {
    "duration": 9,
    "start_time": "2024-05-08T14:59:55.030Z"
   },
   {
    "duration": 5,
    "start_time": "2024-05-08T14:59:55.040Z"
   },
   {
    "duration": 12,
    "start_time": "2024-05-08T14:59:55.046Z"
   },
   {
    "duration": 24,
    "start_time": "2024-05-08T14:59:55.060Z"
   },
   {
    "duration": 11,
    "start_time": "2024-05-08T14:59:55.085Z"
   },
   {
    "duration": 10,
    "start_time": "2024-05-08T14:59:55.098Z"
   },
   {
    "duration": 5,
    "start_time": "2024-05-08T14:59:55.110Z"
   },
   {
    "duration": 15,
    "start_time": "2024-05-08T14:59:55.116Z"
   },
   {
    "duration": 5,
    "start_time": "2024-05-08T14:59:55.133Z"
   },
   {
    "duration": 173,
    "start_time": "2024-05-08T14:59:55.139Z"
   },
   {
    "duration": 7,
    "start_time": "2024-05-08T14:59:55.314Z"
   },
   {
    "duration": 90,
    "start_time": "2024-05-08T14:59:55.322Z"
   },
   {
    "duration": 138,
    "start_time": "2024-05-08T14:59:55.414Z"
   },
   {
    "duration": 3,
    "start_time": "2024-05-08T14:59:55.554Z"
   },
   {
    "duration": 215,
    "start_time": "2024-05-08T14:59:55.559Z"
   },
   {
    "duration": 12,
    "start_time": "2024-05-08T14:59:55.776Z"
   },
   {
    "duration": 14,
    "start_time": "2024-05-08T14:59:55.789Z"
   },
   {
    "duration": 425,
    "start_time": "2024-05-08T14:59:55.805Z"
   },
   {
    "duration": 5,
    "start_time": "2024-05-08T14:59:56.232Z"
   },
   {
    "duration": 24,
    "start_time": "2024-05-08T14:59:56.242Z"
   },
   {
    "duration": 287,
    "start_time": "2024-05-08T14:59:56.268Z"
   },
   {
    "duration": 13,
    "start_time": "2024-05-08T14:59:56.556Z"
   },
   {
    "duration": 26,
    "start_time": "2024-05-08T14:59:56.581Z"
   },
   {
    "duration": 12,
    "start_time": "2024-05-08T14:59:56.609Z"
   },
   {
    "duration": 16,
    "start_time": "2024-05-08T14:59:56.623Z"
   },
   {
    "duration": 488,
    "start_time": "2024-05-08T14:59:56.640Z"
   },
   {
    "duration": 252,
    "start_time": "2024-05-08T14:59:57.130Z"
   },
   {
    "duration": 12,
    "start_time": "2024-05-08T14:59:57.384Z"
   },
   {
    "duration": 393,
    "start_time": "2024-05-08T14:59:57.397Z"
   },
   {
    "duration": 251,
    "start_time": "2024-05-08T14:59:57.792Z"
   },
   {
    "duration": 1131,
    "start_time": "2024-05-08T14:59:58.045Z"
   },
   {
    "duration": 30,
    "start_time": "2024-05-08T14:59:59.177Z"
   },
   {
    "duration": 42,
    "start_time": "2024-05-08T14:59:59.208Z"
   },
   {
    "duration": 34,
    "start_time": "2024-05-08T14:59:59.252Z"
   },
   {
    "duration": 4,
    "start_time": "2024-05-08T14:59:59.287Z"
   },
   {
    "duration": 21,
    "start_time": "2024-05-08T14:59:59.292Z"
   },
   {
    "duration": 10,
    "start_time": "2024-05-08T14:59:59.314Z"
   },
   {
    "duration": 6,
    "start_time": "2024-05-08T14:59:59.326Z"
   },
   {
    "duration": 10,
    "start_time": "2024-05-08T14:59:59.333Z"
   },
   {
    "duration": 8,
    "start_time": "2024-05-08T14:59:59.344Z"
   },
   {
    "duration": 6,
    "start_time": "2024-05-08T14:59:59.381Z"
   },
   {
    "duration": 49,
    "start_time": "2024-05-09T09:43:26.938Z"
   },
   {
    "duration": 1370,
    "start_time": "2024-05-09T09:43:33.724Z"
   },
   {
    "duration": 102,
    "start_time": "2024-05-09T09:43:35.096Z"
   },
   {
    "duration": 15,
    "start_time": "2024-05-09T09:43:35.199Z"
   },
   {
    "duration": 137,
    "start_time": "2024-05-09T09:43:35.216Z"
   },
   {
    "duration": 9,
    "start_time": "2024-05-09T09:43:35.354Z"
   },
   {
    "duration": 94,
    "start_time": "2024-05-09T09:43:35.364Z"
   },
   {
    "duration": 10,
    "start_time": "2024-05-09T09:43:35.460Z"
   },
   {
    "duration": 19,
    "start_time": "2024-05-09T09:43:35.472Z"
   },
   {
    "duration": 49,
    "start_time": "2024-05-09T09:43:35.493Z"
   },
   {
    "duration": 8,
    "start_time": "2024-05-09T09:43:35.545Z"
   },
   {
    "duration": 12,
    "start_time": "2024-05-09T09:43:35.555Z"
   },
   {
    "duration": 20,
    "start_time": "2024-05-09T09:43:35.569Z"
   },
   {
    "duration": 28,
    "start_time": "2024-05-09T09:43:35.591Z"
   },
   {
    "duration": 38,
    "start_time": "2024-05-09T09:43:35.620Z"
   },
   {
    "duration": 13,
    "start_time": "2024-05-09T09:43:35.660Z"
   },
   {
    "duration": 15,
    "start_time": "2024-05-09T09:43:35.674Z"
   },
   {
    "duration": 14,
    "start_time": "2024-05-09T09:43:35.691Z"
   },
   {
    "duration": 19,
    "start_time": "2024-05-09T09:43:35.706Z"
   },
   {
    "duration": 21,
    "start_time": "2024-05-09T09:43:35.727Z"
   },
   {
    "duration": 7,
    "start_time": "2024-05-09T09:43:35.750Z"
   },
   {
    "duration": 15,
    "start_time": "2024-05-09T09:43:35.759Z"
   },
   {
    "duration": 26,
    "start_time": "2024-05-09T09:43:35.775Z"
   },
   {
    "duration": 40,
    "start_time": "2024-05-09T09:43:35.803Z"
   },
   {
    "duration": 42,
    "start_time": "2024-05-09T09:43:35.845Z"
   },
   {
    "duration": 34,
    "start_time": "2024-05-09T09:43:35.889Z"
   },
   {
    "duration": 28,
    "start_time": "2024-05-09T09:43:35.926Z"
   },
   {
    "duration": 33,
    "start_time": "2024-05-09T09:43:35.957Z"
   },
   {
    "duration": 22,
    "start_time": "2024-05-09T09:43:35.997Z"
   },
   {
    "duration": 6,
    "start_time": "2024-05-09T09:43:36.022Z"
   },
   {
    "duration": 7,
    "start_time": "2024-05-09T09:43:36.030Z"
   },
   {
    "duration": 11,
    "start_time": "2024-05-09T09:43:36.040Z"
   },
   {
    "duration": 175,
    "start_time": "2024-05-09T09:43:36.053Z"
   },
   {
    "duration": 7,
    "start_time": "2024-05-09T09:43:36.230Z"
   },
   {
    "duration": 105,
    "start_time": "2024-05-09T09:43:36.239Z"
   },
   {
    "duration": 137,
    "start_time": "2024-05-09T09:43:36.345Z"
   },
   {
    "duration": 3,
    "start_time": "2024-05-09T09:43:36.483Z"
   },
   {
    "duration": 214,
    "start_time": "2024-05-09T09:43:36.488Z"
   },
   {
    "duration": 8,
    "start_time": "2024-05-09T09:43:36.704Z"
   },
   {
    "duration": 9,
    "start_time": "2024-05-09T09:43:36.714Z"
   },
   {
    "duration": 407,
    "start_time": "2024-05-09T09:43:36.724Z"
   },
   {
    "duration": 4,
    "start_time": "2024-05-09T09:43:37.133Z"
   },
   {
    "duration": 29,
    "start_time": "2024-05-09T09:43:37.139Z"
   },
   {
    "duration": 267,
    "start_time": "2024-05-09T09:43:37.170Z"
   },
   {
    "duration": 24,
    "start_time": "2024-05-09T09:43:37.439Z"
   },
   {
    "duration": 33,
    "start_time": "2024-05-09T09:43:37.465Z"
   },
   {
    "duration": 17,
    "start_time": "2024-05-09T09:43:37.500Z"
   },
   {
    "duration": 14,
    "start_time": "2024-05-09T09:43:37.519Z"
   },
   {
    "duration": 482,
    "start_time": "2024-05-09T09:43:37.560Z"
   },
   {
    "duration": 246,
    "start_time": "2024-05-09T09:43:38.044Z"
   },
   {
    "duration": 13,
    "start_time": "2024-05-09T09:43:38.291Z"
   },
   {
    "duration": 390,
    "start_time": "2024-05-09T09:43:38.306Z"
   },
   {
    "duration": 256,
    "start_time": "2024-05-09T09:43:38.698Z"
   },
   {
    "duration": 1096,
    "start_time": "2024-05-09T09:43:38.959Z"
   },
   {
    "duration": 29,
    "start_time": "2024-05-09T09:43:40.056Z"
   },
   {
    "duration": 44,
    "start_time": "2024-05-09T09:43:40.087Z"
   },
   {
    "duration": 36,
    "start_time": "2024-05-09T09:43:40.133Z"
   },
   {
    "duration": 7,
    "start_time": "2024-05-09T09:43:40.171Z"
   },
   {
    "duration": 12,
    "start_time": "2024-05-09T09:43:40.179Z"
   },
   {
    "duration": 11,
    "start_time": "2024-05-09T09:43:40.192Z"
   },
   {
    "duration": 15,
    "start_time": "2024-05-09T09:43:40.205Z"
   },
   {
    "duration": 36,
    "start_time": "2024-05-09T09:43:40.223Z"
   },
   {
    "duration": 8,
    "start_time": "2024-05-09T09:43:40.260Z"
   },
   {
    "duration": 5,
    "start_time": "2024-05-09T09:43:40.270Z"
   },
   {
    "duration": 1175,
    "start_time": "2024-05-09T09:46:43.916Z"
   },
   {
    "duration": 30,
    "start_time": "2024-05-09T09:46:45.093Z"
   },
   {
    "duration": 23,
    "start_time": "2024-05-09T09:46:45.125Z"
   },
   {
    "duration": 45,
    "start_time": "2024-05-09T09:46:45.150Z"
   },
   {
    "duration": 12,
    "start_time": "2024-05-09T09:46:45.198Z"
   },
   {
    "duration": 50,
    "start_time": "2024-05-09T09:46:45.211Z"
   },
   {
    "duration": 16,
    "start_time": "2024-05-09T09:46:45.263Z"
   },
   {
    "duration": 58,
    "start_time": "2024-05-09T09:46:45.281Z"
   },
   {
    "duration": 26,
    "start_time": "2024-05-09T09:46:45.341Z"
   },
   {
    "duration": 21,
    "start_time": "2024-05-09T09:46:45.369Z"
   },
   {
    "duration": 19,
    "start_time": "2024-05-09T09:46:45.392Z"
   },
   {
    "duration": 20,
    "start_time": "2024-05-09T09:46:45.413Z"
   },
   {
    "duration": 6,
    "start_time": "2024-05-09T09:46:45.460Z"
   },
   {
    "duration": 21,
    "start_time": "2024-05-09T09:46:45.469Z"
   },
   {
    "duration": 12,
    "start_time": "2024-05-09T09:46:45.492Z"
   },
   {
    "duration": 12,
    "start_time": "2024-05-09T09:46:45.506Z"
   },
   {
    "duration": 18,
    "start_time": "2024-05-09T09:46:45.520Z"
   },
   {
    "duration": 34,
    "start_time": "2024-05-09T09:46:45.541Z"
   },
   {
    "duration": 37,
    "start_time": "2024-05-09T09:46:45.577Z"
   },
   {
    "duration": 26,
    "start_time": "2024-05-09T09:46:45.616Z"
   },
   {
    "duration": 19,
    "start_time": "2024-05-09T09:46:45.644Z"
   },
   {
    "duration": 65,
    "start_time": "2024-05-09T09:46:45.664Z"
   },
   {
    "duration": 29,
    "start_time": "2024-05-09T09:46:45.731Z"
   },
   {
    "duration": 15,
    "start_time": "2024-05-09T09:46:45.762Z"
   },
   {
    "duration": 23,
    "start_time": "2024-05-09T09:46:45.778Z"
   },
   {
    "duration": 31,
    "start_time": "2024-05-09T09:46:45.802Z"
   },
   {
    "duration": 18,
    "start_time": "2024-05-09T09:46:45.835Z"
   },
   {
    "duration": 19,
    "start_time": "2024-05-09T09:46:45.855Z"
   },
   {
    "duration": 23,
    "start_time": "2024-05-09T09:46:45.876Z"
   },
   {
    "duration": 17,
    "start_time": "2024-05-09T09:46:45.901Z"
   },
   {
    "duration": 175,
    "start_time": "2024-05-09T09:46:45.920Z"
   },
   {
    "duration": 7,
    "start_time": "2024-05-09T09:46:46.097Z"
   },
   {
    "duration": 100,
    "start_time": "2024-05-09T09:46:46.106Z"
   },
   {
    "duration": 146,
    "start_time": "2024-05-09T09:46:46.208Z"
   },
   {
    "duration": 3,
    "start_time": "2024-05-09T09:46:46.359Z"
   },
   {
    "duration": 217,
    "start_time": "2024-05-09T09:46:46.364Z"
   },
   {
    "duration": 8,
    "start_time": "2024-05-09T09:46:46.583Z"
   },
   {
    "duration": 30,
    "start_time": "2024-05-09T09:46:46.593Z"
   },
   {
    "duration": 403,
    "start_time": "2024-05-09T09:46:46.624Z"
   },
   {
    "duration": 4,
    "start_time": "2024-05-09T09:46:47.029Z"
   },
   {
    "duration": 27,
    "start_time": "2024-05-09T09:46:47.038Z"
   },
   {
    "duration": 264,
    "start_time": "2024-05-09T09:46:47.067Z"
   },
   {
    "duration": 13,
    "start_time": "2024-05-09T09:46:47.333Z"
   },
   {
    "duration": 41,
    "start_time": "2024-05-09T09:46:47.347Z"
   },
   {
    "duration": 17,
    "start_time": "2024-05-09T09:46:47.390Z"
   },
   {
    "duration": 18,
    "start_time": "2024-05-09T09:46:47.411Z"
   },
   {
    "duration": 527,
    "start_time": "2024-05-09T09:46:47.431Z"
   },
   {
    "duration": 250,
    "start_time": "2024-05-09T09:46:47.960Z"
   },
   {
    "duration": 13,
    "start_time": "2024-05-09T09:46:48.212Z"
   },
   {
    "duration": 409,
    "start_time": "2024-05-09T09:46:48.227Z"
   },
   {
    "duration": 261,
    "start_time": "2024-05-09T09:46:48.638Z"
   },
   {
    "duration": 1120,
    "start_time": "2024-05-09T09:46:48.901Z"
   },
   {
    "duration": 38,
    "start_time": "2024-05-09T09:46:50.022Z"
   },
   {
    "duration": 46,
    "start_time": "2024-05-09T09:46:50.062Z"
   },
   {
    "duration": 15,
    "start_time": "2024-05-09T09:46:50.109Z"
   },
   {
    "duration": 36,
    "start_time": "2024-05-09T09:46:50.125Z"
   },
   {
    "duration": 65,
    "start_time": "2024-05-09T09:46:50.163Z"
   },
   {
    "duration": 28,
    "start_time": "2024-05-09T09:46:50.230Z"
   },
   {
    "duration": 63,
    "start_time": "2024-05-09T09:46:50.260Z"
   },
   {
    "duration": 17,
    "start_time": "2024-05-09T09:46:50.324Z"
   },
   {
    "duration": 26,
    "start_time": "2024-05-09T09:46:50.342Z"
   },
   {
    "duration": 72,
    "start_time": "2024-05-09T09:46:50.370Z"
   },
   {
    "duration": 412,
    "start_time": "2024-05-09T09:55:24.419Z"
   },
   {
    "duration": 357,
    "start_time": "2024-05-09T09:56:06.400Z"
   },
   {
    "duration": 458,
    "start_time": "2024-05-09T09:56:26.218Z"
   },
   {
    "duration": 291,
    "start_time": "2024-05-09T09:56:47.314Z"
   },
   {
    "duration": 486,
    "start_time": "2024-05-09T09:57:05.622Z"
   },
   {
    "duration": 285,
    "start_time": "2024-05-09T09:57:17.784Z"
   },
   {
    "duration": 582,
    "start_time": "2024-05-09T09:57:30.120Z"
   },
   {
    "duration": 258,
    "start_time": "2024-05-09T09:57:38.249Z"
   },
   {
    "duration": 1403,
    "start_time": "2024-05-09T09:58:44.207Z"
   },
   {
    "duration": 1158,
    "start_time": "2024-05-09T10:00:19.582Z"
   },
   {
    "duration": 1256,
    "start_time": "2024-05-09T10:00:37.808Z"
   },
   {
    "duration": 1252,
    "start_time": "2024-05-09T10:00:51.214Z"
   },
   {
    "duration": 1326,
    "start_time": "2024-05-09T10:01:20.998Z"
   },
   {
    "duration": 1116,
    "start_time": "2024-05-09T10:01:34.560Z"
   },
   {
    "duration": 24,
    "start_time": "2024-05-09T10:05:55.303Z"
   },
   {
    "duration": 5,
    "start_time": "2024-05-09T10:06:02.999Z"
   },
   {
    "duration": 16,
    "start_time": "2024-05-09T10:06:39.060Z"
   },
   {
    "duration": 4,
    "start_time": "2024-05-09T10:06:46.213Z"
   },
   {
    "duration": 48,
    "start_time": "2024-05-09T10:10:40.128Z"
   },
   {
    "duration": 17,
    "start_time": "2024-05-09T10:11:10.615Z"
   },
   {
    "duration": 4,
    "start_time": "2024-05-09T10:11:18.425Z"
   },
   {
    "duration": 4,
    "start_time": "2024-05-09T10:12:41.829Z"
   },
   {
    "duration": 1132,
    "start_time": "2024-05-09T10:13:28.115Z"
   },
   {
    "duration": 28,
    "start_time": "2024-05-09T10:13:29.249Z"
   },
   {
    "duration": 13,
    "start_time": "2024-05-09T10:13:29.279Z"
   },
   {
    "duration": 45,
    "start_time": "2024-05-09T10:13:29.295Z"
   },
   {
    "duration": 9,
    "start_time": "2024-05-09T10:13:29.341Z"
   },
   {
    "duration": 25,
    "start_time": "2024-05-09T10:13:29.352Z"
   },
   {
    "duration": 7,
    "start_time": "2024-05-09T10:13:29.378Z"
   },
   {
    "duration": 19,
    "start_time": "2024-05-09T10:13:29.386Z"
   },
   {
    "duration": 14,
    "start_time": "2024-05-09T10:13:29.406Z"
   },
   {
    "duration": 16,
    "start_time": "2024-05-09T10:13:29.423Z"
   },
   {
    "duration": 29,
    "start_time": "2024-05-09T10:13:29.441Z"
   },
   {
    "duration": 7,
    "start_time": "2024-05-09T10:13:29.472Z"
   },
   {
    "duration": 20,
    "start_time": "2024-05-09T10:13:29.481Z"
   },
   {
    "duration": 23,
    "start_time": "2024-05-09T10:13:29.503Z"
   },
   {
    "duration": 12,
    "start_time": "2024-05-09T10:13:29.528Z"
   },
   {
    "duration": 10,
    "start_time": "2024-05-09T10:13:29.541Z"
   },
   {
    "duration": 25,
    "start_time": "2024-05-09T10:13:29.553Z"
   },
   {
    "duration": 16,
    "start_time": "2024-05-09T10:13:29.579Z"
   },
   {
    "duration": 20,
    "start_time": "2024-05-09T10:13:29.596Z"
   },
   {
    "duration": 8,
    "start_time": "2024-05-09T10:13:29.618Z"
   },
   {
    "duration": 5,
    "start_time": "2024-05-09T10:13:29.628Z"
   },
   {
    "duration": 23,
    "start_time": "2024-05-09T10:13:29.635Z"
   },
   {
    "duration": 7,
    "start_time": "2024-05-09T10:13:29.660Z"
   },
   {
    "duration": 10,
    "start_time": "2024-05-09T10:13:29.668Z"
   },
   {
    "duration": 15,
    "start_time": "2024-05-09T10:13:29.680Z"
   },
   {
    "duration": 5,
    "start_time": "2024-05-09T10:13:29.697Z"
   },
   {
    "duration": 10,
    "start_time": "2024-05-09T10:13:29.704Z"
   },
   {
    "duration": 9,
    "start_time": "2024-05-09T10:13:29.719Z"
   },
   {
    "duration": 29,
    "start_time": "2024-05-09T10:13:29.730Z"
   },
   {
    "duration": 14,
    "start_time": "2024-05-09T10:13:29.761Z"
   },
   {
    "duration": 191,
    "start_time": "2024-05-09T10:13:29.777Z"
   },
   {
    "duration": 7,
    "start_time": "2024-05-09T10:13:29.969Z"
   },
   {
    "duration": 105,
    "start_time": "2024-05-09T10:13:29.978Z"
   },
   {
    "duration": 158,
    "start_time": "2024-05-09T10:13:30.085Z"
   },
   {
    "duration": 3,
    "start_time": "2024-05-09T10:13:30.245Z"
   },
   {
    "duration": 262,
    "start_time": "2024-05-09T10:13:30.250Z"
   },
   {
    "duration": 7,
    "start_time": "2024-05-09T10:13:30.514Z"
   },
   {
    "duration": 39,
    "start_time": "2024-05-09T10:13:30.523Z"
   },
   {
    "duration": 438,
    "start_time": "2024-05-09T10:13:30.563Z"
   },
   {
    "duration": 4,
    "start_time": "2024-05-09T10:13:31.003Z"
   },
   {
    "duration": 41,
    "start_time": "2024-05-09T10:13:31.009Z"
   },
   {
    "duration": 348,
    "start_time": "2024-05-09T10:13:31.051Z"
   },
   {
    "duration": 18,
    "start_time": "2024-05-09T10:13:31.400Z"
   },
   {
    "duration": 150,
    "start_time": "2024-05-09T10:13:31.421Z"
   },
   {
    "duration": 12,
    "start_time": "2024-05-09T10:13:31.572Z"
   },
   {
    "duration": 32,
    "start_time": "2024-05-09T10:13:31.585Z"
   },
   {
    "duration": 560,
    "start_time": "2024-05-09T10:13:31.619Z"
   },
   {
    "duration": 281,
    "start_time": "2024-05-09T10:13:32.180Z"
   },
   {
    "duration": 15,
    "start_time": "2024-05-09T10:13:32.463Z"
   },
   {
    "duration": 474,
    "start_time": "2024-05-09T10:13:32.480Z"
   },
   {
    "duration": 271,
    "start_time": "2024-05-09T10:13:32.956Z"
   },
   {
    "duration": 1309,
    "start_time": "2024-05-09T10:13:33.229Z"
   },
   {
    "duration": 37,
    "start_time": "2024-05-09T10:13:34.540Z"
   },
   {
    "duration": 47,
    "start_time": "2024-05-09T10:13:34.579Z"
   },
   {
    "duration": 39,
    "start_time": "2024-05-09T10:13:34.628Z"
   },
   {
    "duration": 5,
    "start_time": "2024-05-09T10:13:34.668Z"
   },
   {
    "duration": 13,
    "start_time": "2024-05-09T10:13:34.675Z"
   },
   {
    "duration": 15,
    "start_time": "2024-05-09T10:13:34.690Z"
   },
   {
    "duration": 13,
    "start_time": "2024-05-09T10:13:34.707Z"
   },
   {
    "duration": 38,
    "start_time": "2024-05-09T10:13:34.722Z"
   },
   {
    "duration": 10,
    "start_time": "2024-05-09T10:13:34.763Z"
   },
   {
    "duration": 6,
    "start_time": "2024-05-09T10:13:34.774Z"
   },
   {
    "duration": 1165,
    "start_time": "2024-05-09T12:53:12.995Z"
   },
   {
    "duration": 28,
    "start_time": "2024-05-09T12:53:14.162Z"
   },
   {
    "duration": 13,
    "start_time": "2024-05-09T12:53:14.191Z"
   },
   {
    "duration": 59,
    "start_time": "2024-05-09T12:53:14.206Z"
   },
   {
    "duration": 16,
    "start_time": "2024-05-09T12:53:14.266Z"
   },
   {
    "duration": 31,
    "start_time": "2024-05-09T12:53:14.283Z"
   },
   {
    "duration": 10,
    "start_time": "2024-05-09T12:53:14.316Z"
   },
   {
    "duration": 24,
    "start_time": "2024-05-09T12:53:14.328Z"
   },
   {
    "duration": 32,
    "start_time": "2024-05-09T12:53:14.353Z"
   },
   {
    "duration": 18,
    "start_time": "2024-05-09T12:53:14.388Z"
   },
   {
    "duration": 48,
    "start_time": "2024-05-09T12:53:14.407Z"
   },
   {
    "duration": 24,
    "start_time": "2024-05-09T12:53:14.457Z"
   },
   {
    "duration": 25,
    "start_time": "2024-05-09T12:53:14.482Z"
   },
   {
    "duration": 27,
    "start_time": "2024-05-09T12:53:14.508Z"
   },
   {
    "duration": 23,
    "start_time": "2024-05-09T12:53:14.536Z"
   },
   {
    "duration": 37,
    "start_time": "2024-05-09T12:53:14.561Z"
   },
   {
    "duration": 18,
    "start_time": "2024-05-09T12:53:14.600Z"
   },
   {
    "duration": 28,
    "start_time": "2024-05-09T12:53:14.620Z"
   },
   {
    "duration": 29,
    "start_time": "2024-05-09T12:53:14.650Z"
   },
   {
    "duration": 41,
    "start_time": "2024-05-09T12:53:14.681Z"
   },
   {
    "duration": 47,
    "start_time": "2024-05-09T12:53:14.724Z"
   },
   {
    "duration": 35,
    "start_time": "2024-05-09T12:53:14.773Z"
   },
   {
    "duration": 43,
    "start_time": "2024-05-09T12:53:14.809Z"
   },
   {
    "duration": 51,
    "start_time": "2024-05-09T12:53:14.854Z"
   },
   {
    "duration": 36,
    "start_time": "2024-05-09T12:53:14.907Z"
   },
   {
    "duration": 22,
    "start_time": "2024-05-09T12:53:14.945Z"
   },
   {
    "duration": 79,
    "start_time": "2024-05-09T12:53:14.970Z"
   },
   {
    "duration": 17,
    "start_time": "2024-05-09T12:53:15.052Z"
   },
   {
    "duration": 48,
    "start_time": "2024-05-09T12:53:15.071Z"
   },
   {
    "duration": 60,
    "start_time": "2024-05-09T12:53:15.121Z"
   },
   {
    "duration": 191,
    "start_time": "2024-05-09T12:53:15.183Z"
   },
   {
    "duration": 7,
    "start_time": "2024-05-09T12:53:15.375Z"
   },
   {
    "duration": 101,
    "start_time": "2024-05-09T12:53:15.383Z"
   },
   {
    "duration": 123,
    "start_time": "2024-05-09T12:53:15.486Z"
   },
   {
    "duration": 3,
    "start_time": "2024-05-09T12:53:15.610Z"
   },
   {
    "duration": 218,
    "start_time": "2024-05-09T12:53:15.614Z"
   },
   {
    "duration": 8,
    "start_time": "2024-05-09T12:53:15.834Z"
   },
   {
    "duration": 45,
    "start_time": "2024-05-09T12:53:15.843Z"
   },
   {
    "duration": 415,
    "start_time": "2024-05-09T12:53:15.889Z"
   },
   {
    "duration": 5,
    "start_time": "2024-05-09T12:53:16.305Z"
   },
   {
    "duration": 44,
    "start_time": "2024-05-09T12:53:16.311Z"
   },
   {
    "duration": 288,
    "start_time": "2024-05-09T12:53:16.357Z"
   },
   {
    "duration": 14,
    "start_time": "2024-05-09T12:53:16.647Z"
   },
   {
    "duration": 34,
    "start_time": "2024-05-09T12:53:16.663Z"
   },
   {
    "duration": 24,
    "start_time": "2024-05-09T12:53:16.699Z"
   },
   {
    "duration": 35,
    "start_time": "2024-05-09T12:53:16.725Z"
   },
   {
    "duration": 463,
    "start_time": "2024-05-09T12:53:16.762Z"
   },
   {
    "duration": 271,
    "start_time": "2024-05-09T12:53:17.227Z"
   },
   {
    "duration": 13,
    "start_time": "2024-05-09T12:53:17.499Z"
   },
   {
    "duration": 428,
    "start_time": "2024-05-09T12:53:17.513Z"
   },
   {
    "duration": 261,
    "start_time": "2024-05-09T12:53:17.942Z"
   },
   {
    "duration": 1185,
    "start_time": "2024-05-09T12:53:18.205Z"
   },
   {
    "duration": 33,
    "start_time": "2024-05-09T12:53:19.391Z"
   },
   {
    "duration": 56,
    "start_time": "2024-05-09T12:53:19.426Z"
   },
   {
    "duration": 18,
    "start_time": "2024-05-09T12:53:19.494Z"
   },
   {
    "duration": 16,
    "start_time": "2024-05-09T12:53:19.514Z"
   },
   {
    "duration": 40,
    "start_time": "2024-05-09T12:53:19.531Z"
   },
   {
    "duration": 28,
    "start_time": "2024-05-09T12:53:19.573Z"
   },
   {
    "duration": 39,
    "start_time": "2024-05-09T12:53:19.603Z"
   },
   {
    "duration": 19,
    "start_time": "2024-05-09T12:53:19.643Z"
   },
   {
    "duration": 31,
    "start_time": "2024-05-09T12:53:19.664Z"
   },
   {
    "duration": 21,
    "start_time": "2024-05-09T12:53:19.696Z"
   },
   {
    "duration": 5,
    "start_time": "2024-05-09T12:57:19.696Z"
   },
   {
    "duration": 1140,
    "start_time": "2024-05-09T13:00:21.317Z"
   },
   {
    "duration": 27,
    "start_time": "2024-05-09T13:00:22.459Z"
   },
   {
    "duration": 19,
    "start_time": "2024-05-09T13:00:22.488Z"
   },
   {
    "duration": 29,
    "start_time": "2024-05-09T13:00:22.510Z"
   },
   {
    "duration": 9,
    "start_time": "2024-05-09T13:00:22.540Z"
   },
   {
    "duration": 19,
    "start_time": "2024-05-09T13:00:22.550Z"
   },
   {
    "duration": 11,
    "start_time": "2024-05-09T13:00:22.570Z"
   },
   {
    "duration": 20,
    "start_time": "2024-05-09T13:00:22.582Z"
   },
   {
    "duration": 34,
    "start_time": "2024-05-09T13:00:22.604Z"
   },
   {
    "duration": 15,
    "start_time": "2024-05-09T13:00:22.642Z"
   },
   {
    "duration": 12,
    "start_time": "2024-05-09T13:00:22.659Z"
   },
   {
    "duration": 5,
    "start_time": "2024-05-09T13:00:22.673Z"
   },
   {
    "duration": 5,
    "start_time": "2024-05-09T13:00:22.680Z"
   },
   {
    "duration": 13,
    "start_time": "2024-05-09T13:00:22.687Z"
   },
   {
    "duration": 28,
    "start_time": "2024-05-09T13:00:22.701Z"
   },
   {
    "duration": 38,
    "start_time": "2024-05-09T13:00:22.731Z"
   },
   {
    "duration": 10,
    "start_time": "2024-05-09T13:00:22.771Z"
   },
   {
    "duration": 32,
    "start_time": "2024-05-09T13:00:22.782Z"
   },
   {
    "duration": 18,
    "start_time": "2024-05-09T13:00:22.816Z"
   },
   {
    "duration": 17,
    "start_time": "2024-05-09T13:00:22.836Z"
   },
   {
    "duration": 14,
    "start_time": "2024-05-09T13:00:22.855Z"
   },
   {
    "duration": 24,
    "start_time": "2024-05-09T13:00:22.871Z"
   },
   {
    "duration": 5,
    "start_time": "2024-05-09T13:00:22.897Z"
   },
   {
    "duration": 9,
    "start_time": "2024-05-09T13:00:22.904Z"
   },
   {
    "duration": 43,
    "start_time": "2024-05-09T13:00:22.914Z"
   },
   {
    "duration": 32,
    "start_time": "2024-05-09T13:00:22.959Z"
   },
   {
    "duration": 20,
    "start_time": "2024-05-09T13:00:22.992Z"
   },
   {
    "duration": 7,
    "start_time": "2024-05-09T13:00:23.017Z"
   },
   {
    "duration": 18,
    "start_time": "2024-05-09T13:00:23.025Z"
   },
   {
    "duration": 12,
    "start_time": "2024-05-09T13:00:23.044Z"
   },
   {
    "duration": 147,
    "start_time": "2024-05-09T13:00:23.058Z"
   },
   {
    "duration": 7,
    "start_time": "2024-05-09T13:00:23.206Z"
   },
   {
    "duration": 95,
    "start_time": "2024-05-09T13:00:23.214Z"
   },
   {
    "duration": 132,
    "start_time": "2024-05-09T13:00:23.310Z"
   },
   {
    "duration": 4,
    "start_time": "2024-05-09T13:00:23.443Z"
   },
   {
    "duration": 202,
    "start_time": "2024-05-09T13:00:23.448Z"
   },
   {
    "duration": 9,
    "start_time": "2024-05-09T13:00:23.651Z"
   },
   {
    "duration": 10,
    "start_time": "2024-05-09T13:00:23.661Z"
   },
   {
    "duration": 424,
    "start_time": "2024-05-09T13:00:23.672Z"
   },
   {
    "duration": 5,
    "start_time": "2024-05-09T13:00:24.097Z"
   },
   {
    "duration": 32,
    "start_time": "2024-05-09T13:00:24.104Z"
   },
   {
    "duration": 266,
    "start_time": "2024-05-09T13:00:24.137Z"
   },
   {
    "duration": 12,
    "start_time": "2024-05-09T13:00:24.405Z"
   },
   {
    "duration": 39,
    "start_time": "2024-05-09T13:00:24.418Z"
   },
   {
    "duration": 26,
    "start_time": "2024-05-09T13:00:24.459Z"
   },
   {
    "duration": 11,
    "start_time": "2024-05-09T13:00:24.487Z"
   },
   {
    "duration": 468,
    "start_time": "2024-05-09T13:00:24.500Z"
   },
   {
    "duration": 274,
    "start_time": "2024-05-09T13:00:24.970Z"
   },
   {
    "duration": 12,
    "start_time": "2024-05-09T13:00:25.246Z"
   },
   {
    "duration": 431,
    "start_time": "2024-05-09T13:00:25.259Z"
   },
   {
    "duration": 246,
    "start_time": "2024-05-09T13:00:25.693Z"
   },
   {
    "duration": 1191,
    "start_time": "2024-05-09T13:00:25.941Z"
   },
   {
    "duration": 28,
    "start_time": "2024-05-09T13:00:27.134Z"
   },
   {
    "duration": 77,
    "start_time": "2024-05-09T13:00:27.164Z"
   },
   {
    "duration": 17,
    "start_time": "2024-05-09T13:00:27.243Z"
   },
   {
    "duration": 4,
    "start_time": "2024-05-09T13:00:27.262Z"
   },
   {
    "duration": 31,
    "start_time": "2024-05-09T13:00:27.267Z"
   },
   {
    "duration": 11,
    "start_time": "2024-05-09T13:00:27.300Z"
   },
   {
    "duration": 7,
    "start_time": "2024-05-09T13:00:27.312Z"
   },
   {
    "duration": 10,
    "start_time": "2024-05-09T13:00:27.321Z"
   },
   {
    "duration": 8,
    "start_time": "2024-05-09T13:00:27.333Z"
   },
   {
    "duration": 5,
    "start_time": "2024-05-09T13:00:27.343Z"
   },
   {
    "duration": 1289,
    "start_time": "2024-05-09T18:02:41.632Z"
   },
   {
    "duration": 72,
    "start_time": "2024-05-09T18:02:42.923Z"
   },
   {
    "duration": 12,
    "start_time": "2024-05-09T18:02:42.997Z"
   },
   {
    "duration": 78,
    "start_time": "2024-05-09T18:02:43.011Z"
   },
   {
    "duration": 8,
    "start_time": "2024-05-09T18:02:43.091Z"
   },
   {
    "duration": 59,
    "start_time": "2024-05-09T18:02:43.100Z"
   },
   {
    "duration": 6,
    "start_time": "2024-05-09T18:02:43.161Z"
   },
   {
    "duration": 10,
    "start_time": "2024-05-09T18:02:43.169Z"
   },
   {
    "duration": 17,
    "start_time": "2024-05-09T18:02:43.181Z"
   },
   {
    "duration": 14,
    "start_time": "2024-05-09T18:02:43.201Z"
   },
   {
    "duration": 8,
    "start_time": "2024-05-09T18:02:43.216Z"
   },
   {
    "duration": 4,
    "start_time": "2024-05-09T18:02:43.225Z"
   },
   {
    "duration": 27,
    "start_time": "2024-05-09T18:02:43.230Z"
   },
   {
    "duration": 8,
    "start_time": "2024-05-09T18:02:43.259Z"
   },
   {
    "duration": 6,
    "start_time": "2024-05-09T18:02:43.268Z"
   },
   {
    "duration": 6,
    "start_time": "2024-05-09T18:02:43.275Z"
   },
   {
    "duration": 5,
    "start_time": "2024-05-09T18:02:43.283Z"
   },
   {
    "duration": 5,
    "start_time": "2024-05-09T18:02:43.290Z"
   },
   {
    "duration": 9,
    "start_time": "2024-05-09T18:02:43.297Z"
   },
   {
    "duration": 50,
    "start_time": "2024-05-09T18:02:43.308Z"
   },
   {
    "duration": 6,
    "start_time": "2024-05-09T18:02:43.360Z"
   },
   {
    "duration": 8,
    "start_time": "2024-05-09T18:02:43.368Z"
   },
   {
    "duration": 4,
    "start_time": "2024-05-09T18:02:43.377Z"
   },
   {
    "duration": 5,
    "start_time": "2024-05-09T18:02:43.383Z"
   },
   {
    "duration": 8,
    "start_time": "2024-05-09T18:02:43.390Z"
   },
   {
    "duration": 7,
    "start_time": "2024-05-09T18:02:43.400Z"
   },
   {
    "duration": 6,
    "start_time": "2024-05-09T18:02:43.408Z"
   },
   {
    "duration": 5,
    "start_time": "2024-05-09T18:02:43.455Z"
   },
   {
    "duration": 7,
    "start_time": "2024-05-09T18:02:43.461Z"
   },
   {
    "duration": 5,
    "start_time": "2024-05-09T18:02:43.470Z"
   },
   {
    "duration": 161,
    "start_time": "2024-05-09T18:02:43.476Z"
   },
   {
    "duration": 6,
    "start_time": "2024-05-09T18:02:43.639Z"
   },
   {
    "duration": 71,
    "start_time": "2024-05-09T18:02:43.656Z"
   },
   {
    "duration": 142,
    "start_time": "2024-05-09T18:02:43.729Z"
   },
   {
    "duration": 3,
    "start_time": "2024-05-09T18:02:43.873Z"
   },
   {
    "duration": 205,
    "start_time": "2024-05-09T18:02:43.877Z"
   },
   {
    "duration": 8,
    "start_time": "2024-05-09T18:02:44.084Z"
   },
   {
    "duration": 7,
    "start_time": "2024-05-09T18:02:44.093Z"
   },
   {
    "duration": 379,
    "start_time": "2024-05-09T18:02:44.102Z"
   },
   {
    "duration": 5,
    "start_time": "2024-05-09T18:02:44.482Z"
   },
   {
    "duration": 15,
    "start_time": "2024-05-09T18:02:44.488Z"
   },
   {
    "duration": 273,
    "start_time": "2024-05-09T18:02:44.504Z"
   },
   {
    "duration": 12,
    "start_time": "2024-05-09T18:02:44.779Z"
   },
   {
    "duration": 21,
    "start_time": "2024-05-09T18:02:44.792Z"
   },
   {
    "duration": 10,
    "start_time": "2024-05-09T18:02:44.815Z"
   },
   {
    "duration": 38,
    "start_time": "2024-05-09T18:02:44.827Z"
   },
   {
    "duration": 420,
    "start_time": "2024-05-09T18:02:44.867Z"
   },
   {
    "duration": 251,
    "start_time": "2024-05-09T18:02:45.288Z"
   },
   {
    "duration": 22,
    "start_time": "2024-05-09T18:02:45.541Z"
   },
   {
    "duration": 388,
    "start_time": "2024-05-09T18:02:45.564Z"
   },
   {
    "duration": 241,
    "start_time": "2024-05-09T18:02:45.956Z"
   },
   {
    "duration": 1034,
    "start_time": "2024-05-09T18:02:46.199Z"
   },
   {
    "duration": 34,
    "start_time": "2024-05-09T18:02:47.234Z"
   },
   {
    "duration": 42,
    "start_time": "2024-05-09T18:02:47.270Z"
   },
   {
    "duration": 14,
    "start_time": "2024-05-09T18:02:47.313Z"
   },
   {
    "duration": 3,
    "start_time": "2024-05-09T18:02:47.329Z"
   },
   {
    "duration": 35,
    "start_time": "2024-05-09T18:02:47.333Z"
   },
   {
    "duration": 15,
    "start_time": "2024-05-09T18:02:47.371Z"
   },
   {
    "duration": 6,
    "start_time": "2024-05-09T18:02:47.387Z"
   },
   {
    "duration": 8,
    "start_time": "2024-05-09T18:02:47.394Z"
   },
   {
    "duration": 8,
    "start_time": "2024-05-09T18:02:47.403Z"
   },
   {
    "duration": 5,
    "start_time": "2024-05-09T18:02:47.412Z"
   },
   {
    "duration": 136,
    "start_time": "2024-05-09T18:04:14.932Z"
   },
   {
    "duration": 9,
    "start_time": "2024-05-09T18:05:54.624Z"
   },
   {
    "duration": 5,
    "start_time": "2024-05-09T18:07:20.605Z"
   },
   {
    "duration": 45,
    "start_time": "2024-05-09T18:11:33.566Z"
   },
   {
    "duration": 1125,
    "start_time": "2024-05-10T05:36:10.431Z"
   },
   {
    "duration": 73,
    "start_time": "2024-05-10T05:36:11.557Z"
   },
   {
    "duration": 10,
    "start_time": "2024-05-10T05:36:11.631Z"
   },
   {
    "duration": 79,
    "start_time": "2024-05-10T05:36:11.642Z"
   },
   {
    "duration": 7,
    "start_time": "2024-05-10T05:36:11.722Z"
   },
   {
    "duration": 157,
    "start_time": "2024-05-10T05:36:11.730Z"
   },
   {
    "duration": 37,
    "start_time": "2024-05-10T05:36:11.888Z"
   },
   {
    "duration": 30,
    "start_time": "2024-05-10T05:36:11.926Z"
   },
   {
    "duration": 27,
    "start_time": "2024-05-10T05:36:11.957Z"
   },
   {
    "duration": 36,
    "start_time": "2024-05-10T05:36:11.985Z"
   },
   {
    "duration": 19,
    "start_time": "2024-05-10T05:36:12.023Z"
   },
   {
    "duration": 33,
    "start_time": "2024-05-10T05:36:12.043Z"
   },
   {
    "duration": 7,
    "start_time": "2024-05-10T05:36:12.077Z"
   },
   {
    "duration": 25,
    "start_time": "2024-05-10T05:36:12.086Z"
   },
   {
    "duration": 20,
    "start_time": "2024-05-10T05:36:12.112Z"
   },
   {
    "duration": 31,
    "start_time": "2024-05-10T05:36:12.133Z"
   },
   {
    "duration": 5,
    "start_time": "2024-05-10T05:36:12.165Z"
   },
   {
    "duration": 6,
    "start_time": "2024-05-10T05:36:12.171Z"
   },
   {
    "duration": 28,
    "start_time": "2024-05-10T05:36:12.178Z"
   },
   {
    "duration": 14,
    "start_time": "2024-05-10T05:36:12.208Z"
   },
   {
    "duration": 5,
    "start_time": "2024-05-10T05:36:12.224Z"
   },
   {
    "duration": 10,
    "start_time": "2024-05-10T05:36:12.230Z"
   },
   {
    "duration": 3,
    "start_time": "2024-05-10T05:36:12.242Z"
   },
   {
    "duration": 11,
    "start_time": "2024-05-10T05:36:12.247Z"
   },
   {
    "duration": 19,
    "start_time": "2024-05-10T05:36:12.259Z"
   },
   {
    "duration": 6,
    "start_time": "2024-05-10T05:36:12.279Z"
   },
   {
    "duration": 19,
    "start_time": "2024-05-10T05:36:12.286Z"
   },
   {
    "duration": 15,
    "start_time": "2024-05-10T05:36:12.306Z"
   },
   {
    "duration": 11,
    "start_time": "2024-05-10T05:36:12.322Z"
   },
   {
    "duration": 22,
    "start_time": "2024-05-10T05:36:12.334Z"
   },
   {
    "duration": 146,
    "start_time": "2024-05-10T05:36:12.357Z"
   },
   {
    "duration": 5,
    "start_time": "2024-05-10T05:36:12.504Z"
   },
   {
    "duration": 75,
    "start_time": "2024-05-10T05:36:12.510Z"
   },
   {
    "duration": 97,
    "start_time": "2024-05-10T05:36:12.586Z"
   },
   {
    "duration": 2,
    "start_time": "2024-05-10T05:36:12.684Z"
   },
   {
    "duration": 141,
    "start_time": "2024-05-10T05:36:12.701Z"
   },
   {
    "duration": 5,
    "start_time": "2024-05-10T05:36:12.843Z"
   },
   {
    "duration": 8,
    "start_time": "2024-05-10T05:36:12.850Z"
   },
   {
    "duration": 294,
    "start_time": "2024-05-10T05:36:12.859Z"
   },
   {
    "duration": 4,
    "start_time": "2024-05-10T05:36:13.155Z"
   },
   {
    "duration": 19,
    "start_time": "2024-05-10T05:36:13.162Z"
   },
   {
    "duration": 208,
    "start_time": "2024-05-10T05:36:13.182Z"
   },
   {
    "duration": 13,
    "start_time": "2024-05-10T05:36:13.391Z"
   },
   {
    "duration": 17,
    "start_time": "2024-05-10T05:36:13.405Z"
   },
   {
    "duration": 8,
    "start_time": "2024-05-10T05:36:13.424Z"
   },
   {
    "duration": 10,
    "start_time": "2024-05-10T05:36:13.433Z"
   },
   {
    "duration": 379,
    "start_time": "2024-05-10T05:36:13.444Z"
   },
   {
    "duration": 192,
    "start_time": "2024-05-10T05:36:13.824Z"
   },
   {
    "duration": 11,
    "start_time": "2024-05-10T05:36:14.017Z"
   },
   {
    "duration": 303,
    "start_time": "2024-05-10T05:36:14.029Z"
   },
   {
    "duration": 193,
    "start_time": "2024-05-10T05:36:14.333Z"
   },
   {
    "duration": 856,
    "start_time": "2024-05-10T05:36:14.527Z"
   },
   {
    "duration": 24,
    "start_time": "2024-05-10T05:36:15.385Z"
   },
   {
    "duration": 35,
    "start_time": "2024-05-10T05:36:15.410Z"
   },
   {
    "duration": 13,
    "start_time": "2024-05-10T05:36:15.447Z"
   },
   {
    "duration": 72,
    "start_time": "2024-05-10T05:36:15.462Z"
   },
   {
    "duration": 26,
    "start_time": "2024-05-10T05:36:15.535Z"
   },
   {
    "duration": 10,
    "start_time": "2024-05-10T05:36:15.562Z"
   },
   {
    "duration": 5,
    "start_time": "2024-05-10T05:36:15.574Z"
   },
   {
    "duration": 7,
    "start_time": "2024-05-10T05:36:15.580Z"
   },
   {
    "duration": 21,
    "start_time": "2024-05-10T05:36:15.588Z"
   },
   {
    "duration": 4,
    "start_time": "2024-05-10T05:36:15.611Z"
   },
   {
    "duration": 45,
    "start_time": "2024-05-10T05:36:28.492Z"
   }
  ],
  "kernelspec": {
   "display_name": "Python 3 (ipykernel)",
   "language": "python",
   "name": "python3"
  },
  "language_info": {
   "codemirror_mode": {
    "name": "ipython",
    "version": 3
   },
   "file_extension": ".py",
   "mimetype": "text/x-python",
   "name": "python",
   "nbconvert_exporter": "python",
   "pygments_lexer": "ipython3",
   "version": "3.11.7"
  },
  "toc": {
   "base_numbering": 1,
   "nav_menu": {},
   "number_sections": true,
   "sideBar": true,
   "skip_h1_title": true,
   "title_cell": "Table of Contents",
   "title_sidebar": "Contents",
   "toc_cell": false,
   "toc_position": {},
   "toc_section_display": true,
   "toc_window_display": true
  }
 },
 "nbformat": 4,
 "nbformat_minor": 5
}
